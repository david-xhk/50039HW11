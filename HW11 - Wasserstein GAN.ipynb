{
 "cells": [
  {
   "cell_type": "markdown",
   "id": "0772b4ea",
   "metadata": {},
   "source": [
    "# HW11 - Descriptive Notebook\n",
    "\n",
    "Note: Updated, to remove flattening in trainer function.\n",
    "\n",
    "In this homework notebook, we will create a Wasserstein GAN with Convolution and Transpose Convolution layers, to be used on the MNIST dataset.\n",
    "\n",
    "Get familiar with the code and write a small report (2 pages max), with answers to the questions listed at the end of the notebook.\n",
    "\n",
    "**The report must be submitted in PDF format, before April 18th, 11.59pm!**\n",
    "\n",
    "Do not forget to write your name and student ID on the report.\n",
    "\n",
    "You may also submit your own copy of the notebook along with the report. If you do so, please add your name and ID to the cell below."
   ]
  },
  {
   "cell_type": "code",
   "execution_count": 1,
   "id": "847b07a4",
   "metadata": {},
   "outputs": [],
   "source": [
    "# Name: Xie Han Keong\n",
    "# Student ID: 100 3876"
   ]
  },
  {
   "cell_type": "markdown",
   "id": "866b19f8",
   "metadata": {},
   "source": [
    "### Imports needed"
   ]
  },
  {
   "cell_type": "code",
   "execution_count": 2,
   "id": "7d28b23b",
   "metadata": {},
   "outputs": [],
   "source": [
    "import torch\n",
    "import torch.nn as nn\n",
    "import torch.optim as optim\n",
    "\n",
    "import torchvision\n",
    "from torchvision import datasets, transforms\n",
    "\n",
    "from tqdm.autonotebook import tqdm\n",
    "import matplotlib.pyplot as plt\n",
    "from matplotlib import figure\n",
    "import numpy as np\n",
    "import os\n",
    "\n",
    "import utils"
   ]
  },
  {
   "cell_type": "markdown",
   "id": "bb100284",
   "metadata": {},
   "source": [
    "### Global variables"
   ]
  },
  {
   "cell_type": "code",
   "execution_count": 3,
   "id": "b3e0cf9f",
   "metadata": {},
   "outputs": [],
   "source": [
    "# Device\n",
    "DEVICE = torch.device('cuda' if torch.cuda.is_available() else 'cpu')\n",
    "\n",
    "# Dataset\n",
    "IMG_CHANNELS = 1\n",
    "IMG_SIZE = 28\n",
    "\n",
    "# Architecture\n",
    "LATENT_SIZE = 64"
   ]
  },
  {
   "cell_type": "code",
   "execution_count": 4,
   "id": "853b39d0",
   "metadata": {},
   "outputs": [
    {
     "name": "stdout",
     "output_type": "stream",
     "text": [
      "cuda\n"
     ]
    }
   ],
   "source": [
    "print(DEVICE)"
   ]
  },
  {
   "cell_type": "markdown",
   "id": "df3b1473",
   "metadata": {},
   "source": [
    "### Dataset"
   ]
  },
  {
   "cell_type": "code",
   "execution_count": 5,
   "id": "c2c9680b",
   "metadata": {},
   "outputs": [],
   "source": [
    "# Image transform to be applied to dataset:\n",
    "# 1. Tensor conversion\n",
    "# 2. Normalizing to tanh range [-1, 1]\n",
    "transform = transforms.Compose([\n",
    "    transforms.ToTensor(),\n",
    "    transforms.Normalize(0.5, 0.5)\n",
    "])"
   ]
  },
  {
   "cell_type": "code",
   "execution_count": 6,
   "id": "f95021a2",
   "metadata": {
    "scrolled": true
   },
   "outputs": [],
   "source": [
    "# MNIST train dataset\n",
    "mnist = torchvision.datasets.MNIST(root='./', train=True, download=True, transform=transform)"
   ]
  },
  {
   "cell_type": "markdown",
   "id": "012a457b",
   "metadata": {},
   "source": [
    "### Critic model as a set of Conv2d layers"
   ]
  },
  {
   "cell_type": "markdown",
   "id": "6027dd11",
   "metadata": {},
   "source": [
    "**Task1:** Rewrite the Critic model below, so that it uses Conv2d layers instead of fully connected ones shown in class.\n",
    "\n",
    "You may look for inspiration in the encoder models used in Notebook 3 (W11S1 lecture).\n",
    "\n",
    "The critic should use three Conv2d layers with progressive downsampling.\n",
    "\n",
    "We do not advise to add more layers to the mix (BatchNorm, Dropout, etc.)."
   ]
  },
  {
   "cell_type": "code",
   "execution_count": 7,
   "id": "cbfd7a5f",
   "metadata": {},
   "outputs": [],
   "source": [
    "# Critic\n",
    "class Critic(nn.Module):\n",
    "    def __init__(self, in_channels, num_features):\n",
    "        \"\"\"\n",
    "        Parameters:\n",
    "        in_channels (int) - Number of input channels for the first convolutional layer\n",
    "        num_features (int) - Number of features for the first convolutional layer (x2 for each layer after)\n",
    "        \"\"\"\n",
    "        super(Critic, self).__init__()\n",
    "        \n",
    "        # Output score for real or fake image\n",
    "        out_channels = 1\n",
    "        \n",
    "        self.f = nn.Sequential(                                  # In: 28 x 28\n",
    "            nn.Conv2d(in_channels, num_features, 3, 2, 1),       # 14 x 14\n",
    "            nn.LeakyReLU(0.2),\n",
    "            self.Conv(num_features, num_features*2, 3, 2, 1),    # 7 x 7\n",
    "            self.Conv(num_features*2, num_features*4, 3, 2, 0),  # 3 x 3\n",
    "            nn.Conv2d(num_features*4, out_channels, 3, 1, 0),    # 1 x 1\n",
    "        )                                                        # Out: 1 x 1\n",
    "    \n",
    "    def Conv(self, in_channels, out_channels, kernel_size, \n",
    "             stride=1, padding=0, dilation=1):\n",
    "        return nn.Sequential(\n",
    "            nn.Conv2d(in_channels, out_channels, kernel_size,\n",
    "                      stride, padding, dilation),\n",
    "            nn.InstanceNorm2d(out_channels),\n",
    "            nn.LeakyReLU(0.2),\n",
    "        )\n",
    "    \n",
    "    def forward(self, x):\n",
    "        return self.f(x).flatten(1)"
   ]
  },
  {
   "cell_type": "markdown",
   "id": "a4f8d8c4",
   "metadata": {},
   "source": [
    "#### Check Conv2d architecture for Critic model"
   ]
  },
  {
   "cell_type": "code",
   "execution_count": 8,
   "id": "15f49514",
   "metadata": {},
   "outputs": [
    {
     "name": "stdout",
     "output_type": "stream",
     "text": [
      "Conv2d architecture for Critic:\n",
      "# In: 28 x 28\n",
      "Fractional output size: 14.5\n",
      "nn.Conv2d(..., 3, 2, 1), # 14 x 14\n",
      "Fractional output size: 7.5\n",
      "nn.Conv2d(..., 3, 2, 1), # 7 x 7\n",
      "nn.Conv2d(..., 3, 2, 0), # 3 x 3\n",
      "nn.Conv2d(..., 3, 1, 0), # 1 x 1\n",
      "# Out: 1 x 1\n"
     ]
    }
   ],
   "source": [
    "print('Conv2d architecture for Critic:')\n",
    "utils.check_Conv2d_architecture(28, [\n",
    "    (3, 2, 1),\n",
    "    (3, 2, 1),\n",
    "    (3, 2, 0),\n",
    "    (3, 1, 0)\n",
    "])"
   ]
  },
  {
   "cell_type": "markdown",
   "id": "46a2b44a",
   "metadata": {},
   "source": [
    "### Generator model as a set of Transposed Conv2d layers"
   ]
  },
  {
   "cell_type": "markdown",
   "id": "5123fbfd",
   "metadata": {},
   "source": [
    "**Task2:** Rewrite the Generator model below, so that it uses Transposed Conv2d layers instead of fully connected ones shown in class.\n",
    "\n",
    "You may look for inspiration in the encoder models used in Notebooks 2 and 3 (W11S1 lecture).\n",
    "\n",
    "The critic should use three Transposed Conv2d layers with progressive upsampling.\n",
    "\n",
    "We do not advise to add more layers to the mix (BatchNorm, Dropout, etc.)."
   ]
  },
  {
   "cell_type": "code",
   "execution_count": 9,
   "id": "d925c682",
   "metadata": {},
   "outputs": [],
   "source": [
    "# Generator\n",
    "class Generator(nn.Module):\n",
    "    def __init__(self, in_channels, out_channels, num_features):\n",
    "        \"\"\"\n",
    "        Parameters:\n",
    "        in_channels (int) - Number of input channels for the first transposed convolutional layer\n",
    "        out_channels (int) - Number of output channels for the last transposed convolutional layer\n",
    "        num_features (int) - Number of features for the last transposed convolutional layer\n",
    "        \"\"\"\n",
    "        super(Generator, self).__init__()\n",
    "        \n",
    "        self.G = nn.Sequential(                                              # In: 1 x 1\n",
    "            self.ConvTranspose(in_channels, num_features*8, 3, 1, 0, 0),     # 3 x 3\n",
    "            self.ConvTranspose(num_features*8, num_features*4, 3, 2, 0, 0),  # 7 x 7\n",
    "            self.ConvTranspose(num_features*4, num_features*2, 3, 2, 1, 1),  # 14 x 14\n",
    "            nn.ConvTranspose2d(num_features*2, out_channels, 3, 2, 1, 1),    # 28 x 28\n",
    "            nn.Tanh(),\n",
    "        )                                                                    # Out: 28 x 28\n",
    "    \n",
    "    def ConvTranspose(self, in_channels, out_channels, kernel_size, \n",
    "                      stride=1, padding=0, output_padding=0, dilation=1):\n",
    "        return nn.Sequential(\n",
    "            nn.ConvTranspose2d(in_channels, out_channels, kernel_size, stride,\n",
    "                               padding, output_padding, dilation),\n",
    "            nn.BatchNorm2d(out_channels),\n",
    "            nn.ReLU(),\n",
    "        )\n",
    "    \n",
    "    def forward(self, x):\n",
    "        return self.G(x)"
   ]
  },
  {
   "cell_type": "markdown",
   "id": "759c9c2a",
   "metadata": {},
   "source": [
    "#### Check ConvTranspose2d architecture for Generator model"
   ]
  },
  {
   "cell_type": "code",
   "execution_count": 10,
   "id": "a12cbe5a",
   "metadata": {},
   "outputs": [
    {
     "name": "stdout",
     "output_type": "stream",
     "text": [
      "ConvTranspose2d architecture for Generator:\n",
      "# In: 1 x 1\n",
      "nn.ConvTranspose2d(..., 3, 1, 0, 0), # 3 x 3\n",
      "nn.ConvTranspose2d(..., 3, 2, 0, 0), # 7 x 7\n",
      "nn.ConvTranspose2d(..., 3, 2, 1, 1), # 14 x 14\n",
      "nn.ConvTranspose2d(..., 3, 2, 1, 1), # 28 x 28\n",
      "# Out: 28 x 28\n"
     ]
    }
   ],
   "source": [
    "print('ConvTranspose2d architecture for Generator:')\n",
    "utils.check_ConvTranspose2d_architecture(1, [\n",
    "    (3, 1, 0, 0),\n",
    "    (3, 2, 0, 0),\n",
    "    (3, 2, 1, 1),\n",
    "    (3, 2, 1, 1),\n",
    "])"
   ]
  },
  {
   "cell_type": "markdown",
   "id": "49c447cc",
   "metadata": {},
   "source": [
    "### Train function"
   ]
  },
  {
   "cell_type": "code",
   "execution_count": 11,
   "id": "069467d1",
   "metadata": {
    "scrolled": true
   },
   "outputs": [],
   "source": [
    "def train(data_loader, critic, gen, optim_critic, optim_gen, num_epochs, num_steps, lambda_gp, save_path=None):\n",
    "    \"\"\"Train the Wasserstein GAN.\n",
    "    \n",
    "    Parameters:\n",
    "    data_loader: Data loader to use for training\n",
    "    critic: Critic model to train\n",
    "    gen: Generator model to train\n",
    "    optim_critic: Optimizer for the critic model\n",
    "    optim_gen: Optimizer for the generator model\n",
    "    num_epochs (int): Number of training epochs\n",
    "    num_steps (tuple(int, int)): Number of training steps for critic model versus generator model\n",
    "    lambda_gp (int | float): Gradient penalty constant\n",
    "    save_path (str): Path to save training images\n",
    "    \"\"\"\n",
    "    # Print seed for reproducibility\n",
    "    print(f'seed: {torch.seed()}')\n",
    "    \n",
    "    # History trackers for training losses\n",
    "    losses_critic = np.zeros(num_epochs)\n",
    "    losses_gen = np.zeros(num_epochs)\n",
    "    \n",
    "    # Progress bars\n",
    "    num_batches = len(data_loader)\n",
    "    num_critic, num_gen = num_steps\n",
    "    pbar_epoch = tqdm(desc='epoch', position=0, leave=True, total=num_epochs)\n",
    "    pbar_critic = tqdm(desc='critic', position=1, leave=True, total=num_batches)\n",
    "    pbar_gen = tqdm(desc='gen', position=2, leave=True, total=(num_batches//num_critic)*num_gen)\n",
    "    \n",
    "    # Fixed noise for testing after every epoch\n",
    "    fixed_noise = torch.randn(100, LATENT_SIZE, 1, 1).to(DEVICE)\n",
    "    \n",
    "    for epoch in range(num_epochs):\n",
    "        # Reset progress\n",
    "        pbar_critic.reset()\n",
    "        pbar_gen.reset()\n",
    "        steps_critic = 0\n",
    "        steps_gen = 0\n",
    "        \n",
    "        # Training loop\n",
    "        for images, _ in data_loader:\n",
    "            batch_size = images.shape[0]\n",
    "            \n",
    "            ###### Critic training ######\n",
    "            \n",
    "            # Prepare real and fake images\n",
    "            images_real = images.to(DEVICE)\n",
    "            noise = torch.randn(batch_size, LATENT_SIZE, 1, 1).to(DEVICE)\n",
    "            images_fake = gen(noise)\n",
    "            \n",
    "            # Compute critic scores\n",
    "            outputs_real = critic(images_real)\n",
    "            outputs_fake = critic(images_fake)\n",
    "\n",
    "            # Compute gradient penalty\n",
    "            grad_penalty = utils.gradient_penalty(critic, images_real, images_fake, device=DEVICE)\n",
    "\n",
    "            # Loss for critic\n",
    "            loss_critic = outputs_fake.mean() - outputs_real.mean() + lambda_gp*grad_penalty\n",
    "            \n",
    "            # Backprop and optimize critic\n",
    "            critic.zero_grad()\n",
    "            loss_critic.backward()\n",
    "            optim_critic.step()\n",
    "            \n",
    "            # Optional weight clipping on critic (Mentioned in WGAN paper)\n",
    "            # for p in critic.parameters():\n",
    "            #     p.data.clamp_(-0.01, 0.01)\n",
    "            \n",
    "            # Update critic progress\n",
    "            losses_critic[epoch] = losses_critic[epoch]*(steps_critic/(steps_critic+1.)) + loss_critic.item()*(1./(steps_critic+1.))\n",
    "            pbar_critic.set_description(f'critic (loss: {loss_critic.item():.5f})')\n",
    "            pbar_critic.update()\n",
    "            steps_critic += 1\n",
    "            \n",
    "            ###### Generator training ######\n",
    "            \n",
    "            # We train the generator num_gen times every time the critic trains\n",
    "            # num_critic steps (when steps_critic is a multiple of num_critic)\n",
    "            if steps_critic % num_critic == 0:\n",
    "                for _ in range(num_gen):\n",
    "                    # Create fake images\n",
    "                    noise = torch.randn(batch_size, LATENT_SIZE, 1, 1).to(DEVICE)\n",
    "                    images_fake = gen(noise)\n",
    "\n",
    "                    # Compute critic scores for fake images\n",
    "                    outputs_fake = critic(images_fake)\n",
    "\n",
    "                    # Loss for generator\n",
    "                    loss_gen = -outputs_fake.mean()\n",
    "\n",
    "                    # Backprop and optimize generator\n",
    "                    gen.zero_grad()\n",
    "                    loss_gen.backward()\n",
    "                    optim_gen.step()\n",
    "\n",
    "                    # Update generator progress\n",
    "                    losses_gen[epoch] = losses_gen[epoch]*(steps_gen/(steps_gen+1.)) + loss_gen.item()*(1./(steps_gen+1.))\n",
    "                    pbar_gen.set_description(f'gen (loss: {loss_gen.item():.5f})')\n",
    "                    pbar_gen.update()\n",
    "                    steps_gen += 1\n",
    "            \n",
    "            # Display results\n",
    "            if (steps_critic in (num_critic, num_batches)) or (steps_critic % 50 == 0):\n",
    "                print('Epoch [{}/{}], Batch [{}/{}], loss_critic: {:.5f}, loss_gen: {:.5f}' \n",
    "                      .format(epoch+1, num_epochs, steps_critic, num_batches, loss_critic.item(), loss_gen.item()))\n",
    "        \n",
    "        # Refresh progress bars\n",
    "        pbar_critic.refresh()\n",
    "        pbar_gen.refresh()\n",
    "        pbar_epoch.update()\n",
    "        \n",
    "        # Visualize samples\n",
    "        if save_path is not None:\n",
    "            plot_samples(gen, nrows=5, ncols=20, noise=fixed_noise,\n",
    "                         save_path=os.path.join(save_path, f'epoch{epoch+1}.png'))\n",
    "    \n",
    "    # Display losses for both the generator and discriminator\n",
    "    plt.figure()\n",
    "    X = list(range(1, len(losses_critic)+1))\n",
    "    plt.title('Training Loss')\n",
    "    plt.plot(X, losses_critic, label='Critic')\n",
    "    plt.plot(X, losses_gen, label='Generator')    \n",
    "    plt.legend()\n",
    "    plt.show()"
   ]
  },
  {
   "cell_type": "markdown",
   "id": "d666b626",
   "metadata": {},
   "source": [
    "### Visualization function"
   ]
  },
  {
   "cell_type": "code",
   "execution_count": 12,
   "id": "0d6be5db",
   "metadata": {},
   "outputs": [],
   "source": [
    "def plot_samples(gen, nrows=5, ncols=20, noise=None, figsize=None, save_path=None):\n",
    "    # Calculate number of samples\n",
    "    n_samples = nrows * ncols\n",
    "    \n",
    "    # Check figsize\n",
    "    if figsize is None:\n",
    "        figsize = (ncols, nrows)\n",
    "    \n",
    "    # Check noise\n",
    "    if noise is None:\n",
    "        noise = torch.randn(n_samples, LATENT_SIZE, 1, 1).to(DEVICE)\n",
    "    \n",
    "    # Generate fake images\n",
    "    images_fake = gen(noise).cpu().detach().numpy()\n",
    "    \n",
    "    # Reshape and normalize to [0, 1]\n",
    "    images_fake = images_fake.reshape(nrows, ncols, 28, 28) * 0.5 + 0.5\n",
    "    \n",
    "    # Create axes\n",
    "    if save_path:\n",
    "        # Use matplotlib.figure to avoid memory issues\n",
    "        fig = figure.Figure(figsize=figsize)\n",
    "        axes = [fig.add_subplot(nrows, ncols, i+1) for i in range(n_samples)]\n",
    "    else:\n",
    "        fig, axes = plt.subplots(nrows, ncols, figsize=figsize)\n",
    "    axes = np.array(axes).reshape(nrows, ncols)\n",
    "    \n",
    "    # Draw images\n",
    "    for i in range(nrows):\n",
    "        for j in range(ncols):\n",
    "            axes[i][j].imshow(images_fake[i][j])\n",
    "            axes[i][j].tick_params(which='both', left=False, labelleft=False, bottom=False, labelbottom=False)\n",
    "    \n",
    "    # Save or display image\n",
    "    if save_path:\n",
    "        # If path contains a directory, make directory if not exists\n",
    "        head, tail = os.path.split(save_path)\n",
    "        if head:\n",
    "            os.makedirs(head, exist_ok=True)\n",
    "        fig.savefig(save_path)\n",
    "    else:\n",
    "        plt.show()"
   ]
  },
  {
   "cell_type": "markdown",
   "id": "a9db7b0b",
   "metadata": {},
   "source": [
    "### Experiment function"
   ]
  },
  {
   "cell_type": "code",
   "execution_count": 13,
   "id": "7703be1f",
   "metadata": {},
   "outputs": [],
   "source": [
    "def run_experiment(experiment_name, batch_size, num_features,\n",
    "                   num_epochs, num_steps, lambda_gp, optim_kwargs):\n",
    "    ###### Setup ######\n",
    "    \n",
    "    # Create data loader\n",
    "    data_loader = torch.utils.data.DataLoader(dataset=mnist, batch_size=batch_size, shuffle=True)\n",
    "    \n",
    "    # Create critic model\n",
    "    critic = Critic(in_channels=IMG_CHANNELS, num_features=num_features)\n",
    "    critic.to(DEVICE)    \n",
    "    \n",
    "    # Create generator model\n",
    "    gen = Generator(in_channels=LATENT_SIZE, out_channels=IMG_CHANNELS, num_features=num_features)\n",
    "    gen.to(DEVICE)\n",
    "    \n",
    "    # Create optimizers for critic and generator\n",
    "    optim_critic = torch.optim.Adam(critic.parameters(), **optim_kwargs)\n",
    "    optim_gen = torch.optim.Adam(gen.parameters(), **optim_kwargs)\n",
    "    \n",
    "    ###### Training ######\n",
    "    \n",
    "    # Save path\n",
    "    save_path = os.path.join('experiments', experiment_name)\n",
    "    \n",
    "    # Train critic and generator\n",
    "    train(data_loader, critic, gen, optim_critic, optim_gen,\n",
    "          num_epochs, num_steps, lambda_gp, save_path)\n",
    "    \n",
    "    return critic, gen"
   ]
  },
  {
   "cell_type": "markdown",
   "id": "dcf375a7",
   "metadata": {},
   "source": [
    "### Experiments\n",
    "\n",
    "**Task 3:** Decide on a number of iterations num_epochs for training!"
   ]
  },
  {
   "cell_type": "markdown",
   "id": "40287c43",
   "metadata": {},
   "source": [
    "#### Experiment 5"
   ]
  },
  {
   "cell_type": "code",
   "execution_count": 14,
   "id": "b7c4a84b",
   "metadata": {},
   "outputs": [
    {
     "name": "stdout",
     "output_type": "stream",
     "text": [
      "seed: 101792809067000\n"
     ]
    },
    {
     "data": {
      "application/vnd.jupyter.widget-view+json": {
       "model_id": "085212f09e9040dbbc32b6b919f18a45",
       "version_major": 2,
       "version_minor": 0
      },
      "text/plain": [
       "epoch:   0%|          | 0/20 [00:00<?, ?it/s]"
      ]
     },
     "metadata": {},
     "output_type": "display_data"
    },
    {
     "data": {
      "application/vnd.jupyter.widget-view+json": {
       "model_id": "ff479b3cee6047a3a3fedac1d12859ea",
       "version_major": 2,
       "version_minor": 0
      },
      "text/plain": [
       "critic:   0%|          | 0/469 [00:00<?, ?it/s]"
      ]
     },
     "metadata": {},
     "output_type": "display_data"
    },
    {
     "data": {
      "application/vnd.jupyter.widget-view+json": {
       "model_id": "15844d5861d24c0ea030179d37c28c2f",
       "version_major": 2,
       "version_minor": 0
      },
      "text/plain": [
       "gen:   0%|          | 0/93 [00:00<?, ?it/s]"
      ]
     },
     "metadata": {},
     "output_type": "display_data"
    },
    {
     "name": "stdout",
     "output_type": "stream",
     "text": [
      "Epoch [1/20], Batch [5/469], loss_critic: -2.87024, loss_gen: 0.74699\n",
      "Epoch [1/20], Batch [50/469], loss_critic: -14.88373, loss_gen: 7.97628\n",
      "Epoch [1/20], Batch [100/469], loss_critic: -11.80496, loss_gen: 6.74593\n",
      "Epoch [1/20], Batch [150/469], loss_critic: -7.57310, loss_gen: 5.42695\n",
      "Epoch [1/20], Batch [200/469], loss_critic: -6.54935, loss_gen: 5.07537\n",
      "Epoch [1/20], Batch [250/469], loss_critic: -5.46634, loss_gen: 6.46113\n",
      "Epoch [1/20], Batch [300/469], loss_critic: -5.61611, loss_gen: 5.62418\n",
      "Epoch [1/20], Batch [350/469], loss_critic: -5.24461, loss_gen: 5.04907\n",
      "Epoch [1/20], Batch [400/469], loss_critic: -5.15171, loss_gen: 4.48226\n",
      "Epoch [1/20], Batch [450/469], loss_critic: -5.22823, loss_gen: 6.58959\n",
      "Epoch [1/20], Batch [469/469], loss_critic: -5.41905, loss_gen: 7.16419\n",
      "Epoch [2/20], Batch [5/469], loss_critic: -5.64410, loss_gen: 6.06458\n",
      "Epoch [2/20], Batch [50/469], loss_critic: -5.38656, loss_gen: 6.65388\n",
      "Epoch [2/20], Batch [100/469], loss_critic: -5.37754, loss_gen: 7.25690\n",
      "Epoch [2/20], Batch [150/469], loss_critic: -4.85905, loss_gen: 6.35611\n",
      "Epoch [2/20], Batch [200/469], loss_critic: -4.73295, loss_gen: 7.02275\n",
      "Epoch [2/20], Batch [250/469], loss_critic: -4.78076, loss_gen: 6.77345\n",
      "Epoch [2/20], Batch [300/469], loss_critic: -3.84039, loss_gen: 7.46698\n",
      "Epoch [2/20], Batch [350/469], loss_critic: -4.52993, loss_gen: 6.09577\n",
      "Epoch [2/20], Batch [400/469], loss_critic: -4.18513, loss_gen: 6.82531\n",
      "Epoch [2/20], Batch [450/469], loss_critic: -4.21136, loss_gen: 7.59793\n",
      "Epoch [2/20], Batch [469/469], loss_critic: -4.61757, loss_gen: 6.45251\n",
      "Epoch [3/20], Batch [5/469], loss_critic: -4.45239, loss_gen: 6.34849\n",
      "Epoch [3/20], Batch [50/469], loss_critic: -4.08813, loss_gen: 7.22492\n",
      "Epoch [3/20], Batch [100/469], loss_critic: -4.69495, loss_gen: 6.94038\n",
      "Epoch [3/20], Batch [150/469], loss_critic: -3.78991, loss_gen: 6.56739\n",
      "Epoch [3/20], Batch [200/469], loss_critic: -4.20954, loss_gen: 5.85964\n",
      "Epoch [3/20], Batch [250/469], loss_critic: -4.20988, loss_gen: 6.32833\n",
      "Epoch [3/20], Batch [300/469], loss_critic: -3.85837, loss_gen: 6.64910\n",
      "Epoch [3/20], Batch [350/469], loss_critic: -3.40407, loss_gen: 6.47746\n",
      "Epoch [3/20], Batch [400/469], loss_critic: -3.91492, loss_gen: 5.40805\n",
      "Epoch [3/20], Batch [450/469], loss_critic: -3.59384, loss_gen: 5.72419\n",
      "Epoch [3/20], Batch [469/469], loss_critic: -4.00147, loss_gen: 6.06705\n",
      "Epoch [4/20], Batch [5/469], loss_critic: -4.15643, loss_gen: 6.86763\n",
      "Epoch [4/20], Batch [50/469], loss_critic: -3.47927, loss_gen: 5.78921\n",
      "Epoch [4/20], Batch [100/469], loss_critic: -3.54275, loss_gen: 5.93229\n",
      "Epoch [4/20], Batch [150/469], loss_critic: -3.20364, loss_gen: 5.11492\n",
      "Epoch [4/20], Batch [200/469], loss_critic: -3.86799, loss_gen: 4.53467\n",
      "Epoch [4/20], Batch [250/469], loss_critic: -3.35348, loss_gen: 5.46167\n",
      "Epoch [4/20], Batch [300/469], loss_critic: -3.34962, loss_gen: 5.18260\n",
      "Epoch [4/20], Batch [350/469], loss_critic: -3.15558, loss_gen: 5.17218\n",
      "Epoch [4/20], Batch [400/469], loss_critic: -3.23970, loss_gen: 5.20997\n",
      "Epoch [4/20], Batch [450/469], loss_critic: -3.16702, loss_gen: 4.82707\n",
      "Epoch [4/20], Batch [469/469], loss_critic: -3.26846, loss_gen: 4.63309\n",
      "Epoch [5/20], Batch [5/469], loss_critic: -3.38598, loss_gen: 4.50940\n",
      "Epoch [5/20], Batch [50/469], loss_critic: -3.22656, loss_gen: 4.15645\n",
      "Epoch [5/20], Batch [100/469], loss_critic: -3.49561, loss_gen: 4.14562\n",
      "Epoch [5/20], Batch [150/469], loss_critic: -3.32091, loss_gen: 4.62330\n",
      "Epoch [5/20], Batch [200/469], loss_critic: -3.07038, loss_gen: 4.05326\n",
      "Epoch [5/20], Batch [250/469], loss_critic: -3.18315, loss_gen: 3.31071\n",
      "Epoch [5/20], Batch [300/469], loss_critic: -3.32328, loss_gen: 4.00286\n",
      "Epoch [5/20], Batch [350/469], loss_critic: -3.66406, loss_gen: 4.40024\n",
      "Epoch [5/20], Batch [400/469], loss_critic: -2.75655, loss_gen: 4.08550\n",
      "Epoch [5/20], Batch [450/469], loss_critic: -3.43731, loss_gen: 4.72493\n",
      "Epoch [5/20], Batch [469/469], loss_critic: -2.52729, loss_gen: 3.66965\n",
      "Epoch [6/20], Batch [5/469], loss_critic: -2.89455, loss_gen: 4.16376\n",
      "Epoch [6/20], Batch [50/469], loss_critic: -3.18374, loss_gen: 4.45590\n",
      "Epoch [6/20], Batch [100/469], loss_critic: -3.20698, loss_gen: 3.62256\n",
      "Epoch [6/20], Batch [150/469], loss_critic: -3.33335, loss_gen: 4.33313\n",
      "Epoch [6/20], Batch [200/469], loss_critic: -2.98210, loss_gen: 4.01310\n",
      "Epoch [6/20], Batch [250/469], loss_critic: -2.57644, loss_gen: 3.64036\n",
      "Epoch [6/20], Batch [300/469], loss_critic: -2.61529, loss_gen: 2.29896\n",
      "Epoch [6/20], Batch [350/469], loss_critic: -3.05181, loss_gen: 4.21798\n",
      "Epoch [6/20], Batch [400/469], loss_critic: -2.78477, loss_gen: 3.23983\n",
      "Epoch [6/20], Batch [450/469], loss_critic: -2.93634, loss_gen: 3.02670\n",
      "Epoch [6/20], Batch [469/469], loss_critic: -2.63852, loss_gen: 3.46578\n",
      "Epoch [7/20], Batch [5/469], loss_critic: -3.27031, loss_gen: 3.07431\n",
      "Epoch [7/20], Batch [50/469], loss_critic: -2.57290, loss_gen: 3.01648\n",
      "Epoch [7/20], Batch [100/469], loss_critic: -3.19555, loss_gen: 2.88497\n",
      "Epoch [7/20], Batch [150/469], loss_critic: -2.63109, loss_gen: 3.49673\n",
      "Epoch [7/20], Batch [200/469], loss_critic: -3.04720, loss_gen: 3.42564\n",
      "Epoch [7/20], Batch [250/469], loss_critic: -2.71914, loss_gen: 3.01973\n",
      "Epoch [7/20], Batch [300/469], loss_critic: -2.45964, loss_gen: 2.23944\n",
      "Epoch [7/20], Batch [350/469], loss_critic: -2.88659, loss_gen: 3.67341\n",
      "Epoch [7/20], Batch [400/469], loss_critic: -2.48667, loss_gen: 3.67097\n",
      "Epoch [7/20], Batch [450/469], loss_critic: -2.51774, loss_gen: 4.21704\n",
      "Epoch [7/20], Batch [469/469], loss_critic: -2.40784, loss_gen: 2.04687\n",
      "Epoch [8/20], Batch [5/469], loss_critic: -2.86798, loss_gen: 1.86632\n",
      "Epoch [8/20], Batch [50/469], loss_critic: -2.08524, loss_gen: 2.83186\n",
      "Epoch [8/20], Batch [100/469], loss_critic: -2.63919, loss_gen: 2.78011\n",
      "Epoch [8/20], Batch [150/469], loss_critic: -2.40778, loss_gen: 3.05809\n",
      "Epoch [8/20], Batch [200/469], loss_critic: -2.45427, loss_gen: 2.17972\n",
      "Epoch [8/20], Batch [250/469], loss_critic: -2.79454, loss_gen: 2.22580\n",
      "Epoch [8/20], Batch [300/469], loss_critic: -2.86856, loss_gen: 1.69123\n",
      "Epoch [8/20], Batch [350/469], loss_critic: -2.21164, loss_gen: 2.07031\n",
      "Epoch [8/20], Batch [400/469], loss_critic: -2.58976, loss_gen: 1.65048\n",
      "Epoch [8/20], Batch [450/469], loss_critic: -2.48892, loss_gen: 1.22444\n",
      "Epoch [8/20], Batch [469/469], loss_critic: -2.34242, loss_gen: 2.22451\n",
      "Epoch [9/20], Batch [5/469], loss_critic: -2.63336, loss_gen: 2.06211\n",
      "Epoch [9/20], Batch [50/469], loss_critic: -2.10574, loss_gen: 2.52014\n",
      "Epoch [9/20], Batch [100/469], loss_critic: -2.34494, loss_gen: 2.58627\n",
      "Epoch [9/20], Batch [150/469], loss_critic: -2.35110, loss_gen: 0.95365\n",
      "Epoch [9/20], Batch [200/469], loss_critic: -2.41364, loss_gen: 1.67608\n",
      "Epoch [9/20], Batch [250/469], loss_critic: -2.28642, loss_gen: 2.16368\n",
      "Epoch [9/20], Batch [300/469], loss_critic: -2.39152, loss_gen: 2.94790\n",
      "Epoch [9/20], Batch [350/469], loss_critic: -2.72555, loss_gen: 1.89866\n",
      "Epoch [9/20], Batch [400/469], loss_critic: -2.54526, loss_gen: 3.00132\n",
      "Epoch [9/20], Batch [450/469], loss_critic: -2.75623, loss_gen: 2.32718\n",
      "Epoch [9/20], Batch [469/469], loss_critic: -2.27858, loss_gen: 1.55119\n",
      "Epoch [10/20], Batch [5/469], loss_critic: -2.76771, loss_gen: 1.79760\n",
      "Epoch [10/20], Batch [50/469], loss_critic: -1.84821, loss_gen: 1.75149\n",
      "Epoch [10/20], Batch [100/469], loss_critic: -2.21147, loss_gen: 1.17123\n",
      "Epoch [10/20], Batch [150/469], loss_critic: -1.82762, loss_gen: 0.80615\n",
      "Epoch [10/20], Batch [200/469], loss_critic: -1.82282, loss_gen: 2.12988\n",
      "Epoch [10/20], Batch [250/469], loss_critic: -2.40582, loss_gen: 1.31480\n",
      "Epoch [10/20], Batch [300/469], loss_critic: -1.96185, loss_gen: 2.10712\n",
      "Epoch [10/20], Batch [350/469], loss_critic: -1.82631, loss_gen: 2.17412\n",
      "Epoch [10/20], Batch [400/469], loss_critic: -2.43403, loss_gen: 1.79174\n",
      "Epoch [10/20], Batch [450/469], loss_critic: -2.82154, loss_gen: 1.31551\n",
      "Epoch [10/20], Batch [469/469], loss_critic: -2.46450, loss_gen: 2.52642\n",
      "Epoch [11/20], Batch [5/469], loss_critic: -2.66165, loss_gen: 1.36116\n",
      "Epoch [11/20], Batch [50/469], loss_critic: -2.53238, loss_gen: 1.19968\n",
      "Epoch [11/20], Batch [100/469], loss_critic: -2.77493, loss_gen: 1.54858\n",
      "Epoch [11/20], Batch [150/469], loss_critic: -2.03217, loss_gen: 1.36305\n",
      "Epoch [11/20], Batch [200/469], loss_critic: -2.76203, loss_gen: 2.53200\n"
     ]
    },
    {
     "name": "stdout",
     "output_type": "stream",
     "text": [
      "Epoch [11/20], Batch [250/469], loss_critic: -1.80910, loss_gen: 1.84041\n",
      "Epoch [11/20], Batch [300/469], loss_critic: -2.51138, loss_gen: 1.33926\n",
      "Epoch [11/20], Batch [350/469], loss_critic: -1.82883, loss_gen: 1.02076\n",
      "Epoch [11/20], Batch [400/469], loss_critic: -2.10967, loss_gen: 2.12232\n",
      "Epoch [11/20], Batch [450/469], loss_critic: -2.33216, loss_gen: 1.21418\n",
      "Epoch [11/20], Batch [469/469], loss_critic: -1.56067, loss_gen: 0.59828\n",
      "Epoch [12/20], Batch [5/469], loss_critic: -2.48275, loss_gen: 1.46907\n",
      "Epoch [12/20], Batch [50/469], loss_critic: -2.04199, loss_gen: 1.54948\n",
      "Epoch [12/20], Batch [100/469], loss_critic: -2.11273, loss_gen: 0.54100\n",
      "Epoch [12/20], Batch [150/469], loss_critic: -1.81847, loss_gen: 0.55626\n",
      "Epoch [12/20], Batch [200/469], loss_critic: -2.03594, loss_gen: 1.60394\n",
      "Epoch [12/20], Batch [250/469], loss_critic: -2.03716, loss_gen: 0.36400\n",
      "Epoch [12/20], Batch [300/469], loss_critic: -2.16800, loss_gen: 1.15045\n",
      "Epoch [12/20], Batch [350/469], loss_critic: -2.14793, loss_gen: 1.19133\n",
      "Epoch [12/20], Batch [400/469], loss_critic: -2.03390, loss_gen: 0.44375\n",
      "Epoch [12/20], Batch [450/469], loss_critic: -2.16462, loss_gen: 1.40604\n",
      "Epoch [12/20], Batch [469/469], loss_critic: -2.10754, loss_gen: 0.86247\n",
      "Epoch [13/20], Batch [5/469], loss_critic: -1.82947, loss_gen: 0.79209\n",
      "Epoch [13/20], Batch [50/469], loss_critic: -1.90357, loss_gen: 0.19971\n",
      "Epoch [13/20], Batch [100/469], loss_critic: -2.20829, loss_gen: 0.57754\n",
      "Epoch [13/20], Batch [150/469], loss_critic: -1.67458, loss_gen: 1.70308\n",
      "Epoch [13/20], Batch [200/469], loss_critic: -2.26109, loss_gen: 0.41540\n",
      "Epoch [13/20], Batch [250/469], loss_critic: -2.06193, loss_gen: 0.98696\n",
      "Epoch [13/20], Batch [300/469], loss_critic: -1.99008, loss_gen: 0.76994\n",
      "Epoch [13/20], Batch [350/469], loss_critic: -1.83825, loss_gen: 0.63796\n",
      "Epoch [13/20], Batch [400/469], loss_critic: -2.11320, loss_gen: -0.16875\n",
      "Epoch [13/20], Batch [450/469], loss_critic: -1.86539, loss_gen: 0.39934\n",
      "Epoch [13/20], Batch [469/469], loss_critic: -1.85762, loss_gen: 0.25100\n",
      "Epoch [14/20], Batch [5/469], loss_critic: -2.08587, loss_gen: -0.01925\n",
      "Epoch [14/20], Batch [50/469], loss_critic: -1.69512, loss_gen: 0.28574\n",
      "Epoch [14/20], Batch [100/469], loss_critic: -2.20582, loss_gen: 0.38966\n",
      "Epoch [14/20], Batch [150/469], loss_critic: -1.87052, loss_gen: -0.10397\n",
      "Epoch [14/20], Batch [200/469], loss_critic: -2.44984, loss_gen: 1.49243\n",
      "Epoch [14/20], Batch [250/469], loss_critic: -1.76530, loss_gen: 1.08893\n",
      "Epoch [14/20], Batch [300/469], loss_critic: -1.91400, loss_gen: 0.30937\n",
      "Epoch [14/20], Batch [350/469], loss_critic: -1.70371, loss_gen: -0.01526\n",
      "Epoch [14/20], Batch [400/469], loss_critic: -1.96851, loss_gen: 1.85141\n",
      "Epoch [14/20], Batch [450/469], loss_critic: -2.30210, loss_gen: 0.19271\n",
      "Epoch [14/20], Batch [469/469], loss_critic: -1.83358, loss_gen: 0.42348\n",
      "Epoch [15/20], Batch [5/469], loss_critic: -2.08402, loss_gen: 0.32457\n",
      "Epoch [15/20], Batch [50/469], loss_critic: -2.03119, loss_gen: 0.60610\n",
      "Epoch [15/20], Batch [100/469], loss_critic: -1.89767, loss_gen: 0.24953\n",
      "Epoch [15/20], Batch [150/469], loss_critic: -1.90779, loss_gen: 0.09511\n",
      "Epoch [15/20], Batch [200/469], loss_critic: -1.53649, loss_gen: 0.62534\n",
      "Epoch [15/20], Batch [250/469], loss_critic: -2.03348, loss_gen: 0.94399\n",
      "Epoch [15/20], Batch [300/469], loss_critic: -2.26069, loss_gen: -0.13133\n",
      "Epoch [15/20], Batch [350/469], loss_critic: -1.87720, loss_gen: 0.45151\n",
      "Epoch [15/20], Batch [400/469], loss_critic: -2.23432, loss_gen: -0.31879\n",
      "Epoch [15/20], Batch [450/469], loss_critic: -1.86316, loss_gen: -0.30877\n",
      "Epoch [15/20], Batch [469/469], loss_critic: -1.38922, loss_gen: 1.06211\n",
      "Epoch [16/20], Batch [5/469], loss_critic: -2.31909, loss_gen: 0.35123\n",
      "Epoch [16/20], Batch [50/469], loss_critic: -2.23960, loss_gen: -0.43086\n",
      "Epoch [16/20], Batch [100/469], loss_critic: -2.00111, loss_gen: -0.64429\n",
      "Epoch [16/20], Batch [150/469], loss_critic: -2.05644, loss_gen: -0.11487\n",
      "Epoch [16/20], Batch [200/469], loss_critic: -1.64594, loss_gen: 1.04819\n",
      "Epoch [16/20], Batch [250/469], loss_critic: -2.07593, loss_gen: 0.52398\n",
      "Epoch [16/20], Batch [300/469], loss_critic: -1.25820, loss_gen: -0.70576\n",
      "Epoch [16/20], Batch [350/469], loss_critic: -2.18885, loss_gen: -0.25285\n",
      "Epoch [16/20], Batch [400/469], loss_critic: -1.96187, loss_gen: -0.34562\n",
      "Epoch [16/20], Batch [450/469], loss_critic: -1.59084, loss_gen: -0.54150\n",
      "Epoch [16/20], Batch [469/469], loss_critic: -2.14378, loss_gen: -0.35664\n",
      "Epoch [17/20], Batch [5/469], loss_critic: -1.91943, loss_gen: -0.66520\n",
      "Epoch [17/20], Batch [50/469], loss_critic: -1.58811, loss_gen: -0.64609\n",
      "Epoch [17/20], Batch [100/469], loss_critic: -1.84852, loss_gen: -1.04871\n",
      "Epoch [17/20], Batch [150/469], loss_critic: -1.68571, loss_gen: 0.35221\n",
      "Epoch [17/20], Batch [200/469], loss_critic: -1.71509, loss_gen: -1.02341\n",
      "Epoch [17/20], Batch [250/469], loss_critic: -1.91065, loss_gen: -0.92921\n",
      "Epoch [17/20], Batch [300/469], loss_critic: -2.11099, loss_gen: -0.41044\n",
      "Epoch [17/20], Batch [350/469], loss_critic: -1.66247, loss_gen: -0.87554\n",
      "Epoch [17/20], Batch [400/469], loss_critic: -1.45447, loss_gen: -0.10201\n",
      "Epoch [17/20], Batch [450/469], loss_critic: -1.74412, loss_gen: -0.01868\n",
      "Epoch [17/20], Batch [469/469], loss_critic: -1.72432, loss_gen: -1.08059\n",
      "Epoch [18/20], Batch [5/469], loss_critic: -2.15759, loss_gen: -0.98752\n",
      "Epoch [18/20], Batch [50/469], loss_critic: -1.80652, loss_gen: -0.68977\n",
      "Epoch [18/20], Batch [100/469], loss_critic: -1.51817, loss_gen: 0.49831\n",
      "Epoch [18/20], Batch [150/469], loss_critic: -1.68629, loss_gen: -0.17381\n",
      "Epoch [18/20], Batch [200/469], loss_critic: -1.97106, loss_gen: -1.06349\n",
      "Epoch [18/20], Batch [250/469], loss_critic: -1.89365, loss_gen: -1.07298\n",
      "Epoch [18/20], Batch [300/469], loss_critic: -1.61271, loss_gen: -0.67600\n",
      "Epoch [18/20], Batch [350/469], loss_critic: -1.61728, loss_gen: -1.68060\n",
      "Epoch [18/20], Batch [400/469], loss_critic: -1.97052, loss_gen: -0.99911\n",
      "Epoch [18/20], Batch [450/469], loss_critic: -1.55155, loss_gen: -0.25358\n",
      "Epoch [18/20], Batch [469/469], loss_critic: -1.89892, loss_gen: -0.90146\n",
      "Epoch [19/20], Batch [5/469], loss_critic: -2.15657, loss_gen: -0.75170\n",
      "Epoch [19/20], Batch [50/469], loss_critic: -1.71306, loss_gen: -0.85249\n",
      "Epoch [19/20], Batch [100/469], loss_critic: -2.04675, loss_gen: -1.25160\n",
      "Epoch [19/20], Batch [150/469], loss_critic: -1.98508, loss_gen: 0.50117\n",
      "Epoch [19/20], Batch [200/469], loss_critic: -1.53633, loss_gen: -0.02167\n",
      "Epoch [19/20], Batch [250/469], loss_critic: -2.10916, loss_gen: -1.76183\n",
      "Epoch [19/20], Batch [300/469], loss_critic: -1.66110, loss_gen: -1.99999\n",
      "Epoch [19/20], Batch [350/469], loss_critic: -1.43955, loss_gen: -1.59212\n",
      "Epoch [19/20], Batch [400/469], loss_critic: -1.68701, loss_gen: -1.21204\n",
      "Epoch [19/20], Batch [450/469], loss_critic: -1.62716, loss_gen: -1.34801\n",
      "Epoch [19/20], Batch [469/469], loss_critic: -1.52926, loss_gen: -0.96786\n",
      "Epoch [20/20], Batch [5/469], loss_critic: -2.09875, loss_gen: 0.03999\n",
      "Epoch [20/20], Batch [50/469], loss_critic: -1.46294, loss_gen: -0.57264\n",
      "Epoch [20/20], Batch [100/469], loss_critic: -1.50975, loss_gen: -1.42269\n",
      "Epoch [20/20], Batch [150/469], loss_critic: -1.54634, loss_gen: -1.31750\n",
      "Epoch [20/20], Batch [200/469], loss_critic: -1.52226, loss_gen: -2.15954\n",
      "Epoch [20/20], Batch [250/469], loss_critic: -1.79659, loss_gen: -1.09572\n",
      "Epoch [20/20], Batch [300/469], loss_critic: -1.46357, loss_gen: -1.24980\n",
      "Epoch [20/20], Batch [350/469], loss_critic: -1.74162, loss_gen: -1.04121\n",
      "Epoch [20/20], Batch [400/469], loss_critic: -1.56574, loss_gen: 0.37725\n",
      "Epoch [20/20], Batch [450/469], loss_critic: -1.64090, loss_gen: -1.37778\n",
      "Epoch [20/20], Batch [469/469], loss_critic: -1.23530, loss_gen: -1.41896\n"
     ]
    },
    {
     "data": {
      "image/png": "[encoded data removed]",
      "text/plain": [
       "<Figure size 432x288 with 1 Axes>"
      ]
     },
     "metadata": {
      "needs_background": "light"
     },
     "output_type": "display_data"
    },
    {
     "data": {
      "image/png": "[encoded data removed]",
      "text/plain": [
       "<Figure size 720x360 with 50 Axes>"
      ]
     },
     "metadata": {},
     "output_type": "display_data"
    }
   ],
   "source": [
    "###### Experiment 5 ######\n",
    "\n",
    "### Hyperparameters ###\n",
    "\n",
    "# Data loader\n",
    "batch_size = 128\n",
    "\n",
    "# Architecture\n",
    "num_features = 32\n",
    "\n",
    "# Training\n",
    "num_epochs = 20\n",
    "num_steps = (5, 1)  # Critic to generator training ratio\n",
    "lambda_gp = 10      # Gradient penalty constant\n",
    "\n",
    "# Optimizer\n",
    "optim_kwargs = dict(\n",
    "    lr = 4e-4,\n",
    "    betas = (0.5, 0.999),\n",
    ")\n",
    "\n",
    "### Running the experiment ###\n",
    "\n",
    "# Experiment name\n",
    "experiment_name = 'experiment5'\n",
    "\n",
    "# Run experiment\n",
    "critic, gen = run_experiment(experiment_name, batch_size, num_features,\n",
    "                             num_epochs, num_steps, lambda_gp, optim_kwargs)\n",
    "\n",
    "# Visualize samples\n",
    "plot_samples(gen, nrows=5, ncols=10)"
   ]
  },
  {
   "cell_type": "markdown",
   "id": "f74af708",
   "metadata": {},
   "source": [
    "#### Experiment 4"
   ]
  },
  {
   "cell_type": "code",
   "execution_count": 14,
   "id": "f27c68ec",
   "metadata": {},
   "outputs": [
    {
     "name": "stdout",
     "output_type": "stream",
     "text": [
      "seed: 96037322111000\n"
     ]
    },
    {
     "data": {
      "application/vnd.jupyter.widget-view+json": {
       "model_id": "7d848c63ed584963ab6cef2ca8a7be3e",
       "version_major": 2,
       "version_minor": 0
      },
      "text/plain": [
       "epoch:   0%|          | 0/20 [00:00<?, ?it/s]"
      ]
     },
     "metadata": {},
     "output_type": "display_data"
    },
    {
     "data": {
      "application/vnd.jupyter.widget-view+json": {
       "model_id": "4435e1e1441c40b6b7b89e225e3998e7",
       "version_major": 2,
       "version_minor": 0
      },
      "text/plain": [
       "critic:   0%|          | 0/469 [00:00<?, ?it/s]"
      ]
     },
     "metadata": {},
     "output_type": "display_data"
    },
    {
     "data": {
      "application/vnd.jupyter.widget-view+json": {
       "model_id": "6f7f1901a3074b6fa9d92c5aa58394d2",
       "version_major": 2,
       "version_minor": 0
      },
      "text/plain": [
       "gen:   0%|          | 0/93 [00:00<?, ?it/s]"
      ]
     },
     "metadata": {},
     "output_type": "display_data"
    },
    {
     "name": "stdout",
     "output_type": "stream",
     "text": [
      "Epoch [1/20], Batch [5/469], loss_critic: -4.30553, loss_gen: 3.85008\n",
      "Epoch [1/20], Batch [50/469], loss_critic: -35.88769, loss_gen: 19.41886\n",
      "Epoch [1/20], Batch [100/469], loss_critic: -46.92267, loss_gen: 27.12553\n",
      "Epoch [1/20], Batch [150/469], loss_critic: -49.43875, loss_gen: 31.92884\n",
      "Epoch [1/20], Batch [200/469], loss_critic: -50.12464, loss_gen: 36.51498\n",
      "Epoch [1/20], Batch [250/469], loss_critic: -49.30110, loss_gen: 39.28796\n",
      "Epoch [1/20], Batch [300/469], loss_critic: -49.05411, loss_gen: 40.27269\n",
      "Epoch [1/20], Batch [350/469], loss_critic: -49.26148, loss_gen: 40.60107\n",
      "Epoch [1/20], Batch [400/469], loss_critic: -48.61464, loss_gen: 38.82044\n",
      "Epoch [1/20], Batch [450/469], loss_critic: -48.14231, loss_gen: 39.21415\n",
      "Epoch [1/20], Batch [469/469], loss_critic: -47.15862, loss_gen: 40.54127\n",
      "Epoch [2/20], Batch [5/469], loss_critic: -48.10667, loss_gen: 39.48037\n",
      "Epoch [2/20], Batch [50/469], loss_critic: -47.48647, loss_gen: 38.33373\n",
      "Epoch [2/20], Batch [100/469], loss_critic: -46.23232, loss_gen: 38.26143\n",
      "Epoch [2/20], Batch [150/469], loss_critic: -45.28060, loss_gen: 40.73896\n",
      "Epoch [2/20], Batch [200/469], loss_critic: -43.64176, loss_gen: 39.42902\n",
      "Epoch [2/20], Batch [250/469], loss_critic: -42.09026, loss_gen: 37.02182\n",
      "Epoch [2/20], Batch [300/469], loss_critic: -42.12799, loss_gen: 38.57532\n",
      "Epoch [2/20], Batch [350/469], loss_critic: -40.82877, loss_gen: 38.13889\n",
      "Epoch [2/20], Batch [400/469], loss_critic: -39.76836, loss_gen: 38.04479\n",
      "Epoch [2/20], Batch [450/469], loss_critic: -38.67219, loss_gen: 38.17626\n",
      "Epoch [2/20], Batch [469/469], loss_critic: -37.64501, loss_gen: 38.48885\n",
      "Epoch [3/20], Batch [5/469], loss_critic: -37.86327, loss_gen: 38.09338\n",
      "Epoch [3/20], Batch [50/469], loss_critic: -37.24102, loss_gen: 37.46951\n",
      "Epoch [3/20], Batch [100/469], loss_critic: -35.40085, loss_gen: 35.50941\n",
      "Epoch [3/20], Batch [150/469], loss_critic: -34.49554, loss_gen: 37.18322\n",
      "Epoch [3/20], Batch [200/469], loss_critic: -32.99416, loss_gen: 35.98248\n",
      "Epoch [3/20], Batch [250/469], loss_critic: -31.94589, loss_gen: 36.75184\n",
      "Epoch [3/20], Batch [300/469], loss_critic: -30.75920, loss_gen: 35.78403\n",
      "Epoch [3/20], Batch [350/469], loss_critic: -29.17293, loss_gen: 35.24231\n",
      "Epoch [3/20], Batch [400/469], loss_critic: -28.66346, loss_gen: 34.61784\n",
      "Epoch [3/20], Batch [450/469], loss_critic: -27.39501, loss_gen: 34.66393\n",
      "Epoch [3/20], Batch [469/469], loss_critic: -27.35929, loss_gen: 35.06953\n",
      "Epoch [4/20], Batch [5/469], loss_critic: -27.16906, loss_gen: 34.30621\n",
      "Epoch [4/20], Batch [50/469], loss_critic: -25.92863, loss_gen: 35.28610\n",
      "Epoch [4/20], Batch [100/469], loss_critic: -25.31021, loss_gen: 35.01615\n",
      "Epoch [4/20], Batch [150/469], loss_critic: -24.58445, loss_gen: 33.75359\n",
      "Epoch [4/20], Batch [200/469], loss_critic: -23.01469, loss_gen: 32.38343\n",
      "Epoch [4/20], Batch [250/469], loss_critic: -22.74776, loss_gen: 33.92416\n",
      "Epoch [4/20], Batch [300/469], loss_critic: -21.83768, loss_gen: 32.75653\n",
      "Epoch [4/20], Batch [350/469], loss_critic: -20.98385, loss_gen: 33.26003\n",
      "Epoch [4/20], Batch [400/469], loss_critic: -20.13989, loss_gen: 31.01973\n",
      "Epoch [4/20], Batch [450/469], loss_critic: -19.56411, loss_gen: 31.18440\n",
      "Epoch [4/20], Batch [469/469], loss_critic: -19.75705, loss_gen: 30.27499\n",
      "Epoch [5/20], Batch [5/469], loss_critic: -19.34690, loss_gen: 29.94648\n",
      "Epoch [5/20], Batch [50/469], loss_critic: -18.95315, loss_gen: 30.30694\n",
      "Epoch [5/20], Batch [100/469], loss_critic: -18.72822, loss_gen: 30.95706\n",
      "Epoch [5/20], Batch [150/469], loss_critic: -17.63477, loss_gen: 30.03140\n",
      "Epoch [5/20], Batch [200/469], loss_critic: -17.08242, loss_gen: 29.23275\n",
      "Epoch [5/20], Batch [250/469], loss_critic: -17.18158, loss_gen: 29.19089\n",
      "Epoch [5/20], Batch [300/469], loss_critic: -16.99527, loss_gen: 27.96412\n",
      "Epoch [5/20], Batch [350/469], loss_critic: -16.41288, loss_gen: 28.63580\n",
      "Epoch [5/20], Batch [400/469], loss_critic: -15.63539, loss_gen: 28.45816\n",
      "Epoch [5/20], Batch [450/469], loss_critic: -15.82523, loss_gen: 30.41695\n",
      "Epoch [5/20], Batch [469/469], loss_critic: -15.02442, loss_gen: 29.70391\n",
      "Epoch [6/20], Batch [5/469], loss_critic: -15.57389, loss_gen: 29.02322\n",
      "Epoch [6/20], Batch [50/469], loss_critic: -14.92805, loss_gen: 27.10364\n",
      "Epoch [6/20], Batch [100/469], loss_critic: -14.76639, loss_gen: 28.60415\n",
      "Epoch [6/20], Batch [150/469], loss_critic: -14.63684, loss_gen: 27.62773\n",
      "Epoch [6/20], Batch [200/469], loss_critic: -14.57869, loss_gen: 28.15020\n",
      "Epoch [6/20], Batch [250/469], loss_critic: -13.81176, loss_gen: 27.01136\n",
      "Epoch [6/20], Batch [300/469], loss_critic: -14.18147, loss_gen: 28.25539\n",
      "Epoch [6/20], Batch [350/469], loss_critic: -14.18949, loss_gen: 29.52874\n",
      "Epoch [6/20], Batch [400/469], loss_critic: -13.89103, loss_gen: 28.47930\n",
      "Epoch [6/20], Batch [450/469], loss_critic: -14.02558, loss_gen: 28.17139\n",
      "Epoch [6/20], Batch [469/469], loss_critic: -13.48303, loss_gen: 29.09428\n",
      "Epoch [7/20], Batch [5/469], loss_critic: -13.57210, loss_gen: 28.06978\n",
      "Epoch [7/20], Batch [50/469], loss_critic: -12.91928, loss_gen: 27.27529\n",
      "Epoch [7/20], Batch [100/469], loss_critic: -13.34189, loss_gen: 27.83858\n",
      "Epoch [7/20], Batch [150/469], loss_critic: -13.34694, loss_gen: 27.54915\n",
      "Epoch [7/20], Batch [200/469], loss_critic: -12.97687, loss_gen: 29.15963\n",
      "Epoch [7/20], Batch [250/469], loss_critic: -12.58497, loss_gen: 27.47745\n",
      "Epoch [7/20], Batch [300/469], loss_critic: -12.55227, loss_gen: 27.28579\n",
      "Epoch [7/20], Batch [350/469], loss_critic: -12.47944, loss_gen: 28.35626\n",
      "Epoch [7/20], Batch [400/469], loss_critic: -12.49815, loss_gen: 28.02220\n",
      "Epoch [7/20], Batch [450/469], loss_critic: -12.49147, loss_gen: 27.09260\n",
      "Epoch [7/20], Batch [469/469], loss_critic: -12.30197, loss_gen: 27.06656\n",
      "Epoch [8/20], Batch [5/469], loss_critic: -12.53220, loss_gen: 26.22149\n",
      "Epoch [8/20], Batch [50/469], loss_critic: -12.13145, loss_gen: 25.99708\n",
      "Epoch [8/20], Batch [100/469], loss_critic: -12.09093, loss_gen: 24.92681\n",
      "Epoch [8/20], Batch [150/469], loss_critic: -12.01604, loss_gen: 26.07529\n",
      "Epoch [8/20], Batch [200/469], loss_critic: -11.29011, loss_gen: 28.31645\n",
      "Epoch [8/20], Batch [250/469], loss_critic: -12.08971, loss_gen: 26.47492\n",
      "Epoch [8/20], Batch [300/469], loss_critic: -11.32470, loss_gen: 27.21026\n",
      "Epoch [8/20], Batch [350/469], loss_critic: -11.09763, loss_gen: 26.84282\n",
      "Epoch [8/20], Batch [400/469], loss_critic: -11.46491, loss_gen: 26.22494\n",
      "Epoch [8/20], Batch [450/469], loss_critic: -11.85766, loss_gen: 25.38504\n",
      "Epoch [8/20], Batch [469/469], loss_critic: -11.61982, loss_gen: 27.36852\n",
      "Epoch [9/20], Batch [5/469], loss_critic: -11.47571, loss_gen: 25.68374\n",
      "Epoch [9/20], Batch [50/469], loss_critic: -11.23454, loss_gen: 26.13145\n",
      "Epoch [9/20], Batch [100/469], loss_critic: -10.96343, loss_gen: 25.11160\n",
      "Epoch [9/20], Batch [150/469], loss_critic: -11.09534, loss_gen: 26.08968\n",
      "Epoch [9/20], Batch [200/469], loss_critic: -11.35533, loss_gen: 26.45567\n",
      "Epoch [9/20], Batch [250/469], loss_critic: -11.06335, loss_gen: 26.15398\n",
      "Epoch [9/20], Batch [300/469], loss_critic: -11.18165, loss_gen: 26.11507\n",
      "Epoch [9/20], Batch [350/469], loss_critic: -11.28636, loss_gen: 25.49827\n",
      "Epoch [9/20], Batch [400/469], loss_critic: -10.79173, loss_gen: 25.34980\n",
      "Epoch [9/20], Batch [450/469], loss_critic: -10.75800, loss_gen: 24.99607\n",
      "Epoch [9/20], Batch [469/469], loss_critic: -10.60963, loss_gen: 24.86143\n",
      "Epoch [10/20], Batch [5/469], loss_critic: -10.46906, loss_gen: 24.87256\n",
      "Epoch [10/20], Batch [50/469], loss_critic: -10.64777, loss_gen: 24.71700\n",
      "Epoch [10/20], Batch [100/469], loss_critic: -10.32501, loss_gen: 25.31628\n",
      "Epoch [10/20], Batch [150/469], loss_critic: -9.85480, loss_gen: 25.43462\n",
      "Epoch [10/20], Batch [200/469], loss_critic: -9.91741, loss_gen: 22.32244\n",
      "Epoch [10/20], Batch [250/469], loss_critic: -9.98938, loss_gen: 24.38810\n",
      "Epoch [10/20], Batch [300/469], loss_critic: -9.82359, loss_gen: 23.30907\n",
      "Epoch [10/20], Batch [350/469], loss_critic: -10.73172, loss_gen: 25.19347\n",
      "Epoch [10/20], Batch [400/469], loss_critic: -10.37620, loss_gen: 24.46686\n",
      "Epoch [10/20], Batch [450/469], loss_critic: -9.19901, loss_gen: 23.68881\n",
      "Epoch [10/20], Batch [469/469], loss_critic: -9.28834, loss_gen: 25.27834\n",
      "Epoch [11/20], Batch [5/469], loss_critic: -9.92627, loss_gen: 25.38277\n",
      "Epoch [11/20], Batch [50/469], loss_critic: -9.23155, loss_gen: 24.57602\n"
     ]
    },
    {
     "name": "stdout",
     "output_type": "stream",
     "text": [
      "Epoch [11/20], Batch [100/469], loss_critic: -9.21473, loss_gen: 24.99825\n",
      "Epoch [11/20], Batch [150/469], loss_critic: -8.61486, loss_gen: 25.50166\n",
      "Epoch [11/20], Batch [200/469], loss_critic: -8.91137, loss_gen: 25.14218\n",
      "Epoch [11/20], Batch [250/469], loss_critic: -9.13048, loss_gen: 24.01413\n",
      "Epoch [11/20], Batch [300/469], loss_critic: -8.73046, loss_gen: 23.79354\n",
      "Epoch [11/20], Batch [350/469], loss_critic: -8.58315, loss_gen: 24.94501\n",
      "Epoch [11/20], Batch [400/469], loss_critic: -8.88107, loss_gen: 24.47861\n",
      "Epoch [11/20], Batch [450/469], loss_critic: -8.61754, loss_gen: 25.15253\n",
      "Epoch [11/20], Batch [469/469], loss_critic: -7.28469, loss_gen: 24.71969\n",
      "Epoch [12/20], Batch [5/469], loss_critic: -8.66630, loss_gen: 24.07466\n",
      "Epoch [12/20], Batch [50/469], loss_critic: -7.77801, loss_gen: 24.16039\n",
      "Epoch [12/20], Batch [100/469], loss_critic: -7.63118, loss_gen: 24.02424\n",
      "Epoch [12/20], Batch [150/469], loss_critic: -8.10539, loss_gen: 23.84228\n",
      "Epoch [12/20], Batch [200/469], loss_critic: -7.74230, loss_gen: 23.61991\n",
      "Epoch [12/20], Batch [250/469], loss_critic: -7.42130, loss_gen: 22.17002\n",
      "Epoch [12/20], Batch [300/469], loss_critic: -6.79337, loss_gen: 21.75052\n",
      "Epoch [12/20], Batch [350/469], loss_critic: -7.32440, loss_gen: 23.06443\n",
      "Epoch [12/20], Batch [400/469], loss_critic: -7.05445, loss_gen: 23.35170\n",
      "Epoch [12/20], Batch [450/469], loss_critic: -7.36819, loss_gen: 24.31170\n",
      "Epoch [12/20], Batch [469/469], loss_critic: -6.76256, loss_gen: 21.89352\n",
      "Epoch [13/20], Batch [5/469], loss_critic: -6.96388, loss_gen: 21.98834\n",
      "Epoch [13/20], Batch [50/469], loss_critic: -7.28357, loss_gen: 22.81116\n",
      "Epoch [13/20], Batch [100/469], loss_critic: -5.96567, loss_gen: 21.07439\n",
      "Epoch [13/20], Batch [150/469], loss_critic: -6.99383, loss_gen: 22.47436\n",
      "Epoch [13/20], Batch [200/469], loss_critic: -6.82862, loss_gen: 23.15705\n",
      "Epoch [13/20], Batch [250/469], loss_critic: -6.37914, loss_gen: 22.06826\n",
      "Epoch [13/20], Batch [300/469], loss_critic: -6.33721, loss_gen: 22.50089\n",
      "Epoch [13/20], Batch [350/469], loss_critic: -6.25927, loss_gen: 23.26959\n",
      "Epoch [13/20], Batch [400/469], loss_critic: -6.18337, loss_gen: 23.41117\n",
      "Epoch [13/20], Batch [450/469], loss_critic: -6.57459, loss_gen: 23.40434\n",
      "Epoch [13/20], Batch [469/469], loss_critic: -6.01345, loss_gen: 23.34710\n",
      "Epoch [14/20], Batch [5/469], loss_critic: -5.87923, loss_gen: 22.42972\n",
      "Epoch [14/20], Batch [50/469], loss_critic: -6.13311, loss_gen: 23.10445\n",
      "Epoch [14/20], Batch [100/469], loss_critic: -6.08769, loss_gen: 22.19972\n",
      "Epoch [14/20], Batch [150/469], loss_critic: -5.79437, loss_gen: 23.19285\n",
      "Epoch [14/20], Batch [200/469], loss_critic: -5.51462, loss_gen: 22.26437\n",
      "Epoch [14/20], Batch [250/469], loss_critic: -5.59705, loss_gen: 22.94155\n",
      "Epoch [14/20], Batch [300/469], loss_critic: -5.75926, loss_gen: 21.51140\n",
      "Epoch [14/20], Batch [350/469], loss_critic: -5.66810, loss_gen: 21.80091\n",
      "Epoch [14/20], Batch [400/469], loss_critic: -5.31191, loss_gen: 21.60075\n",
      "Epoch [14/20], Batch [450/469], loss_critic: -5.02423, loss_gen: 22.14512\n",
      "Epoch [14/20], Batch [469/469], loss_critic: -5.00843, loss_gen: 22.37038\n",
      "Epoch [15/20], Batch [5/469], loss_critic: -5.13318, loss_gen: 21.65630\n",
      "Epoch [15/20], Batch [50/469], loss_critic: -5.09536, loss_gen: 22.09163\n",
      "Epoch [15/20], Batch [100/469], loss_critic: -5.27099, loss_gen: 21.60022\n",
      "Epoch [15/20], Batch [150/469], loss_critic: -5.11545, loss_gen: 21.30779\n",
      "Epoch [15/20], Batch [200/469], loss_critic: -4.99183, loss_gen: 21.42643\n",
      "Epoch [15/20], Batch [250/469], loss_critic: -4.58799, loss_gen: 19.32386\n",
      "Epoch [15/20], Batch [300/469], loss_critic: -4.77002, loss_gen: 22.14130\n",
      "Epoch [15/20], Batch [350/469], loss_critic: -4.67302, loss_gen: 22.57657\n",
      "Epoch [15/20], Batch [400/469], loss_critic: -4.04296, loss_gen: 20.19245\n",
      "Epoch [15/20], Batch [450/469], loss_critic: -4.75251, loss_gen: 21.14647\n",
      "Epoch [15/20], Batch [469/469], loss_critic: -5.04627, loss_gen: 21.53721\n",
      "Epoch [16/20], Batch [5/469], loss_critic: -4.19522, loss_gen: 20.18311\n",
      "Epoch [16/20], Batch [50/469], loss_critic: -3.78939, loss_gen: 21.48382\n",
      "Epoch [16/20], Batch [100/469], loss_critic: -4.41634, loss_gen: 20.91747\n",
      "Epoch [16/20], Batch [150/469], loss_critic: -4.53628, loss_gen: 22.35168\n",
      "Epoch [16/20], Batch [200/469], loss_critic: -4.03679, loss_gen: 20.78591\n",
      "Epoch [16/20], Batch [250/469], loss_critic: -3.61972, loss_gen: 19.91027\n",
      "Epoch [16/20], Batch [300/469], loss_critic: -4.34092, loss_gen: 20.58959\n",
      "Epoch [16/20], Batch [350/469], loss_critic: -4.25667, loss_gen: 20.27050\n",
      "Epoch [16/20], Batch [400/469], loss_critic: -4.21564, loss_gen: 19.96320\n",
      "Epoch [16/20], Batch [450/469], loss_critic: -3.92864, loss_gen: 20.68903\n",
      "Epoch [16/20], Batch [469/469], loss_critic: -4.10435, loss_gen: 20.88586\n",
      "Epoch [17/20], Batch [5/469], loss_critic: -3.72900, loss_gen: 20.20026\n",
      "Epoch [17/20], Batch [50/469], loss_critic: -4.08837, loss_gen: 20.10939\n",
      "Epoch [17/20], Batch [100/469], loss_critic: -4.10479, loss_gen: 19.62651\n",
      "Epoch [17/20], Batch [150/469], loss_critic: -3.77048, loss_gen: 18.74671\n",
      "Epoch [17/20], Batch [200/469], loss_critic: -3.65774, loss_gen: 19.47211\n",
      "Epoch [17/20], Batch [250/469], loss_critic: -3.47558, loss_gen: 18.19345\n",
      "Epoch [17/20], Batch [300/469], loss_critic: -3.70750, loss_gen: 18.93139\n",
      "Epoch [17/20], Batch [350/469], loss_critic: -3.92930, loss_gen: 18.07146\n",
      "Epoch [17/20], Batch [400/469], loss_critic: -3.76698, loss_gen: 17.57711\n",
      "Epoch [17/20], Batch [450/469], loss_critic: -3.71833, loss_gen: 17.93121\n",
      "Epoch [17/20], Batch [469/469], loss_critic: -3.78128, loss_gen: 18.55192\n",
      "Epoch [18/20], Batch [5/469], loss_critic: -3.32548, loss_gen: 18.05925\n",
      "Epoch [18/20], Batch [50/469], loss_critic: -3.75745, loss_gen: 17.22252\n",
      "Epoch [18/20], Batch [100/469], loss_critic: -3.63638, loss_gen: 17.57453\n",
      "Epoch [18/20], Batch [150/469], loss_critic: -3.39287, loss_gen: 17.17075\n",
      "Epoch [18/20], Batch [200/469], loss_critic: -3.31194, loss_gen: 17.43922\n",
      "Epoch [18/20], Batch [250/469], loss_critic: -3.59901, loss_gen: 17.14393\n",
      "Epoch [18/20], Batch [300/469], loss_critic: -3.32218, loss_gen: 16.82469\n",
      "Epoch [18/20], Batch [350/469], loss_critic: -3.23661, loss_gen: 16.88472\n",
      "Epoch [18/20], Batch [400/469], loss_critic: -3.31768, loss_gen: 16.32685\n",
      "Epoch [18/20], Batch [450/469], loss_critic: -3.36499, loss_gen: 16.60010\n",
      "Epoch [18/20], Batch [469/469], loss_critic: -3.14970, loss_gen: 16.89254\n",
      "Epoch [19/20], Batch [5/469], loss_critic: -2.94343, loss_gen: 16.78446\n",
      "Epoch [19/20], Batch [50/469], loss_critic: -3.33664, loss_gen: 16.02929\n",
      "Epoch [19/20], Batch [100/469], loss_critic: -3.55276, loss_gen: 16.04558\n",
      "Epoch [19/20], Batch [150/469], loss_critic: -3.46467, loss_gen: 16.22541\n",
      "Epoch [19/20], Batch [200/469], loss_critic: -3.52865, loss_gen: 17.43605\n",
      "Epoch [19/20], Batch [250/469], loss_critic: -3.29450, loss_gen: 16.66799\n",
      "Epoch [19/20], Batch [300/469], loss_critic: -3.39632, loss_gen: 15.93351\n",
      "Epoch [19/20], Batch [350/469], loss_critic: -3.11400, loss_gen: 15.37505\n",
      "Epoch [19/20], Batch [400/469], loss_critic: -2.86009, loss_gen: 16.24304\n",
      "Epoch [19/20], Batch [450/469], loss_critic: -3.40645, loss_gen: 15.86129\n",
      "Epoch [19/20], Batch [469/469], loss_critic: -2.90748, loss_gen: 16.04454\n",
      "Epoch [20/20], Batch [5/469], loss_critic: -3.34050, loss_gen: 16.28872\n",
      "Epoch [20/20], Batch [50/469], loss_critic: -3.28935, loss_gen: 15.64421\n",
      "Epoch [20/20], Batch [100/469], loss_critic: -3.12177, loss_gen: 15.79913\n",
      "Epoch [20/20], Batch [150/469], loss_critic: -3.08030, loss_gen: 16.48629\n",
      "Epoch [20/20], Batch [200/469], loss_critic: -3.56721, loss_gen: 14.51913\n",
      "Epoch [20/20], Batch [250/469], loss_critic: -2.85650, loss_gen: 14.86812\n",
      "Epoch [20/20], Batch [300/469], loss_critic: -2.98342, loss_gen: 15.38165\n",
      "Epoch [20/20], Batch [350/469], loss_critic: -2.98936, loss_gen: 16.60379\n",
      "Epoch [20/20], Batch [400/469], loss_critic: -2.98712, loss_gen: 14.60856\n",
      "Epoch [20/20], Batch [450/469], loss_critic: -2.88257, loss_gen: 14.57693\n",
      "Epoch [20/20], Batch [469/469], loss_critic: -2.98701, loss_gen: 15.48638\n"
     ]
    },
    {
     "data": {
      "image/png": "[encoded data removed]",
      "text/plain": [
       "<Figure size 432x288 with 1 Axes>"
      ]
     },
     "metadata": {
      "needs_background": "light"
     },
     "output_type": "display_data"
    },
    {
     "data": {
      "image/png": "[encoded data removed]",
      "text/plain": [
       "<Figure size 720x360 with 50 Axes>"
      ]
     },
     "metadata": {},
     "output_type": "display_data"
    }
   ],
   "source": [
    "###### Experiment 4 ######\n",
    "\n",
    "### Hyperparameters ###\n",
    "\n",
    "# # Data loader\n",
    "# batch_size = 128\n",
    "\n",
    "# # Architecture\n",
    "# num_features = 64\n",
    "\n",
    "# # Training\n",
    "# num_epochs = 20\n",
    "# num_steps = (5, 1)  # Critic to generator training ratio\n",
    "# lambda_gp = 10      # Gradient penalty constant\n",
    "\n",
    "# # Optimizer\n",
    "# optim_kwargs = dict(\n",
    "#     lr = 2e-4,\n",
    "#     betas = (0.5, 0.9),\n",
    "# )"
   ]
  },
  {
   "cell_type": "markdown",
   "id": "2bbb0076",
   "metadata": {},
   "source": [
    "#### Experiment 3"
   ]
  },
  {
   "cell_type": "code",
   "execution_count": 14,
   "id": "1b4ed2d0",
   "metadata": {
    "scrolled": true
   },
   "outputs": [
    {
     "name": "stdout",
     "output_type": "stream",
     "text": [
      "seed: 70356888444600\n"
     ]
    },
    {
     "data": {
      "application/vnd.jupyter.widget-view+json": {
       "model_id": "431900b77a2b4235bb2cabe8ec7125be",
       "version_major": 2,
       "version_minor": 0
      },
      "text/plain": [
       "epoch:   0%|          | 0/10 [00:00<?, ?it/s]"
      ]
     },
     "metadata": {},
     "output_type": "display_data"
    },
    {
     "data": {
      "application/vnd.jupyter.widget-view+json": {
       "model_id": "1442437b69574a41a3052fbca900e457",
       "version_major": 2,
       "version_minor": 0
      },
      "text/plain": [
       "steps_f:   0%|          | 0/469 [00:00<?, ?it/s]"
      ]
     },
     "metadata": {},
     "output_type": "display_data"
    },
    {
     "data": {
      "application/vnd.jupyter.widget-view+json": {
       "model_id": "ace64ace5f0e4ebe97683e3bef34410d",
       "version_major": 2,
       "version_minor": 0
      },
      "text/plain": [
       "steps_G:   0%|          | 0/2345 [00:00<?, ?it/s]"
      ]
     },
     "metadata": {},
     "output_type": "display_data"
    },
    {
     "name": "stdout",
     "output_type": "stream",
     "text": [
      "Epoch [1/10], Batch [1/469], loss_f: 32.65231, loss_G: -1.03432\n",
      "Epoch [1/10], Batch [50/469], loss_f: 3.34934, loss_G: 0.73470\n",
      "Epoch [1/10], Batch [100/469], loss_f: -0.42262, loss_G: 0.00717\n",
      "Epoch [1/10], Batch [150/469], loss_f: -1.08903, loss_G: 0.37608\n",
      "Epoch [1/10], Batch [200/469], loss_f: -0.47843, loss_G: -0.15174\n",
      "Epoch [1/10], Batch [250/469], loss_f: -0.73715, loss_G: 0.13955\n",
      "Epoch [1/10], Batch [300/469], loss_f: 0.01677, loss_G: -0.39319\n",
      "Epoch [1/10], Batch [350/469], loss_f: 0.00251, loss_G: -0.29922\n",
      "Epoch [1/10], Batch [400/469], loss_f: 0.09510, loss_G: -0.27394\n",
      "Epoch [1/10], Batch [450/469], loss_f: 0.03255, loss_G: -0.26141\n",
      "Epoch [1/10], Batch [469/469], loss_f: -0.01469, loss_G: -0.21245\n",
      "Epoch [2/10], Batch [1/469], loss_f: -0.00597, loss_G: -0.23278\n",
      "Epoch [2/10], Batch [50/469], loss_f: 0.09622, loss_G: -0.40177\n",
      "Epoch [2/10], Batch [100/469], loss_f: 0.02011, loss_G: -0.24970\n",
      "Epoch [2/10], Batch [150/469], loss_f: 0.04540, loss_G: -0.12043\n",
      "Epoch [2/10], Batch [200/469], loss_f: 0.02017, loss_G: -0.13677\n",
      "Epoch [2/10], Batch [250/469], loss_f: 0.07592, loss_G: -0.20328\n",
      "Epoch [2/10], Batch [300/469], loss_f: 0.01254, loss_G: -0.11757\n",
      "Epoch [2/10], Batch [350/469], loss_f: 0.03318, loss_G: -0.13021\n",
      "Epoch [2/10], Batch [400/469], loss_f: 0.01820, loss_G: -0.02034\n",
      "Epoch [2/10], Batch [450/469], loss_f: 0.03879, loss_G: -0.03247\n",
      "Epoch [2/10], Batch [469/469], loss_f: 0.01878, loss_G: -0.02297\n",
      "Epoch [3/10], Batch [1/469], loss_f: 0.01972, loss_G: -0.01240\n",
      "Epoch [3/10], Batch [50/469], loss_f: 0.02917, loss_G: -0.02684\n",
      "Epoch [3/10], Batch [100/469], loss_f: 0.01727, loss_G: -0.04830\n",
      "Epoch [3/10], Batch [150/469], loss_f: 0.01777, loss_G: -0.03428\n",
      "Epoch [3/10], Batch [200/469], loss_f: 0.01887, loss_G: -0.00776\n",
      "Epoch [3/10], Batch [250/469], loss_f: 0.02857, loss_G: -0.02329\n",
      "Epoch [3/10], Batch [300/469], loss_f: 0.01091, loss_G: 0.03753\n",
      "Epoch [3/10], Batch [350/469], loss_f: 0.02212, loss_G: 0.00490\n",
      "Epoch [3/10], Batch [400/469], loss_f: 0.02725, loss_G: -0.03766\n",
      "Epoch [3/10], Batch [450/469], loss_f: 0.01935, loss_G: -0.04201\n",
      "Epoch [3/10], Batch [469/469], loss_f: 0.02299, loss_G: -0.05132\n",
      "Epoch [4/10], Batch [1/469], loss_f: 0.04062, loss_G: -0.05873\n",
      "Epoch [4/10], Batch [50/469], loss_f: 0.01610, loss_G: -0.05067\n",
      "Epoch [4/10], Batch [100/469], loss_f: 0.01285, loss_G: -0.02944\n",
      "Epoch [4/10], Batch [150/469], loss_f: 0.02543, loss_G: 0.06999\n",
      "Epoch [4/10], Batch [200/469], loss_f: 0.00993, loss_G: -0.07216\n",
      "Epoch [4/10], Batch [250/469], loss_f: 0.01761, loss_G: -0.01505\n",
      "Epoch [4/10], Batch [300/469], loss_f: 0.01630, loss_G: 0.01887\n",
      "Epoch [4/10], Batch [350/469], loss_f: 0.01340, loss_G: -0.03580\n",
      "Epoch [4/10], Batch [400/469], loss_f: 0.01762, loss_G: 0.05870\n",
      "Epoch [4/10], Batch [450/469], loss_f: 0.01725, loss_G: 0.03017\n",
      "Epoch [4/10], Batch [469/469], loss_f: 0.02313, loss_G: 0.09067\n",
      "Epoch [5/10], Batch [1/469], loss_f: 0.02995, loss_G: 0.07538\n",
      "Epoch [5/10], Batch [50/469], loss_f: -0.00220, loss_G: 0.02000\n",
      "Epoch [5/10], Batch [100/469], loss_f: 0.01093, loss_G: 0.07027\n",
      "Epoch [5/10], Batch [150/469], loss_f: 0.01673, loss_G: 0.06145\n",
      "Epoch [5/10], Batch [200/469], loss_f: 0.00607, loss_G: 0.04256\n",
      "Epoch [5/10], Batch [250/469], loss_f: 0.00517, loss_G: 0.03727\n",
      "Epoch [5/10], Batch [300/469], loss_f: 0.02077, loss_G: 0.10082\n",
      "Epoch [5/10], Batch [350/469], loss_f: 0.03083, loss_G: 0.12577\n",
      "Epoch [5/10], Batch [400/469], loss_f: 0.00687, loss_G: 0.07511\n",
      "Epoch [5/10], Batch [450/469], loss_f: 0.00849, loss_G: 0.12943\n",
      "Epoch [5/10], Batch [469/469], loss_f: 0.01602, loss_G: 0.06007\n",
      "Epoch [6/10], Batch [1/469], loss_f: 0.01345, loss_G: 0.07130\n",
      "Epoch [6/10], Batch [50/469], loss_f: 0.01281, loss_G: 0.06529\n",
      "Epoch [6/10], Batch [100/469], loss_f: 0.02733, loss_G: -0.03964\n",
      "Epoch [6/10], Batch [150/469], loss_f: 0.02346, loss_G: 0.20503\n",
      "Epoch [6/10], Batch [200/469], loss_f: 0.02257, loss_G: 0.15940\n",
      "Epoch [6/10], Batch [250/469], loss_f: 0.01822, loss_G: 0.08298\n",
      "Epoch [6/10], Batch [300/469], loss_f: 0.01887, loss_G: 0.20664\n",
      "Epoch [6/10], Batch [350/469], loss_f: 0.04050, loss_G: 0.13374\n",
      "Epoch [6/10], Batch [400/469], loss_f: 0.01288, loss_G: 0.19380\n",
      "Epoch [6/10], Batch [450/469], loss_f: 0.05834, loss_G: 0.17438\n",
      "Epoch [6/10], Batch [469/469], loss_f: 0.01182, loss_G: 0.18797\n",
      "Epoch [7/10], Batch [1/469], loss_f: 0.01014, loss_G: 0.19899\n",
      "Epoch [7/10], Batch [50/469], loss_f: 0.01532, loss_G: 0.19599\n",
      "Epoch [7/10], Batch [100/469], loss_f: 0.02016, loss_G: 0.18827\n",
      "Epoch [7/10], Batch [150/469], loss_f: 0.00800, loss_G: 0.13023\n",
      "Epoch [7/10], Batch [200/469], loss_f: 0.01679, loss_G: 0.12853\n",
      "Epoch [7/10], Batch [250/469], loss_f: 0.01831, loss_G: 0.21044\n",
      "Epoch [7/10], Batch [300/469], loss_f: 0.01534, loss_G: 0.22728\n",
      "Epoch [7/10], Batch [350/469], loss_f: 0.01862, loss_G: 0.13007\n",
      "Epoch [7/10], Batch [400/469], loss_f: 0.00595, loss_G: 0.11745\n",
      "Epoch [7/10], Batch [450/469], loss_f: 0.00375, loss_G: 0.15562\n",
      "Epoch [7/10], Batch [469/469], loss_f: 0.00853, loss_G: 0.19817\n",
      "Epoch [8/10], Batch [1/469], loss_f: 0.00701, loss_G: 0.16471\n",
      "Epoch [8/10], Batch [50/469], loss_f: 0.01836, loss_G: 0.23458\n",
      "Epoch [8/10], Batch [100/469], loss_f: 0.00367, loss_G: 0.32213\n",
      "Epoch [8/10], Batch [150/469], loss_f: 0.01186, loss_G: 0.34651\n",
      "Epoch [8/10], Batch [200/469], loss_f: 0.02381, loss_G: 0.25117\n",
      "Epoch [8/10], Batch [250/469], loss_f: 0.01314, loss_G: 0.31891\n",
      "Epoch [8/10], Batch [300/469], loss_f: 0.01410, loss_G: 0.22822\n",
      "Epoch [8/10], Batch [350/469], loss_f: 0.01709, loss_G: 0.24674\n",
      "Epoch [8/10], Batch [400/469], loss_f: 0.01063, loss_G: 0.19580\n",
      "Epoch [8/10], Batch [450/469], loss_f: 0.00972, loss_G: 0.26572\n",
      "Epoch [8/10], Batch [469/469], loss_f: 0.01025, loss_G: 0.28341\n",
      "Epoch [9/10], Batch [1/469], loss_f: 0.00875, loss_G: 0.25559\n",
      "Epoch [9/10], Batch [50/469], loss_f: 0.01769, loss_G: 0.31114\n",
      "Epoch [9/10], Batch [100/469], loss_f: 0.00846, loss_G: 0.30004\n",
      "Epoch [9/10], Batch [150/469], loss_f: 0.01664, loss_G: 0.31379\n",
      "Epoch [9/10], Batch [200/469], loss_f: 0.00037, loss_G: 0.26901\n",
      "Epoch [9/10], Batch [250/469], loss_f: -0.00041, loss_G: 0.27975\n",
      "Epoch [9/10], Batch [300/469], loss_f: 0.01078, loss_G: 0.31724\n",
      "Epoch [9/10], Batch [350/469], loss_f: 0.00849, loss_G: 0.29781\n",
      "Epoch [9/10], Batch [400/469], loss_f: 0.01462, loss_G: 0.33841\n",
      "Epoch [9/10], Batch [450/469], loss_f: 0.00931, loss_G: 0.39669\n",
      "Epoch [9/10], Batch [469/469], loss_f: 0.01781, loss_G: 0.35143\n",
      "Epoch [10/10], Batch [1/469], loss_f: 0.00695, loss_G: 0.37994\n",
      "Epoch [10/10], Batch [50/469], loss_f: 0.00778, loss_G: 0.41592\n",
      "Epoch [10/10], Batch [100/469], loss_f: 0.01224, loss_G: 0.35904\n",
      "Epoch [10/10], Batch [150/469], loss_f: 0.01456, loss_G: 0.32447\n",
      "Epoch [10/10], Batch [200/469], loss_f: 0.00089, loss_G: 0.36183\n",
      "Epoch [10/10], Batch [250/469], loss_f: 0.01214, loss_G: 0.40882\n",
      "Epoch [10/10], Batch [300/469], loss_f: 0.02835, loss_G: 0.41682\n",
      "Epoch [10/10], Batch [350/469], loss_f: 0.00870, loss_G: 0.40794\n",
      "Epoch [10/10], Batch [400/469], loss_f: 0.01541, loss_G: 0.44364\n",
      "Epoch [10/10], Batch [450/469], loss_f: 0.01081, loss_G: 0.39873\n",
      "Epoch [10/10], Batch [469/469], loss_f: 0.01357, loss_G: 0.40902\n"
     ]
    },
    {
     "data": {
      "image/png": "[encoded data removed]",
      "text/plain": [
       "<Figure size 432x288 with 1 Axes>"
      ]
     },
     "metadata": {
      "needs_background": "light"
     },
     "output_type": "display_data"
    },
    {
     "data": {
      "image/png": "[encoded data removed]",
      "text/plain": [
       "<Figure size 72x720 with 10 Axes>"
      ]
     },
     "metadata": {},
     "output_type": "display_data"
    }
   ],
   "source": [
    "###### Experiment 3 ######\n",
    "\n",
    "# ### Hyperparameters ###\n",
    "\n",
    "# # Data loader\n",
    "# batch_size = 128\n",
    "\n",
    "# # Architecture\n",
    "# num_features = 64\n",
    "\n",
    "# # Training\n",
    "# num_epochs = 10\n",
    "# num_steps = (1, 5)  # Critic to generator training ratio\n",
    "# lambda_gp = 1       # Gradient penalty constant\n",
    "\n",
    "# # Optimizer\n",
    "# optim_kwargs = dict(\n",
    "#     lr = 2e-4,\n",
    "#     momentum = 0.5,\n",
    "# )"
   ]
  },
  {
   "cell_type": "markdown",
   "id": "22155fbc",
   "metadata": {},
   "source": [
    "#### Experiment 2"
   ]
  },
  {
   "cell_type": "code",
   "execution_count": 13,
   "id": "17391526",
   "metadata": {
    "scrolled": true
   },
   "outputs": [
    {
     "name": "stdout",
     "output_type": "stream",
     "text": [
      "seed: 39840254182600\n"
     ]
    },
    {
     "data": {
      "application/vnd.jupyter.widget-view+json": {
       "model_id": "6f5f1a54615c4945add0f1121586721d",
       "version_major": 2,
       "version_minor": 0
      },
      "text/plain": [
       "epoch:   0%|          | 0/100 [00:00<?, ?it/s]"
      ]
     },
     "metadata": {},
     "output_type": "display_data"
    },
    {
     "data": {
      "application/vnd.jupyter.widget-view+json": {
       "model_id": "0065e1e5c7954222a8e2608249fa2a06",
       "version_major": 2,
       "version_minor": 0
      },
      "text/plain": [
       "steps_f:   0%|          | 0/469 [00:00<?, ?it/s]"
      ]
     },
     "metadata": {},
     "output_type": "display_data"
    },
    {
     "data": {
      "application/vnd.jupyter.widget-view+json": {
       "model_id": "3b38f31b790d4493a693fef779446cc3",
       "version_major": 2,
       "version_minor": 0
      },
      "text/plain": [
       "steps_G:   0%|          | 0/625 [00:00<?, ?it/s]"
      ]
     },
     "metadata": {},
     "output_type": "display_data"
    },
    {
     "name": "stdout",
     "output_type": "stream",
     "text": [
      "Epoch [1/100], Batch [3/469], loss_f: 23.86836, loss_G: -0.27143\n",
      "Epoch [1/100], Batch [50/469], loss_f: 2.75827, loss_G: 0.07231\n",
      "Epoch [1/100], Batch [100/469], loss_f: 0.18489, loss_G: 0.01906\n",
      "Epoch [1/100], Batch [150/469], loss_f: -0.06775, loss_G: -0.06028\n",
      "Epoch [1/100], Batch [200/469], loss_f: -0.05509, loss_G: -0.11416\n",
      "Epoch [1/100], Batch [250/469], loss_f: -0.05347, loss_G: -0.16329\n",
      "Epoch [1/100], Batch [300/469], loss_f: -0.04205, loss_G: -0.14953\n",
      "Epoch [1/100], Batch [350/469], loss_f: -0.02487, loss_G: -0.15590\n",
      "Epoch [1/100], Batch [400/469], loss_f: -0.04213, loss_G: -0.16567\n",
      "Epoch [1/100], Batch [450/469], loss_f: -0.03473, loss_G: -0.18755\n",
      "Epoch [1/100], Batch [469/469], loss_f: -0.02932, loss_G: -0.13721\n",
      "Epoch [2/100], Batch [3/469], loss_f: -0.05801, loss_G: -0.17034\n",
      "Epoch [2/100], Batch [50/469], loss_f: -0.04112, loss_G: -0.17719\n",
      "Epoch [2/100], Batch [100/469], loss_f: -0.01963, loss_G: -0.13450\n",
      "Epoch [2/100], Batch [150/469], loss_f: -0.05084, loss_G: -0.17779\n",
      "Epoch [2/100], Batch [200/469], loss_f: -0.02387, loss_G: -0.08442\n",
      "Epoch [2/100], Batch [250/469], loss_f: -0.02446, loss_G: -0.10612\n",
      "Epoch [2/100], Batch [300/469], loss_f: -0.04185, loss_G: -0.06462\n",
      "Epoch [2/100], Batch [350/469], loss_f: -0.02313, loss_G: -0.03310\n",
      "Epoch [2/100], Batch [400/469], loss_f: -0.02610, loss_G: -0.05403\n",
      "Epoch [2/100], Batch [450/469], loss_f: -0.04396, loss_G: 0.03172\n",
      "Epoch [2/100], Batch [469/469], loss_f: -0.03421, loss_G: -0.04090\n",
      "Epoch [3/100], Batch [3/469], loss_f: -0.04169, loss_G: 0.00485\n",
      "Epoch [3/100], Batch [50/469], loss_f: -0.02028, loss_G: -0.04756\n",
      "Epoch [3/100], Batch [100/469], loss_f: -0.00355, loss_G: -0.03138\n",
      "Epoch [3/100], Batch [150/469], loss_f: -0.04758, loss_G: 0.08415\n",
      "Epoch [3/100], Batch [200/469], loss_f: -0.02777, loss_G: 0.05641\n",
      "Epoch [3/100], Batch [250/469], loss_f: -0.01867, loss_G: 0.01213\n",
      "Epoch [3/100], Batch [300/469], loss_f: -0.04369, loss_G: 0.23368\n",
      "Epoch [3/100], Batch [350/469], loss_f: -0.02938, loss_G: 0.09075\n",
      "Epoch [3/100], Batch [400/469], loss_f: -0.00513, loss_G: 0.07946\n",
      "Epoch [3/100], Batch [450/469], loss_f: -0.02906, loss_G: 0.12920\n",
      "Epoch [3/100], Batch [469/469], loss_f: -0.01007, loss_G: 0.13476\n",
      "Epoch [4/100], Batch [3/469], loss_f: -0.05995, loss_G: 0.10902\n",
      "Epoch [4/100], Batch [50/469], loss_f: -0.01543, loss_G: 0.13166\n",
      "Epoch [4/100], Batch [100/469], loss_f: -0.01229, loss_G: 0.16872\n",
      "Epoch [4/100], Batch [150/469], loss_f: -0.05887, loss_G: 0.09167\n",
      "Epoch [4/100], Batch [200/469], loss_f: -0.02928, loss_G: 0.23742\n",
      "Epoch [4/100], Batch [250/469], loss_f: -0.00314, loss_G: 0.20845\n",
      "Epoch [4/100], Batch [300/469], loss_f: -0.02350, loss_G: 0.13434\n",
      "Epoch [4/100], Batch [350/469], loss_f: -0.00777, loss_G: 0.25255\n",
      "Epoch [4/100], Batch [400/469], loss_f: -0.03988, loss_G: 0.25436\n",
      "Epoch [4/100], Batch [450/469], loss_f: -0.03902, loss_G: 0.12733\n",
      "Epoch [4/100], Batch [469/469], loss_f: -0.02095, loss_G: 0.27166\n",
      "Epoch [5/100], Batch [3/469], loss_f: -0.04439, loss_G: 0.20992\n",
      "Epoch [5/100], Batch [50/469], loss_f: -0.02328, loss_G: 0.18004\n",
      "Epoch [5/100], Batch [100/469], loss_f: -0.02022, loss_G: 0.26342\n",
      "Epoch [5/100], Batch [150/469], loss_f: -0.03318, loss_G: 0.19304\n",
      "Epoch [5/100], Batch [200/469], loss_f: -0.00911, loss_G: 0.24025\n",
      "Epoch [5/100], Batch [250/469], loss_f: 0.00042, loss_G: 0.24908\n",
      "Epoch [5/100], Batch [300/469], loss_f: -0.04849, loss_G: 0.23370\n",
      "Epoch [5/100], Batch [350/469], loss_f: -0.02160, loss_G: 0.18636\n",
      "Epoch [5/100], Batch [400/469], loss_f: -0.00911, loss_G: 0.21054\n",
      "Epoch [5/100], Batch [450/469], loss_f: -0.03764, loss_G: 0.19466\n",
      "Epoch [5/100], Batch [469/469], loss_f: 0.00068, loss_G: 0.28650\n",
      "Epoch [6/100], Batch [3/469], loss_f: -0.01225, loss_G: 0.28296\n",
      "Epoch [6/100], Batch [50/469], loss_f: -0.02310, loss_G: 0.13813\n",
      "Epoch [6/100], Batch [100/469], loss_f: 0.00830, loss_G: 0.18592\n",
      "Epoch [6/100], Batch [150/469], loss_f: -0.03745, loss_G: 0.25864\n",
      "Epoch [6/100], Batch [200/469], loss_f: -0.00491, loss_G: 0.16655\n",
      "Epoch [6/100], Batch [250/469], loss_f: -0.00951, loss_G: 0.21661\n",
      "Epoch [6/100], Batch [300/469], loss_f: -0.02542, loss_G: 0.28464\n",
      "Epoch [6/100], Batch [350/469], loss_f: -0.02416, loss_G: 0.33036\n",
      "Epoch [6/100], Batch [400/469], loss_f: -0.00884, loss_G: 0.18491\n",
      "Epoch [6/100], Batch [450/469], loss_f: -0.04041, loss_G: 0.33732\n",
      "Epoch [6/100], Batch [469/469], loss_f: -0.00473, loss_G: 0.27935\n",
      "Epoch [7/100], Batch [3/469], loss_f: -0.04640, loss_G: 0.30413\n",
      "Epoch [7/100], Batch [50/469], loss_f: -0.01797, loss_G: 0.38874\n",
      "Epoch [7/100], Batch [100/469], loss_f: -0.03616, loss_G: 0.32318\n",
      "Epoch [7/100], Batch [150/469], loss_f: -0.02288, loss_G: 0.31171\n",
      "Epoch [7/100], Batch [200/469], loss_f: -0.03123, loss_G: 0.32046\n",
      "Epoch [7/100], Batch [250/469], loss_f: -0.00233, loss_G: 0.26759\n",
      "Epoch [7/100], Batch [300/469], loss_f: -0.02770, loss_G: 0.34600\n",
      "Epoch [7/100], Batch [350/469], loss_f: -0.00925, loss_G: 0.33582\n",
      "Epoch [7/100], Batch [400/469], loss_f: -0.00635, loss_G: 0.32570\n",
      "Epoch [7/100], Batch [450/469], loss_f: -0.01317, loss_G: 0.31607\n",
      "Epoch [7/100], Batch [469/469], loss_f: 0.00130, loss_G: 0.31843\n",
      "Epoch [8/100], Batch [3/469], loss_f: -0.02177, loss_G: 0.33315\n",
      "Epoch [8/100], Batch [50/469], loss_f: -0.03096, loss_G: 0.30598\n",
      "Epoch [8/100], Batch [100/469], loss_f: -0.00851, loss_G: 0.18746\n",
      "Epoch [8/100], Batch [150/469], loss_f: -0.03734, loss_G: 0.37450\n",
      "Epoch [8/100], Batch [200/469], loss_f: -0.00779, loss_G: 0.30798\n",
      "Epoch [8/100], Batch [250/469], loss_f: 0.01000, loss_G: 0.24843\n",
      "Epoch [8/100], Batch [300/469], loss_f: -0.02169, loss_G: 0.26854\n",
      "Epoch [8/100], Batch [350/469], loss_f: -0.02960, loss_G: 0.43028\n",
      "Epoch [8/100], Batch [400/469], loss_f: -0.01736, loss_G: 0.23925\n",
      "Epoch [8/100], Batch [450/469], loss_f: -0.03007, loss_G: 0.30181\n",
      "Epoch [8/100], Batch [469/469], loss_f: -0.00851, loss_G: 0.30604\n",
      "Epoch [9/100], Batch [3/469], loss_f: -0.05433, loss_G: 0.30547\n",
      "Epoch [9/100], Batch [50/469], loss_f: -0.02491, loss_G: 0.34759\n",
      "Epoch [9/100], Batch [100/469], loss_f: -0.03140, loss_G: 0.37414\n",
      "Epoch [9/100], Batch [150/469], loss_f: -0.03098, loss_G: 0.24875\n",
      "Epoch [9/100], Batch [200/469], loss_f: -0.02465, loss_G: 0.40362\n",
      "Epoch [9/100], Batch [250/469], loss_f: -0.02260, loss_G: 0.15716\n",
      "Epoch [9/100], Batch [300/469], loss_f: -0.02997, loss_G: 0.28133\n",
      "Epoch [9/100], Batch [350/469], loss_f: -0.03721, loss_G: 0.22842\n",
      "Epoch [9/100], Batch [400/469], loss_f: -0.01273, loss_G: 0.22647\n",
      "Epoch [9/100], Batch [450/469], loss_f: -0.02911, loss_G: 0.27293\n",
      "Epoch [9/100], Batch [469/469], loss_f: -0.01550, loss_G: 0.29845\n",
      "Epoch [10/100], Batch [3/469], loss_f: -0.05968, loss_G: 0.37828\n",
      "Epoch [10/100], Batch [50/469], loss_f: -0.04559, loss_G: 0.40074\n",
      "Epoch [10/100], Batch [100/469], loss_f: -0.04391, loss_G: 0.26169\n",
      "Epoch [10/100], Batch [150/469], loss_f: -0.05006, loss_G: 0.36179\n",
      "Epoch [10/100], Batch [200/469], loss_f: -0.02176, loss_G: 0.33930\n",
      "Epoch [10/100], Batch [250/469], loss_f: -0.01101, loss_G: 0.39318\n",
      "Epoch [10/100], Batch [300/469], loss_f: -0.03831, loss_G: 0.36271\n",
      "Epoch [10/100], Batch [350/469], loss_f: -0.02050, loss_G: 0.39728\n",
      "Epoch [10/100], Batch [400/469], loss_f: -0.02008, loss_G: 0.33739\n",
      "Epoch [10/100], Batch [450/469], loss_f: -0.02361, loss_G: 0.38134\n",
      "Epoch [10/100], Batch [469/469], loss_f: -0.03375, loss_G: 0.26540\n",
      "Epoch [11/100], Batch [3/469], loss_f: -0.05592, loss_G: 0.30524\n",
      "Epoch [11/100], Batch [50/469], loss_f: -0.00511, loss_G: 0.33203\n",
      "Epoch [11/100], Batch [100/469], loss_f: -0.02500, loss_G: 0.27673\n",
      "Epoch [11/100], Batch [150/469], loss_f: -0.03524, loss_G: 0.27453\n",
      "Epoch [11/100], Batch [200/469], loss_f: -0.01262, loss_G: 0.26172\n",
      "Epoch [11/100], Batch [250/469], loss_f: -0.04836, loss_G: 0.32260\n",
      "Epoch [11/100], Batch [300/469], loss_f: -0.02847, loss_G: 0.31336\n",
      "Epoch [11/100], Batch [350/469], loss_f: -0.05478, loss_G: 0.34519\n",
      "Epoch [11/100], Batch [400/469], loss_f: 0.00504, loss_G: 0.42244\n",
      "Epoch [11/100], Batch [450/469], loss_f: -0.02713, loss_G: 0.32343\n",
      "Epoch [11/100], Batch [469/469], loss_f: -0.03502, loss_G: 0.32567\n",
      "Epoch [12/100], Batch [3/469], loss_f: -0.05269, loss_G: 0.31917\n",
      "Epoch [12/100], Batch [50/469], loss_f: -0.01577, loss_G: 0.32878\n",
      "Epoch [12/100], Batch [100/469], loss_f: -0.00825, loss_G: 0.23934\n",
      "Epoch [12/100], Batch [150/469], loss_f: -0.01449, loss_G: 0.30375\n"
     ]
    },
    {
     "name": "stdout",
     "output_type": "stream",
     "text": [
      "Epoch [12/100], Batch [200/469], loss_f: -0.02483, loss_G: 0.28511\n",
      "Epoch [12/100], Batch [250/469], loss_f: -0.02024, loss_G: 0.22196\n",
      "Epoch [12/100], Batch [300/469], loss_f: -0.02351, loss_G: 0.38748\n",
      "Epoch [12/100], Batch [350/469], loss_f: -0.01548, loss_G: 0.26290\n",
      "Epoch [12/100], Batch [400/469], loss_f: -0.01928, loss_G: 0.32700\n",
      "Epoch [12/100], Batch [450/469], loss_f: -0.01383, loss_G: 0.27833\n",
      "Epoch [12/100], Batch [469/469], loss_f: -0.01390, loss_G: 0.27347\n",
      "Epoch [13/100], Batch [3/469], loss_f: -0.04449, loss_G: 0.29237\n",
      "Epoch [13/100], Batch [50/469], loss_f: -0.01076, loss_G: 0.40420\n",
      "Epoch [13/100], Batch [100/469], loss_f: -0.03217, loss_G: 0.39627\n",
      "Epoch [13/100], Batch [150/469], loss_f: -0.04583, loss_G: 0.43851\n",
      "Epoch [13/100], Batch [200/469], loss_f: -0.02010, loss_G: 0.29967\n",
      "Epoch [13/100], Batch [250/469], loss_f: -0.02620, loss_G: 0.28062\n",
      "Epoch [13/100], Batch [300/469], loss_f: -0.01771, loss_G: 0.39728\n",
      "Epoch [13/100], Batch [350/469], loss_f: -0.01254, loss_G: 0.22322\n",
      "Epoch [13/100], Batch [400/469], loss_f: -0.00004, loss_G: 0.27945\n",
      "Epoch [13/100], Batch [450/469], loss_f: -0.02177, loss_G: 0.20512\n",
      "Epoch [13/100], Batch [469/469], loss_f: -0.01844, loss_G: 0.35052\n",
      "Epoch [14/100], Batch [3/469], loss_f: -0.03553, loss_G: 0.25017\n",
      "Epoch [14/100], Batch [50/469], loss_f: -0.02096, loss_G: 0.26783\n",
      "Epoch [14/100], Batch [100/469], loss_f: -0.02446, loss_G: 0.32917\n",
      "Epoch [14/100], Batch [150/469], loss_f: -0.03479, loss_G: 0.36730\n",
      "Epoch [14/100], Batch [200/469], loss_f: -0.03236, loss_G: 0.28660\n",
      "Epoch [14/100], Batch [250/469], loss_f: 0.01123, loss_G: 0.30030\n",
      "Epoch [14/100], Batch [300/469], loss_f: -0.05847, loss_G: 0.37366\n",
      "Epoch [14/100], Batch [350/469], loss_f: -0.02293, loss_G: 0.27114\n",
      "Epoch [14/100], Batch [400/469], loss_f: -0.02075, loss_G: 0.34911\n",
      "Epoch [14/100], Batch [450/469], loss_f: -0.02597, loss_G: 0.34445\n",
      "Epoch [14/100], Batch [469/469], loss_f: -0.02090, loss_G: 0.35665\n",
      "Epoch [15/100], Batch [3/469], loss_f: -0.05615, loss_G: 0.33099\n",
      "Epoch [15/100], Batch [50/469], loss_f: -0.01038, loss_G: 0.31530\n",
      "Epoch [15/100], Batch [100/469], loss_f: -0.02057, loss_G: 0.36083\n",
      "Epoch [15/100], Batch [150/469], loss_f: -0.02653, loss_G: 0.29592\n",
      "Epoch [15/100], Batch [200/469], loss_f: -0.02233, loss_G: 0.24921\n",
      "Epoch [15/100], Batch [250/469], loss_f: -0.02293, loss_G: 0.37956\n",
      "Epoch [15/100], Batch [300/469], loss_f: -0.03991, loss_G: 0.34164\n",
      "Epoch [15/100], Batch [350/469], loss_f: -0.02573, loss_G: 0.33365\n",
      "Epoch [15/100], Batch [400/469], loss_f: -0.02352, loss_G: 0.27953\n",
      "Epoch [15/100], Batch [450/469], loss_f: -0.04302, loss_G: 0.37638\n",
      "Epoch [15/100], Batch [469/469], loss_f: -0.01568, loss_G: 0.40342\n",
      "Epoch [16/100], Batch [3/469], loss_f: -0.01984, loss_G: 0.37730\n",
      "Epoch [16/100], Batch [50/469], loss_f: -0.02163, loss_G: 0.28935\n",
      "Epoch [16/100], Batch [100/469], loss_f: -0.00718, loss_G: 0.35415\n",
      "Epoch [16/100], Batch [150/469], loss_f: -0.04750, loss_G: 0.39474\n",
      "Epoch [16/100], Batch [200/469], loss_f: -0.01861, loss_G: 0.37693\n",
      "Epoch [16/100], Batch [250/469], loss_f: -0.02303, loss_G: 0.34355\n",
      "Epoch [16/100], Batch [300/469], loss_f: -0.02909, loss_G: 0.31346\n",
      "Epoch [16/100], Batch [350/469], loss_f: 0.00718, loss_G: 0.35432\n",
      "Epoch [16/100], Batch [400/469], loss_f: -0.02938, loss_G: 0.42587\n",
      "Epoch [16/100], Batch [450/469], loss_f: -0.04410, loss_G: 0.38229\n",
      "Epoch [16/100], Batch [469/469], loss_f: -0.01377, loss_G: 0.34752\n",
      "Epoch [17/100], Batch [3/469], loss_f: -0.03969, loss_G: 0.36263\n",
      "Epoch [17/100], Batch [50/469], loss_f: -0.02748, loss_G: 0.36493\n",
      "Epoch [17/100], Batch [100/469], loss_f: -0.00673, loss_G: 0.36040\n",
      "Epoch [17/100], Batch [150/469], loss_f: -0.02383, loss_G: 0.41691\n",
      "Epoch [17/100], Batch [200/469], loss_f: -0.03018, loss_G: 0.41479\n",
      "Epoch [17/100], Batch [250/469], loss_f: -0.03323, loss_G: 0.47648\n",
      "Epoch [17/100], Batch [300/469], loss_f: -0.03400, loss_G: 0.26396\n",
      "Epoch [17/100], Batch [350/469], loss_f: -0.02886, loss_G: 0.41105\n",
      "Epoch [17/100], Batch [400/469], loss_f: -0.04443, loss_G: 0.43205\n",
      "Epoch [17/100], Batch [450/469], loss_f: -0.02781, loss_G: 0.42548\n",
      "Epoch [17/100], Batch [469/469], loss_f: -0.03298, loss_G: 0.46649\n",
      "Epoch [18/100], Batch [3/469], loss_f: -0.06221, loss_G: 0.47542\n",
      "Epoch [18/100], Batch [50/469], loss_f: -0.01697, loss_G: 0.37056\n",
      "Epoch [18/100], Batch [100/469], loss_f: -0.03190, loss_G: 0.46243\n",
      "Epoch [18/100], Batch [150/469], loss_f: -0.03053, loss_G: 0.54607\n",
      "Epoch [18/100], Batch [200/469], loss_f: -0.01952, loss_G: 0.44351\n",
      "Epoch [18/100], Batch [250/469], loss_f: -0.01845, loss_G: 0.53464\n",
      "Epoch [18/100], Batch [300/469], loss_f: -0.02397, loss_G: 0.42667\n",
      "Epoch [18/100], Batch [350/469], loss_f: -0.02694, loss_G: 0.39730\n",
      "Epoch [18/100], Batch [400/469], loss_f: -0.04063, loss_G: 0.40569\n",
      "Epoch [18/100], Batch [450/469], loss_f: -0.03863, loss_G: 0.40961\n",
      "Epoch [18/100], Batch [469/469], loss_f: -0.01406, loss_G: 0.49538\n",
      "Epoch [19/100], Batch [3/469], loss_f: -0.02153, loss_G: 0.48095\n",
      "Epoch [19/100], Batch [50/469], loss_f: -0.02543, loss_G: 0.54869\n",
      "Epoch [19/100], Batch [100/469], loss_f: -0.01252, loss_G: 0.43089\n",
      "Epoch [19/100], Batch [150/469], loss_f: -0.03676, loss_G: 0.52767\n",
      "Epoch [19/100], Batch [200/469], loss_f: -0.02732, loss_G: 0.52937\n",
      "Epoch [19/100], Batch [250/469], loss_f: -0.02276, loss_G: 0.36719\n",
      "Epoch [19/100], Batch [300/469], loss_f: -0.03049, loss_G: 0.50593\n",
      "Epoch [19/100], Batch [350/469], loss_f: -0.04380, loss_G: 0.42937\n",
      "Epoch [19/100], Batch [400/469], loss_f: -0.02228, loss_G: 0.45037\n",
      "Epoch [19/100], Batch [450/469], loss_f: -0.03409, loss_G: 0.51545\n",
      "Epoch [19/100], Batch [469/469], loss_f: -0.01805, loss_G: 0.40707\n",
      "Epoch [20/100], Batch [3/469], loss_f: -0.04621, loss_G: 0.37846\n",
      "Epoch [20/100], Batch [50/469], loss_f: -0.02287, loss_G: 0.36523\n",
      "Epoch [20/100], Batch [100/469], loss_f: -0.00859, loss_G: 0.42027\n",
      "Epoch [20/100], Batch [150/469], loss_f: -0.01313, loss_G: 0.56271\n",
      "Epoch [20/100], Batch [200/469], loss_f: -0.00417, loss_G: 0.51438\n",
      "Epoch [20/100], Batch [250/469], loss_f: -0.03345, loss_G: 0.49121\n",
      "Epoch [20/100], Batch [300/469], loss_f: -0.04152, loss_G: 0.52183\n",
      "Epoch [20/100], Batch [350/469], loss_f: -0.02747, loss_G: 0.55622\n",
      "Epoch [20/100], Batch [400/469], loss_f: -0.02365, loss_G: 0.53722\n",
      "Epoch [20/100], Batch [450/469], loss_f: -0.02831, loss_G: 0.54043\n",
      "Epoch [20/100], Batch [469/469], loss_f: -0.02540, loss_G: 0.51069\n",
      "Epoch [21/100], Batch [3/469], loss_f: -0.03938, loss_G: 0.46727\n",
      "Epoch [21/100], Batch [50/469], loss_f: -0.03072, loss_G: 0.50969\n",
      "Epoch [21/100], Batch [100/469], loss_f: 0.00123, loss_G: 0.53749\n",
      "Epoch [21/100], Batch [150/469], loss_f: -0.02764, loss_G: 0.55075\n",
      "Epoch [21/100], Batch [200/469], loss_f: -0.03173, loss_G: 0.51666\n",
      "Epoch [21/100], Batch [250/469], loss_f: -0.01974, loss_G: 0.47739\n",
      "Epoch [21/100], Batch [300/469], loss_f: -0.01364, loss_G: 0.57200\n",
      "Epoch [21/100], Batch [350/469], loss_f: -0.02539, loss_G: 0.54156\n",
      "Epoch [21/100], Batch [400/469], loss_f: -0.00850, loss_G: 0.53170\n",
      "Epoch [21/100], Batch [450/469], loss_f: -0.03794, loss_G: 0.64070\n",
      "Epoch [21/100], Batch [469/469], loss_f: -0.00189, loss_G: 0.54203\n",
      "Epoch [22/100], Batch [3/469], loss_f: -0.03402, loss_G: 0.47077\n",
      "Epoch [22/100], Batch [50/469], loss_f: -0.02454, loss_G: 0.50732\n",
      "Epoch [22/100], Batch [100/469], loss_f: -0.01535, loss_G: 0.54958\n",
      "Epoch [22/100], Batch [150/469], loss_f: -0.02964, loss_G: 0.70197\n",
      "Epoch [22/100], Batch [200/469], loss_f: -0.04098, loss_G: 0.64657\n",
      "Epoch [22/100], Batch [250/469], loss_f: -0.03200, loss_G: 0.50826\n",
      "Epoch [22/100], Batch [300/469], loss_f: -0.03327, loss_G: 0.55405\n",
      "Epoch [22/100], Batch [350/469], loss_f: -0.04624, loss_G: 0.59979\n",
      "Epoch [22/100], Batch [400/469], loss_f: -0.02940, loss_G: 0.64976\n",
      "Epoch [22/100], Batch [450/469], loss_f: -0.03021, loss_G: 0.61387\n",
      "Epoch [22/100], Batch [469/469], loss_f: -0.01453, loss_G: 0.59484\n",
      "Epoch [23/100], Batch [3/469], loss_f: -0.04177, loss_G: 0.57932\n",
      "Epoch [23/100], Batch [50/469], loss_f: -0.03594, loss_G: 0.62060\n",
      "Epoch [23/100], Batch [100/469], loss_f: -0.03403, loss_G: 0.58318\n",
      "Epoch [23/100], Batch [150/469], loss_f: -0.03247, loss_G: 0.59685\n",
      "Epoch [23/100], Batch [200/469], loss_f: -0.01376, loss_G: 0.60839\n",
      "Epoch [23/100], Batch [250/469], loss_f: -0.01626, loss_G: 0.62847\n"
     ]
    },
    {
     "name": "stdout",
     "output_type": "stream",
     "text": [
      "Epoch [23/100], Batch [300/469], loss_f: -0.02982, loss_G: 0.64457\n",
      "Epoch [23/100], Batch [350/469], loss_f: -0.01602, loss_G: 0.65439\n",
      "Epoch [23/100], Batch [400/469], loss_f: -0.01844, loss_G: 0.65828\n",
      "Epoch [23/100], Batch [450/469], loss_f: -0.03604, loss_G: 0.67003\n",
      "Epoch [23/100], Batch [469/469], loss_f: -0.02582, loss_G: 0.62841\n",
      "Epoch [24/100], Batch [3/469], loss_f: -0.01881, loss_G: 0.63257\n",
      "Epoch [24/100], Batch [50/469], loss_f: -0.01342, loss_G: 0.57091\n",
      "Epoch [24/100], Batch [100/469], loss_f: -0.00876, loss_G: 0.59913\n",
      "Epoch [24/100], Batch [150/469], loss_f: -0.04059, loss_G: 0.67209\n",
      "Epoch [24/100], Batch [200/469], loss_f: -0.01405, loss_G: 0.62123\n",
      "Epoch [24/100], Batch [250/469], loss_f: -0.00698, loss_G: 0.71225\n",
      "Epoch [24/100], Batch [300/469], loss_f: -0.03226, loss_G: 0.69791\n",
      "Epoch [24/100], Batch [350/469], loss_f: -0.03121, loss_G: 0.66290\n",
      "Epoch [24/100], Batch [400/469], loss_f: -0.02536, loss_G: 0.69866\n",
      "Epoch [24/100], Batch [450/469], loss_f: -0.03869, loss_G: 0.73155\n",
      "Epoch [24/100], Batch [469/469], loss_f: -0.00951, loss_G: 0.65804\n",
      "Epoch [25/100], Batch [3/469], loss_f: -0.02686, loss_G: 0.68594\n",
      "Epoch [25/100], Batch [50/469], loss_f: -0.02895, loss_G: 0.73620\n",
      "Epoch [25/100], Batch [100/469], loss_f: -0.01866, loss_G: 0.68000\n",
      "Epoch [25/100], Batch [150/469], loss_f: -0.03825, loss_G: 0.75299\n",
      "Epoch [25/100], Batch [200/469], loss_f: -0.02041, loss_G: 0.79523\n",
      "Epoch [25/100], Batch [250/469], loss_f: -0.00915, loss_G: 0.69827\n",
      "Epoch [25/100], Batch [300/469], loss_f: -0.04066, loss_G: 0.62576\n",
      "Epoch [25/100], Batch [350/469], loss_f: -0.02530, loss_G: 0.68357\n",
      "Epoch [25/100], Batch [400/469], loss_f: -0.00950, loss_G: 0.67090\n",
      "Epoch [25/100], Batch [450/469], loss_f: -0.03739, loss_G: 0.80010\n",
      "Epoch [25/100], Batch [469/469], loss_f: -0.02787, loss_G: 0.79473\n",
      "Epoch [26/100], Batch [3/469], loss_f: -0.04936, loss_G: 0.73862\n",
      "Epoch [26/100], Batch [50/469], loss_f: -0.02139, loss_G: 0.68058\n",
      "Epoch [26/100], Batch [100/469], loss_f: 0.00005, loss_G: 0.68093\n",
      "Epoch [26/100], Batch [150/469], loss_f: -0.03433, loss_G: 0.73264\n",
      "Epoch [26/100], Batch [200/469], loss_f: -0.00449, loss_G: 0.75442\n",
      "Epoch [26/100], Batch [250/469], loss_f: -0.02389, loss_G: 0.84052\n",
      "Epoch [26/100], Batch [300/469], loss_f: -0.02698, loss_G: 0.82294\n",
      "Epoch [26/100], Batch [350/469], loss_f: -0.00128, loss_G: 0.74127\n",
      "Epoch [26/100], Batch [400/469], loss_f: -0.00994, loss_G: 0.80176\n",
      "Epoch [26/100], Batch [450/469], loss_f: -0.04018, loss_G: 0.89217\n",
      "Epoch [26/100], Batch [469/469], loss_f: -0.03973, loss_G: 0.60800\n",
      "Epoch [27/100], Batch [3/469], loss_f: -0.02537, loss_G: 0.56457\n",
      "Epoch [27/100], Batch [50/469], loss_f: -0.01444, loss_G: 0.69640\n",
      "Epoch [27/100], Batch [100/469], loss_f: -0.00556, loss_G: 0.83539\n",
      "Epoch [27/100], Batch [150/469], loss_f: -0.02494, loss_G: 0.73465\n",
      "Epoch [27/100], Batch [200/469], loss_f: -0.01808, loss_G: 0.80949\n",
      "Epoch [27/100], Batch [250/469], loss_f: -0.01753, loss_G: 0.83596\n",
      "Epoch [27/100], Batch [300/469], loss_f: -0.02971, loss_G: 0.82343\n",
      "Epoch [27/100], Batch [350/469], loss_f: -0.01649, loss_G: 0.86524\n",
      "Epoch [27/100], Batch [400/469], loss_f: -0.02211, loss_G: 0.77393\n",
      "Epoch [27/100], Batch [450/469], loss_f: -0.04326, loss_G: 0.77483\n",
      "Epoch [27/100], Batch [469/469], loss_f: -0.02366, loss_G: 0.81974\n",
      "Epoch [28/100], Batch [3/469], loss_f: -0.02994, loss_G: 0.83728\n",
      "Epoch [28/100], Batch [50/469], loss_f: -0.01913, loss_G: 0.89192\n",
      "Epoch [28/100], Batch [100/469], loss_f: 0.00872, loss_G: 0.69519\n",
      "Epoch [28/100], Batch [150/469], loss_f: -0.03721, loss_G: 0.76417\n",
      "Epoch [28/100], Batch [200/469], loss_f: -0.03387, loss_G: 0.78993\n",
      "Epoch [28/100], Batch [250/469], loss_f: -0.01029, loss_G: 0.82613\n",
      "Epoch [28/100], Batch [300/469], loss_f: -0.02602, loss_G: 0.77066\n",
      "Epoch [28/100], Batch [350/469], loss_f: -0.03954, loss_G: 0.86803\n",
      "Epoch [28/100], Batch [400/469], loss_f: -0.00818, loss_G: 0.81109\n",
      "Epoch [28/100], Batch [450/469], loss_f: -0.01601, loss_G: 0.90380\n",
      "Epoch [28/100], Batch [469/469], loss_f: -0.00919, loss_G: 0.81710\n",
      "Epoch [29/100], Batch [3/469], loss_f: -0.03411, loss_G: 0.82641\n",
      "Epoch [29/100], Batch [50/469], loss_f: -0.01630, loss_G: 0.77944\n",
      "Epoch [29/100], Batch [100/469], loss_f: -0.01661, loss_G: 0.87536\n",
      "Epoch [29/100], Batch [150/469], loss_f: -0.02860, loss_G: 0.81942\n",
      "Epoch [29/100], Batch [200/469], loss_f: -0.01706, loss_G: 0.90309\n",
      "Epoch [29/100], Batch [250/469], loss_f: -0.03636, loss_G: 0.87342\n",
      "Epoch [29/100], Batch [300/469], loss_f: -0.02026, loss_G: 0.81774\n",
      "Epoch [29/100], Batch [350/469], loss_f: -0.02410, loss_G: 0.89719\n",
      "Epoch [29/100], Batch [400/469], loss_f: -0.02634, loss_G: 0.85363\n",
      "Epoch [29/100], Batch [450/469], loss_f: -0.03094, loss_G: 0.70127\n",
      "Epoch [29/100], Batch [469/469], loss_f: -0.01739, loss_G: 0.88035\n",
      "Epoch [30/100], Batch [3/469], loss_f: -0.02841, loss_G: 0.83597\n",
      "Epoch [30/100], Batch [50/469], loss_f: -0.03170, loss_G: 0.92795\n",
      "Epoch [30/100], Batch [100/469], loss_f: -0.01659, loss_G: 0.86700\n",
      "Epoch [30/100], Batch [150/469], loss_f: -0.01904, loss_G: 0.91823\n",
      "Epoch [30/100], Batch [200/469], loss_f: -0.03417, loss_G: 0.90224\n",
      "Epoch [30/100], Batch [250/469], loss_f: -0.00306, loss_G: 0.78443\n",
      "Epoch [30/100], Batch [300/469], loss_f: -0.03406, loss_G: 0.78377\n",
      "Epoch [30/100], Batch [350/469], loss_f: -0.02238, loss_G: 0.82069\n",
      "Epoch [30/100], Batch [400/469], loss_f: -0.03104, loss_G: 0.90570\n",
      "Epoch [30/100], Batch [450/469], loss_f: -0.03278, loss_G: 0.89425\n",
      "Epoch [30/100], Batch [469/469], loss_f: -0.00763, loss_G: 0.94999\n",
      "Epoch [31/100], Batch [3/469], loss_f: -0.03765, loss_G: 0.89384\n",
      "Epoch [31/100], Batch [50/469], loss_f: -0.02852, loss_G: 0.96143\n",
      "Epoch [31/100], Batch [100/469], loss_f: -0.01152, loss_G: 0.97593\n",
      "Epoch [31/100], Batch [150/469], loss_f: -0.03395, loss_G: 0.96347\n",
      "Epoch [31/100], Batch [200/469], loss_f: -0.00918, loss_G: 0.92064\n",
      "Epoch [31/100], Batch [250/469], loss_f: -0.01262, loss_G: 0.87869\n",
      "Epoch [31/100], Batch [300/469], loss_f: -0.03289, loss_G: 1.00928\n",
      "Epoch [31/100], Batch [350/469], loss_f: -0.02916, loss_G: 0.97554\n",
      "Epoch [31/100], Batch [400/469], loss_f: -0.00706, loss_G: 0.89063\n",
      "Epoch [31/100], Batch [450/469], loss_f: -0.03293, loss_G: 0.85270\n",
      "Epoch [31/100], Batch [469/469], loss_f: -0.02422, loss_G: 0.92769\n",
      "Epoch [32/100], Batch [3/469], loss_f: -0.03283, loss_G: 0.96111\n",
      "Epoch [32/100], Batch [50/469], loss_f: -0.00428, loss_G: 0.87381\n",
      "Epoch [32/100], Batch [100/469], loss_f: -0.01505, loss_G: 0.91490\n",
      "Epoch [32/100], Batch [150/469], loss_f: -0.00867, loss_G: 0.95821\n",
      "Epoch [32/100], Batch [200/469], loss_f: -0.02133, loss_G: 0.92362\n",
      "Epoch [32/100], Batch [250/469], loss_f: -0.01794, loss_G: 0.93829\n",
      "Epoch [32/100], Batch [300/469], loss_f: -0.03123, loss_G: 0.94123\n",
      "Epoch [32/100], Batch [350/469], loss_f: -0.02684, loss_G: 0.88939\n",
      "Epoch [32/100], Batch [400/469], loss_f: -0.01505, loss_G: 0.90035\n",
      "Epoch [32/100], Batch [450/469], loss_f: -0.03539, loss_G: 0.97612\n",
      "Epoch [32/100], Batch [469/469], loss_f: -0.01997, loss_G: 0.90806\n",
      "Epoch [33/100], Batch [3/469], loss_f: -0.03514, loss_G: 0.86187\n",
      "Epoch [33/100], Batch [50/469], loss_f: -0.01480, loss_G: 0.98073\n",
      "Epoch [33/100], Batch [100/469], loss_f: -0.01585, loss_G: 0.94017\n",
      "Epoch [33/100], Batch [150/469], loss_f: -0.02868, loss_G: 0.96783\n",
      "Epoch [33/100], Batch [200/469], loss_f: -0.02492, loss_G: 0.94413\n",
      "Epoch [33/100], Batch [250/469], loss_f: -0.01526, loss_G: 0.96059\n",
      "Epoch [33/100], Batch [300/469], loss_f: -0.03147, loss_G: 0.96120\n",
      "Epoch [33/100], Batch [350/469], loss_f: -0.02139, loss_G: 1.04783\n",
      "Epoch [33/100], Batch [400/469], loss_f: -0.01906, loss_G: 1.01027\n",
      "Epoch [33/100], Batch [450/469], loss_f: -0.04801, loss_G: 1.00740\n",
      "Epoch [33/100], Batch [469/469], loss_f: -0.04069, loss_G: 1.03482\n",
      "Epoch [34/100], Batch [3/469], loss_f: -0.02514, loss_G: 1.11144\n",
      "Epoch [34/100], Batch [50/469], loss_f: -0.03640, loss_G: 0.97974\n",
      "Epoch [34/100], Batch [100/469], loss_f: -0.00577, loss_G: 0.90568\n",
      "Epoch [34/100], Batch [150/469], loss_f: -0.03581, loss_G: 1.01492\n",
      "Epoch [34/100], Batch [200/469], loss_f: -0.04133, loss_G: 1.07978\n",
      "Epoch [34/100], Batch [250/469], loss_f: -0.00972, loss_G: 1.00776\n",
      "Epoch [34/100], Batch [300/469], loss_f: -0.01962, loss_G: 1.01143\n",
      "Epoch [34/100], Batch [350/469], loss_f: -0.01439, loss_G: 1.02068\n"
     ]
    },
    {
     "name": "stdout",
     "output_type": "stream",
     "text": [
      "Epoch [34/100], Batch [400/469], loss_f: -0.02458, loss_G: 1.00768\n",
      "Epoch [34/100], Batch [450/469], loss_f: -0.01815, loss_G: 0.96921\n",
      "Epoch [34/100], Batch [469/469], loss_f: -0.00949, loss_G: 1.08332\n",
      "Epoch [35/100], Batch [3/469], loss_f: -0.02185, loss_G: 1.06431\n",
      "Epoch [35/100], Batch [50/469], loss_f: -0.01991, loss_G: 1.08850\n",
      "Epoch [35/100], Batch [100/469], loss_f: -0.03019, loss_G: 1.03651\n",
      "Epoch [35/100], Batch [150/469], loss_f: -0.02098, loss_G: 1.04094\n",
      "Epoch [35/100], Batch [200/469], loss_f: -0.01600, loss_G: 0.99574\n",
      "Epoch [35/100], Batch [250/469], loss_f: -0.02251, loss_G: 1.06741\n",
      "Epoch [35/100], Batch [300/469], loss_f: -0.02445, loss_G: 1.06428\n",
      "Epoch [35/100], Batch [350/469], loss_f: -0.00666, loss_G: 1.06221\n",
      "Epoch [35/100], Batch [400/469], loss_f: -0.01776, loss_G: 1.10625\n",
      "Epoch [35/100], Batch [450/469], loss_f: -0.02790, loss_G: 1.10129\n",
      "Epoch [35/100], Batch [469/469], loss_f: -0.01559, loss_G: 1.04031\n",
      "Epoch [36/100], Batch [3/469], loss_f: -0.04004, loss_G: 1.00946\n",
      "Epoch [36/100], Batch [50/469], loss_f: -0.03900, loss_G: 1.07681\n",
      "Epoch [36/100], Batch [100/469], loss_f: -0.02611, loss_G: 1.11014\n",
      "Epoch [36/100], Batch [150/469], loss_f: -0.02917, loss_G: 1.08350\n",
      "Epoch [36/100], Batch [200/469], loss_f: -0.01971, loss_G: 1.12361\n",
      "Epoch [36/100], Batch [250/469], loss_f: -0.01731, loss_G: 1.09409\n",
      "Epoch [36/100], Batch [300/469], loss_f: -0.01065, loss_G: 1.13137\n",
      "Epoch [36/100], Batch [350/469], loss_f: -0.01589, loss_G: 1.09922\n",
      "Epoch [36/100], Batch [400/469], loss_f: -0.02139, loss_G: 1.12552\n",
      "Epoch [36/100], Batch [450/469], loss_f: -0.03101, loss_G: 1.13620\n",
      "Epoch [36/100], Batch [469/469], loss_f: -0.01361, loss_G: 1.12080\n",
      "Epoch [37/100], Batch [3/469], loss_f: -0.04182, loss_G: 1.14780\n",
      "Epoch [37/100], Batch [50/469], loss_f: -0.01617, loss_G: 1.06071\n",
      "Epoch [37/100], Batch [100/469], loss_f: -0.01863, loss_G: 1.13821\n",
      "Epoch [37/100], Batch [150/469], loss_f: -0.02909, loss_G: 1.16956\n",
      "Epoch [37/100], Batch [200/469], loss_f: -0.02892, loss_G: 1.22015\n",
      "Epoch [37/100], Batch [250/469], loss_f: -0.02306, loss_G: 1.20528\n",
      "Epoch [37/100], Batch [300/469], loss_f: -0.03853, loss_G: 1.25706\n",
      "Epoch [37/100], Batch [350/469], loss_f: -0.01488, loss_G: 1.19402\n",
      "Epoch [37/100], Batch [400/469], loss_f: -0.02412, loss_G: 1.26558\n",
      "Epoch [37/100], Batch [450/469], loss_f: -0.03158, loss_G: 1.23305\n",
      "Epoch [37/100], Batch [469/469], loss_f: -0.02341, loss_G: 1.23857\n",
      "Epoch [38/100], Batch [3/469], loss_f: -0.03882, loss_G: 1.25692\n",
      "Epoch [38/100], Batch [50/469], loss_f: -0.02604, loss_G: 1.25337\n",
      "Epoch [38/100], Batch [100/469], loss_f: -0.01677, loss_G: 1.18083\n",
      "Epoch [38/100], Batch [150/469], loss_f: -0.01941, loss_G: 1.19965\n",
      "Epoch [38/100], Batch [200/469], loss_f: -0.01954, loss_G: 1.24520\n",
      "Epoch [38/100], Batch [250/469], loss_f: -0.03168, loss_G: 1.22470\n",
      "Epoch [38/100], Batch [300/469], loss_f: -0.03987, loss_G: 1.21686\n",
      "Epoch [38/100], Batch [350/469], loss_f: -0.02690, loss_G: 1.17953\n",
      "Epoch [38/100], Batch [400/469], loss_f: -0.01668, loss_G: 1.18989\n",
      "Epoch [38/100], Batch [450/469], loss_f: -0.03462, loss_G: 1.12280\n",
      "Epoch [38/100], Batch [469/469], loss_f: -0.00796, loss_G: 1.21631\n",
      "Epoch [39/100], Batch [3/469], loss_f: -0.02855, loss_G: 1.25392\n",
      "Epoch [39/100], Batch [50/469], loss_f: -0.03155, loss_G: 1.23362\n",
      "Epoch [39/100], Batch [100/469], loss_f: -0.01365, loss_G: 1.21678\n",
      "Epoch [39/100], Batch [150/469], loss_f: -0.01767, loss_G: 1.21057\n",
      "Epoch [39/100], Batch [200/469], loss_f: -0.01035, loss_G: 1.18579\n",
      "Epoch [39/100], Batch [250/469], loss_f: -0.01007, loss_G: 1.21396\n",
      "Epoch [39/100], Batch [300/469], loss_f: -0.04312, loss_G: 1.24475\n",
      "Epoch [39/100], Batch [350/469], loss_f: -0.00189, loss_G: 1.21510\n",
      "Epoch [39/100], Batch [400/469], loss_f: -0.02320, loss_G: 1.24894\n",
      "Epoch [39/100], Batch [450/469], loss_f: -0.02305, loss_G: 1.27033\n",
      "Epoch [39/100], Batch [469/469], loss_f: -0.01509, loss_G: 1.18944\n",
      "Epoch [40/100], Batch [3/469], loss_f: -0.02398, loss_G: 1.23329\n",
      "Epoch [40/100], Batch [50/469], loss_f: -0.01563, loss_G: 1.18866\n",
      "Epoch [40/100], Batch [100/469], loss_f: -0.02686, loss_G: 1.27051\n",
      "Epoch [40/100], Batch [150/469], loss_f: -0.03017, loss_G: 1.40782\n",
      "Epoch [40/100], Batch [200/469], loss_f: -0.03240, loss_G: 1.28735\n",
      "Epoch [40/100], Batch [250/469], loss_f: -0.01565, loss_G: 1.28071\n",
      "Epoch [40/100], Batch [300/469], loss_f: -0.03233, loss_G: 1.27199\n",
      "Epoch [40/100], Batch [350/469], loss_f: -0.01889, loss_G: 1.24213\n",
      "Epoch [40/100], Batch [400/469], loss_f: -0.03293, loss_G: 1.15786\n",
      "Epoch [40/100], Batch [450/469], loss_f: -0.03444, loss_G: 1.28581\n",
      "Epoch [40/100], Batch [469/469], loss_f: -0.00972, loss_G: 1.23869\n",
      "Epoch [41/100], Batch [3/469], loss_f: -0.02416, loss_G: 1.20872\n",
      "Epoch [41/100], Batch [50/469], loss_f: -0.02360, loss_G: 1.29587\n",
      "Epoch [41/100], Batch [100/469], loss_f: -0.02131, loss_G: 1.26021\n",
      "Epoch [41/100], Batch [150/469], loss_f: -0.01560, loss_G: 1.28960\n",
      "Epoch [41/100], Batch [200/469], loss_f: -0.01043, loss_G: 1.25562\n",
      "Epoch [41/100], Batch [250/469], loss_f: -0.01067, loss_G: 1.28237\n",
      "Epoch [41/100], Batch [300/469], loss_f: -0.01907, loss_G: 1.23287\n",
      "Epoch [41/100], Batch [350/469], loss_f: -0.02083, loss_G: 1.30143\n",
      "Epoch [41/100], Batch [400/469], loss_f: -0.03140, loss_G: 1.35342\n",
      "Epoch [41/100], Batch [450/469], loss_f: -0.01713, loss_G: 1.32566\n",
      "Epoch [41/100], Batch [469/469], loss_f: -0.01854, loss_G: 1.26144\n",
      "Epoch [42/100], Batch [3/469], loss_f: -0.03248, loss_G: 1.34999\n",
      "Epoch [42/100], Batch [50/469], loss_f: -0.02077, loss_G: 1.27188\n",
      "Epoch [42/100], Batch [100/469], loss_f: -0.02275, loss_G: 1.35217\n",
      "Epoch [42/100], Batch [150/469], loss_f: -0.01424, loss_G: 1.34310\n",
      "Epoch [42/100], Batch [200/469], loss_f: -0.02447, loss_G: 1.24390\n",
      "Epoch [42/100], Batch [250/469], loss_f: -0.02338, loss_G: 1.35269\n",
      "Epoch [42/100], Batch [300/469], loss_f: -0.02939, loss_G: 1.38413\n",
      "Epoch [42/100], Batch [350/469], loss_f: -0.02360, loss_G: 1.39418\n",
      "Epoch [42/100], Batch [400/469], loss_f: -0.01667, loss_G: 1.34672\n",
      "Epoch [42/100], Batch [450/469], loss_f: -0.02319, loss_G: 1.32178\n",
      "Epoch [42/100], Batch [469/469], loss_f: 0.00548, loss_G: 1.38790\n",
      "Epoch [43/100], Batch [3/469], loss_f: -0.02326, loss_G: 1.39250\n",
      "Epoch [43/100], Batch [50/469], loss_f: -0.00953, loss_G: 1.37486\n",
      "Epoch [43/100], Batch [100/469], loss_f: -0.02719, loss_G: 1.35898\n",
      "Epoch [43/100], Batch [150/469], loss_f: -0.03057, loss_G: 1.39961\n",
      "Epoch [43/100], Batch [200/469], loss_f: -0.01317, loss_G: 1.40309\n",
      "Epoch [43/100], Batch [250/469], loss_f: -0.00755, loss_G: 1.25918\n",
      "Epoch [43/100], Batch [300/469], loss_f: -0.02638, loss_G: 1.34420\n",
      "Epoch [43/100], Batch [350/469], loss_f: -0.01312, loss_G: 1.40048\n",
      "Epoch [43/100], Batch [400/469], loss_f: -0.01389, loss_G: 1.32429\n",
      "Epoch [43/100], Batch [450/469], loss_f: -0.02310, loss_G: 1.42317\n",
      "Epoch [43/100], Batch [469/469], loss_f: -0.01416, loss_G: 1.26149\n",
      "Epoch [44/100], Batch [3/469], loss_f: -0.02905, loss_G: 1.31668\n",
      "Epoch [44/100], Batch [50/469], loss_f: -0.02229, loss_G: 1.33484\n",
      "Epoch [44/100], Batch [100/469], loss_f: -0.02345, loss_G: 1.33804\n",
      "Epoch [44/100], Batch [150/469], loss_f: -0.02612, loss_G: 1.34841\n",
      "Epoch [44/100], Batch [200/469], loss_f: -0.01810, loss_G: 1.31850\n",
      "Epoch [44/100], Batch [250/469], loss_f: -0.02551, loss_G: 1.38868\n",
      "Epoch [44/100], Batch [300/469], loss_f: -0.02448, loss_G: 1.26641\n",
      "Epoch [44/100], Batch [350/469], loss_f: -0.01446, loss_G: 1.38813\n",
      "Epoch [44/100], Batch [400/469], loss_f: -0.01734, loss_G: 1.39853\n",
      "Epoch [44/100], Batch [450/469], loss_f: -0.02808, loss_G: 1.35690\n",
      "Epoch [44/100], Batch [469/469], loss_f: -0.02324, loss_G: 1.40086\n",
      "Epoch [45/100], Batch [3/469], loss_f: -0.03548, loss_G: 1.37300\n",
      "Epoch [45/100], Batch [50/469], loss_f: -0.02568, loss_G: 1.33168\n",
      "Epoch [45/100], Batch [100/469], loss_f: -0.01743, loss_G: 1.34081\n",
      "Epoch [45/100], Batch [150/469], loss_f: -0.03369, loss_G: 1.40026\n",
      "Epoch [45/100], Batch [200/469], loss_f: -0.03267, loss_G: 1.44253\n",
      "Epoch [45/100], Batch [250/469], loss_f: -0.02563, loss_G: 1.41740\n",
      "Epoch [45/100], Batch [300/469], loss_f: -0.04878, loss_G: 1.40114\n",
      "Epoch [45/100], Batch [350/469], loss_f: 0.00900, loss_G: 1.36038\n",
      "Epoch [45/100], Batch [400/469], loss_f: 0.00721, loss_G: 1.37262\n",
      "Epoch [45/100], Batch [450/469], loss_f: -0.04032, loss_G: 1.34326\n"
     ]
    },
    {
     "name": "stdout",
     "output_type": "stream",
     "text": [
      "Epoch [45/100], Batch [469/469], loss_f: -0.02343, loss_G: 1.38652\n",
      "Epoch [46/100], Batch [3/469], loss_f: -0.02446, loss_G: 1.44668\n",
      "Epoch [46/100], Batch [50/469], loss_f: -0.02922, loss_G: 1.38691\n",
      "Epoch [46/100], Batch [100/469], loss_f: -0.03070, loss_G: 1.37120\n",
      "Epoch [46/100], Batch [150/469], loss_f: -0.01359, loss_G: 1.37253\n",
      "Epoch [46/100], Batch [200/469], loss_f: -0.03225, loss_G: 1.47827\n",
      "Epoch [46/100], Batch [250/469], loss_f: -0.00751, loss_G: 1.33169\n",
      "Epoch [46/100], Batch [300/469], loss_f: -0.02182, loss_G: 1.40878\n",
      "Epoch [46/100], Batch [350/469], loss_f: -0.02543, loss_G: 1.35123\n",
      "Epoch [46/100], Batch [400/469], loss_f: -0.01682, loss_G: 1.38484\n",
      "Epoch [46/100], Batch [450/469], loss_f: -0.03218, loss_G: 1.38247\n",
      "Epoch [46/100], Batch [469/469], loss_f: -0.00372, loss_G: 1.40386\n",
      "Epoch [47/100], Batch [3/469], loss_f: -0.02620, loss_G: 1.40851\n",
      "Epoch [47/100], Batch [50/469], loss_f: -0.02451, loss_G: 1.43033\n",
      "Epoch [47/100], Batch [100/469], loss_f: -0.03185, loss_G: 1.38591\n",
      "Epoch [47/100], Batch [150/469], loss_f: -0.04357, loss_G: 1.35897\n",
      "Epoch [47/100], Batch [200/469], loss_f: -0.02400, loss_G: 1.39277\n",
      "Epoch [47/100], Batch [250/469], loss_f: -0.01543, loss_G: 1.37087\n",
      "Epoch [47/100], Batch [300/469], loss_f: -0.02715, loss_G: 1.47032\n",
      "Epoch [47/100], Batch [350/469], loss_f: -0.01855, loss_G: 1.41326\n",
      "Epoch [47/100], Batch [400/469], loss_f: -0.02087, loss_G: 1.42059\n",
      "Epoch [47/100], Batch [450/469], loss_f: -0.03868, loss_G: 1.46470\n",
      "Epoch [47/100], Batch [469/469], loss_f: -0.01231, loss_G: 1.43313\n",
      "Epoch [48/100], Batch [3/469], loss_f: -0.02511, loss_G: 1.40306\n",
      "Epoch [48/100], Batch [50/469], loss_f: -0.02777, loss_G: 1.45756\n",
      "Epoch [48/100], Batch [100/469], loss_f: -0.01522, loss_G: 1.41334\n",
      "Epoch [48/100], Batch [150/469], loss_f: -0.02785, loss_G: 1.40581\n",
      "Epoch [48/100], Batch [200/469], loss_f: -0.01916, loss_G: 1.46413\n",
      "Epoch [48/100], Batch [250/469], loss_f: -0.01485, loss_G: 1.42512\n",
      "Epoch [48/100], Batch [300/469], loss_f: -0.03074, loss_G: 1.47461\n",
      "Epoch [48/100], Batch [350/469], loss_f: -0.02296, loss_G: 1.42050\n",
      "Epoch [48/100], Batch [400/469], loss_f: -0.02057, loss_G: 1.49118\n",
      "Epoch [48/100], Batch [450/469], loss_f: -0.01689, loss_G: 1.50936\n",
      "Epoch [48/100], Batch [469/469], loss_f: -0.01629, loss_G: 1.50840\n",
      "Epoch [49/100], Batch [3/469], loss_f: -0.03146, loss_G: 1.50549\n",
      "Epoch [49/100], Batch [50/469], loss_f: -0.03038, loss_G: 1.51157\n",
      "Epoch [49/100], Batch [100/469], loss_f: -0.02522, loss_G: 1.41875\n",
      "Epoch [49/100], Batch [150/469], loss_f: -0.03225, loss_G: 1.41772\n",
      "Epoch [49/100], Batch [200/469], loss_f: -0.02289, loss_G: 1.51617\n",
      "Epoch [49/100], Batch [250/469], loss_f: -0.01121, loss_G: 1.48597\n",
      "Epoch [49/100], Batch [300/469], loss_f: -0.02805, loss_G: 1.45285\n",
      "Epoch [49/100], Batch [350/469], loss_f: -0.01908, loss_G: 1.52209\n",
      "Epoch [49/100], Batch [400/469], loss_f: -0.02051, loss_G: 1.44380\n",
      "Epoch [49/100], Batch [450/469], loss_f: -0.02631, loss_G: 1.54826\n",
      "Epoch [49/100], Batch [469/469], loss_f: -0.03253, loss_G: 1.51620\n",
      "Epoch [50/100], Batch [3/469], loss_f: -0.02612, loss_G: 1.50216\n",
      "Epoch [50/100], Batch [50/469], loss_f: -0.03903, loss_G: 1.55501\n",
      "Epoch [50/100], Batch [100/469], loss_f: -0.01261, loss_G: 1.49800\n",
      "Epoch [50/100], Batch [150/469], loss_f: -0.01972, loss_G: 1.47774\n",
      "Epoch [50/100], Batch [200/469], loss_f: -0.01767, loss_G: 1.48950\n",
      "Epoch [50/100], Batch [250/469], loss_f: -0.01152, loss_G: 1.40157\n",
      "Epoch [50/100], Batch [300/469], loss_f: -0.01897, loss_G: 1.51652\n",
      "Epoch [50/100], Batch [350/469], loss_f: -0.02218, loss_G: 1.53614\n",
      "Epoch [50/100], Batch [400/469], loss_f: -0.00279, loss_G: 1.45000\n",
      "Epoch [50/100], Batch [450/469], loss_f: -0.02753, loss_G: 1.48128\n",
      "Epoch [50/100], Batch [469/469], loss_f: -0.02018, loss_G: 1.57141\n",
      "Epoch [51/100], Batch [3/469], loss_f: -0.04464, loss_G: 1.51112\n",
      "Epoch [51/100], Batch [50/469], loss_f: -0.03607, loss_G: 1.51131\n",
      "Epoch [51/100], Batch [100/469], loss_f: -0.01833, loss_G: 1.59605\n",
      "Epoch [51/100], Batch [150/469], loss_f: -0.02926, loss_G: 1.52846\n",
      "Epoch [51/100], Batch [200/469], loss_f: -0.01472, loss_G: 1.54385\n",
      "Epoch [51/100], Batch [250/469], loss_f: -0.03216, loss_G: 1.47724\n",
      "Epoch [51/100], Batch [300/469], loss_f: -0.03292, loss_G: 1.49762\n",
      "Epoch [51/100], Batch [350/469], loss_f: -0.01123, loss_G: 1.53799\n",
      "Epoch [51/100], Batch [400/469], loss_f: -0.03015, loss_G: 1.56549\n",
      "Epoch [51/100], Batch [450/469], loss_f: -0.02833, loss_G: 1.62024\n",
      "Epoch [51/100], Batch [469/469], loss_f: -0.02612, loss_G: 1.49919\n",
      "Epoch [52/100], Batch [3/469], loss_f: -0.03006, loss_G: 1.47701\n",
      "Epoch [52/100], Batch [50/469], loss_f: -0.03148, loss_G: 1.45578\n",
      "Epoch [52/100], Batch [100/469], loss_f: -0.01319, loss_G: 1.52417\n",
      "Epoch [52/100], Batch [150/469], loss_f: -0.03024, loss_G: 1.55198\n",
      "Epoch [52/100], Batch [200/469], loss_f: -0.02401, loss_G: 1.58258\n",
      "Epoch [52/100], Batch [250/469], loss_f: -0.02131, loss_G: 1.54475\n",
      "Epoch [52/100], Batch [300/469], loss_f: -0.01916, loss_G: 1.56225\n",
      "Epoch [52/100], Batch [350/469], loss_f: -0.02127, loss_G: 1.54297\n",
      "Epoch [52/100], Batch [400/469], loss_f: -0.01905, loss_G: 1.54746\n",
      "Epoch [52/100], Batch [450/469], loss_f: -0.02163, loss_G: 1.55472\n",
      "Epoch [52/100], Batch [469/469], loss_f: -0.01039, loss_G: 1.56853\n",
      "Epoch [53/100], Batch [3/469], loss_f: -0.03545, loss_G: 1.56305\n",
      "Epoch [53/100], Batch [50/469], loss_f: -0.03183, loss_G: 1.61873\n",
      "Epoch [53/100], Batch [100/469], loss_f: -0.02945, loss_G: 1.64558\n",
      "Epoch [53/100], Batch [150/469], loss_f: -0.04010, loss_G: 1.60495\n",
      "Epoch [53/100], Batch [200/469], loss_f: -0.00733, loss_G: 1.48807\n",
      "Epoch [53/100], Batch [250/469], loss_f: -0.02568, loss_G: 1.57379\n",
      "Epoch [53/100], Batch [300/469], loss_f: -0.01991, loss_G: 1.53563\n",
      "Epoch [53/100], Batch [350/469], loss_f: -0.01890, loss_G: 1.53710\n",
      "Epoch [53/100], Batch [400/469], loss_f: -0.01761, loss_G: 1.56294\n",
      "Epoch [53/100], Batch [450/469], loss_f: -0.03204, loss_G: 1.52664\n",
      "Epoch [53/100], Batch [469/469], loss_f: -0.04389, loss_G: 1.57213\n",
      "Epoch [54/100], Batch [3/469], loss_f: -0.02912, loss_G: 1.63284\n",
      "Epoch [54/100], Batch [50/469], loss_f: -0.01987, loss_G: 1.58434\n",
      "Epoch [54/100], Batch [100/469], loss_f: -0.02058, loss_G: 1.59150\n",
      "Epoch [54/100], Batch [150/469], loss_f: -0.01184, loss_G: 1.54277\n",
      "Epoch [54/100], Batch [200/469], loss_f: -0.02391, loss_G: 1.55027\n",
      "Epoch [54/100], Batch [250/469], loss_f: -0.02488, loss_G: 1.61281\n",
      "Epoch [54/100], Batch [300/469], loss_f: -0.02478, loss_G: 1.58312\n",
      "Epoch [54/100], Batch [350/469], loss_f: -0.02652, loss_G: 1.61062\n",
      "Epoch [54/100], Batch [400/469], loss_f: -0.01546, loss_G: 1.66952\n",
      "Epoch [54/100], Batch [450/469], loss_f: -0.02011, loss_G: 1.66876\n",
      "Epoch [54/100], Batch [469/469], loss_f: -0.01267, loss_G: 1.64562\n",
      "Epoch [55/100], Batch [3/469], loss_f: -0.02841, loss_G: 1.62693\n",
      "Epoch [55/100], Batch [50/469], loss_f: -0.02669, loss_G: 1.62167\n",
      "Epoch [55/100], Batch [100/469], loss_f: -0.01926, loss_G: 1.62638\n",
      "Epoch [55/100], Batch [150/469], loss_f: -0.02219, loss_G: 1.64534\n",
      "Epoch [55/100], Batch [200/469], loss_f: -0.02275, loss_G: 1.56912\n",
      "Epoch [55/100], Batch [250/469], loss_f: -0.01661, loss_G: 1.63463\n",
      "Epoch [55/100], Batch [300/469], loss_f: -0.03330, loss_G: 1.62886\n",
      "Epoch [55/100], Batch [350/469], loss_f: -0.02619, loss_G: 1.58440\n",
      "Epoch [55/100], Batch [400/469], loss_f: -0.02597, loss_G: 1.58028\n",
      "Epoch [55/100], Batch [450/469], loss_f: -0.01502, loss_G: 1.65934\n",
      "Epoch [55/100], Batch [469/469], loss_f: -0.01055, loss_G: 1.65928\n",
      "Epoch [56/100], Batch [3/469], loss_f: -0.02349, loss_G: 1.66439\n",
      "Epoch [56/100], Batch [50/469], loss_f: -0.02731, loss_G: 1.61460\n",
      "Epoch [56/100], Batch [100/469], loss_f: -0.02420, loss_G: 1.58026\n",
      "Epoch [56/100], Batch [150/469], loss_f: -0.02574, loss_G: 1.56953\n",
      "Epoch [56/100], Batch [200/469], loss_f: -0.02086, loss_G: 1.56492\n",
      "Epoch [56/100], Batch [250/469], loss_f: -0.03438, loss_G: 1.60252\n",
      "Epoch [56/100], Batch [300/469], loss_f: -0.01367, loss_G: 1.67472\n",
      "Epoch [56/100], Batch [350/469], loss_f: -0.01924, loss_G: 1.64266\n",
      "Epoch [56/100], Batch [400/469], loss_f: -0.01951, loss_G: 1.67488\n",
      "Epoch [56/100], Batch [450/469], loss_f: -0.01583, loss_G: 1.64676\n",
      "Epoch [56/100], Batch [469/469], loss_f: -0.02064, loss_G: 1.66263\n",
      "Epoch [57/100], Batch [3/469], loss_f: -0.01559, loss_G: 1.68050\n"
     ]
    },
    {
     "name": "stdout",
     "output_type": "stream",
     "text": [
      "Epoch [57/100], Batch [50/469], loss_f: -0.02303, loss_G: 1.63034\n",
      "Epoch [57/100], Batch [100/469], loss_f: -0.01749, loss_G: 1.67089\n",
      "Epoch [57/100], Batch [150/469], loss_f: -0.02270, loss_G: 1.62123\n",
      "Epoch [57/100], Batch [200/469], loss_f: -0.03049, loss_G: 1.61078\n",
      "Epoch [57/100], Batch [250/469], loss_f: -0.01907, loss_G: 1.59596\n",
      "Epoch [57/100], Batch [300/469], loss_f: -0.01075, loss_G: 1.59918\n",
      "Epoch [57/100], Batch [350/469], loss_f: -0.01625, loss_G: 1.60800\n",
      "Epoch [57/100], Batch [400/469], loss_f: -0.00652, loss_G: 1.64026\n",
      "Epoch [57/100], Batch [450/469], loss_f: -0.02828, loss_G: 1.60259\n",
      "Epoch [57/100], Batch [469/469], loss_f: -0.01572, loss_G: 1.67868\n",
      "Epoch [58/100], Batch [3/469], loss_f: -0.01391, loss_G: 1.69499\n",
      "Epoch [58/100], Batch [50/469], loss_f: -0.01388, loss_G: 1.62423\n",
      "Epoch [58/100], Batch [100/469], loss_f: -0.02283, loss_G: 1.65251\n",
      "Epoch [58/100], Batch [150/469], loss_f: -0.01608, loss_G: 1.66492\n",
      "Epoch [58/100], Batch [200/469], loss_f: -0.02311, loss_G: 1.67985\n",
      "Epoch [58/100], Batch [250/469], loss_f: -0.02052, loss_G: 1.68013\n",
      "Epoch [58/100], Batch [300/469], loss_f: -0.02091, loss_G: 1.68240\n",
      "Epoch [58/100], Batch [350/469], loss_f: -0.01912, loss_G: 1.71144\n",
      "Epoch [58/100], Batch [400/469], loss_f: -0.02412, loss_G: 1.68423\n",
      "Epoch [58/100], Batch [450/469], loss_f: -0.01819, loss_G: 1.66112\n",
      "Epoch [58/100], Batch [469/469], loss_f: -0.01235, loss_G: 1.68133\n",
      "Epoch [59/100], Batch [3/469], loss_f: -0.02921, loss_G: 1.70065\n",
      "Epoch [59/100], Batch [50/469], loss_f: -0.03086, loss_G: 1.66453\n",
      "Epoch [59/100], Batch [100/469], loss_f: 0.00599, loss_G: 1.59396\n",
      "Epoch [59/100], Batch [150/469], loss_f: -0.02244, loss_G: 1.67860\n",
      "Epoch [59/100], Batch [200/469], loss_f: -0.01128, loss_G: 1.70676\n",
      "Epoch [59/100], Batch [250/469], loss_f: -0.02600, loss_G: 1.74626\n",
      "Epoch [59/100], Batch [300/469], loss_f: -0.02437, loss_G: 1.68125\n",
      "Epoch [59/100], Batch [350/469], loss_f: -0.02767, loss_G: 1.71147\n",
      "Epoch [59/100], Batch [400/469], loss_f: -0.02518, loss_G: 1.60651\n",
      "Epoch [59/100], Batch [450/469], loss_f: -0.02485, loss_G: 1.67792\n",
      "Epoch [59/100], Batch [469/469], loss_f: -0.03359, loss_G: 1.66906\n",
      "Epoch [60/100], Batch [3/469], loss_f: -0.02633, loss_G: 1.67390\n",
      "Epoch [60/100], Batch [50/469], loss_f: -0.02207, loss_G: 1.62751\n",
      "Epoch [60/100], Batch [100/469], loss_f: -0.01593, loss_G: 1.65748\n",
      "Epoch [60/100], Batch [150/469], loss_f: -0.01281, loss_G: 1.69848\n",
      "Epoch [60/100], Batch [200/469], loss_f: -0.02745, loss_G: 1.75306\n",
      "Epoch [60/100], Batch [250/469], loss_f: -0.00587, loss_G: 1.75606\n",
      "Epoch [60/100], Batch [300/469], loss_f: -0.03764, loss_G: 1.68674\n",
      "Epoch [60/100], Batch [350/469], loss_f: -0.01601, loss_G: 1.73356\n",
      "Epoch [60/100], Batch [400/469], loss_f: -0.01979, loss_G: 1.69708\n",
      "Epoch [60/100], Batch [450/469], loss_f: -0.01702, loss_G: 1.75497\n",
      "Epoch [60/100], Batch [469/469], loss_f: -0.02988, loss_G: 1.72061\n",
      "Epoch [61/100], Batch [3/469], loss_f: -0.02537, loss_G: 1.72673\n",
      "Epoch [61/100], Batch [50/469], loss_f: -0.02305, loss_G: 1.71595\n",
      "Epoch [61/100], Batch [100/469], loss_f: -0.02573, loss_G: 1.74757\n",
      "Epoch [61/100], Batch [150/469], loss_f: -0.02785, loss_G: 1.74732\n",
      "Epoch [61/100], Batch [200/469], loss_f: -0.02195, loss_G: 1.66031\n",
      "Epoch [61/100], Batch [250/469], loss_f: -0.01377, loss_G: 1.68769\n",
      "Epoch [61/100], Batch [300/469], loss_f: -0.02808, loss_G: 1.73140\n",
      "Epoch [61/100], Batch [350/469], loss_f: -0.02461, loss_G: 1.70635\n",
      "Epoch [61/100], Batch [400/469], loss_f: -0.02262, loss_G: 1.64526\n",
      "Epoch [61/100], Batch [450/469], loss_f: -0.03216, loss_G: 1.74381\n",
      "Epoch [61/100], Batch [469/469], loss_f: -0.02846, loss_G: 1.67878\n",
      "Epoch [62/100], Batch [3/469], loss_f: -0.00968, loss_G: 1.63084\n",
      "Epoch [62/100], Batch [50/469], loss_f: -0.03550, loss_G: 1.70783\n",
      "Epoch [62/100], Batch [100/469], loss_f: -0.02239, loss_G: 1.68765\n",
      "Epoch [62/100], Batch [150/469], loss_f: -0.02485, loss_G: 1.71738\n",
      "Epoch [62/100], Batch [200/469], loss_f: 0.00781, loss_G: 1.66715\n",
      "Epoch [62/100], Batch [250/469], loss_f: -0.02556, loss_G: 1.65223\n",
      "Epoch [62/100], Batch [300/469], loss_f: -0.01196, loss_G: 1.69395\n",
      "Epoch [62/100], Batch [350/469], loss_f: -0.02136, loss_G: 1.70064\n",
      "Epoch [62/100], Batch [400/469], loss_f: -0.01133, loss_G: 1.68172\n",
      "Epoch [62/100], Batch [450/469], loss_f: -0.03212, loss_G: 1.65746\n",
      "Epoch [62/100], Batch [469/469], loss_f: -0.01814, loss_G: 1.61638\n",
      "Epoch [63/100], Batch [3/469], loss_f: -0.03691, loss_G: 1.62895\n",
      "Epoch [63/100], Batch [50/469], loss_f: -0.02871, loss_G: 1.62602\n",
      "Epoch [63/100], Batch [100/469], loss_f: -0.02266, loss_G: 1.69737\n",
      "Epoch [63/100], Batch [150/469], loss_f: -0.02119, loss_G: 1.70317\n",
      "Epoch [63/100], Batch [200/469], loss_f: -0.01967, loss_G: 1.70955\n",
      "Epoch [63/100], Batch [250/469], loss_f: -0.03570, loss_G: 1.69506\n",
      "Epoch [63/100], Batch [300/469], loss_f: -0.01312, loss_G: 1.76600\n",
      "Epoch [63/100], Batch [350/469], loss_f: -0.01197, loss_G: 1.75560\n",
      "Epoch [63/100], Batch [400/469], loss_f: -0.01634, loss_G: 1.65660\n",
      "Epoch [63/100], Batch [450/469], loss_f: -0.01449, loss_G: 1.67589\n",
      "Epoch [63/100], Batch [469/469], loss_f: -0.02096, loss_G: 1.64880\n",
      "Epoch [64/100], Batch [3/469], loss_f: -0.02427, loss_G: 1.69036\n",
      "Epoch [64/100], Batch [50/469], loss_f: -0.02578, loss_G: 1.65931\n",
      "Epoch [64/100], Batch [100/469], loss_f: -0.02421, loss_G: 1.67039\n",
      "Epoch [64/100], Batch [150/469], loss_f: -0.03040, loss_G: 1.71183\n",
      "Epoch [64/100], Batch [200/469], loss_f: -0.02869, loss_G: 1.71788\n",
      "Epoch [64/100], Batch [250/469], loss_f: -0.01738, loss_G: 1.74040\n",
      "Epoch [64/100], Batch [300/469], loss_f: -0.02521, loss_G: 1.73372\n",
      "Epoch [64/100], Batch [350/469], loss_f: -0.02289, loss_G: 1.69299\n",
      "Epoch [64/100], Batch [400/469], loss_f: -0.03348, loss_G: 1.68183\n",
      "Epoch [64/100], Batch [450/469], loss_f: -0.02115, loss_G: 1.73605\n",
      "Epoch [64/100], Batch [469/469], loss_f: -0.01999, loss_G: 1.65101\n",
      "Epoch [65/100], Batch [3/469], loss_f: -0.00676, loss_G: 1.65518\n",
      "Epoch [65/100], Batch [50/469], loss_f: -0.01662, loss_G: 1.70073\n",
      "Epoch [65/100], Batch [100/469], loss_f: -0.02602, loss_G: 1.76994\n",
      "Epoch [65/100], Batch [150/469], loss_f: -0.02436, loss_G: 1.77274\n",
      "Epoch [65/100], Batch [200/469], loss_f: -0.02791, loss_G: 1.69393\n",
      "Epoch [65/100], Batch [250/469], loss_f: -0.02127, loss_G: 1.70179\n",
      "Epoch [65/100], Batch [300/469], loss_f: -0.02128, loss_G: 1.74631\n",
      "Epoch [65/100], Batch [350/469], loss_f: -0.01974, loss_G: 1.81407\n",
      "Epoch [65/100], Batch [400/469], loss_f: -0.00304, loss_G: 1.77841\n",
      "Epoch [65/100], Batch [450/469], loss_f: -0.01617, loss_G: 1.70135\n",
      "Epoch [65/100], Batch [469/469], loss_f: -0.02027, loss_G: 1.73954\n",
      "Epoch [66/100], Batch [3/469], loss_f: -0.02757, loss_G: 1.76450\n",
      "Epoch [66/100], Batch [50/469], loss_f: -0.02634, loss_G: 1.73667\n",
      "Epoch [66/100], Batch [100/469], loss_f: -0.02015, loss_G: 1.80250\n",
      "Epoch [66/100], Batch [150/469], loss_f: -0.01709, loss_G: 1.75940\n",
      "Epoch [66/100], Batch [200/469], loss_f: -0.02949, loss_G: 1.75052\n",
      "Epoch [66/100], Batch [250/469], loss_f: -0.00508, loss_G: 1.66991\n",
      "Epoch [66/100], Batch [300/469], loss_f: -0.00444, loss_G: 1.70271\n",
      "Epoch [66/100], Batch [350/469], loss_f: -0.02370, loss_G: 1.78025\n",
      "Epoch [66/100], Batch [400/469], loss_f: -0.02324, loss_G: 1.74104\n",
      "Epoch [66/100], Batch [450/469], loss_f: -0.01869, loss_G: 1.84495\n",
      "Epoch [66/100], Batch [469/469], loss_f: -0.01117, loss_G: 1.74145\n",
      "Epoch [67/100], Batch [3/469], loss_f: -0.03444, loss_G: 1.74722\n",
      "Epoch [67/100], Batch [50/469], loss_f: -0.01712, loss_G: 1.74226\n",
      "Epoch [67/100], Batch [100/469], loss_f: -0.01017, loss_G: 1.77607\n",
      "Epoch [67/100], Batch [150/469], loss_f: -0.02711, loss_G: 1.73360\n",
      "Epoch [67/100], Batch [200/469], loss_f: -0.01504, loss_G: 1.76316\n",
      "Epoch [67/100], Batch [250/469], loss_f: -0.01852, loss_G: 1.76655\n",
      "Epoch [67/100], Batch [300/469], loss_f: -0.02816, loss_G: 1.76131\n",
      "Epoch [67/100], Batch [350/469], loss_f: -0.01563, loss_G: 1.75892\n",
      "Epoch [67/100], Batch [400/469], loss_f: -0.02493, loss_G: 1.78998\n",
      "Epoch [67/100], Batch [450/469], loss_f: -0.02800, loss_G: 1.80677\n",
      "Epoch [67/100], Batch [469/469], loss_f: -0.03123, loss_G: 1.80903\n",
      "Epoch [68/100], Batch [3/469], loss_f: -0.02159, loss_G: 1.78052\n",
      "Epoch [68/100], Batch [50/469], loss_f: -0.03614, loss_G: 1.82911\n",
      "Epoch [68/100], Batch [100/469], loss_f: -0.01851, loss_G: 1.80646\n"
     ]
    },
    {
     "name": "stdout",
     "output_type": "stream",
     "text": [
      "Epoch [68/100], Batch [150/469], loss_f: -0.03442, loss_G: 1.82150\n",
      "Epoch [68/100], Batch [200/469], loss_f: -0.01297, loss_G: 1.74653\n",
      "Epoch [68/100], Batch [250/469], loss_f: -0.01338, loss_G: 1.75133\n",
      "Epoch [68/100], Batch [300/469], loss_f: -0.03048, loss_G: 1.74793\n",
      "Epoch [68/100], Batch [350/469], loss_f: -0.02147, loss_G: 1.77866\n",
      "Epoch [68/100], Batch [400/469], loss_f: -0.03439, loss_G: 1.79777\n",
      "Epoch [68/100], Batch [450/469], loss_f: -0.02832, loss_G: 1.80926\n",
      "Epoch [68/100], Batch [469/469], loss_f: -0.01682, loss_G: 1.77017\n",
      "Epoch [69/100], Batch [3/469], loss_f: -0.02931, loss_G: 1.75922\n",
      "Epoch [69/100], Batch [50/469], loss_f: -0.02166, loss_G: 1.76583\n",
      "Epoch [69/100], Batch [100/469], loss_f: -0.01023, loss_G: 1.77212\n",
      "Epoch [69/100], Batch [150/469], loss_f: -0.02558, loss_G: 1.75882\n",
      "Epoch [69/100], Batch [200/469], loss_f: -0.01627, loss_G: 1.84586\n",
      "Epoch [69/100], Batch [250/469], loss_f: -0.02433, loss_G: 1.83431\n",
      "Epoch [69/100], Batch [300/469], loss_f: -0.03256, loss_G: 1.77225\n",
      "Epoch [69/100], Batch [350/469], loss_f: -0.01956, loss_G: 1.79940\n",
      "Epoch [69/100], Batch [400/469], loss_f: -0.02075, loss_G: 1.77053\n",
      "Epoch [69/100], Batch [450/469], loss_f: -0.02366, loss_G: 1.80551\n",
      "Epoch [69/100], Batch [469/469], loss_f: -0.02176, loss_G: 1.79901\n",
      "Epoch [70/100], Batch [3/469], loss_f: -0.04522, loss_G: 1.82413\n",
      "Epoch [70/100], Batch [50/469], loss_f: -0.01040, loss_G: 1.79903\n",
      "Epoch [70/100], Batch [100/469], loss_f: -0.02571, loss_G: 1.80613\n",
      "Epoch [70/100], Batch [150/469], loss_f: -0.03735, loss_G: 1.77858\n",
      "Epoch [70/100], Batch [200/469], loss_f: -0.03361, loss_G: 1.80101\n",
      "Epoch [70/100], Batch [250/469], loss_f: -0.01769, loss_G: 1.86320\n",
      "Epoch [70/100], Batch [300/469], loss_f: -0.01927, loss_G: 1.73646\n",
      "Epoch [70/100], Batch [350/469], loss_f: -0.02407, loss_G: 1.81459\n",
      "Epoch [70/100], Batch [400/469], loss_f: -0.01408, loss_G: 1.79467\n",
      "Epoch [70/100], Batch [450/469], loss_f: -0.03038, loss_G: 1.74632\n",
      "Epoch [70/100], Batch [469/469], loss_f: -0.01131, loss_G: 1.80881\n",
      "Epoch [71/100], Batch [3/469], loss_f: -0.03426, loss_G: 1.83542\n",
      "Epoch [71/100], Batch [50/469], loss_f: -0.01873, loss_G: 1.82970\n",
      "Epoch [71/100], Batch [100/469], loss_f: -0.01661, loss_G: 1.76195\n",
      "Epoch [71/100], Batch [150/469], loss_f: -0.02946, loss_G: 1.82923\n",
      "Epoch [71/100], Batch [200/469], loss_f: -0.03056, loss_G: 1.79618\n",
      "Epoch [71/100], Batch [250/469], loss_f: -0.01467, loss_G: 1.80157\n",
      "Epoch [71/100], Batch [300/469], loss_f: -0.02455, loss_G: 1.77980\n",
      "Epoch [71/100], Batch [350/469], loss_f: -0.02121, loss_G: 1.79760\n",
      "Epoch [71/100], Batch [400/469], loss_f: -0.02411, loss_G: 1.78900\n",
      "Epoch [71/100], Batch [450/469], loss_f: -0.04941, loss_G: 1.72940\n",
      "Epoch [71/100], Batch [469/469], loss_f: -0.01204, loss_G: 1.79844\n",
      "Epoch [72/100], Batch [3/469], loss_f: -0.02505, loss_G: 1.84452\n",
      "Epoch [72/100], Batch [50/469], loss_f: -0.02848, loss_G: 1.73423\n",
      "Epoch [72/100], Batch [100/469], loss_f: -0.01212, loss_G: 1.80782\n",
      "Epoch [72/100], Batch [150/469], loss_f: -0.02111, loss_G: 1.77973\n",
      "Epoch [72/100], Batch [200/469], loss_f: -0.01748, loss_G: 1.81645\n",
      "Epoch [72/100], Batch [250/469], loss_f: -0.02860, loss_G: 1.78618\n",
      "Epoch [72/100], Batch [300/469], loss_f: -0.02074, loss_G: 1.78932\n",
      "Epoch [72/100], Batch [350/469], loss_f: -0.02165, loss_G: 1.78085\n",
      "Epoch [72/100], Batch [400/469], loss_f: -0.02362, loss_G: 1.80018\n",
      "Epoch [72/100], Batch [450/469], loss_f: -0.02712, loss_G: 1.81550\n",
      "Epoch [72/100], Batch [469/469], loss_f: -0.02194, loss_G: 1.80590\n",
      "Epoch [73/100], Batch [3/469], loss_f: -0.02837, loss_G: 1.78555\n",
      "Epoch [73/100], Batch [50/469], loss_f: -0.02580, loss_G: 1.84967\n",
      "Epoch [73/100], Batch [100/469], loss_f: -0.01974, loss_G: 1.79603\n",
      "Epoch [73/100], Batch [150/469], loss_f: -0.01823, loss_G: 1.83614\n",
      "Epoch [73/100], Batch [200/469], loss_f: -0.02701, loss_G: 1.85693\n",
      "Epoch [73/100], Batch [250/469], loss_f: -0.01845, loss_G: 1.83375\n",
      "Epoch [73/100], Batch [300/469], loss_f: -0.02758, loss_G: 1.86826\n",
      "Epoch [73/100], Batch [350/469], loss_f: -0.02402, loss_G: 1.84545\n",
      "Epoch [73/100], Batch [400/469], loss_f: -0.01465, loss_G: 1.77568\n",
      "Epoch [73/100], Batch [450/469], loss_f: -0.02618, loss_G: 1.86051\n",
      "Epoch [73/100], Batch [469/469], loss_f: -0.00747, loss_G: 1.81916\n",
      "Epoch [74/100], Batch [3/469], loss_f: -0.03359, loss_G: 1.82732\n",
      "Epoch [74/100], Batch [50/469], loss_f: -0.02215, loss_G: 1.84770\n",
      "Epoch [74/100], Batch [100/469], loss_f: -0.02204, loss_G: 1.83033\n",
      "Epoch [74/100], Batch [150/469], loss_f: -0.01613, loss_G: 1.79905\n",
      "Epoch [74/100], Batch [200/469], loss_f: -0.02215, loss_G: 1.82061\n",
      "Epoch [74/100], Batch [250/469], loss_f: -0.03175, loss_G: 1.78550\n",
      "Epoch [74/100], Batch [300/469], loss_f: -0.03720, loss_G: 1.79663\n",
      "Epoch [74/100], Batch [350/469], loss_f: -0.02381, loss_G: 1.78729\n",
      "Epoch [74/100], Batch [400/469], loss_f: -0.02916, loss_G: 1.78406\n",
      "Epoch [74/100], Batch [450/469], loss_f: -0.02927, loss_G: 1.83197\n",
      "Epoch [74/100], Batch [469/469], loss_f: -0.01698, loss_G: 1.80561\n",
      "Epoch [75/100], Batch [3/469], loss_f: -0.03074, loss_G: 1.82842\n",
      "Epoch [75/100], Batch [50/469], loss_f: -0.01972, loss_G: 1.84552\n",
      "Epoch [75/100], Batch [100/469], loss_f: -0.01623, loss_G: 1.91630\n",
      "Epoch [75/100], Batch [150/469], loss_f: -0.03022, loss_G: 1.87006\n",
      "Epoch [75/100], Batch [200/469], loss_f: -0.02824, loss_G: 1.83331\n",
      "Epoch [75/100], Batch [250/469], loss_f: -0.02053, loss_G: 1.86807\n",
      "Epoch [75/100], Batch [300/469], loss_f: -0.02757, loss_G: 1.83687\n",
      "Epoch [75/100], Batch [350/469], loss_f: -0.03192, loss_G: 1.85402\n",
      "Epoch [75/100], Batch [400/469], loss_f: -0.03144, loss_G: 1.87359\n",
      "Epoch [75/100], Batch [450/469], loss_f: -0.03653, loss_G: 1.83738\n",
      "Epoch [75/100], Batch [469/469], loss_f: -0.02106, loss_G: 1.84564\n",
      "Epoch [76/100], Batch [3/469], loss_f: -0.04008, loss_G: 1.80786\n",
      "Epoch [76/100], Batch [50/469], loss_f: -0.01644, loss_G: 1.77688\n",
      "Epoch [76/100], Batch [100/469], loss_f: -0.01287, loss_G: 1.83995\n",
      "Epoch [76/100], Batch [150/469], loss_f: -0.02954, loss_G: 1.85296\n",
      "Epoch [76/100], Batch [200/469], loss_f: -0.02673, loss_G: 1.77209\n",
      "Epoch [76/100], Batch [250/469], loss_f: -0.01321, loss_G: 1.82313\n",
      "Epoch [76/100], Batch [300/469], loss_f: -0.02338, loss_G: 1.81019\n",
      "Epoch [76/100], Batch [350/469], loss_f: -0.03791, loss_G: 1.81229\n",
      "Epoch [76/100], Batch [400/469], loss_f: -0.01048, loss_G: 1.89165\n",
      "Epoch [76/100], Batch [450/469], loss_f: -0.02022, loss_G: 1.87468\n",
      "Epoch [76/100], Batch [469/469], loss_f: -0.01006, loss_G: 1.90205\n",
      "Epoch [77/100], Batch [3/469], loss_f: -0.02264, loss_G: 1.93643\n",
      "Epoch [77/100], Batch [50/469], loss_f: -0.01937, loss_G: 1.86146\n",
      "Epoch [77/100], Batch [100/469], loss_f: -0.02771, loss_G: 1.83836\n",
      "Epoch [77/100], Batch [150/469], loss_f: -0.03204, loss_G: 1.87590\n",
      "Epoch [77/100], Batch [200/469], loss_f: -0.01963, loss_G: 1.86207\n",
      "Epoch [77/100], Batch [250/469], loss_f: -0.02945, loss_G: 1.80433\n",
      "Epoch [77/100], Batch [300/469], loss_f: -0.02160, loss_G: 1.87916\n",
      "Epoch [77/100], Batch [350/469], loss_f: -0.02015, loss_G: 1.91521\n",
      "Epoch [77/100], Batch [400/469], loss_f: -0.01648, loss_G: 1.87480\n",
      "Epoch [77/100], Batch [450/469], loss_f: -0.02626, loss_G: 1.81310\n",
      "Epoch [77/100], Batch [469/469], loss_f: -0.02021, loss_G: 1.82457\n",
      "Epoch [78/100], Batch [3/469], loss_f: -0.02389, loss_G: 1.86078\n",
      "Epoch [78/100], Batch [50/469], loss_f: -0.02755, loss_G: 1.87465\n",
      "Epoch [78/100], Batch [100/469], loss_f: -0.00870, loss_G: 1.82832\n",
      "Epoch [78/100], Batch [150/469], loss_f: -0.02225, loss_G: 1.83460\n",
      "Epoch [78/100], Batch [200/469], loss_f: -0.02268, loss_G: 1.89376\n",
      "Epoch [78/100], Batch [250/469], loss_f: -0.02915, loss_G: 1.84936\n",
      "Epoch [78/100], Batch [300/469], loss_f: -0.01859, loss_G: 1.83534\n",
      "Epoch [78/100], Batch [350/469], loss_f: -0.02292, loss_G: 1.87590\n",
      "Epoch [78/100], Batch [400/469], loss_f: -0.02796, loss_G: 1.89622\n",
      "Epoch [78/100], Batch [450/469], loss_f: -0.02203, loss_G: 1.89363\n",
      "Epoch [78/100], Batch [469/469], loss_f: -0.00234, loss_G: 1.88165\n",
      "Epoch [79/100], Batch [3/469], loss_f: -0.02816, loss_G: 1.84867\n",
      "Epoch [79/100], Batch [50/469], loss_f: -0.02786, loss_G: 1.88211\n",
      "Epoch [79/100], Batch [100/469], loss_f: -0.00594, loss_G: 1.81459\n",
      "Epoch [79/100], Batch [150/469], loss_f: -0.02417, loss_G: 1.85153\n",
      "Epoch [79/100], Batch [200/469], loss_f: -0.03119, loss_G: 1.83538\n"
     ]
    },
    {
     "name": "stdout",
     "output_type": "stream",
     "text": [
      "Epoch [79/100], Batch [250/469], loss_f: -0.01035, loss_G: 1.85994\n",
      "Epoch [79/100], Batch [300/469], loss_f: -0.03147, loss_G: 1.88665\n",
      "Epoch [79/100], Batch [350/469], loss_f: -0.01626, loss_G: 1.81003\n",
      "Epoch [79/100], Batch [400/469], loss_f: -0.01665, loss_G: 1.88525\n",
      "Epoch [79/100], Batch [450/469], loss_f: -0.01664, loss_G: 1.89013\n",
      "Epoch [79/100], Batch [469/469], loss_f: -0.02756, loss_G: 1.85069\n",
      "Epoch [80/100], Batch [3/469], loss_f: -0.01408, loss_G: 1.86070\n",
      "Epoch [80/100], Batch [50/469], loss_f: -0.03090, loss_G: 1.80264\n",
      "Epoch [80/100], Batch [100/469], loss_f: -0.01825, loss_G: 1.86461\n",
      "Epoch [80/100], Batch [150/469], loss_f: -0.02408, loss_G: 1.91722\n",
      "Epoch [80/100], Batch [200/469], loss_f: -0.01661, loss_G: 1.84368\n",
      "Epoch [80/100], Batch [250/469], loss_f: -0.02946, loss_G: 1.92605\n",
      "Epoch [80/100], Batch [300/469], loss_f: -0.01624, loss_G: 1.87912\n",
      "Epoch [80/100], Batch [350/469], loss_f: -0.02489, loss_G: 1.85510\n",
      "Epoch [80/100], Batch [400/469], loss_f: -0.02117, loss_G: 1.90364\n",
      "Epoch [80/100], Batch [450/469], loss_f: -0.03598, loss_G: 1.88098\n",
      "Epoch [80/100], Batch [469/469], loss_f: -0.02948, loss_G: 1.83634\n",
      "Epoch [81/100], Batch [3/469], loss_f: -0.02839, loss_G: 1.81859\n",
      "Epoch [81/100], Batch [50/469], loss_f: -0.03176, loss_G: 1.84520\n",
      "Epoch [81/100], Batch [100/469], loss_f: -0.02276, loss_G: 1.86166\n",
      "Epoch [81/100], Batch [150/469], loss_f: -0.02858, loss_G: 1.87620\n",
      "Epoch [81/100], Batch [200/469], loss_f: -0.02561, loss_G: 1.87935\n",
      "Epoch [81/100], Batch [250/469], loss_f: -0.02574, loss_G: 1.91986\n",
      "Epoch [81/100], Batch [300/469], loss_f: -0.02749, loss_G: 1.86023\n",
      "Epoch [81/100], Batch [350/469], loss_f: -0.02102, loss_G: 1.92102\n",
      "Epoch [81/100], Batch [400/469], loss_f: -0.01623, loss_G: 1.89230\n",
      "Epoch [81/100], Batch [450/469], loss_f: -0.02090, loss_G: 1.93030\n",
      "Epoch [81/100], Batch [469/469], loss_f: -0.02904, loss_G: 1.86861\n",
      "Epoch [82/100], Batch [3/469], loss_f: -0.02974, loss_G: 1.85873\n",
      "Epoch [82/100], Batch [50/469], loss_f: -0.02675, loss_G: 1.85622\n",
      "Epoch [82/100], Batch [100/469], loss_f: -0.01830, loss_G: 1.83571\n",
      "Epoch [82/100], Batch [150/469], loss_f: -0.02746, loss_G: 1.88668\n",
      "Epoch [82/100], Batch [200/469], loss_f: -0.01425, loss_G: 1.93550\n",
      "Epoch [82/100], Batch [250/469], loss_f: -0.02185, loss_G: 1.89026\n",
      "Epoch [82/100], Batch [300/469], loss_f: -0.03069, loss_G: 1.87261\n",
      "Epoch [82/100], Batch [350/469], loss_f: -0.01904, loss_G: 1.88301\n",
      "Epoch [82/100], Batch [400/469], loss_f: -0.02210, loss_G: 1.88570\n",
      "Epoch [82/100], Batch [450/469], loss_f: -0.02679, loss_G: 1.94090\n",
      "Epoch [82/100], Batch [469/469], loss_f: -0.00693, loss_G: 1.87018\n",
      "Epoch [83/100], Batch [3/469], loss_f: -0.01759, loss_G: 1.87099\n",
      "Epoch [83/100], Batch [50/469], loss_f: -0.00859, loss_G: 1.84049\n",
      "Epoch [83/100], Batch [100/469], loss_f: -0.03412, loss_G: 1.93238\n",
      "Epoch [83/100], Batch [150/469], loss_f: -0.03265, loss_G: 1.93257\n",
      "Epoch [83/100], Batch [200/469], loss_f: -0.01335, loss_G: 1.92699\n",
      "Epoch [83/100], Batch [250/469], loss_f: -0.01531, loss_G: 1.86549\n",
      "Epoch [83/100], Batch [300/469], loss_f: -0.03286, loss_G: 1.89773\n",
      "Epoch [83/100], Batch [350/469], loss_f: -0.03184, loss_G: 1.92560\n",
      "Epoch [83/100], Batch [400/469], loss_f: -0.03131, loss_G: 1.93932\n",
      "Epoch [83/100], Batch [450/469], loss_f: -0.01344, loss_G: 1.91646\n",
      "Epoch [83/100], Batch [469/469], loss_f: -0.00842, loss_G: 1.92954\n",
      "Epoch [84/100], Batch [3/469], loss_f: -0.01026, loss_G: 1.90900\n",
      "Epoch [84/100], Batch [50/469], loss_f: -0.03875, loss_G: 1.94784\n",
      "Epoch [84/100], Batch [100/469], loss_f: -0.01741, loss_G: 1.95301\n",
      "Epoch [84/100], Batch [150/469], loss_f: -0.03278, loss_G: 1.96455\n",
      "Epoch [84/100], Batch [200/469], loss_f: -0.03089, loss_G: 1.93742\n",
      "Epoch [84/100], Batch [250/469], loss_f: -0.01874, loss_G: 1.84452\n",
      "Epoch [84/100], Batch [300/469], loss_f: -0.02872, loss_G: 1.90049\n",
      "Epoch [84/100], Batch [350/469], loss_f: -0.03326, loss_G: 1.93690\n",
      "Epoch [84/100], Batch [400/469], loss_f: -0.01251, loss_G: 1.92241\n",
      "Epoch [84/100], Batch [450/469], loss_f: -0.02147, loss_G: 1.98359\n",
      "Epoch [84/100], Batch [469/469], loss_f: -0.01377, loss_G: 1.91295\n",
      "Epoch [85/100], Batch [3/469], loss_f: -0.01737, loss_G: 1.87674\n",
      "Epoch [85/100], Batch [50/469], loss_f: -0.01759, loss_G: 1.89541\n",
      "Epoch [85/100], Batch [100/469], loss_f: -0.01070, loss_G: 1.98390\n",
      "Epoch [85/100], Batch [150/469], loss_f: -0.02354, loss_G: 1.93192\n",
      "Epoch [85/100], Batch [200/469], loss_f: -0.03184, loss_G: 1.91572\n",
      "Epoch [85/100], Batch [250/469], loss_f: -0.02257, loss_G: 1.93392\n",
      "Epoch [85/100], Batch [300/469], loss_f: -0.02402, loss_G: 1.94013\n",
      "Epoch [85/100], Batch [350/469], loss_f: -0.02821, loss_G: 1.96692\n",
      "Epoch [85/100], Batch [400/469], loss_f: -0.02342, loss_G: 1.93192\n",
      "Epoch [85/100], Batch [450/469], loss_f: -0.01301, loss_G: 1.92156\n",
      "Epoch [85/100], Batch [469/469], loss_f: -0.01505, loss_G: 1.95566\n",
      "Epoch [86/100], Batch [3/469], loss_f: -0.02651, loss_G: 1.94468\n",
      "Epoch [86/100], Batch [50/469], loss_f: -0.02854, loss_G: 1.95101\n",
      "Epoch [86/100], Batch [100/469], loss_f: -0.02160, loss_G: 1.90158\n",
      "Epoch [86/100], Batch [150/469], loss_f: -0.02094, loss_G: 1.96249\n",
      "Epoch [86/100], Batch [200/469], loss_f: -0.02105, loss_G: 1.97058\n",
      "Epoch [86/100], Batch [250/469], loss_f: -0.02575, loss_G: 1.92594\n",
      "Epoch [86/100], Batch [300/469], loss_f: -0.02348, loss_G: 1.89899\n",
      "Epoch [86/100], Batch [350/469], loss_f: -0.02470, loss_G: 2.01631\n",
      "Epoch [86/100], Batch [400/469], loss_f: -0.01681, loss_G: 1.96045\n",
      "Epoch [86/100], Batch [450/469], loss_f: -0.02555, loss_G: 1.96282\n",
      "Epoch [86/100], Batch [469/469], loss_f: -0.02444, loss_G: 1.98926\n",
      "Epoch [87/100], Batch [3/469], loss_f: -0.02660, loss_G: 2.01172\n",
      "Epoch [87/100], Batch [50/469], loss_f: -0.03008, loss_G: 1.93813\n",
      "Epoch [87/100], Batch [100/469], loss_f: -0.02115, loss_G: 1.92252\n",
      "Epoch [87/100], Batch [150/469], loss_f: -0.04019, loss_G: 1.99821\n",
      "Epoch [87/100], Batch [200/469], loss_f: -0.01556, loss_G: 1.92965\n",
      "Epoch [87/100], Batch [250/469], loss_f: -0.01370, loss_G: 1.97471\n",
      "Epoch [87/100], Batch [300/469], loss_f: -0.01873, loss_G: 1.95161\n",
      "Epoch [87/100], Batch [350/469], loss_f: -0.02211, loss_G: 1.98401\n",
      "Epoch [87/100], Batch [400/469], loss_f: -0.00408, loss_G: 1.96372\n",
      "Epoch [87/100], Batch [450/469], loss_f: -0.02454, loss_G: 1.99372\n",
      "Epoch [87/100], Batch [469/469], loss_f: -0.02106, loss_G: 2.01188\n",
      "Epoch [88/100], Batch [3/469], loss_f: -0.02405, loss_G: 2.02455\n",
      "Epoch [88/100], Batch [50/469], loss_f: -0.02316, loss_G: 1.95770\n",
      "Epoch [88/100], Batch [100/469], loss_f: -0.01730, loss_G: 1.98671\n",
      "Epoch [88/100], Batch [150/469], loss_f: -0.02360, loss_G: 1.98276\n",
      "Epoch [88/100], Batch [200/469], loss_f: -0.02118, loss_G: 1.96963\n",
      "Epoch [88/100], Batch [250/469], loss_f: -0.02785, loss_G: 1.94305\n",
      "Epoch [88/100], Batch [300/469], loss_f: -0.02457, loss_G: 2.00618\n",
      "Epoch [88/100], Batch [350/469], loss_f: -0.03142, loss_G: 1.99693\n",
      "Epoch [88/100], Batch [400/469], loss_f: -0.03065, loss_G: 2.00494\n",
      "Epoch [88/100], Batch [450/469], loss_f: -0.02046, loss_G: 2.01644\n",
      "Epoch [88/100], Batch [469/469], loss_f: -0.01126, loss_G: 1.97291\n",
      "Epoch [89/100], Batch [3/469], loss_f: -0.01179, loss_G: 1.96493\n",
      "Epoch [89/100], Batch [50/469], loss_f: -0.02236, loss_G: 1.96117\n",
      "Epoch [89/100], Batch [100/469], loss_f: -0.02040, loss_G: 2.02606\n",
      "Epoch [89/100], Batch [150/469], loss_f: -0.02207, loss_G: 1.95360\n",
      "Epoch [89/100], Batch [200/469], loss_f: -0.01000, loss_G: 1.97211\n",
      "Epoch [89/100], Batch [250/469], loss_f: -0.02620, loss_G: 1.99355\n",
      "Epoch [89/100], Batch [300/469], loss_f: -0.02536, loss_G: 2.00445\n",
      "Epoch [89/100], Batch [350/469], loss_f: -0.02598, loss_G: 1.99062\n",
      "Epoch [89/100], Batch [400/469], loss_f: -0.01327, loss_G: 2.00913\n",
      "Epoch [89/100], Batch [450/469], loss_f: -0.02852, loss_G: 1.91865\n",
      "Epoch [89/100], Batch [469/469], loss_f: -0.02387, loss_G: 2.01820\n",
      "Epoch [90/100], Batch [3/469], loss_f: -0.02402, loss_G: 2.03735\n",
      "Epoch [90/100], Batch [50/469], loss_f: -0.02426, loss_G: 1.95430\n",
      "Epoch [90/100], Batch [100/469], loss_f: -0.01360, loss_G: 1.94588\n",
      "Epoch [90/100], Batch [150/469], loss_f: -0.02050, loss_G: 1.97516\n",
      "Epoch [90/100], Batch [200/469], loss_f: -0.02012, loss_G: 1.99639\n",
      "Epoch [90/100], Batch [250/469], loss_f: -0.02155, loss_G: 2.01567\n",
      "Epoch [90/100], Batch [300/469], loss_f: -0.02684, loss_G: 2.00477\n"
     ]
    },
    {
     "name": "stdout",
     "output_type": "stream",
     "text": [
      "Epoch [90/100], Batch [350/469], loss_f: -0.02428, loss_G: 1.97567\n",
      "Epoch [90/100], Batch [400/469], loss_f: -0.02313, loss_G: 2.00758\n",
      "Epoch [90/100], Batch [450/469], loss_f: -0.02127, loss_G: 2.09144\n",
      "Epoch [90/100], Batch [469/469], loss_f: -0.03259, loss_G: 1.97193\n",
      "Epoch [91/100], Batch [3/469], loss_f: -0.02551, loss_G: 1.96427\n",
      "Epoch [91/100], Batch [50/469], loss_f: -0.01949, loss_G: 2.00057\n",
      "Epoch [91/100], Batch [100/469], loss_f: -0.02560, loss_G: 2.02204\n",
      "Epoch [91/100], Batch [150/469], loss_f: -0.01764, loss_G: 1.96371\n",
      "Epoch [91/100], Batch [200/469], loss_f: -0.02326, loss_G: 2.06118\n",
      "Epoch [91/100], Batch [250/469], loss_f: -0.02275, loss_G: 1.97098\n",
      "Epoch [91/100], Batch [300/469], loss_f: -0.02538, loss_G: 1.95237\n",
      "Epoch [91/100], Batch [350/469], loss_f: -0.02450, loss_G: 1.97303\n",
      "Epoch [91/100], Batch [400/469], loss_f: -0.02835, loss_G: 2.02744\n",
      "Epoch [91/100], Batch [450/469], loss_f: -0.02108, loss_G: 2.02453\n",
      "Epoch [91/100], Batch [469/469], loss_f: -0.02505, loss_G: 2.02452\n",
      "Epoch [92/100], Batch [3/469], loss_f: -0.02284, loss_G: 2.01191\n",
      "Epoch [92/100], Batch [50/469], loss_f: -0.01724, loss_G: 1.92890\n",
      "Epoch [92/100], Batch [100/469], loss_f: -0.02914, loss_G: 1.99579\n",
      "Epoch [92/100], Batch [150/469], loss_f: -0.01883, loss_G: 2.01612\n",
      "Epoch [92/100], Batch [200/469], loss_f: -0.01874, loss_G: 1.94920\n",
      "Epoch [92/100], Batch [250/469], loss_f: -0.02287, loss_G: 2.01091\n",
      "Epoch [92/100], Batch [300/469], loss_f: -0.03730, loss_G: 2.00887\n",
      "Epoch [92/100], Batch [350/469], loss_f: -0.02941, loss_G: 1.96496\n",
      "Epoch [92/100], Batch [400/469], loss_f: -0.01964, loss_G: 1.98545\n",
      "Epoch [92/100], Batch [450/469], loss_f: -0.02493, loss_G: 2.00482\n",
      "Epoch [92/100], Batch [469/469], loss_f: -0.01110, loss_G: 2.01194\n",
      "Epoch [93/100], Batch [3/469], loss_f: -0.01676, loss_G: 2.02134\n",
      "Epoch [93/100], Batch [50/469], loss_f: -0.03780, loss_G: 1.95244\n",
      "Epoch [93/100], Batch [100/469], loss_f: -0.01897, loss_G: 2.04548\n",
      "Epoch [93/100], Batch [150/469], loss_f: -0.03076, loss_G: 1.96020\n",
      "Epoch [93/100], Batch [200/469], loss_f: -0.02724, loss_G: 2.01624\n",
      "Epoch [93/100], Batch [250/469], loss_f: -0.01791, loss_G: 2.10333\n",
      "Epoch [93/100], Batch [300/469], loss_f: -0.00655, loss_G: 1.99983\n",
      "Epoch [93/100], Batch [350/469], loss_f: -0.01747, loss_G: 2.05840\n",
      "Epoch [93/100], Batch [400/469], loss_f: -0.01871, loss_G: 2.04732\n",
      "Epoch [93/100], Batch [450/469], loss_f: -0.02863, loss_G: 2.02402\n",
      "Epoch [93/100], Batch [469/469], loss_f: -0.02069, loss_G: 2.04707\n",
      "Epoch [94/100], Batch [3/469], loss_f: -0.02721, loss_G: 2.05121\n",
      "Epoch [94/100], Batch [50/469], loss_f: -0.01793, loss_G: 2.00231\n",
      "Epoch [94/100], Batch [100/469], loss_f: -0.01976, loss_G: 2.07963\n",
      "Epoch [94/100], Batch [150/469], loss_f: -0.02868, loss_G: 2.02906\n",
      "Epoch [94/100], Batch [200/469], loss_f: -0.03707, loss_G: 2.01256\n",
      "Epoch [94/100], Batch [250/469], loss_f: -0.01920, loss_G: 2.07642\n",
      "Epoch [94/100], Batch [300/469], loss_f: -0.02580, loss_G: 1.96523\n",
      "Epoch [94/100], Batch [350/469], loss_f: -0.02097, loss_G: 2.06443\n",
      "Epoch [94/100], Batch [400/469], loss_f: -0.02633, loss_G: 2.03469\n",
      "Epoch [94/100], Batch [450/469], loss_f: -0.03175, loss_G: 2.04307\n",
      "Epoch [94/100], Batch [469/469], loss_f: -0.01164, loss_G: 1.99830\n",
      "Epoch [95/100], Batch [3/469], loss_f: -0.03236, loss_G: 1.99238\n",
      "Epoch [95/100], Batch [50/469], loss_f: -0.02624, loss_G: 1.99712\n",
      "Epoch [95/100], Batch [100/469], loss_f: -0.02140, loss_G: 1.98909\n",
      "Epoch [95/100], Batch [150/469], loss_f: -0.03887, loss_G: 2.04562\n",
      "Epoch [95/100], Batch [200/469], loss_f: -0.01498, loss_G: 1.99782\n",
      "Epoch [95/100], Batch [250/469], loss_f: -0.01365, loss_G: 2.05298\n",
      "Epoch [95/100], Batch [300/469], loss_f: -0.03246, loss_G: 2.03002\n",
      "Epoch [95/100], Batch [350/469], loss_f: -0.02503, loss_G: 2.01945\n",
      "Epoch [95/100], Batch [400/469], loss_f: -0.00853, loss_G: 1.99748\n",
      "Epoch [95/100], Batch [450/469], loss_f: -0.04058, loss_G: 2.07037\n",
      "Epoch [95/100], Batch [469/469], loss_f: -0.03201, loss_G: 1.99524\n",
      "Epoch [96/100], Batch [3/469], loss_f: -0.01517, loss_G: 1.98615\n",
      "Epoch [96/100], Batch [50/469], loss_f: 0.00200, loss_G: 2.02661\n",
      "Epoch [96/100], Batch [100/469], loss_f: -0.01516, loss_G: 2.01678\n",
      "Epoch [96/100], Batch [150/469], loss_f: -0.02517, loss_G: 2.09605\n",
      "Epoch [96/100], Batch [200/469], loss_f: -0.01458, loss_G: 2.12281\n",
      "Epoch [96/100], Batch [250/469], loss_f: -0.02102, loss_G: 2.03353\n",
      "Epoch [96/100], Batch [300/469], loss_f: -0.03568, loss_G: 2.05994\n",
      "Epoch [96/100], Batch [350/469], loss_f: -0.03352, loss_G: 2.10200\n",
      "Epoch [96/100], Batch [400/469], loss_f: -0.01510, loss_G: 2.09876\n",
      "Epoch [96/100], Batch [450/469], loss_f: -0.02684, loss_G: 2.08643\n",
      "Epoch [96/100], Batch [469/469], loss_f: -0.01571, loss_G: 2.02906\n",
      "Epoch [97/100], Batch [3/469], loss_f: -0.03049, loss_G: 2.01789\n",
      "Epoch [97/100], Batch [50/469], loss_f: -0.02234, loss_G: 2.08664\n",
      "Epoch [97/100], Batch [100/469], loss_f: -0.01536, loss_G: 2.10281\n",
      "Epoch [97/100], Batch [150/469], loss_f: -0.02444, loss_G: 2.07821\n",
      "Epoch [97/100], Batch [200/469], loss_f: -0.01416, loss_G: 2.03482\n",
      "Epoch [97/100], Batch [250/469], loss_f: -0.02330, loss_G: 2.03959\n",
      "Epoch [97/100], Batch [300/469], loss_f: -0.02959, loss_G: 2.03166\n",
      "Epoch [97/100], Batch [350/469], loss_f: -0.03145, loss_G: 2.06351\n",
      "Epoch [97/100], Batch [400/469], loss_f: -0.01920, loss_G: 2.07018\n",
      "Epoch [97/100], Batch [450/469], loss_f: -0.01449, loss_G: 2.10994\n",
      "Epoch [97/100], Batch [469/469], loss_f: -0.01862, loss_G: 2.02262\n",
      "Epoch [98/100], Batch [3/469], loss_f: -0.02067, loss_G: 2.03557\n",
      "Epoch [98/100], Batch [50/469], loss_f: -0.01941, loss_G: 2.09494\n",
      "Epoch [98/100], Batch [100/469], loss_f: -0.01267, loss_G: 2.05116\n",
      "Epoch [98/100], Batch [150/469], loss_f: -0.02040, loss_G: 2.05338\n",
      "Epoch [98/100], Batch [200/469], loss_f: -0.02622, loss_G: 2.07672\n",
      "Epoch [98/100], Batch [250/469], loss_f: -0.02336, loss_G: 2.10692\n",
      "Epoch [98/100], Batch [300/469], loss_f: -0.02511, loss_G: 2.11605\n",
      "Epoch [98/100], Batch [350/469], loss_f: -0.02410, loss_G: 2.04965\n",
      "Epoch [98/100], Batch [400/469], loss_f: -0.01218, loss_G: 2.05521\n",
      "Epoch [98/100], Batch [450/469], loss_f: -0.02837, loss_G: 2.04208\n",
      "Epoch [98/100], Batch [469/469], loss_f: -0.02031, loss_G: 2.08030\n",
      "Epoch [99/100], Batch [3/469], loss_f: -0.03146, loss_G: 2.08365\n",
      "Epoch [99/100], Batch [50/469], loss_f: -0.01783, loss_G: 2.05929\n",
      "Epoch [99/100], Batch [100/469], loss_f: -0.02271, loss_G: 2.06409\n",
      "Epoch [99/100], Batch [150/469], loss_f: -0.01730, loss_G: 2.00737\n",
      "Epoch [99/100], Batch [200/469], loss_f: -0.02073, loss_G: 2.01989\n",
      "Epoch [99/100], Batch [250/469], loss_f: -0.01853, loss_G: 2.07043\n",
      "Epoch [99/100], Batch [300/469], loss_f: -0.02644, loss_G: 2.08934\n",
      "Epoch [99/100], Batch [350/469], loss_f: -0.01744, loss_G: 2.07985\n",
      "Epoch [99/100], Batch [400/469], loss_f: -0.02277, loss_G: 2.03942\n",
      "Epoch [99/100], Batch [450/469], loss_f: -0.01795, loss_G: 2.01281\n",
      "Epoch [99/100], Batch [469/469], loss_f: -0.02162, loss_G: 2.08154\n",
      "Epoch [100/100], Batch [3/469], loss_f: -0.02342, loss_G: 2.06334\n",
      "Epoch [100/100], Batch [50/469], loss_f: -0.02293, loss_G: 2.04350\n",
      "Epoch [100/100], Batch [100/469], loss_f: -0.02755, loss_G: 2.05640\n",
      "Epoch [100/100], Batch [150/469], loss_f: -0.02709, loss_G: 2.09280\n",
      "Epoch [100/100], Batch [200/469], loss_f: -0.02936, loss_G: 2.04622\n",
      "Epoch [100/100], Batch [250/469], loss_f: -0.01262, loss_G: 2.09542\n",
      "Epoch [100/100], Batch [300/469], loss_f: -0.04155, loss_G: 2.09065\n",
      "Epoch [100/100], Batch [350/469], loss_f: -0.01327, loss_G: 2.03646\n",
      "Epoch [100/100], Batch [400/469], loss_f: -0.02437, loss_G: 2.04445\n",
      "Epoch [100/100], Batch [450/469], loss_f: -0.03295, loss_G: 2.08479\n",
      "Epoch [100/100], Batch [469/469], loss_f: -0.01305, loss_G: 2.06079\n"
     ]
    },
    {
     "data": {
      "image/png": "[encoded data removed]",
      "text/plain": [
       "<Figure size 432x288 with 1 Axes>"
      ]
     },
     "metadata": {
      "needs_background": "light"
     },
     "output_type": "display_data"
    }
   ],
   "source": [
    "###### Experiment 2 ######\n",
    "\n",
    "# ### Hyperparameters ###\n",
    "\n",
    "# # Data loader\n",
    "# batch_size = 128\n",
    "\n",
    "# # Architecture\n",
    "# num_features = 32\n",
    "\n",
    "# # Training\n",
    "# num_epochs = 100\n",
    "# train_steps = (3, 4)   # Critic to generator training ratio\n",
    "# lambda_gp = 1          # Gradient penalty constant\n",
    "\n",
    "# # Optimizer\n",
    "# optim_kwargs = dict(\n",
    "#     lr = 2e-4,\n",
    "#     momentum = 0.5,\n",
    "# )"
   ]
  },
  {
   "cell_type": "markdown",
   "id": "1855a49a",
   "metadata": {},
   "source": [
    "#### Experiment 1"
   ]
  },
  {
   "cell_type": "code",
   "execution_count": 14,
   "id": "fd42ce43",
   "metadata": {
    "scrolled": true
   },
   "outputs": [
    {
     "name": "stdout",
     "output_type": "stream",
     "text": [
      "seed: 19730019033400\n"
     ]
    },
    {
     "data": {
      "application/vnd.jupyter.widget-view+json": {
       "model_id": "dae112206783487caa2fada3b7fea8e4",
       "version_major": 2,
       "version_minor": 0
      },
      "text/plain": [
       "epoch:   0%|          | 0/100 [00:00<?, ?it/s]"
      ]
     },
     "metadata": {},
     "output_type": "display_data"
    },
    {
     "data": {
      "application/vnd.jupyter.widget-view+json": {
       "model_id": "d7667909f75a40efbf23be19081dd7b9",
       "version_major": 2,
       "version_minor": 0
      },
      "text/plain": [
       "d_steps:   0%|          | 0/469 [00:00<?, ?it/s]"
      ]
     },
     "metadata": {},
     "output_type": "display_data"
    },
    {
     "data": {
      "application/vnd.jupyter.widget-view+json": {
       "model_id": "f65d9b3295df4edcb8bca7a6a6c49fbd",
       "version_major": 2,
       "version_minor": 0
      },
      "text/plain": [
       "g_steps:   0%|          | 0/234 [00:00<?, ?it/s]"
      ]
     },
     "metadata": {},
     "output_type": "display_data"
    },
    {
     "name": "stdout",
     "output_type": "stream",
     "text": [
      "Epoch [1/100], Batch [50/469], d_loss: -0.00015, g_loss: -0.00263\n",
      "Epoch [1/100], Batch [100/469], d_loss: -0.00100, g_loss: -0.00234\n",
      "Epoch [1/100], Batch [150/469], d_loss: -0.00106, g_loss: -0.00300\n",
      "Epoch [1/100], Batch [200/469], d_loss: -0.00084, g_loss: -0.00313\n",
      "Epoch [1/100], Batch [250/469], d_loss: -0.00073, g_loss: -0.00210\n",
      "Epoch [1/100], Batch [300/469], d_loss: -0.00074, g_loss: -0.00226\n",
      "Epoch [1/100], Batch [350/469], d_loss: -0.00028, g_loss: -0.00206\n",
      "Epoch [1/100], Batch [400/469], d_loss: -0.00023, g_loss: -0.00231\n",
      "Epoch [1/100], Batch [450/469], d_loss: -0.00036, g_loss: -0.00304\n",
      "Epoch [2/100], Batch [50/469], d_loss: -0.00013, g_loss: -0.00295\n",
      "Epoch [2/100], Batch [100/469], d_loss: -0.00031, g_loss: -0.00266\n",
      "Epoch [2/100], Batch [150/469], d_loss: 0.00006, g_loss: -0.00233\n",
      "Epoch [2/100], Batch [200/469], d_loss: -0.00034, g_loss: -0.00189\n",
      "Epoch [2/100], Batch [250/469], d_loss: -0.00014, g_loss: -0.00243\n",
      "Epoch [2/100], Batch [300/469], d_loss: -0.00042, g_loss: -0.00203\n",
      "Epoch [2/100], Batch [350/469], d_loss: -0.00016, g_loss: -0.00226\n",
      "Epoch [2/100], Batch [400/469], d_loss: -0.00030, g_loss: -0.00192\n",
      "Epoch [2/100], Batch [450/469], d_loss: -0.00015, g_loss: -0.00234\n",
      "Epoch [3/100], Batch [50/469], d_loss: -0.00033, g_loss: -0.00243\n",
      "Epoch [3/100], Batch [100/469], d_loss: -0.00036, g_loss: -0.00293\n",
      "Epoch [3/100], Batch [150/469], d_loss: -0.00052, g_loss: -0.00275\n",
      "Epoch [3/100], Batch [200/469], d_loss: -0.00058, g_loss: -0.00290\n",
      "Epoch [3/100], Batch [250/469], d_loss: -0.00027, g_loss: -0.00296\n",
      "Epoch [3/100], Batch [300/469], d_loss: -0.00010, g_loss: -0.00319\n",
      "Epoch [3/100], Batch [350/469], d_loss: -0.00006, g_loss: -0.00230\n",
      "Epoch [3/100], Batch [400/469], d_loss: -0.00025, g_loss: -0.00317\n",
      "Epoch [3/100], Batch [450/469], d_loss: -0.00010, g_loss: -0.00295\n",
      "Epoch [4/100], Batch [50/469], d_loss: -0.00014, g_loss: -0.00326\n",
      "Epoch [4/100], Batch [100/469], d_loss: -0.00053, g_loss: -0.00299\n",
      "Epoch [4/100], Batch [150/469], d_loss: -0.00064, g_loss: -0.00311\n",
      "Epoch [4/100], Batch [200/469], d_loss: -0.00005, g_loss: -0.00283\n",
      "Epoch [4/100], Batch [250/469], d_loss: -0.00022, g_loss: -0.00196\n",
      "Epoch [4/100], Batch [300/469], d_loss: -0.00032, g_loss: -0.00256\n",
      "Epoch [4/100], Batch [350/469], d_loss: -0.00033, g_loss: -0.00118\n",
      "Epoch [4/100], Batch [400/469], d_loss: -0.00057, g_loss: -0.00107\n",
      "Epoch [4/100], Batch [450/469], d_loss: -0.00052, g_loss: -0.00254\n",
      "Epoch [5/100], Batch [50/469], d_loss: -0.00059, g_loss: -0.00198\n",
      "Epoch [5/100], Batch [100/469], d_loss: -0.00089, g_loss: -0.00323\n",
      "Epoch [5/100], Batch [150/469], d_loss: -0.00099, g_loss: 0.00085\n",
      "Epoch [5/100], Batch [200/469], d_loss: -0.00127, g_loss: -0.00289\n",
      "Epoch [5/100], Batch [250/469], d_loss: -0.00209, g_loss: 0.00152\n",
      "Epoch [5/100], Batch [300/469], d_loss: -0.00168, g_loss: -0.00524\n",
      "Epoch [5/100], Batch [350/469], d_loss: -0.00065, g_loss: -0.00409\n",
      "Epoch [5/100], Batch [400/469], d_loss: -0.00033, g_loss: -0.00057\n",
      "Epoch [5/100], Batch [450/469], d_loss: -0.00049, g_loss: -0.00049\n",
      "Epoch [6/100], Batch [50/469], d_loss: -0.00056, g_loss: 0.00058\n",
      "Epoch [6/100], Batch [100/469], d_loss: -0.00131, g_loss: -0.00471\n",
      "Epoch [6/100], Batch [150/469], d_loss: -0.00033, g_loss: -0.00432\n",
      "Epoch [6/100], Batch [200/469], d_loss: -0.00097, g_loss: -0.00276\n",
      "Epoch [6/100], Batch [250/469], d_loss: -0.00111, g_loss: -0.00198\n",
      "Epoch [6/100], Batch [300/469], d_loss: -0.00100, g_loss: -0.00276\n",
      "Epoch [6/100], Batch [350/469], d_loss: -0.00205, g_loss: 0.00164\n",
      "Epoch [6/100], Batch [400/469], d_loss: -0.00028, g_loss: -0.00872\n",
      "Epoch [6/100], Batch [450/469], d_loss: -0.00022, g_loss: 0.00117\n",
      "Epoch [7/100], Batch [50/469], d_loss: -0.00217, g_loss: -0.00112\n",
      "Epoch [7/100], Batch [100/469], d_loss: -0.00399, g_loss: 0.00007\n",
      "Epoch [7/100], Batch [150/469], d_loss: -0.00009, g_loss: -0.00819\n",
      "Epoch [7/100], Batch [200/469], d_loss: -0.00060, g_loss: 0.00332\n",
      "Epoch [7/100], Batch [250/469], d_loss: -0.00151, g_loss: -0.00766\n",
      "Epoch [7/100], Batch [300/469], d_loss: 0.00057, g_loss: 0.00185\n",
      "Epoch [7/100], Batch [350/469], d_loss: -0.00325, g_loss: -0.00605\n",
      "Epoch [7/100], Batch [400/469], d_loss: 0.00160, g_loss: 0.00967\n",
      "Epoch [7/100], Batch [450/469], d_loss: -0.00161, g_loss: 0.01018\n",
      "Epoch [8/100], Batch [50/469], d_loss: -0.00480, g_loss: 0.01457\n",
      "Epoch [8/100], Batch [100/469], d_loss: -0.00267, g_loss: 0.01052\n",
      "Epoch [8/100], Batch [150/469], d_loss: -0.00014, g_loss: -0.01583\n",
      "Epoch [8/100], Batch [200/469], d_loss: -0.00536, g_loss: 0.02359\n",
      "Epoch [8/100], Batch [250/469], d_loss: -0.00207, g_loss: -0.00071\n",
      "Epoch [8/100], Batch [300/469], d_loss: 0.00010, g_loss: -0.01432\n",
      "Epoch [8/100], Batch [350/469], d_loss: -0.00683, g_loss: 0.01248\n",
      "Epoch [8/100], Batch [400/469], d_loss: 0.00014, g_loss: 0.01888\n",
      "Epoch [8/100], Batch [450/469], d_loss: -0.00138, g_loss: 0.02163\n",
      "Epoch [9/100], Batch [50/469], d_loss: -0.00456, g_loss: 0.00815\n",
      "Epoch [9/100], Batch [100/469], d_loss: -0.00740, g_loss: 0.00323\n",
      "Epoch [9/100], Batch [150/469], d_loss: -0.00562, g_loss: 0.02156\n",
      "Epoch [9/100], Batch [200/469], d_loss: -0.00047, g_loss: 0.00979\n",
      "Epoch [9/100], Batch [250/469], d_loss: -0.00219, g_loss: -0.01852\n",
      "Epoch [9/100], Batch [300/469], d_loss: 0.00063, g_loss: -0.00797\n",
      "Epoch [9/100], Batch [350/469], d_loss: -0.01023, g_loss: 0.00531\n",
      "Epoch [9/100], Batch [400/469], d_loss: 0.00053, g_loss: -0.00935\n",
      "Epoch [9/100], Batch [450/469], d_loss: 0.00177, g_loss: -0.01372\n",
      "Epoch [10/100], Batch [50/469], d_loss: -0.00088, g_loss: -0.01505\n",
      "Epoch [10/100], Batch [100/469], d_loss: -0.00088, g_loss: -0.01463\n",
      "Epoch [10/100], Batch [150/469], d_loss: -0.00058, g_loss: -0.01310\n",
      "Epoch [10/100], Batch [200/469], d_loss: -0.00052, g_loss: -0.00858\n",
      "Epoch [10/100], Batch [250/469], d_loss: -0.00210, g_loss: -0.00727\n",
      "Epoch [10/100], Batch [300/469], d_loss: -0.00121, g_loss: -0.01246\n",
      "Epoch [10/100], Batch [350/469], d_loss: -0.00297, g_loss: -0.01360\n",
      "Epoch [10/100], Batch [400/469], d_loss: -0.00373, g_loss: -0.01211\n",
      "Epoch [10/100], Batch [450/469], d_loss: 0.00276, g_loss: -0.02122\n",
      "Epoch [11/100], Batch [50/469], d_loss: 0.00059, g_loss: -0.02298\n",
      "Epoch [11/100], Batch [100/469], d_loss: -0.00302, g_loss: -0.01447\n",
      "Epoch [11/100], Batch [150/469], d_loss: -0.00455, g_loss: -0.00974\n",
      "Epoch [11/100], Batch [200/469], d_loss: 0.00046, g_loss: -0.01908\n",
      "Epoch [11/100], Batch [250/469], d_loss: -0.00348, g_loss: -0.01604\n",
      "Epoch [11/100], Batch [300/469], d_loss: -0.00717, g_loss: -0.01335\n",
      "Epoch [11/100], Batch [350/469], d_loss: -0.00045, g_loss: -0.02847\n",
      "Epoch [11/100], Batch [400/469], d_loss: -0.00502, g_loss: -0.01533\n",
      "Epoch [11/100], Batch [450/469], d_loss: -0.00093, g_loss: -0.02238\n",
      "Epoch [12/100], Batch [50/469], d_loss: -0.00438, g_loss: -0.01273\n",
      "Epoch [12/100], Batch [100/469], d_loss: 0.00138, g_loss: -0.03567\n",
      "Epoch [12/100], Batch [150/469], d_loss: -0.00337, g_loss: -0.01727\n",
      "Epoch [12/100], Batch [200/469], d_loss: -0.00678, g_loss: -0.01234\n",
      "Epoch [12/100], Batch [250/469], d_loss: -0.00049, g_loss: -0.03729\n",
      "Epoch [12/100], Batch [300/469], d_loss: -0.00671, g_loss: -0.01536\n",
      "Epoch [12/100], Batch [350/469], d_loss: -0.00110, g_loss: -0.03059\n",
      "Epoch [12/100], Batch [400/469], d_loss: -0.00761, g_loss: -0.00361\n",
      "Epoch [12/100], Batch [450/469], d_loss: -0.00395, g_loss: 0.01853\n",
      "Epoch [13/100], Batch [50/469], d_loss: -0.00626, g_loss: -0.01257\n",
      "Epoch [13/100], Batch [100/469], d_loss: -0.00059, g_loss: -0.00179\n",
      "Epoch [13/100], Batch [150/469], d_loss: -0.00399, g_loss: -0.02217\n",
      "Epoch [13/100], Batch [200/469], d_loss: -0.00272, g_loss: -0.01530\n",
      "Epoch [13/100], Batch [250/469], d_loss: -0.00141, g_loss: 0.00171\n",
      "Epoch [13/100], Batch [300/469], d_loss: -0.00184, g_loss: 0.01299\n",
      "Epoch [13/100], Batch [350/469], d_loss: -0.00241, g_loss: -0.02552\n",
      "Epoch [13/100], Batch [400/469], d_loss: -0.00612, g_loss: -0.01414\n",
      "Epoch [13/100], Batch [450/469], d_loss: -0.00873, g_loss: -0.00511\n",
      "Epoch [14/100], Batch [50/469], d_loss: -0.00462, g_loss: 0.01755\n",
      "Epoch [14/100], Batch [100/469], d_loss: -0.01114, g_loss: -0.01659\n",
      "Epoch [14/100], Batch [150/469], d_loss: -0.00103, g_loss: -0.01690\n",
      "Epoch [14/100], Batch [200/469], d_loss: -0.00484, g_loss: -0.01168\n",
      "Epoch [14/100], Batch [250/469], d_loss: -0.01283, g_loss: 0.00173\n",
      "Epoch [14/100], Batch [300/469], d_loss: -0.01113, g_loss: 0.00584\n"
     ]
    },
    {
     "name": "stdout",
     "output_type": "stream",
     "text": [
      "Epoch [14/100], Batch [350/469], d_loss: -0.00654, g_loss: 0.00173\n",
      "Epoch [14/100], Batch [400/469], d_loss: 0.00087, g_loss: 0.03372\n",
      "Epoch [14/100], Batch [450/469], d_loss: -0.00420, g_loss: -0.01906\n",
      "Epoch [15/100], Batch [50/469], d_loss: -0.01272, g_loss: 0.00944\n",
      "Epoch [15/100], Batch [100/469], d_loss: -0.01073, g_loss: -0.00221\n",
      "Epoch [15/100], Batch [150/469], d_loss: -0.00376, g_loss: 0.00171\n",
      "Epoch [15/100], Batch [200/469], d_loss: -0.00154, g_loss: -0.04456\n",
      "Epoch [15/100], Batch [250/469], d_loss: -0.00283, g_loss: 0.02775\n",
      "Epoch [15/100], Batch [300/469], d_loss: -0.00176, g_loss: -0.01402\n",
      "Epoch [15/100], Batch [350/469], d_loss: 0.00040, g_loss: -0.01235\n",
      "Epoch [15/100], Batch [400/469], d_loss: 0.00046, g_loss: -0.01094\n",
      "Epoch [15/100], Batch [450/469], d_loss: 0.00049, g_loss: -0.00997\n",
      "Epoch [16/100], Batch [50/469], d_loss: 0.00033, g_loss: -0.00811\n",
      "Epoch [16/100], Batch [100/469], d_loss: -0.00019, g_loss: -0.00689\n",
      "Epoch [16/100], Batch [150/469], d_loss: -0.00032, g_loss: -0.00553\n",
      "Epoch [16/100], Batch [200/469], d_loss: -0.00018, g_loss: -0.00513\n",
      "Epoch [16/100], Batch [250/469], d_loss: -0.00018, g_loss: -0.00498\n",
      "Epoch [16/100], Batch [300/469], d_loss: -0.00038, g_loss: -0.00452\n",
      "Epoch [16/100], Batch [350/469], d_loss: -0.00006, g_loss: -0.00519\n",
      "Epoch [16/100], Batch [400/469], d_loss: -0.00029, g_loss: -0.00397\n",
      "Epoch [16/100], Batch [450/469], d_loss: -0.00054, g_loss: -0.00335\n",
      "Epoch [17/100], Batch [50/469], d_loss: -0.00006, g_loss: -0.00556\n",
      "Epoch [17/100], Batch [100/469], d_loss: -0.00046, g_loss: -0.00748\n",
      "Epoch [17/100], Batch [150/469], d_loss: -0.00097, g_loss: -0.00489\n",
      "Epoch [17/100], Batch [200/469], d_loss: 0.00004, g_loss: -0.00272\n",
      "Epoch [17/100], Batch [250/469], d_loss: 0.00005, g_loss: -0.00556\n",
      "Epoch [17/100], Batch [300/469], d_loss: -0.00016, g_loss: -0.00691\n",
      "Epoch [17/100], Batch [350/469], d_loss: -0.00011, g_loss: -0.00669\n",
      "Epoch [17/100], Batch [400/469], d_loss: -0.00058, g_loss: -0.00482\n",
      "Epoch [17/100], Batch [450/469], d_loss: -0.00055, g_loss: -0.00601\n",
      "Epoch [18/100], Batch [50/469], d_loss: -0.00043, g_loss: -0.00775\n",
      "Epoch [18/100], Batch [100/469], d_loss: -0.00018, g_loss: -0.00654\n",
      "Epoch [18/100], Batch [150/469], d_loss: -0.00095, g_loss: -0.00487\n",
      "Epoch [18/100], Batch [200/469], d_loss: -0.00122, g_loss: -0.00669\n",
      "Epoch [18/100], Batch [250/469], d_loss: -0.00102, g_loss: -0.00567\n",
      "Epoch [18/100], Batch [300/469], d_loss: -0.00121, g_loss: -0.00747\n",
      "Epoch [18/100], Batch [350/469], d_loss: -0.00198, g_loss: -0.00440\n",
      "Epoch [18/100], Batch [400/469], d_loss: -0.00343, g_loss: -0.00767\n",
      "Epoch [18/100], Batch [450/469], d_loss: -0.00356, g_loss: -0.00206\n",
      "Epoch [19/100], Batch [50/469], d_loss: -0.00630, g_loss: 0.00584\n",
      "Epoch [19/100], Batch [100/469], d_loss: -0.00837, g_loss: 0.00157\n",
      "Epoch [19/100], Batch [150/469], d_loss: -0.00700, g_loss: 0.00856\n",
      "Epoch [19/100], Batch [200/469], d_loss: -0.00582, g_loss: 0.00892\n",
      "Epoch [19/100], Batch [250/469], d_loss: 0.00001, g_loss: -0.03293\n",
      "Epoch [19/100], Batch [300/469], d_loss: -0.00649, g_loss: -0.01011\n",
      "Epoch [19/100], Batch [350/469], d_loss: -0.00450, g_loss: -0.00995\n",
      "Epoch [19/100], Batch [400/469], d_loss: -0.00824, g_loss: -0.00002\n",
      "Epoch [19/100], Batch [450/469], d_loss: -0.00759, g_loss: 0.00852\n",
      "Epoch [20/100], Batch [50/469], d_loss: -0.00808, g_loss: 0.02066\n",
      "Epoch [20/100], Batch [100/469], d_loss: -0.00975, g_loss: 0.00636\n",
      "Epoch [20/100], Batch [150/469], d_loss: -0.00885, g_loss: 0.00993\n",
      "Epoch [20/100], Batch [200/469], d_loss: -0.00901, g_loss: -0.01343\n",
      "Epoch [20/100], Batch [250/469], d_loss: -0.00867, g_loss: 0.01746\n",
      "Epoch [20/100], Batch [300/469], d_loss: -0.01118, g_loss: -0.00139\n",
      "Epoch [20/100], Batch [350/469], d_loss: -0.00554, g_loss: -0.00111\n",
      "Epoch [20/100], Batch [400/469], d_loss: -0.00870, g_loss: 0.01405\n",
      "Epoch [20/100], Batch [450/469], d_loss: -0.00169, g_loss: -0.01270\n",
      "Epoch [21/100], Batch [50/469], d_loss: -0.01426, g_loss: 0.00979\n",
      "Epoch [21/100], Batch [100/469], d_loss: -0.00670, g_loss: 0.00931\n",
      "Epoch [21/100], Batch [150/469], d_loss: -0.00837, g_loss: -0.00332\n",
      "Epoch [21/100], Batch [200/469], d_loss: -0.02343, g_loss: 0.01626\n",
      "Epoch [21/100], Batch [250/469], d_loss: -0.00207, g_loss: 0.01489\n",
      "Epoch [21/100], Batch [300/469], d_loss: -0.00860, g_loss: 0.00617\n",
      "Epoch [21/100], Batch [350/469], d_loss: -0.01442, g_loss: 0.00992\n",
      "Epoch [21/100], Batch [400/469], d_loss: -0.01518, g_loss: 0.00406\n",
      "Epoch [21/100], Batch [450/469], d_loss: -0.01465, g_loss: -0.00539\n",
      "Epoch [22/100], Batch [50/469], d_loss: -0.01167, g_loss: 0.01320\n",
      "Epoch [22/100], Batch [100/469], d_loss: -0.00865, g_loss: -0.01163\n",
      "Epoch [22/100], Batch [150/469], d_loss: -0.00710, g_loss: 0.02045\n",
      "Epoch [22/100], Batch [200/469], d_loss: -0.00771, g_loss: -0.00946\n",
      "Epoch [22/100], Batch [250/469], d_loss: -0.01260, g_loss: 0.00689\n",
      "Epoch [22/100], Batch [300/469], d_loss: -0.00597, g_loss: -0.02531\n",
      "Epoch [22/100], Batch [350/469], d_loss: -0.00441, g_loss: -0.02045\n",
      "Epoch [22/100], Batch [400/469], d_loss: -0.00092, g_loss: 0.02533\n",
      "Epoch [22/100], Batch [450/469], d_loss: -0.01891, g_loss: -0.00331\n",
      "Epoch [23/100], Batch [50/469], d_loss: -0.00086, g_loss: -0.01655\n",
      "Epoch [23/100], Batch [100/469], d_loss: -0.00948, g_loss: 0.01694\n",
      "Epoch [23/100], Batch [150/469], d_loss: -0.01183, g_loss: 0.02431\n",
      "Epoch [23/100], Batch [200/469], d_loss: -0.00148, g_loss: -0.03260\n",
      "Epoch [23/100], Batch [250/469], d_loss: -0.01386, g_loss: 0.01187\n",
      "Epoch [23/100], Batch [300/469], d_loss: -0.00796, g_loss: -0.00528\n",
      "Epoch [23/100], Batch [350/469], d_loss: -0.00952, g_loss: 0.01361\n",
      "Epoch [23/100], Batch [400/469], d_loss: -0.01218, g_loss: 0.01605\n",
      "Epoch [23/100], Batch [450/469], d_loss: -0.01236, g_loss: 0.02470\n",
      "Epoch [24/100], Batch [50/469], d_loss: -0.01611, g_loss: 0.00084\n",
      "Epoch [24/100], Batch [100/469], d_loss: -0.01130, g_loss: -0.00228\n",
      "Epoch [24/100], Batch [150/469], d_loss: -0.01408, g_loss: 0.01655\n",
      "Epoch [24/100], Batch [200/469], d_loss: -0.02113, g_loss: -0.00180\n",
      "Epoch [24/100], Batch [250/469], d_loss: -0.01404, g_loss: 0.00914\n",
      "Epoch [24/100], Batch [300/469], d_loss: -0.00725, g_loss: 0.01207\n",
      "Epoch [24/100], Batch [350/469], d_loss: -0.00652, g_loss: 0.00413\n",
      "Epoch [24/100], Batch [400/469], d_loss: -0.00846, g_loss: -0.02260\n",
      "Epoch [24/100], Batch [450/469], d_loss: -0.01061, g_loss: -0.00207\n",
      "Epoch [25/100], Batch [50/469], d_loss: -0.01294, g_loss: -0.01492\n",
      "Epoch [25/100], Batch [100/469], d_loss: -0.01429, g_loss: 0.00531\n",
      "Epoch [25/100], Batch [150/469], d_loss: -0.01287, g_loss: -0.00685\n",
      "Epoch [25/100], Batch [200/469], d_loss: -0.00883, g_loss: 0.01342\n",
      "Epoch [25/100], Batch [250/469], d_loss: -0.00897, g_loss: 0.00463\n",
      "Epoch [25/100], Batch [300/469], d_loss: -0.00863, g_loss: 0.00865\n",
      "Epoch [25/100], Batch [350/469], d_loss: -0.00955, g_loss: 0.00203\n",
      "Epoch [25/100], Batch [400/469], d_loss: -0.00786, g_loss: 0.01172\n",
      "Epoch [25/100], Batch [450/469], d_loss: -0.00597, g_loss: -0.02188\n",
      "Epoch [26/100], Batch [50/469], d_loss: -0.00750, g_loss: -0.00838\n",
      "Epoch [26/100], Batch [100/469], d_loss: -0.01236, g_loss: 0.00908\n",
      "Epoch [26/100], Batch [150/469], d_loss: -0.00626, g_loss: 0.01460\n",
      "Epoch [26/100], Batch [200/469], d_loss: -0.00898, g_loss: 0.00273\n",
      "Epoch [26/100], Batch [250/469], d_loss: -0.01195, g_loss: -0.00121\n",
      "Epoch [26/100], Batch [300/469], d_loss: -0.01277, g_loss: 0.00973\n",
      "Epoch [26/100], Batch [350/469], d_loss: -0.01182, g_loss: 0.00478\n",
      "Epoch [26/100], Batch [400/469], d_loss: -0.01788, g_loss: -0.00437\n",
      "Epoch [26/100], Batch [450/469], d_loss: -0.00787, g_loss: -0.00204\n",
      "Epoch [27/100], Batch [50/469], d_loss: -0.01010, g_loss: 0.00069\n",
      "Epoch [27/100], Batch [100/469], d_loss: -0.00728, g_loss: 0.01863\n",
      "Epoch [27/100], Batch [150/469], d_loss: -0.00127, g_loss: 0.00946\n",
      "Epoch [27/100], Batch [200/469], d_loss: 0.00196, g_loss: 0.00479\n",
      "Epoch [27/100], Batch [250/469], d_loss: 0.00030, g_loss: 0.00197\n",
      "Epoch [27/100], Batch [300/469], d_loss: -0.00110, g_loss: 0.00129\n",
      "Epoch [27/100], Batch [350/469], d_loss: -0.00044, g_loss: -0.00153\n",
      "Epoch [27/100], Batch [400/469], d_loss: -0.00097, g_loss: 0.00845\n",
      "Epoch [27/100], Batch [450/469], d_loss: -0.00195, g_loss: -0.00338\n",
      "Epoch [28/100], Batch [50/469], d_loss: -0.00231, g_loss: 0.00925\n",
      "Epoch [28/100], Batch [100/469], d_loss: -0.00393, g_loss: -0.00443\n"
     ]
    },
    {
     "name": "stdout",
     "output_type": "stream",
     "text": [
      "Epoch [28/100], Batch [150/469], d_loss: -0.00501, g_loss: 0.00338\n",
      "Epoch [28/100], Batch [200/469], d_loss: -0.00547, g_loss: 0.01662\n",
      "Epoch [28/100], Batch [250/469], d_loss: -0.00701, g_loss: -0.01249\n",
      "Epoch [28/100], Batch [300/469], d_loss: -0.00533, g_loss: -0.00281\n",
      "Epoch [28/100], Batch [350/469], d_loss: -0.00797, g_loss: 0.00315\n",
      "Epoch [28/100], Batch [400/469], d_loss: -0.00662, g_loss: 0.00083\n",
      "Epoch [28/100], Batch [450/469], d_loss: -0.00630, g_loss: 0.00359\n",
      "Epoch [29/100], Batch [50/469], d_loss: -0.01051, g_loss: 0.00575\n",
      "Epoch [29/100], Batch [100/469], d_loss: -0.00522, g_loss: 0.00773\n",
      "Epoch [29/100], Batch [150/469], d_loss: -0.00382, g_loss: 0.01786\n",
      "Epoch [29/100], Batch [200/469], d_loss: -0.01760, g_loss: -0.00545\n",
      "Epoch [29/100], Batch [250/469], d_loss: -0.00413, g_loss: -0.03190\n",
      "Epoch [29/100], Batch [300/469], d_loss: -0.00332, g_loss: 0.01786\n",
      "Epoch [29/100], Batch [350/469], d_loss: -0.00758, g_loss: 0.00716\n",
      "Epoch [29/100], Batch [400/469], d_loss: -0.00580, g_loss: 0.02593\n",
      "Epoch [29/100], Batch [450/469], d_loss: -0.00857, g_loss: 0.00189\n",
      "Epoch [30/100], Batch [50/469], d_loss: -0.01405, g_loss: 0.00222\n",
      "Epoch [30/100], Batch [100/469], d_loss: 0.00090, g_loss: -0.02653\n",
      "Epoch [30/100], Batch [150/469], d_loss: 0.00027, g_loss: -0.02190\n",
      "Epoch [30/100], Batch [200/469], d_loss: 0.00002, g_loss: -0.01717\n",
      "Epoch [30/100], Batch [250/469], d_loss: 0.00085, g_loss: -0.01388\n",
      "Epoch [30/100], Batch [300/469], d_loss: -0.00004, g_loss: -0.01183\n",
      "Epoch [30/100], Batch [350/469], d_loss: -0.00048, g_loss: -0.00967\n",
      "Epoch [30/100], Batch [400/469], d_loss: -0.00020, g_loss: -0.00806\n",
      "Epoch [30/100], Batch [450/469], d_loss: -0.00031, g_loss: -0.00612\n",
      "Epoch [31/100], Batch [50/469], d_loss: -0.00025, g_loss: -0.00628\n",
      "Epoch [31/100], Batch [100/469], d_loss: 0.00058, g_loss: -0.00792\n",
      "Epoch [31/100], Batch [150/469], d_loss: -0.00031, g_loss: -0.00913\n",
      "Epoch [31/100], Batch [200/469], d_loss: -0.00080, g_loss: -0.00890\n",
      "Epoch [31/100], Batch [250/469], d_loss: -0.00046, g_loss: -0.00580\n",
      "Epoch [31/100], Batch [300/469], d_loss: -0.00073, g_loss: -0.01034\n",
      "Epoch [31/100], Batch [350/469], d_loss: -0.00052, g_loss: -0.01093\n",
      "Epoch [31/100], Batch [400/469], d_loss: -0.00042, g_loss: -0.00907\n",
      "Epoch [31/100], Batch [450/469], d_loss: -0.00021, g_loss: -0.00796\n",
      "Epoch [32/100], Batch [50/469], d_loss: -0.00096, g_loss: -0.00787\n",
      "Epoch [32/100], Batch [100/469], d_loss: -0.00046, g_loss: -0.00842\n",
      "Epoch [32/100], Batch [150/469], d_loss: -0.00055, g_loss: -0.01168\n",
      "Epoch [32/100], Batch [200/469], d_loss: -0.00039, g_loss: -0.00777\n",
      "Epoch [32/100], Batch [250/469], d_loss: -0.00086, g_loss: -0.01206\n",
      "Epoch [32/100], Batch [300/469], d_loss: -0.00050, g_loss: -0.01382\n",
      "Epoch [32/100], Batch [350/469], d_loss: -0.00062, g_loss: -0.00752\n",
      "Epoch [32/100], Batch [400/469], d_loss: -0.00090, g_loss: -0.00609\n",
      "Epoch [32/100], Batch [450/469], d_loss: -0.00155, g_loss: -0.00720\n",
      "Epoch [33/100], Batch [50/469], d_loss: -0.00098, g_loss: -0.00967\n",
      "Epoch [33/100], Batch [100/469], d_loss: -0.00157, g_loss: 0.00510\n",
      "Epoch [33/100], Batch [150/469], d_loss: -0.00195, g_loss: -0.00372\n",
      "Epoch [33/100], Batch [200/469], d_loss: -0.00217, g_loss: 0.00706\n",
      "Epoch [33/100], Batch [250/469], d_loss: -0.00132, g_loss: -0.00540\n",
      "Epoch [33/100], Batch [300/469], d_loss: -0.00179, g_loss: -0.00964\n",
      "Epoch [33/100], Batch [350/469], d_loss: -0.00140, g_loss: -0.01069\n",
      "Epoch [33/100], Batch [400/469], d_loss: -0.00188, g_loss: 0.00904\n",
      "Epoch [33/100], Batch [450/469], d_loss: -0.00216, g_loss: -0.01154\n",
      "Epoch [34/100], Batch [50/469], d_loss: -0.00031, g_loss: 0.00041\n",
      "Epoch [34/100], Batch [100/469], d_loss: -0.00150, g_loss: -0.01338\n",
      "Epoch [34/100], Batch [150/469], d_loss: -0.00537, g_loss: -0.00985\n",
      "Epoch [34/100], Batch [200/469], d_loss: -0.00072, g_loss: 0.00675\n",
      "Epoch [34/100], Batch [250/469], d_loss: 0.00391, g_loss: -0.01707\n",
      "Epoch [34/100], Batch [300/469], d_loss: -0.01172, g_loss: -0.01742\n",
      "Epoch [34/100], Batch [350/469], d_loss: 0.00236, g_loss: 0.01986\n",
      "Epoch [34/100], Batch [400/469], d_loss: 0.00062, g_loss: 0.04631\n",
      "Epoch [34/100], Batch [450/469], d_loss: -0.00467, g_loss: -0.00745\n",
      "Epoch [35/100], Batch [50/469], d_loss: -0.00147, g_loss: 0.01564\n",
      "Epoch [35/100], Batch [100/469], d_loss: -0.00846, g_loss: -0.00424\n",
      "Epoch [35/100], Batch [150/469], d_loss: -0.00793, g_loss: 0.01141\n",
      "Epoch [35/100], Batch [200/469], d_loss: -0.00438, g_loss: 0.00536\n",
      "Epoch [35/100], Batch [250/469], d_loss: -0.00169, g_loss: -0.00848\n",
      "Epoch [35/100], Batch [300/469], d_loss: -0.00275, g_loss: -0.02396\n",
      "Epoch [35/100], Batch [350/469], d_loss: 0.00362, g_loss: 0.02616\n",
      "Epoch [35/100], Batch [400/469], d_loss: 0.00165, g_loss: -0.02934\n",
      "Epoch [35/100], Batch [450/469], d_loss: 0.00143, g_loss: -0.02602\n",
      "Epoch [36/100], Batch [50/469], d_loss: 0.00326, g_loss: -0.04726\n",
      "Epoch [36/100], Batch [100/469], d_loss: -0.00136, g_loss: -0.01606\n",
      "Epoch [36/100], Batch [150/469], d_loss: 0.00339, g_loss: 0.03280\n",
      "Epoch [36/100], Batch [200/469], d_loss: -0.00616, g_loss: -0.00999\n",
      "Epoch [36/100], Batch [250/469], d_loss: 0.00137, g_loss: -0.02190\n",
      "Epoch [36/100], Batch [300/469], d_loss: -0.00184, g_loss: 0.01298\n",
      "Epoch [36/100], Batch [350/469], d_loss: -0.00116, g_loss: -0.00163\n",
      "Epoch [36/100], Batch [400/469], d_loss: 0.00231, g_loss: -0.02030\n",
      "Epoch [36/100], Batch [450/469], d_loss: -0.00166, g_loss: -0.00408\n",
      "Epoch [37/100], Batch [50/469], d_loss: 0.00001, g_loss: 0.00563\n",
      "Epoch [37/100], Batch [100/469], d_loss: -0.00130, g_loss: -0.00017\n",
      "Epoch [37/100], Batch [150/469], d_loss: -0.00047, g_loss: -0.01014\n",
      "Epoch [37/100], Batch [200/469], d_loss: -0.00122, g_loss: 0.01033\n",
      "Epoch [37/100], Batch [250/469], d_loss: -0.00185, g_loss: 0.00232\n",
      "Epoch [37/100], Batch [300/469], d_loss: -0.00079, g_loss: 0.02489\n",
      "Epoch [37/100], Batch [350/469], d_loss: -0.00290, g_loss: 0.02231\n",
      "Epoch [37/100], Batch [400/469], d_loss: -0.00308, g_loss: -0.00591\n",
      "Epoch [37/100], Batch [450/469], d_loss: -0.00433, g_loss: -0.01466\n",
      "Epoch [38/100], Batch [50/469], d_loss: 0.00088, g_loss: -0.02634\n",
      "Epoch [38/100], Batch [100/469], d_loss: -0.00046, g_loss: -0.01173\n",
      "Epoch [38/100], Batch [150/469], d_loss: -0.00181, g_loss: 0.00620\n",
      "Epoch [38/100], Batch [200/469], d_loss: -0.00071, g_loss: -0.00124\n",
      "Epoch [38/100], Batch [250/469], d_loss: 0.00076, g_loss: 0.01169\n",
      "Epoch [38/100], Batch [300/469], d_loss: -0.00160, g_loss: -0.01516\n",
      "Epoch [38/100], Batch [350/469], d_loss: -0.00007, g_loss: -0.00603\n",
      "Epoch [38/100], Batch [400/469], d_loss: -0.00087, g_loss: 0.01152\n",
      "Epoch [38/100], Batch [450/469], d_loss: -0.00111, g_loss: -0.00279\n",
      "Epoch [39/100], Batch [50/469], d_loss: -0.00158, g_loss: -0.00174\n",
      "Epoch [39/100], Batch [100/469], d_loss: -0.00354, g_loss: 0.00410\n",
      "Epoch [39/100], Batch [150/469], d_loss: -0.00153, g_loss: -0.00200\n",
      "Epoch [39/100], Batch [200/469], d_loss: 0.00156, g_loss: 0.03609\n",
      "Epoch [39/100], Batch [250/469], d_loss: 0.00113, g_loss: -0.02730\n",
      "Epoch [39/100], Batch [300/469], d_loss: -0.00001, g_loss: 0.04219\n",
      "Epoch [39/100], Batch [350/469], d_loss: -0.00496, g_loss: -0.00608\n",
      "Epoch [39/100], Batch [400/469], d_loss: -0.00102, g_loss: -0.00096\n",
      "Epoch [39/100], Batch [450/469], d_loss: -0.00044, g_loss: -0.00646\n",
      "Epoch [40/100], Batch [50/469], d_loss: -0.00788, g_loss: 0.00140\n",
      "Epoch [40/100], Batch [100/469], d_loss: -0.00176, g_loss: 0.01506\n",
      "Epoch [40/100], Batch [150/469], d_loss: 0.00151, g_loss: -0.03650\n",
      "Epoch [40/100], Batch [200/469], d_loss: -0.00705, g_loss: -0.00348\n",
      "Epoch [40/100], Batch [250/469], d_loss: -0.00484, g_loss: 0.00511\n",
      "Epoch [40/100], Batch [300/469], d_loss: 0.00027, g_loss: -0.02563\n",
      "Epoch [40/100], Batch [350/469], d_loss: -0.00248, g_loss: -0.03503\n",
      "Epoch [40/100], Batch [400/469], d_loss: -0.00181, g_loss: -0.02005\n",
      "Epoch [40/100], Batch [450/469], d_loss: -0.00196, g_loss: 0.02085\n",
      "Epoch [41/100], Batch [50/469], d_loss: -0.00047, g_loss: 0.00002\n",
      "Epoch [41/100], Batch [100/469], d_loss: -0.00086, g_loss: 0.01788\n",
      "Epoch [41/100], Batch [150/469], d_loss: 0.00209, g_loss: 0.03084\n",
      "Epoch [41/100], Batch [200/469], d_loss: -0.00547, g_loss: 0.00144\n",
      "Epoch [41/100], Batch [250/469], d_loss: -0.00575, g_loss: -0.00603\n",
      "Epoch [41/100], Batch [300/469], d_loss: 0.00038, g_loss: -0.03060\n",
      "Epoch [41/100], Batch [350/469], d_loss: -0.00435, g_loss: 0.01279\n"
     ]
    },
    {
     "name": "stdout",
     "output_type": "stream",
     "text": [
      "Epoch [41/100], Batch [400/469], d_loss: -0.00040, g_loss: 0.01833\n",
      "Epoch [41/100], Batch [450/469], d_loss: 0.00032, g_loss: -0.01521\n",
      "Epoch [42/100], Batch [50/469], d_loss: 0.00044, g_loss: 0.00496\n",
      "Epoch [42/100], Batch [100/469], d_loss: -0.00086, g_loss: 0.03437\n",
      "Epoch [42/100], Batch [150/469], d_loss: -0.00258, g_loss: -0.00545\n",
      "Epoch [42/100], Batch [200/469], d_loss: -0.00023, g_loss: -0.02835\n",
      "Epoch [42/100], Batch [250/469], d_loss: -0.00315, g_loss: 0.02072\n",
      "Epoch [42/100], Batch [300/469], d_loss: -0.00226, g_loss: -0.00822\n",
      "Epoch [42/100], Batch [350/469], d_loss: 0.00011, g_loss: 0.00133\n",
      "Epoch [42/100], Batch [400/469], d_loss: -0.00309, g_loss: -0.00069\n",
      "Epoch [42/100], Batch [450/469], d_loss: -0.00217, g_loss: 0.00939\n",
      "Epoch [43/100], Batch [50/469], d_loss: -0.00433, g_loss: -0.00181\n",
      "Epoch [43/100], Batch [100/469], d_loss: -0.00053, g_loss: 0.00853\n",
      "Epoch [43/100], Batch [150/469], d_loss: -0.00022, g_loss: 0.00225\n",
      "Epoch [43/100], Batch [200/469], d_loss: -0.00201, g_loss: -0.00392\n",
      "Epoch [43/100], Batch [250/469], d_loss: -0.00325, g_loss: -0.00335\n",
      "Epoch [43/100], Batch [300/469], d_loss: 0.00208, g_loss: -0.02496\n",
      "Epoch [43/100], Batch [350/469], d_loss: -0.00099, g_loss: 0.02385\n",
      "Epoch [43/100], Batch [400/469], d_loss: -0.00167, g_loss: -0.01893\n",
      "Epoch [43/100], Batch [450/469], d_loss: -0.00041, g_loss: 0.01048\n",
      "Epoch [44/100], Batch [50/469], d_loss: -0.00035, g_loss: 0.01793\n",
      "Epoch [44/100], Batch [100/469], d_loss: -0.00500, g_loss: -0.00029\n",
      "Epoch [44/100], Batch [150/469], d_loss: 0.00057, g_loss: 0.00236\n",
      "Epoch [44/100], Batch [200/469], d_loss: 0.00188, g_loss: -0.01237\n",
      "Epoch [44/100], Batch [250/469], d_loss: -0.00037, g_loss: -0.01116\n",
      "Epoch [44/100], Batch [300/469], d_loss: -0.00021, g_loss: 0.01362\n",
      "Epoch [44/100], Batch [350/469], d_loss: 0.00005, g_loss: 0.01671\n",
      "Epoch [44/100], Batch [400/469], d_loss: 0.00016, g_loss: -0.01874\n",
      "Epoch [44/100], Batch [450/469], d_loss: -0.00058, g_loss: -0.03883\n",
      "Epoch [45/100], Batch [50/469], d_loss: -0.00148, g_loss: 0.00711\n",
      "Epoch [45/100], Batch [100/469], d_loss: 0.00034, g_loss: 0.00555\n",
      "Epoch [45/100], Batch [150/469], d_loss: -0.00026, g_loss: 0.00294\n",
      "Epoch [45/100], Batch [200/469], d_loss: -0.00404, g_loss: -0.02470\n",
      "Epoch [45/100], Batch [250/469], d_loss: -0.00100, g_loss: -0.02644\n",
      "Epoch [45/100], Batch [300/469], d_loss: -0.00212, g_loss: -0.00798\n",
      "Epoch [45/100], Batch [350/469], d_loss: 0.00047, g_loss: -0.03808\n",
      "Epoch [45/100], Batch [400/469], d_loss: -0.00424, g_loss: -0.02785\n",
      "Epoch [45/100], Batch [450/469], d_loss: -0.00167, g_loss: -0.02261\n",
      "Epoch [46/100], Batch [50/469], d_loss: -0.00390, g_loss: -0.02034\n",
      "Epoch [46/100], Batch [100/469], d_loss: -0.00331, g_loss: -0.02903\n",
      "Epoch [46/100], Batch [150/469], d_loss: -0.00065, g_loss: -0.01548\n",
      "Epoch [46/100], Batch [200/469], d_loss: 0.00055, g_loss: 0.00490\n",
      "Epoch [46/100], Batch [250/469], d_loss: -0.00494, g_loss: 0.02591\n",
      "Epoch [46/100], Batch [300/469], d_loss: -0.00184, g_loss: 0.01458\n",
      "Epoch [46/100], Batch [350/469], d_loss: -0.00055, g_loss: -0.03453\n",
      "Epoch [46/100], Batch [400/469], d_loss: -0.00593, g_loss: 0.02934\n",
      "Epoch [46/100], Batch [450/469], d_loss: 0.00104, g_loss: -0.02931\n",
      "Epoch [47/100], Batch [50/469], d_loss: 0.00011, g_loss: 0.00281\n",
      "Epoch [47/100], Batch [100/469], d_loss: -0.00127, g_loss: -0.03276\n",
      "Epoch [47/100], Batch [150/469], d_loss: -0.00304, g_loss: 0.03110\n",
      "Epoch [47/100], Batch [200/469], d_loss: -0.00407, g_loss: -0.01200\n",
      "Epoch [47/100], Batch [250/469], d_loss: 0.00217, g_loss: -0.00363\n",
      "Epoch [47/100], Batch [300/469], d_loss: -0.00823, g_loss: -0.01118\n",
      "Epoch [47/100], Batch [350/469], d_loss: 0.00022, g_loss: -0.00287\n",
      "Epoch [47/100], Batch [400/469], d_loss: -0.00146, g_loss: -0.00720\n",
      "Epoch [47/100], Batch [450/469], d_loss: -0.00106, g_loss: 0.00282\n",
      "Epoch [48/100], Batch [50/469], d_loss: -0.00123, g_loss: 0.00265\n",
      "Epoch [48/100], Batch [100/469], d_loss: -0.00182, g_loss: 0.01658\n",
      "Epoch [48/100], Batch [150/469], d_loss: -0.00009, g_loss: -0.01690\n",
      "Epoch [48/100], Batch [200/469], d_loss: 0.00113, g_loss: 0.01436\n",
      "Epoch [48/100], Batch [250/469], d_loss: -0.00340, g_loss: -0.02068\n",
      "Epoch [48/100], Batch [300/469], d_loss: -0.00640, g_loss: 0.03257\n",
      "Epoch [48/100], Batch [350/469], d_loss: -0.00239, g_loss: -0.01262\n",
      "Epoch [48/100], Batch [400/469], d_loss: -0.00047, g_loss: -0.00707\n",
      "Epoch [48/100], Batch [450/469], d_loss: -0.00117, g_loss: 0.01240\n",
      "Epoch [49/100], Batch [50/469], d_loss: -0.00109, g_loss: 0.00580\n",
      "Epoch [49/100], Batch [100/469], d_loss: 0.00012, g_loss: 0.01216\n",
      "Epoch [49/100], Batch [150/469], d_loss: -0.00155, g_loss: -0.00683\n",
      "Epoch [49/100], Batch [200/469], d_loss: -0.00208, g_loss: 0.01896\n",
      "Epoch [49/100], Batch [250/469], d_loss: -0.00351, g_loss: -0.01890\n",
      "Epoch [49/100], Batch [300/469], d_loss: -0.00005, g_loss: 0.02091\n",
      "Epoch [49/100], Batch [350/469], d_loss: -0.00001, g_loss: 0.00796\n",
      "Epoch [49/100], Batch [400/469], d_loss: -0.00038, g_loss: -0.01706\n",
      "Epoch [49/100], Batch [450/469], d_loss: -0.00567, g_loss: -0.02753\n",
      "Epoch [50/100], Batch [50/469], d_loss: -0.00852, g_loss: -0.01033\n",
      "Epoch [50/100], Batch [100/469], d_loss: -0.00875, g_loss: 0.01090\n",
      "Epoch [50/100], Batch [150/469], d_loss: -0.00657, g_loss: -0.00494\n",
      "Epoch [50/100], Batch [200/469], d_loss: 0.00065, g_loss: -0.04390\n",
      "Epoch [50/100], Batch [250/469], d_loss: 0.00083, g_loss: 0.02087\n",
      "Epoch [50/100], Batch [300/469], d_loss: -0.00172, g_loss: -0.02976\n",
      "Epoch [50/100], Batch [350/469], d_loss: 0.00548, g_loss: -0.00438\n",
      "Epoch [50/100], Batch [400/469], d_loss: -0.00529, g_loss: 0.01483\n",
      "Epoch [50/100], Batch [450/469], d_loss: -0.00025, g_loss: -0.00302\n",
      "Epoch [51/100], Batch [50/469], d_loss: -0.00166, g_loss: -0.00929\n",
      "Epoch [51/100], Batch [100/469], d_loss: -0.00294, g_loss: 0.00618\n",
      "Epoch [51/100], Batch [150/469], d_loss: 0.00418, g_loss: -0.01534\n",
      "Epoch [51/100], Batch [200/469], d_loss: -0.00139, g_loss: 0.01195\n",
      "Epoch [51/100], Batch [250/469], d_loss: -0.00334, g_loss: 0.01119\n",
      "Epoch [51/100], Batch [300/469], d_loss: -0.00130, g_loss: -0.01218\n",
      "Epoch [51/100], Batch [350/469], d_loss: -0.00533, g_loss: 0.01807\n",
      "Epoch [51/100], Batch [400/469], d_loss: -0.00200, g_loss: 0.02298\n",
      "Epoch [51/100], Batch [450/469], d_loss: 0.00140, g_loss: -0.03634\n",
      "Epoch [52/100], Batch [50/469], d_loss: -0.00153, g_loss: 0.02865\n",
      "Epoch [52/100], Batch [100/469], d_loss: 0.00035, g_loss: -0.01745\n",
      "Epoch [52/100], Batch [150/469], d_loss: 0.00121, g_loss: 0.02136\n",
      "Epoch [52/100], Batch [200/469], d_loss: -0.00310, g_loss: 0.01088\n",
      "Epoch [52/100], Batch [250/469], d_loss: -0.00001, g_loss: -0.01063\n",
      "Epoch [52/100], Batch [300/469], d_loss: -0.00171, g_loss: -0.00508\n",
      "Epoch [52/100], Batch [350/469], d_loss: 0.00234, g_loss: -0.00609\n",
      "Epoch [52/100], Batch [400/469], d_loss: -0.00518, g_loss: 0.02465\n",
      "Epoch [52/100], Batch [450/469], d_loss: -0.00249, g_loss: -0.01651\n",
      "Epoch [53/100], Batch [50/469], d_loss: -0.00225, g_loss: -0.01156\n",
      "Epoch [53/100], Batch [100/469], d_loss: 0.00070, g_loss: -0.02067\n",
      "Epoch [53/100], Batch [150/469], d_loss: -0.00138, g_loss: 0.00360\n",
      "Epoch [53/100], Batch [200/469], d_loss: -0.00056, g_loss: -0.00499\n",
      "Epoch [53/100], Batch [250/469], d_loss: -0.00007, g_loss: -0.00660\n",
      "Epoch [53/100], Batch [300/469], d_loss: 0.00293, g_loss: 0.00657\n",
      "Epoch [53/100], Batch [350/469], d_loss: -0.00265, g_loss: 0.00671\n",
      "Epoch [53/100], Batch [400/469], d_loss: -0.00092, g_loss: 0.00290\n",
      "Epoch [53/100], Batch [450/469], d_loss: -0.00320, g_loss: 0.00346\n",
      "Epoch [54/100], Batch [50/469], d_loss: -0.00063, g_loss: -0.01537\n",
      "Epoch [54/100], Batch [100/469], d_loss: -0.00337, g_loss: -0.00234\n",
      "Epoch [54/100], Batch [150/469], d_loss: 0.00166, g_loss: -0.01205\n",
      "Epoch [54/100], Batch [200/469], d_loss: 0.00297, g_loss: -0.00012\n",
      "Epoch [54/100], Batch [250/469], d_loss: 0.00162, g_loss: -0.03319\n",
      "Epoch [54/100], Batch [300/469], d_loss: -0.00138, g_loss: 0.02648\n",
      "Epoch [54/100], Batch [350/469], d_loss: 0.00013, g_loss: -0.00716\n",
      "Epoch [54/100], Batch [400/469], d_loss: -0.00213, g_loss: -0.00113\n",
      "Epoch [54/100], Batch [450/469], d_loss: -0.00234, g_loss: -0.00364\n",
      "Epoch [55/100], Batch [50/469], d_loss: -0.00124, g_loss: 0.00326\n",
      "Epoch [55/100], Batch [100/469], d_loss: 0.00070, g_loss: 0.00965\n",
      "Epoch [55/100], Batch [150/469], d_loss: -0.00162, g_loss: -0.02914\n"
     ]
    },
    {
     "name": "stdout",
     "output_type": "stream",
     "text": [
      "Epoch [55/100], Batch [200/469], d_loss: 0.00110, g_loss: 0.01868\n",
      "Epoch [55/100], Batch [250/469], d_loss: -0.00084, g_loss: -0.00117\n",
      "Epoch [55/100], Batch [300/469], d_loss: -0.00037, g_loss: 0.00702\n",
      "Epoch [55/100], Batch [350/469], d_loss: -0.00317, g_loss: -0.01244\n",
      "Epoch [55/100], Batch [400/469], d_loss: -0.00133, g_loss: -0.03332\n",
      "Epoch [55/100], Batch [450/469], d_loss: -0.00213, g_loss: 0.01301\n",
      "Epoch [56/100], Batch [50/469], d_loss: -0.00328, g_loss: 0.01961\n",
      "Epoch [56/100], Batch [100/469], d_loss: -0.00175, g_loss: -0.01079\n",
      "Epoch [56/100], Batch [150/469], d_loss: 0.00202, g_loss: 0.00252\n",
      "Epoch [56/100], Batch [200/469], d_loss: -0.00281, g_loss: 0.00887\n",
      "Epoch [56/100], Batch [250/469], d_loss: 0.00249, g_loss: 0.01743\n",
      "Epoch [56/100], Batch [300/469], d_loss: 0.00265, g_loss: -0.03604\n",
      "Epoch [56/100], Batch [350/469], d_loss: -0.00117, g_loss: 0.00973\n",
      "Epoch [56/100], Batch [400/469], d_loss: -0.00302, g_loss: -0.03027\n",
      "Epoch [56/100], Batch [450/469], d_loss: -0.00176, g_loss: 0.03092\n",
      "Epoch [57/100], Batch [50/469], d_loss: -0.00075, g_loss: -0.01161\n",
      "Epoch [57/100], Batch [100/469], d_loss: -0.00288, g_loss: 0.03021\n",
      "Epoch [57/100], Batch [150/469], d_loss: -0.00205, g_loss: -0.02381\n",
      "Epoch [57/100], Batch [200/469], d_loss: -0.00241, g_loss: 0.02790\n",
      "Epoch [57/100], Batch [250/469], d_loss: -0.00243, g_loss: -0.02209\n",
      "Epoch [57/100], Batch [300/469], d_loss: 0.00292, g_loss: 0.02539\n",
      "Epoch [57/100], Batch [350/469], d_loss: -0.00069, g_loss: -0.02693\n",
      "Epoch [57/100], Batch [400/469], d_loss: 0.00152, g_loss: 0.02093\n",
      "Epoch [57/100], Batch [450/469], d_loss: -0.00163, g_loss: -0.01029\n",
      "Epoch [58/100], Batch [50/469], d_loss: 0.00035, g_loss: 0.00611\n",
      "Epoch [58/100], Batch [100/469], d_loss: -0.00202, g_loss: -0.00195\n",
      "Epoch [58/100], Batch [150/469], d_loss: -0.00177, g_loss: -0.00810\n",
      "Epoch [58/100], Batch [200/469], d_loss: -0.00415, g_loss: -0.01009\n",
      "Epoch [58/100], Batch [250/469], d_loss: 0.00043, g_loss: 0.01447\n",
      "Epoch [58/100], Batch [300/469], d_loss: -0.00218, g_loss: 0.01567\n",
      "Epoch [58/100], Batch [350/469], d_loss: -0.00102, g_loss: -0.01887\n",
      "Epoch [58/100], Batch [400/469], d_loss: -0.00204, g_loss: -0.01587\n",
      "Epoch [58/100], Batch [450/469], d_loss: -0.00108, g_loss: -0.00056\n",
      "Epoch [59/100], Batch [50/469], d_loss: -0.00338, g_loss: 0.00694\n",
      "Epoch [59/100], Batch [100/469], d_loss: -0.00005, g_loss: -0.00599\n",
      "Epoch [59/100], Batch [150/469], d_loss: -0.00589, g_loss: -0.01139\n",
      "Epoch [59/100], Batch [200/469], d_loss: -0.00014, g_loss: -0.03065\n",
      "Epoch [59/100], Batch [250/469], d_loss: 0.00119, g_loss: 0.02269\n",
      "Epoch [59/100], Batch [300/469], d_loss: -0.00007, g_loss: 0.02083\n",
      "Epoch [59/100], Batch [350/469], d_loss: -0.00234, g_loss: 0.00334\n",
      "Epoch [59/100], Batch [400/469], d_loss: 0.00029, g_loss: -0.01393\n",
      "Epoch [59/100], Batch [450/469], d_loss: -0.00006, g_loss: -0.01688\n",
      "Epoch [60/100], Batch [50/469], d_loss: 0.00002, g_loss: 0.00465\n",
      "Epoch [60/100], Batch [100/469], d_loss: -0.00284, g_loss: -0.00303\n",
      "Epoch [60/100], Batch [150/469], d_loss: 0.00066, g_loss: -0.01400\n",
      "Epoch [60/100], Batch [200/469], d_loss: -0.00017, g_loss: -0.00436\n",
      "Epoch [60/100], Batch [250/469], d_loss: 0.00028, g_loss: 0.02268\n",
      "Epoch [60/100], Batch [300/469], d_loss: -0.00153, g_loss: -0.02299\n",
      "Epoch [60/100], Batch [350/469], d_loss: -0.00084, g_loss: 0.00894\n",
      "Epoch [60/100], Batch [400/469], d_loss: -0.00028, g_loss: 0.00777\n",
      "Epoch [60/100], Batch [450/469], d_loss: -0.00125, g_loss: -0.01062\n",
      "Epoch [61/100], Batch [50/469], d_loss: -0.00182, g_loss: 0.01068\n",
      "Epoch [61/100], Batch [100/469], d_loss: -0.00019, g_loss: -0.00388\n",
      "Epoch [61/100], Batch [150/469], d_loss: -0.00097, g_loss: -0.00625\n",
      "Epoch [61/100], Batch [200/469], d_loss: -0.00070, g_loss: 0.00359\n",
      "Epoch [61/100], Batch [250/469], d_loss: -0.00014, g_loss: 0.00269\n",
      "Epoch [61/100], Batch [300/469], d_loss: -0.00122, g_loss: -0.00423\n",
      "Epoch [61/100], Batch [350/469], d_loss: -0.00124, g_loss: 0.00237\n",
      "Epoch [61/100], Batch [400/469], d_loss: 0.00003, g_loss: -0.00404\n",
      "Epoch [61/100], Batch [450/469], d_loss: -0.00255, g_loss: 0.00776\n",
      "Epoch [62/100], Batch [50/469], d_loss: -0.00537, g_loss: 0.00261\n",
      "Epoch [62/100], Batch [100/469], d_loss: 0.00121, g_loss: 0.03094\n",
      "Epoch [62/100], Batch [150/469], d_loss: -0.00070, g_loss: 0.00867\n",
      "Epoch [62/100], Batch [200/469], d_loss: -0.00040, g_loss: 0.00209\n",
      "Epoch [62/100], Batch [250/469], d_loss: -0.00117, g_loss: 0.00629\n",
      "Epoch [62/100], Batch [300/469], d_loss: -0.00169, g_loss: 0.01312\n",
      "Epoch [62/100], Batch [350/469], d_loss: -0.00296, g_loss: -0.01492\n",
      "Epoch [62/100], Batch [400/469], d_loss: -0.00098, g_loss: 0.00429\n",
      "Epoch [62/100], Batch [450/469], d_loss: -0.00154, g_loss: 0.01103\n",
      "Epoch [63/100], Batch [50/469], d_loss: -0.00197, g_loss: 0.01136\n",
      "Epoch [63/100], Batch [100/469], d_loss: 0.00178, g_loss: 0.00721\n",
      "Epoch [63/100], Batch [150/469], d_loss: 0.00193, g_loss: -0.02537\n",
      "Epoch [63/100], Batch [200/469], d_loss: 0.00420, g_loss: 0.01215\n",
      "Epoch [63/100], Batch [250/469], d_loss: 0.00107, g_loss: -0.01167\n",
      "Epoch [63/100], Batch [300/469], d_loss: -0.00428, g_loss: -0.00484\n",
      "Epoch [63/100], Batch [350/469], d_loss: -0.00026, g_loss: -0.00105\n",
      "Epoch [63/100], Batch [400/469], d_loss: -0.00062, g_loss: 0.00007\n",
      "Epoch [63/100], Batch [450/469], d_loss: 0.00087, g_loss: 0.00365\n",
      "Epoch [64/100], Batch [50/469], d_loss: -0.00224, g_loss: -0.02323\n",
      "Epoch [64/100], Batch [100/469], d_loss: -0.00055, g_loss: -0.00362\n",
      "Epoch [64/100], Batch [150/469], d_loss: 0.00060, g_loss: -0.00309\n",
      "Epoch [64/100], Batch [200/469], d_loss: -0.00260, g_loss: 0.01012\n",
      "Epoch [64/100], Batch [250/469], d_loss: 0.00036, g_loss: -0.00077\n",
      "Epoch [64/100], Batch [300/469], d_loss: 0.00105, g_loss: -0.00208\n",
      "Epoch [64/100], Batch [350/469], d_loss: -0.00089, g_loss: -0.01378\n",
      "Epoch [64/100], Batch [400/469], d_loss: -0.00104, g_loss: -0.00437\n",
      "Epoch [64/100], Batch [450/469], d_loss: 0.00162, g_loss: -0.01378\n",
      "Epoch [65/100], Batch [50/469], d_loss: 0.00117, g_loss: -0.03610\n",
      "Epoch [65/100], Batch [100/469], d_loss: -0.00081, g_loss: 0.03223\n",
      "Epoch [65/100], Batch [150/469], d_loss: -0.00560, g_loss: 0.01534\n",
      "Epoch [65/100], Batch [200/469], d_loss: -0.00162, g_loss: -0.00002\n",
      "Epoch [65/100], Batch [250/469], d_loss: -0.00133, g_loss: 0.00363\n",
      "Epoch [65/100], Batch [300/469], d_loss: 0.00336, g_loss: -0.04019\n",
      "Epoch [65/100], Batch [350/469], d_loss: -0.00316, g_loss: 0.00363\n",
      "Epoch [65/100], Batch [400/469], d_loss: 0.00096, g_loss: 0.03689\n",
      "Epoch [65/100], Batch [450/469], d_loss: 0.00127, g_loss: -0.04555\n",
      "Epoch [66/100], Batch [50/469], d_loss: -0.00367, g_loss: -0.00383\n",
      "Epoch [66/100], Batch [100/469], d_loss: 0.00049, g_loss: -0.03852\n",
      "Epoch [66/100], Batch [150/469], d_loss: -0.00115, g_loss: 0.02636\n",
      "Epoch [66/100], Batch [200/469], d_loss: 0.00111, g_loss: 0.01545\n",
      "Epoch [66/100], Batch [250/469], d_loss: 0.00057, g_loss: -0.04115\n",
      "Epoch [66/100], Batch [300/469], d_loss: 0.00026, g_loss: 0.04393\n",
      "Epoch [66/100], Batch [350/469], d_loss: 0.00174, g_loss: -0.04342\n",
      "Epoch [66/100], Batch [400/469], d_loss: -0.00020, g_loss: -0.01525\n",
      "Epoch [66/100], Batch [450/469], d_loss: 0.00052, g_loss: 0.01260\n",
      "Epoch [67/100], Batch [50/469], d_loss: -0.00318, g_loss: 0.00272\n",
      "Epoch [67/100], Batch [100/469], d_loss: 0.00078, g_loss: 0.04430\n",
      "Epoch [67/100], Batch [150/469], d_loss: -0.00125, g_loss: -0.03237\n",
      "Epoch [67/100], Batch [200/469], d_loss: -0.00034, g_loss: -0.05545\n",
      "Epoch [67/100], Batch [250/469], d_loss: -0.00158, g_loss: -0.03706\n",
      "Epoch [67/100], Batch [300/469], d_loss: -0.00082, g_loss: -0.01401\n",
      "Epoch [67/100], Batch [350/469], d_loss: -0.00002, g_loss: -0.01636\n",
      "Epoch [67/100], Batch [400/469], d_loss: 0.00001, g_loss: -0.01783\n",
      "Epoch [67/100], Batch [450/469], d_loss: -0.00401, g_loss: -0.01358\n",
      "Epoch [68/100], Batch [50/469], d_loss: 0.00153, g_loss: -0.00411\n",
      "Epoch [68/100], Batch [100/469], d_loss: -0.00045, g_loss: 0.00224\n",
      "Epoch [68/100], Batch [150/469], d_loss: -0.00630, g_loss: 0.00647\n",
      "Epoch [68/100], Batch [200/469], d_loss: 0.00175, g_loss: -0.02420\n",
      "Epoch [68/100], Batch [250/469], d_loss: -0.00218, g_loss: 0.01743\n",
      "Epoch [68/100], Batch [300/469], d_loss: -0.00406, g_loss: 0.00737\n",
      "Epoch [68/100], Batch [350/469], d_loss: -0.00039, g_loss: -0.03620\n",
      "Epoch [68/100], Batch [400/469], d_loss: -0.00565, g_loss: 0.00906\n",
      "Epoch [68/100], Batch [450/469], d_loss: -0.00083, g_loss: 0.02433\n"
     ]
    },
    {
     "name": "stdout",
     "output_type": "stream",
     "text": [
      "Epoch [69/100], Batch [50/469], d_loss: -0.00133, g_loss: -0.01472\n",
      "Epoch [69/100], Batch [100/469], d_loss: 0.00009, g_loss: 0.00649\n",
      "Epoch [69/100], Batch [150/469], d_loss: -0.00001, g_loss: 0.01291\n",
      "Epoch [69/100], Batch [200/469], d_loss: -0.00064, g_loss: -0.00196\n",
      "Epoch [69/100], Batch [250/469], d_loss: -0.00030, g_loss: -0.00616\n",
      "Epoch [69/100], Batch [300/469], d_loss: -0.00116, g_loss: -0.00062\n",
      "Epoch [69/100], Batch [350/469], d_loss: -0.00306, g_loss: -0.00140\n",
      "Epoch [69/100], Batch [400/469], d_loss: 0.00191, g_loss: 0.02732\n",
      "Epoch [69/100], Batch [450/469], d_loss: 0.00000, g_loss: -0.03533\n",
      "Epoch [70/100], Batch [50/469], d_loss: -0.00639, g_loss: -0.00247\n",
      "Epoch [70/100], Batch [100/469], d_loss: 0.00073, g_loss: -0.00947\n",
      "Epoch [70/100], Batch [150/469], d_loss: -0.00162, g_loss: -0.00075\n",
      "Epoch [70/100], Batch [200/469], d_loss: -0.00535, g_loss: -0.00628\n",
      "Epoch [70/100], Batch [250/469], d_loss: 0.00152, g_loss: -0.02770\n",
      "Epoch [70/100], Batch [300/469], d_loss: -0.00219, g_loss: -0.01210\n",
      "Epoch [70/100], Batch [350/469], d_loss: 0.00169, g_loss: 0.02378\n",
      "Epoch [70/100], Batch [400/469], d_loss: 0.00197, g_loss: -0.03290\n",
      "Epoch [70/100], Batch [450/469], d_loss: 0.00170, g_loss: 0.02957\n",
      "Epoch [71/100], Batch [50/469], d_loss: 0.00085, g_loss: -0.02555\n",
      "Epoch [71/100], Batch [100/469], d_loss: -0.00250, g_loss: 0.02750\n",
      "Epoch [71/100], Batch [150/469], d_loss: -0.00163, g_loss: 0.00206\n",
      "Epoch [71/100], Batch [200/469], d_loss: -0.00006, g_loss: -0.01813\n",
      "Epoch [71/100], Batch [250/469], d_loss: 0.00140, g_loss: -0.00876\n",
      "Epoch [71/100], Batch [300/469], d_loss: -0.00213, g_loss: -0.01264\n",
      "Epoch [71/100], Batch [350/469], d_loss: -0.00285, g_loss: 0.00440\n",
      "Epoch [71/100], Batch [400/469], d_loss: -0.00002, g_loss: -0.03819\n",
      "Epoch [71/100], Batch [450/469], d_loss: -0.00071, g_loss: -0.00613\n",
      "Epoch [72/100], Batch [50/469], d_loss: -0.00085, g_loss: 0.01010\n",
      "Epoch [72/100], Batch [100/469], d_loss: -0.00119, g_loss: -0.00790\n",
      "Epoch [72/100], Batch [150/469], d_loss: -0.00204, g_loss: 0.00937\n",
      "Epoch [72/100], Batch [200/469], d_loss: -0.00287, g_loss: -0.00607\n",
      "Epoch [72/100], Batch [250/469], d_loss: -0.00146, g_loss: -0.00132\n",
      "Epoch [72/100], Batch [300/469], d_loss: -0.00449, g_loss: -0.01256\n",
      "Epoch [72/100], Batch [350/469], d_loss: 0.00059, g_loss: -0.00614\n",
      "Epoch [72/100], Batch [400/469], d_loss: -0.00737, g_loss: 0.00604\n",
      "Epoch [72/100], Batch [450/469], d_loss: 0.00068, g_loss: -0.02967\n",
      "Epoch [73/100], Batch [50/469], d_loss: 0.00064, g_loss: 0.01905\n",
      "Epoch [73/100], Batch [100/469], d_loss: -0.00086, g_loss: -0.00180\n",
      "Epoch [73/100], Batch [150/469], d_loss: -0.00330, g_loss: -0.02282\n",
      "Epoch [73/100], Batch [200/469], d_loss: 0.00150, g_loss: 0.01603\n",
      "Epoch [73/100], Batch [250/469], d_loss: 0.00033, g_loss: -0.02848\n",
      "Epoch [73/100], Batch [300/469], d_loss: -0.00176, g_loss: 0.01043\n",
      "Epoch [73/100], Batch [350/469], d_loss: -0.00127, g_loss: 0.01099\n",
      "Epoch [73/100], Batch [400/469], d_loss: 0.00265, g_loss: -0.02329\n",
      "Epoch [73/100], Batch [450/469], d_loss: 0.00377, g_loss: 0.02774\n",
      "Epoch [74/100], Batch [50/469], d_loss: -0.00187, g_loss: -0.01881\n",
      "Epoch [74/100], Batch [100/469], d_loss: -0.00086, g_loss: 0.00777\n",
      "Epoch [74/100], Batch [150/469], d_loss: -0.00075, g_loss: 0.00821\n",
      "Epoch [74/100], Batch [200/469], d_loss: 0.00012, g_loss: -0.00648\n",
      "Epoch [74/100], Batch [250/469], d_loss: 0.00138, g_loss: 0.02228\n",
      "Epoch [74/100], Batch [300/469], d_loss: -0.00164, g_loss: -0.01015\n",
      "Epoch [74/100], Batch [350/469], d_loss: 0.00019, g_loss: -0.01072\n",
      "Epoch [74/100], Batch [400/469], d_loss: 0.00057, g_loss: 0.02229\n",
      "Epoch [74/100], Batch [450/469], d_loss: -0.00103, g_loss: -0.00472\n",
      "Epoch [75/100], Batch [50/469], d_loss: -0.00110, g_loss: -0.01373\n",
      "Epoch [75/100], Batch [100/469], d_loss: -0.00105, g_loss: 0.00778\n",
      "Epoch [75/100], Batch [150/469], d_loss: -0.00106, g_loss: -0.00108\n",
      "Epoch [75/100], Batch [200/469], d_loss: -0.00054, g_loss: 0.01569\n",
      "Epoch [75/100], Batch [250/469], d_loss: -0.00237, g_loss: -0.00856\n",
      "Epoch [75/100], Batch [300/469], d_loss: 0.00089, g_loss: 0.02576\n",
      "Epoch [75/100], Batch [350/469], d_loss: -0.00092, g_loss: -0.02672\n",
      "Epoch [75/100], Batch [400/469], d_loss: 0.00139, g_loss: 0.02886\n",
      "Epoch [75/100], Batch [450/469], d_loss: -0.00300, g_loss: -0.03116\n",
      "Epoch [76/100], Batch [50/469], d_loss: 0.00043, g_loss: 0.02850\n",
      "Epoch [76/100], Batch [100/469], d_loss: 0.00246, g_loss: -0.02068\n",
      "Epoch [76/100], Batch [150/469], d_loss: -0.00071, g_loss: 0.01637\n",
      "Epoch [76/100], Batch [200/469], d_loss: -0.00212, g_loss: -0.00066\n",
      "Epoch [76/100], Batch [250/469], d_loss: 0.00126, g_loss: -0.01354\n",
      "Epoch [76/100], Batch [300/469], d_loss: 0.00112, g_loss: 0.02649\n",
      "Epoch [76/100], Batch [350/469], d_loss: -0.00228, g_loss: -0.01016\n",
      "Epoch [76/100], Batch [400/469], d_loss: -0.00095, g_loss: 0.00734\n",
      "Epoch [76/100], Batch [450/469], d_loss: -0.00324, g_loss: 0.01948\n",
      "Epoch [77/100], Batch [50/469], d_loss: -0.00288, g_loss: 0.00856\n",
      "Epoch [77/100], Batch [100/469], d_loss: -0.00595, g_loss: -0.00740\n",
      "Epoch [77/100], Batch [150/469], d_loss: -0.00069, g_loss: -0.01271\n",
      "Epoch [77/100], Batch [200/469], d_loss: -0.00121, g_loss: 0.00034\n",
      "Epoch [77/100], Batch [250/469], d_loss: -0.00210, g_loss: 0.01372\n",
      "Epoch [77/100], Batch [300/469], d_loss: -0.00206, g_loss: -0.01924\n",
      "Epoch [77/100], Batch [350/469], d_loss: -0.00005, g_loss: 0.01825\n",
      "Epoch [77/100], Batch [400/469], d_loss: -0.00037, g_loss: -0.01978\n",
      "Epoch [77/100], Batch [450/469], d_loss: 0.00053, g_loss: 0.02119\n",
      "Epoch [78/100], Batch [50/469], d_loss: 0.00032, g_loss: -0.02721\n",
      "Epoch [78/100], Batch [100/469], d_loss: -0.00154, g_loss: 0.00661\n",
      "Epoch [78/100], Batch [150/469], d_loss: -0.00062, g_loss: -0.01807\n",
      "Epoch [78/100], Batch [200/469], d_loss: 0.00051, g_loss: 0.00588\n",
      "Epoch [78/100], Batch [250/469], d_loss: -0.00006, g_loss: -0.01020\n",
      "Epoch [78/100], Batch [300/469], d_loss: -0.00295, g_loss: -0.00020\n",
      "Epoch [78/100], Batch [350/469], d_loss: -0.00090, g_loss: -0.02714\n",
      "Epoch [78/100], Batch [400/469], d_loss: -0.00136, g_loss: 0.01425\n",
      "Epoch [78/100], Batch [450/469], d_loss: -0.00007, g_loss: -0.00636\n",
      "Epoch [79/100], Batch [50/469], d_loss: -0.00120, g_loss: -0.00910\n",
      "Epoch [79/100], Batch [100/469], d_loss: 0.00024, g_loss: 0.00236\n",
      "Epoch [79/100], Batch [150/469], d_loss: -0.00342, g_loss: -0.00307\n",
      "Epoch [79/100], Batch [200/469], d_loss: -0.00020, g_loss: 0.00595\n",
      "Epoch [79/100], Batch [250/469], d_loss: 0.00164, g_loss: -0.03744\n",
      "Epoch [79/100], Batch [300/469], d_loss: -0.00073, g_loss: 0.02241\n",
      "Epoch [79/100], Batch [350/469], d_loss: 0.00016, g_loss: -0.00459\n",
      "Epoch [79/100], Batch [400/469], d_loss: -0.00250, g_loss: -0.02340\n",
      "Epoch [79/100], Batch [450/469], d_loss: 0.00077, g_loss: -0.00155\n",
      "Epoch [80/100], Batch [50/469], d_loss: -0.00111, g_loss: 0.01413\n",
      "Epoch [80/100], Batch [100/469], d_loss: 0.00144, g_loss: -0.02509\n",
      "Epoch [80/100], Batch [150/469], d_loss: 0.00041, g_loss: 0.01616\n",
      "Epoch [80/100], Batch [200/469], d_loss: -0.00298, g_loss: 0.01421\n",
      "Epoch [80/100], Batch [250/469], d_loss: 0.00009, g_loss: -0.00679\n",
      "Epoch [80/100], Batch [300/469], d_loss: -0.00022, g_loss: -0.02186\n",
      "Epoch [80/100], Batch [350/469], d_loss: -0.00053, g_loss: 0.00210\n",
      "Epoch [80/100], Batch [400/469], d_loss: 0.00190, g_loss: 0.01369\n",
      "Epoch [80/100], Batch [450/469], d_loss: -0.00045, g_loss: 0.00442\n",
      "Epoch [81/100], Batch [50/469], d_loss: -0.00147, g_loss: 0.00721\n",
      "Epoch [81/100], Batch [100/469], d_loss: -0.00001, g_loss: -0.00443\n",
      "Epoch [81/100], Batch [150/469], d_loss: -0.00007, g_loss: -0.01973\n",
      "Epoch [81/100], Batch [200/469], d_loss: -0.00172, g_loss: -0.02163\n",
      "Epoch [81/100], Batch [250/469], d_loss: -0.00509, g_loss: -0.00683\n",
      "Epoch [81/100], Batch [300/469], d_loss: -0.00100, g_loss: -0.00148\n",
      "Epoch [81/100], Batch [350/469], d_loss: -0.00322, g_loss: 0.00780\n",
      "Epoch [81/100], Batch [400/469], d_loss: 0.00183, g_loss: -0.00666\n",
      "Epoch [81/100], Batch [450/469], d_loss: 0.00036, g_loss: -0.01733\n",
      "Epoch [82/100], Batch [50/469], d_loss: -0.00137, g_loss: -0.01517\n",
      "Epoch [82/100], Batch [100/469], d_loss: -0.00057, g_loss: 0.01521\n",
      "Epoch [82/100], Batch [150/469], d_loss: 0.00006, g_loss: 0.02136\n",
      "Epoch [82/100], Batch [200/469], d_loss: -0.00037, g_loss: -0.02526\n",
      "Epoch [82/100], Batch [250/469], d_loss: 0.00181, g_loss: 0.01891\n",
      "Epoch [82/100], Batch [300/469], d_loss: -0.00090, g_loss: 0.00231\n"
     ]
    },
    {
     "name": "stdout",
     "output_type": "stream",
     "text": [
      "Epoch [82/100], Batch [350/469], d_loss: -0.00098, g_loss: 0.00052\n",
      "Epoch [82/100], Batch [400/469], d_loss: -0.00110, g_loss: -0.00307\n",
      "Epoch [82/100], Batch [450/469], d_loss: 0.00086, g_loss: -0.00424\n",
      "Epoch [83/100], Batch [50/469], d_loss: -0.00161, g_loss: -0.00892\n",
      "Epoch [83/100], Batch [100/469], d_loss: -0.00102, g_loss: 0.00493\n",
      "Epoch [83/100], Batch [150/469], d_loss: 0.00403, g_loss: -0.00386\n",
      "Epoch [83/100], Batch [200/469], d_loss: 0.00043, g_loss: 0.01031\n",
      "Epoch [83/100], Batch [250/469], d_loss: 0.00081, g_loss: -0.02332\n",
      "Epoch [83/100], Batch [300/469], d_loss: -0.00152, g_loss: 0.02059\n",
      "Epoch [83/100], Batch [350/469], d_loss: -0.00108, g_loss: 0.01962\n",
      "Epoch [83/100], Batch [400/469], d_loss: -0.00144, g_loss: -0.01740\n",
      "Epoch [83/100], Batch [450/469], d_loss: 0.00044, g_loss: 0.01001\n",
      "Epoch [84/100], Batch [50/469], d_loss: -0.00014, g_loss: 0.00981\n",
      "Epoch [84/100], Batch [100/469], d_loss: -0.00067, g_loss: 0.01632\n",
      "Epoch [84/100], Batch [150/469], d_loss: -0.00118, g_loss: -0.00911\n",
      "Epoch [84/100], Batch [200/469], d_loss: -0.00294, g_loss: -0.00320\n",
      "Epoch [84/100], Batch [250/469], d_loss: -0.00080, g_loss: 0.01761\n",
      "Epoch [84/100], Batch [300/469], d_loss: -0.00020, g_loss: -0.00754\n",
      "Epoch [84/100], Batch [350/469], d_loss: -0.00391, g_loss: 0.01911\n",
      "Epoch [84/100], Batch [400/469], d_loss: -0.00012, g_loss: 0.01066\n",
      "Epoch [84/100], Batch [450/469], d_loss: -0.00123, g_loss: 0.01406\n",
      "Epoch [85/100], Batch [50/469], d_loss: -0.00198, g_loss: -0.00237\n",
      "Epoch [85/100], Batch [100/469], d_loss: -0.00335, g_loss: -0.02523\n",
      "Epoch [85/100], Batch [150/469], d_loss: -0.00304, g_loss: 0.01113\n",
      "Epoch [85/100], Batch [200/469], d_loss: -0.00075, g_loss: -0.01596\n",
      "Epoch [85/100], Batch [250/469], d_loss: 0.00002, g_loss: -0.00467\n",
      "Epoch [85/100], Batch [300/469], d_loss: -0.00240, g_loss: 0.00562\n",
      "Epoch [85/100], Batch [350/469], d_loss: -0.00073, g_loss: 0.00269\n",
      "Epoch [85/100], Batch [400/469], d_loss: -0.00327, g_loss: -0.00853\n",
      "Epoch [85/100], Batch [450/469], d_loss: -0.00220, g_loss: 0.00389\n",
      "Epoch [86/100], Batch [50/469], d_loss: -0.00117, g_loss: -0.02974\n",
      "Epoch [86/100], Batch [100/469], d_loss: -0.00262, g_loss: -0.02179\n",
      "Epoch [86/100], Batch [150/469], d_loss: -0.00260, g_loss: -0.00934\n",
      "Epoch [86/100], Batch [200/469], d_loss: -0.00379, g_loss: -0.00104\n",
      "Epoch [86/100], Batch [250/469], d_loss: -0.00589, g_loss: 0.00202\n",
      "Epoch [86/100], Batch [300/469], d_loss: -0.00045, g_loss: -0.02344\n",
      "Epoch [86/100], Batch [350/469], d_loss: -0.00265, g_loss: -0.01621\n",
      "Epoch [86/100], Batch [400/469], d_loss: 0.00059, g_loss: 0.01051\n",
      "Epoch [86/100], Batch [450/469], d_loss: -0.00032, g_loss: 0.01883\n",
      "Epoch [87/100], Batch [50/469], d_loss: -0.00067, g_loss: 0.00046\n",
      "Epoch [87/100], Batch [100/469], d_loss: -0.00259, g_loss: 0.00864\n",
      "Epoch [87/100], Batch [150/469], d_loss: -0.00579, g_loss: -0.00058\n",
      "Epoch [87/100], Batch [200/469], d_loss: -0.00578, g_loss: 0.01073\n",
      "Epoch [87/100], Batch [250/469], d_loss: -0.00462, g_loss: -0.00992\n",
      "Epoch [87/100], Batch [300/469], d_loss: -0.00497, g_loss: -0.03070\n",
      "Epoch [87/100], Batch [350/469], d_loss: -0.00337, g_loss: -0.00424\n",
      "Epoch [87/100], Batch [400/469], d_loss: -0.00606, g_loss: 0.00969\n",
      "Epoch [87/100], Batch [450/469], d_loss: -0.00547, g_loss: -0.00768\n",
      "Epoch [88/100], Batch [50/469], d_loss: 0.00004, g_loss: -0.01244\n",
      "Epoch [88/100], Batch [100/469], d_loss: -0.00575, g_loss: 0.00326\n",
      "Epoch [88/100], Batch [150/469], d_loss: 0.00194, g_loss: 0.03340\n",
      "Epoch [88/100], Batch [200/469], d_loss: 0.00099, g_loss: 0.03037\n",
      "Epoch [88/100], Batch [250/469], d_loss: -0.00322, g_loss: -0.02302\n",
      "Epoch [88/100], Batch [300/469], d_loss: 0.00099, g_loss: -0.03244\n",
      "Epoch [88/100], Batch [350/469], d_loss: 0.00299, g_loss: 0.02979\n",
      "Epoch [88/100], Batch [400/469], d_loss: 0.00206, g_loss: -0.03239\n",
      "Epoch [88/100], Batch [450/469], d_loss: -0.00032, g_loss: 0.00822\n",
      "Epoch [89/100], Batch [50/469], d_loss: -0.00323, g_loss: 0.00846\n",
      "Epoch [89/100], Batch [100/469], d_loss: -0.00119, g_loss: -0.01602\n",
      "Epoch [89/100], Batch [150/469], d_loss: -0.00263, g_loss: 0.00495\n",
      "Epoch [89/100], Batch [200/469], d_loss: 0.00122, g_loss: -0.00293\n",
      "Epoch [89/100], Batch [250/469], d_loss: -0.00092, g_loss: 0.01136\n",
      "Epoch [89/100], Batch [300/469], d_loss: 0.00192, g_loss: -0.00160\n",
      "Epoch [89/100], Batch [350/469], d_loss: 0.00298, g_loss: -0.00529\n",
      "Epoch [89/100], Batch [400/469], d_loss: -0.00188, g_loss: 0.00706\n",
      "Epoch [89/100], Batch [450/469], d_loss: -0.00280, g_loss: -0.01066\n",
      "Epoch [90/100], Batch [50/469], d_loss: 0.00327, g_loss: -0.01743\n",
      "Epoch [90/100], Batch [100/469], d_loss: -0.00070, g_loss: 0.01384\n",
      "Epoch [90/100], Batch [150/469], d_loss: 0.00189, g_loss: -0.02950\n",
      "Epoch [90/100], Batch [200/469], d_loss: -0.00284, g_loss: 0.00907\n",
      "Epoch [90/100], Batch [250/469], d_loss: 0.00167, g_loss: -0.00682\n",
      "Epoch [90/100], Batch [300/469], d_loss: -0.00055, g_loss: 0.00073\n",
      "Epoch [90/100], Batch [350/469], d_loss: -0.00001, g_loss: -0.03551\n",
      "Epoch [90/100], Batch [400/469], d_loss: -0.00254, g_loss: -0.00275\n",
      "Epoch [90/100], Batch [450/469], d_loss: 0.00171, g_loss: 0.00312\n",
      "Epoch [91/100], Batch [50/469], d_loss: 0.00026, g_loss: -0.02959\n",
      "Epoch [91/100], Batch [100/469], d_loss: 0.00053, g_loss: 0.02117\n",
      "Epoch [91/100], Batch [150/469], d_loss: 0.00064, g_loss: -0.02495\n",
      "Epoch [91/100], Batch [200/469], d_loss: -0.00107, g_loss: 0.00480\n",
      "Epoch [91/100], Batch [250/469], d_loss: -0.00186, g_loss: -0.00585\n",
      "Epoch [91/100], Batch [300/469], d_loss: -0.00339, g_loss: -0.00909\n",
      "Epoch [91/100], Batch [350/469], d_loss: -0.00184, g_loss: 0.01867\n",
      "Epoch [91/100], Batch [400/469], d_loss: 0.00126, g_loss: -0.01804\n",
      "Epoch [91/100], Batch [450/469], d_loss: 0.00012, g_loss: -0.00728\n",
      "Epoch [92/100], Batch [50/469], d_loss: 0.00175, g_loss: 0.00869\n",
      "Epoch [92/100], Batch [100/469], d_loss: -0.00122, g_loss: 0.00236\n",
      "Epoch [92/100], Batch [150/469], d_loss: 0.00066, g_loss: -0.01098\n",
      "Epoch [92/100], Batch [200/469], d_loss: 0.00051, g_loss: 0.00618\n",
      "Epoch [92/100], Batch [250/469], d_loss: -0.00308, g_loss: -0.00730\n",
      "Epoch [92/100], Batch [300/469], d_loss: -0.00125, g_loss: 0.00665\n",
      "Epoch [92/100], Batch [350/469], d_loss: 0.00100, g_loss: -0.03991\n",
      "Epoch [92/100], Batch [400/469], d_loss: 0.00077, g_loss: 0.02158\n",
      "Epoch [92/100], Batch [450/469], d_loss: 0.00108, g_loss: 0.00668\n",
      "Epoch [93/100], Batch [50/469], d_loss: 0.00015, g_loss: 0.02796\n",
      "Epoch [93/100], Batch [100/469], d_loss: -0.00134, g_loss: -0.00001\n",
      "Epoch [93/100], Batch [150/469], d_loss: 0.00152, g_loss: 0.01302\n",
      "Epoch [93/100], Batch [200/469], d_loss: -0.00335, g_loss: 0.00402\n",
      "Epoch [93/100], Batch [250/469], d_loss: 0.00093, g_loss: -0.02989\n",
      "Epoch [93/100], Batch [300/469], d_loss: -0.00049, g_loss: 0.02450\n",
      "Epoch [93/100], Batch [350/469], d_loss: -0.00237, g_loss: -0.00954\n",
      "Epoch [93/100], Batch [400/469], d_loss: -0.00024, g_loss: -0.02548\n",
      "Epoch [93/100], Batch [450/469], d_loss: -0.00083, g_loss: 0.00979\n",
      "Epoch [94/100], Batch [50/469], d_loss: 0.00113, g_loss: 0.00873\n",
      "Epoch [94/100], Batch [100/469], d_loss: 0.00114, g_loss: 0.00483\n",
      "Epoch [94/100], Batch [150/469], d_loss: -0.00030, g_loss: -0.02625\n",
      "Epoch [94/100], Batch [200/469], d_loss: -0.00440, g_loss: -0.00740\n",
      "Epoch [94/100], Batch [250/469], d_loss: -0.00153, g_loss: -0.00011\n",
      "Epoch [94/100], Batch [300/469], d_loss: 0.00053, g_loss: -0.01544\n",
      "Epoch [94/100], Batch [350/469], d_loss: -0.00017, g_loss: -0.00387\n",
      "Epoch [94/100], Batch [400/469], d_loss: -0.00024, g_loss: 0.00323\n",
      "Epoch [94/100], Batch [450/469], d_loss: 0.00010, g_loss: 0.00222\n",
      "Epoch [95/100], Batch [50/469], d_loss: -0.00002, g_loss: -0.00498\n",
      "Epoch [95/100], Batch [100/469], d_loss: -0.00001, g_loss: 0.00992\n",
      "Epoch [95/100], Batch [150/469], d_loss: -0.00034, g_loss: -0.00899\n",
      "Epoch [95/100], Batch [200/469], d_loss: -0.00076, g_loss: 0.00647\n",
      "Epoch [95/100], Batch [250/469], d_loss: -0.00009, g_loss: -0.00671\n",
      "Epoch [95/100], Batch [300/469], d_loss: -0.00025, g_loss: 0.00673\n",
      "Epoch [95/100], Batch [350/469], d_loss: -0.00184, g_loss: -0.00757\n",
      "Epoch [95/100], Batch [400/469], d_loss: -0.00092, g_loss: -0.00714\n",
      "Epoch [95/100], Batch [450/469], d_loss: -0.00206, g_loss: -0.02048\n",
      "Epoch [96/100], Batch [50/469], d_loss: 0.00322, g_loss: -0.01767\n",
      "Epoch [96/100], Batch [100/469], d_loss: 0.00095, g_loss: -0.00269\n",
      "Epoch [96/100], Batch [150/469], d_loss: -0.00123, g_loss: -0.01213\n"
     ]
    },
    {
     "name": "stdout",
     "output_type": "stream",
     "text": [
      "Epoch [96/100], Batch [200/469], d_loss: -0.00007, g_loss: 0.02038\n",
      "Epoch [96/100], Batch [250/469], d_loss: 0.00119, g_loss: -0.02310\n",
      "Epoch [96/100], Batch [300/469], d_loss: -0.00050, g_loss: -0.01008\n",
      "Epoch [96/100], Batch [350/469], d_loss: 0.00291, g_loss: 0.01289\n",
      "Epoch [96/100], Batch [400/469], d_loss: -0.00110, g_loss: -0.02733\n",
      "Epoch [96/100], Batch [450/469], d_loss: 0.00165, g_loss: 0.02390\n",
      "Epoch [97/100], Batch [50/469], d_loss: -0.00002, g_loss: -0.03632\n",
      "Epoch [97/100], Batch [100/469], d_loss: 0.00055, g_loss: 0.02029\n",
      "Epoch [97/100], Batch [150/469], d_loss: 0.00087, g_loss: 0.00499\n",
      "Epoch [97/100], Batch [200/469], d_loss: -0.00142, g_loss: -0.00872\n",
      "Epoch [97/100], Batch [250/469], d_loss: -0.00012, g_loss: 0.02400\n",
      "Epoch [97/100], Batch [300/469], d_loss: -0.00101, g_loss: 0.00783\n",
      "Epoch [97/100], Batch [350/469], d_loss: 0.00001, g_loss: -0.03411\n",
      "Epoch [97/100], Batch [400/469], d_loss: 0.00161, g_loss: 0.01306\n",
      "Epoch [97/100], Batch [450/469], d_loss: 0.00004, g_loss: -0.00889\n",
      "Epoch [98/100], Batch [50/469], d_loss: -0.00041, g_loss: -0.01188\n",
      "Epoch [98/100], Batch [100/469], d_loss: -0.00176, g_loss: 0.01682\n",
      "Epoch [98/100], Batch [150/469], d_loss: -0.00083, g_loss: -0.00538\n",
      "Epoch [98/100], Batch [200/469], d_loss: 0.00017, g_loss: -0.00106\n",
      "Epoch [98/100], Batch [250/469], d_loss: -0.00009, g_loss: -0.00029\n",
      "Epoch [98/100], Batch [300/469], d_loss: -0.00103, g_loss: -0.00414\n",
      "Epoch [98/100], Batch [350/469], d_loss: 0.00199, g_loss: 0.02484\n",
      "Epoch [98/100], Batch [400/469], d_loss: 0.00080, g_loss: -0.02778\n",
      "Epoch [98/100], Batch [450/469], d_loss: -0.00043, g_loss: 0.01357\n",
      "Epoch [99/100], Batch [50/469], d_loss: -0.00097, g_loss: 0.00285\n",
      "Epoch [99/100], Batch [100/469], d_loss: 0.00035, g_loss: -0.01340\n",
      "Epoch [99/100], Batch [150/469], d_loss: 0.00020, g_loss: -0.00787\n",
      "Epoch [99/100], Batch [200/469], d_loss: -0.00056, g_loss: 0.00490\n",
      "Epoch [99/100], Batch [250/469], d_loss: -0.00111, g_loss: -0.01045\n",
      "Epoch [99/100], Batch [300/469], d_loss: 0.00023, g_loss: -0.00606\n",
      "Epoch [99/100], Batch [350/469], d_loss: -0.00142, g_loss: -0.00652\n",
      "Epoch [99/100], Batch [400/469], d_loss: -0.00007, g_loss: 0.00635\n",
      "Epoch [99/100], Batch [450/469], d_loss: 0.00121, g_loss: -0.02136\n",
      "Epoch [100/100], Batch [50/469], d_loss: -0.00146, g_loss: 0.01149\n",
      "Epoch [100/100], Batch [100/469], d_loss: 0.00040, g_loss: -0.01978\n",
      "Epoch [100/100], Batch [150/469], d_loss: -0.00209, g_loss: 0.02218\n",
      "Epoch [100/100], Batch [200/469], d_loss: -0.00007, g_loss: -0.02332\n",
      "Epoch [100/100], Batch [250/469], d_loss: 0.00113, g_loss: -0.02331\n",
      "Epoch [100/100], Batch [300/469], d_loss: -0.00101, g_loss: -0.02719\n",
      "Epoch [100/100], Batch [350/469], d_loss: 0.00046, g_loss: 0.00757\n",
      "Epoch [100/100], Batch [400/469], d_loss: 0.00075, g_loss: 0.01552\n",
      "Epoch [100/100], Batch [450/469], d_loss: 0.00001, g_loss: 0.00583\n"
     ]
    },
    {
     "data": {
      "image/png": "[encoded data removed]",
      "text/plain": [
       "<Figure size 432x288 with 1 Axes>"
      ]
     },
     "metadata": {
      "needs_background": "light"
     },
     "output_type": "display_data"
    }
   ],
   "source": [
    "###### Experiment 1 ######\n",
    "\n",
    "# The output in this cell has been saved from a previous experiment.\n",
    "# The code used was similar, but has unfortunately been overwritten.\n",
    "# The results are still kept here for future reference."
   ]
  },
  {
   "cell_type": "markdown",
   "id": "eed8493f",
   "metadata": {},
   "source": [
    "### Questions and expected answers for the report\n",
    "\n",
    "1. Copy and paste the code for your Critic class. Briefly explain your choice of architecture.\n",
    "\n",
    "\n",
    "2. Copy and paste the code for your Generator class. Briefly explain your choice of architecture.\n",
    "\n",
    "\n",
    "3. For how many iterations did you have to train when using Wasserstein with Conv/TransposeConv layers to get plausible images from the generator? Is it training faster than the Fully Connected Wasserstein/Vanilla GAN?\n",
    "\n",
    "\n",
    "4. Display some samples generated by your trained generator. Do they look plausible?\n",
    "\n",
    "\n",
    "5. Let us assume we use Conv2d layers in the Critic. We do NOT use Transposed Conv2d layers, but only Fully Connected layers in the Generator. Would the GAN still be able to train both models or would it encounter difficulties? Discuss."
   ]
  }
 ],
 "metadata": {
  "kernelspec": {
   "display_name": "Python [conda env:pytorch]",
   "language": "python",
   "name": "conda-env-pytorch-py"
  },
  "language_info": {
   "codemirror_mode": {
    "name": "ipython",
    "version": 3
   },
   "file_extension": ".py",
   "mimetype": "text/x-python",
   "name": "python",
   "nbconvert_exporter": "python",
   "pygments_lexer": "ipython3",
   "version": "3.8.5"
  },
  "widgets": {
   "application/vnd.jupyter.widget-state+json": {
    "state": {
     "001131a0399f4d8e8a67ef17ddcd3eac": {
      "model_module": "@jupyter-widgets/controls",
      "model_module_version": "1.5.0",
      "model_name": "HTMLModel",
      "state": {
       "layout": "IPY_MODEL_b8a84b8310544352b5e459a640b35932",
       "style": "IPY_MODEL_1c249e0a0928414baa9de51ce8c1acff",
       "value": "epoch:   1%"
      }
     },
     "004af499efae4053bbace8c905258fe2": {
      "model_module": "@jupyter-widgets/controls",
      "model_module_version": "1.5.0",
      "model_name": "ProgressStyleModel",
      "state": {
       "description_width": ""
      }
     },
     "0064df88117a4712adc68599a4a813fd": {
      "model_module": "@jupyter-widgets/base",
      "model_module_version": "1.2.0",
      "model_name": "LayoutModel",
      "state": {}
     },
     "0065e1e5c7954222a8e2608249fa2a06": {
      "model_module": "@jupyter-widgets/controls",
      "model_module_version": "1.5.0",
      "model_name": "HBoxModel",
      "state": {
       "children": [
        "IPY_MODEL_7413fd0cb98a41798cecdb969588e7fc",
        "IPY_MODEL_e977d90678a346438d415a12174446bd",
        "IPY_MODEL_ba33c8b751b34af9852e08479c67391b"
       ],
       "layout": "IPY_MODEL_9ea180a0799c49059386e35d946f3f84"
      }
     },
     "00a37419a32c4655880159a906391c5e": {
      "model_module": "@jupyter-widgets/controls",
      "model_module_version": "1.5.0",
      "model_name": "DescriptionStyleModel",
      "state": {
       "description_width": ""
      }
     },
     "00efe773505a4e40b636aeb8a6e9ec6a": {
      "model_module": "@jupyter-widgets/controls",
      "model_module_version": "1.5.0",
      "model_name": "DescriptionStyleModel",
      "state": {
       "description_width": ""
      }
     },
     "010bb724572e4db8bbd520a562bbdccb": {
      "model_module": "@jupyter-widgets/controls",
      "model_module_version": "1.5.0",
      "model_name": "HTMLModel",
      "state": {
       "layout": "IPY_MODEL_b257c3dd4dcf4fdab46b4c34a9c8d772",
       "style": "IPY_MODEL_5892aa0ee99a4dc18853ab86c921d42f",
       "value": "steps_G (loss_G: 0.40902): 100%"
      }
     },
     "01224248418d4394b3eb21b6a401ce31": {
      "model_module": "@jupyter-widgets/controls",
      "model_module_version": "1.5.0",
      "model_name": "ProgressStyleModel",
      "state": {
       "description_width": ""
      }
     },
     "012cbadf8fb748abba90384a59d15d91": {
      "model_module": "@jupyter-widgets/controls",
      "model_module_version": "1.5.0",
      "model_name": "HTMLModel",
      "state": {
       "layout": "IPY_MODEL_e6db6103c27943f1862e50fb430b975b",
       "style": "IPY_MODEL_72f71e239d8f4b1fa53156b8504b5269",
       "value": " 37/234 [00:35&lt;03:19,  1.01s/it]"
      }
     },
     "019c5f8990444aec893dd994a3470ad4": {
      "model_module": "@jupyter-widgets/base",
      "model_module_version": "1.2.0",
      "model_name": "LayoutModel",
      "state": {}
     },
     "01f15059db7e451c9bac29655ff10761": {
      "model_module": "@jupyter-widgets/controls",
      "model_module_version": "1.5.0",
      "model_name": "ProgressStyleModel",
      "state": {
       "description_width": ""
      }
     },
     "0201c71904624cfa89a901842b8ac895": {
      "model_module": "@jupyter-widgets/controls",
      "model_module_version": "1.5.0",
      "model_name": "ProgressStyleModel",
      "state": {
       "description_width": ""
      }
     },
     "02094f01b551402fb8b76a2cfb5a5fd0": {
      "model_module": "@jupyter-widgets/base",
      "model_module_version": "1.2.0",
      "model_name": "LayoutModel",
      "state": {}
     },
     "02d932a2846e4fc692c44d84fe0e4638": {
      "model_module": "@jupyter-widgets/controls",
      "model_module_version": "1.5.0",
      "model_name": "HTMLModel",
      "state": {
       "layout": "IPY_MODEL_adc95a6ab9ae47d2a85861fd0738801b",
       "style": "IPY_MODEL_e6ace95ca79e4f81b2218a7db5a909e8",
       "value": " 0/20 [00:00&lt;?, ?it/s]"
      }
     },
     "02ecbfcc2acb47e3bb8002c0ff797ef4": {
      "model_module": "@jupyter-widgets/base",
      "model_module_version": "1.2.0",
      "model_name": "LayoutModel",
      "state": {}
     },
     "037633d8eeac494fa69e9dd7c3ffa820": {
      "model_module": "@jupyter-widgets/base",
      "model_module_version": "1.2.0",
      "model_name": "LayoutModel",
      "state": {}
     },
     "03a448c38fd04763844968e31f6ec77d": {
      "model_module": "@jupyter-widgets/base",
      "model_module_version": "1.2.0",
      "model_name": "LayoutModel",
      "state": {}
     },
     "03cc5af048154d8ba022d295e3032102": {
      "model_module": "@jupyter-widgets/controls",
      "model_module_version": "1.5.0",
      "model_name": "HBoxModel",
      "state": {
       "children": [
        "IPY_MODEL_b7791c4f231541b2865cf509c3ab8a56",
        "IPY_MODEL_a2aee8eebb6b4ed3bcfccf7d90b14427",
        "IPY_MODEL_0a161ddf99d64ffbbeeb00898232b147"
       ],
       "layout": "IPY_MODEL_562f8f7d728b48868fbd00b87cca0dd1"
      }
     },
     "03d4076deee042c382c25e9daacc82c7": {
      "model_module": "@jupyter-widgets/controls",
      "model_module_version": "1.5.0",
      "model_name": "HBoxModel",
      "state": {
       "children": [
        "IPY_MODEL_37aba9fc919e4b3f84c665bce9194976",
        "IPY_MODEL_33f5618f73b04552b8e94984dc8372d3",
        "IPY_MODEL_494fc585de8c43b38561959bd2faf4c4"
       ],
       "layout": "IPY_MODEL_c15eae9522f34404ba11fc8c3a25212b"
      }
     },
     "03feac46ac4e4fb89254284c44bb0b94": {
      "model_module": "@jupyter-widgets/base",
      "model_module_version": "1.2.0",
      "model_name": "LayoutModel",
      "state": {}
     },
     "04661d7b3ae44095a51926b1073bb14f": {
      "model_module": "@jupyter-widgets/base",
      "model_module_version": "1.2.0",
      "model_name": "LayoutModel",
      "state": {}
     },
     "046a653411014457b84a00afd24dc9b4": {
      "model_module": "@jupyter-widgets/controls",
      "model_module_version": "1.5.0",
      "model_name": "HTMLModel",
      "state": {
       "layout": "IPY_MODEL_a0237d90be5b462abb4d401a9840457d",
       "style": "IPY_MODEL_b3754500017541b1864e2bea15e25da0",
       "value": "steps_G (loss_G: 0.01624):  46%"
      }
     },
     "04c9a4dda2ae48acabcbb362208aa5d0": {
      "model_module": "@jupyter-widgets/base",
      "model_module_version": "1.2.0",
      "model_name": "LayoutModel",
      "state": {}
     },
     "04e2262f9f284d639962419f1856507d": {
      "model_module": "@jupyter-widgets/controls",
      "model_module_version": "1.5.0",
      "model_name": "HBoxModel",
      "state": {
       "children": [
        "IPY_MODEL_23ac7d790c5445bab6ddecde5b045d94",
        "IPY_MODEL_c897fabb1e7c41489cdabbdf5ff56814",
        "IPY_MODEL_2b95f9f380e14e4490d3e8c2b063e9ab"
       ],
       "layout": "IPY_MODEL_70f5d69841e54d11b604549e2a2a36d1"
      }
     },
     "04f224432c2e4fe4acaf6485be3251d5": {
      "model_module": "@jupyter-widgets/base",
      "model_module_version": "1.2.0",
      "model_name": "LayoutModel",
      "state": {}
     },
     "05aa4caba818463aa59b22ef301967a9": {
      "model_module": "@jupyter-widgets/base",
      "model_module_version": "1.2.0",
      "model_name": "LayoutModel",
      "state": {}
     },
     "0600d029508046e7aa7a0aa789c21caa": {
      "model_module": "@jupyter-widgets/controls",
      "model_module_version": "1.5.0",
      "model_name": "DescriptionStyleModel",
      "state": {
       "description_width": ""
      }
     },
     "067e445c19fc4898b37743c57840a110": {
      "model_module": "@jupyter-widgets/controls",
      "model_module_version": "1.5.0",
      "model_name": "DescriptionStyleModel",
      "state": {
       "description_width": ""
      }
     },
     "06b744be05c144e1b9725886a866cbd1": {
      "model_module": "@jupyter-widgets/controls",
      "model_module_version": "1.5.0",
      "model_name": "DescriptionStyleModel",
      "state": {
       "description_width": ""
      }
     },
     "06eb316c935848b5aa74c84d5f12738e": {
      "model_module": "@jupyter-widgets/controls",
      "model_module_version": "1.5.0",
      "model_name": "DescriptionStyleModel",
      "state": {
       "description_width": ""
      }
     },
     "0760be096ee243ee91bb75391ce35bfb": {
      "model_module": "@jupyter-widgets/base",
      "model_module_version": "1.2.0",
      "model_name": "LayoutModel",
      "state": {}
     },
     "078c24212f6a4ba58be743bd155cb710": {
      "model_module": "@jupyter-widgets/base",
      "model_module_version": "1.2.0",
      "model_name": "LayoutModel",
      "state": {}
     },
     "085212f09e9040dbbc32b6b919f18a45": {
      "model_module": "@jupyter-widgets/controls",
      "model_module_version": "1.5.0",
      "model_name": "HBoxModel",
      "state": {
       "children": [
        "IPY_MODEL_0b971bbcd80d411994b440209e0cad27",
        "IPY_MODEL_c63f22db1088441fb41f458600d19fc8",
        "IPY_MODEL_c00dd66df4254093bd86e3adc77e79b9"
       ],
       "layout": "IPY_MODEL_c585981ffb354c02883795c6e2deb1e6"
      }
     },
     "087c6e32b32c4172841e804c2eb348a7": {
      "model_module": "@jupyter-widgets/controls",
      "model_module_version": "1.5.0",
      "model_name": "DescriptionStyleModel",
      "state": {
       "description_width": ""
      }
     },
     "08a28772307c4a6f8732456340dfa5ab": {
      "model_module": "@jupyter-widgets/controls",
      "model_module_version": "1.5.0",
      "model_name": "FloatProgressModel",
      "state": {
       "layout": "IPY_MODEL_67d66d14d3234a50af8a04459d4b595a",
       "max": 234,
       "style": "IPY_MODEL_20ac049f52d54f02866ebb131de702e0",
       "value": 7
      }
     },
     "08a4e99aa471439daf151fac3f312ee1": {
      "model_module": "@jupyter-widgets/controls",
      "model_module_version": "1.5.0",
      "model_name": "HTMLModel",
      "state": {
       "layout": "IPY_MODEL_74070c041cd648929dda28826fb7c449",
       "style": "IPY_MODEL_3fba57e25a3c4695a996bcb22033d21f",
       "value": "gen:   0%"
      }
     },
     "08e96e6cde2446669f9715c869a1e47b": {
      "model_module": "@jupyter-widgets/base",
      "model_module_version": "1.2.0",
      "model_name": "LayoutModel",
      "state": {}
     },
     "09282287ee76410cbb237209d55c5524": {
      "model_module": "@jupyter-widgets/controls",
      "model_module_version": "1.5.0",
      "model_name": "HTMLModel",
      "state": {
       "layout": "IPY_MODEL_5c3a2d9026c24a47a9025ec234fe95d6",
       "style": "IPY_MODEL_87d6b7e86fd5482da4be7f0b86805d66",
       "value": " 0/469 [00:00&lt;?, ?it/s]"
      }
     },
     "093c5e5c59414b6d910df890dd0532e7": {
      "model_module": "@jupyter-widgets/controls",
      "model_module_version": "1.5.0",
      "model_name": "ProgressStyleModel",
      "state": {
       "description_width": ""
      }
     },
     "094d248a976a4ff4899626e9e98c0619": {
      "model_module": "@jupyter-widgets/controls",
      "model_module_version": "1.5.0",
      "model_name": "ProgressStyleModel",
      "state": {
       "description_width": ""
      }
     },
     "09534bedeae84155a1dfc23861425b00": {
      "model_module": "@jupyter-widgets/controls",
      "model_module_version": "1.5.0",
      "model_name": "ProgressStyleModel",
      "state": {
       "description_width": ""
      }
     },
     "09d027bb9b8b40838d3ee6ad0053aa97": {
      "model_module": "@jupyter-widgets/base",
      "model_module_version": "1.2.0",
      "model_name": "LayoutModel",
      "state": {}
     },
     "09d1588c52dd4204831a742fca73d5c5": {
      "model_module": "@jupyter-widgets/controls",
      "model_module_version": "1.5.0",
      "model_name": "HTMLModel",
      "state": {
       "layout": "IPY_MODEL_cae269dc45634d3091c98e3d6b6bf9eb",
       "style": "IPY_MODEL_654fc28073f34d9f9df0a756e5bae383",
       "value": "critic (loss: -25.71695):  39%"
      }
     },
     "09d45b639f654ce488e5966cb727eb13": {
      "model_module": "@jupyter-widgets/controls",
      "model_module_version": "1.5.0",
      "model_name": "DescriptionStyleModel",
      "state": {
       "description_width": ""
      }
     },
     "09dfc2e8a3134ddc82eaaeb9c8efbf7b": {
      "model_module": "@jupyter-widgets/base",
      "model_module_version": "1.2.0",
      "model_name": "LayoutModel",
      "state": {}
     },
     "09ea8f6486654af69d2595ee4668a71e": {
      "model_module": "@jupyter-widgets/controls",
      "model_module_version": "1.5.0",
      "model_name": "ProgressStyleModel",
      "state": {
       "description_width": ""
      }
     },
     "0a161ddf99d64ffbbeeb00898232b147": {
      "model_module": "@jupyter-widgets/controls",
      "model_module_version": "1.5.0",
      "model_name": "HTMLModel",
      "state": {
       "layout": "IPY_MODEL_91976afe8adf4f76ab30e99eb0a0bd40",
       "style": "IPY_MODEL_9d610b1f3f8246aba4caa92d4e402efa",
       "value": " 1/100 [03:04&lt;5:05:12, 184.97s/it]"
      }
     },
     "0a2b9d64daad4ab1adc5631f4797e90f": {
      "model_module": "@jupyter-widgets/controls",
      "model_module_version": "1.5.0",
      "model_name": "DescriptionStyleModel",
      "state": {
       "description_width": ""
      }
     },
     "0a578de326a84997b35745da2e16b256": {
      "model_module": "@jupyter-widgets/controls",
      "model_module_version": "1.5.0",
      "model_name": "DescriptionStyleModel",
      "state": {
       "description_width": ""
      }
     },
     "0a584ffac22045bfa79b607b85a0c5b3": {
      "model_module": "@jupyter-widgets/controls",
      "model_module_version": "1.5.0",
      "model_name": "HTMLModel",
      "state": {
       "layout": "IPY_MODEL_59a657b6de3e49dc904e41e8a9f2c041",
       "style": "IPY_MODEL_7b10ff49366a486d811d769833fa0e8c",
       "value": " 20/20 [1:24:30&lt;00:00, 286.44s/it]"
      }
     },
     "0a6aa55aeb7b49ec92304d10d098ce19": {
      "model_module": "@jupyter-widgets/base",
      "model_module_version": "1.2.0",
      "model_name": "LayoutModel",
      "state": {}
     },
     "0a728a2da87647ec9b48ca8b2c629813": {
      "model_module": "@jupyter-widgets/controls",
      "model_module_version": "1.5.0",
      "model_name": "HBoxModel",
      "state": {
       "children": [
        "IPY_MODEL_3deabc2b01624b87b595f1fe781be582",
        "IPY_MODEL_73c53048b4004709bc54851240ea1179",
        "IPY_MODEL_51c44bc6433747e39869bdf76acae46e"
       ],
       "layout": "IPY_MODEL_6a5687e9fb424c40b947159865f54639"
      }
     },
     "0a90164ef7a74ea4acf43fc8b81e4058": {
      "model_module": "@jupyter-widgets/base",
      "model_module_version": "1.2.0",
      "model_name": "LayoutModel",
      "state": {}
     },
     "0aa3d4350ab14182a65689dae3488710": {
      "model_module": "@jupyter-widgets/controls",
      "model_module_version": "1.5.0",
      "model_name": "HTMLModel",
      "state": {
       "layout": "IPY_MODEL_6afd068f727f4ecf864470433a20a341",
       "style": "IPY_MODEL_62661e5296154741b496fba968d8f6fa",
       "value": " 234/234 [03:38&lt;00:00,  1.04it/s]"
      }
     },
     "0aaca3b59dbb4c04a3ad0b7d881467a4": {
      "model_module": "@jupyter-widgets/base",
      "model_module_version": "1.2.0",
      "model_name": "LayoutModel",
      "state": {}
     },
     "0ad237b590bf436285aa6eb0b3a128ed": {
      "model_module": "@jupyter-widgets/controls",
      "model_module_version": "1.5.0",
      "model_name": "DescriptionStyleModel",
      "state": {
       "description_width": ""
      }
     },
     "0aeb3565ec5a420aad8a63b89bf86824": {
      "model_module": "@jupyter-widgets/base",
      "model_module_version": "1.2.0",
      "model_name": "LayoutModel",
      "state": {}
     },
     "0b6333e758c44d62aba73e750566f930": {
      "model_module": "@jupyter-widgets/controls",
      "model_module_version": "1.5.0",
      "model_name": "DescriptionStyleModel",
      "state": {
       "description_width": ""
      }
     },
     "0b971bbcd80d411994b440209e0cad27": {
      "model_module": "@jupyter-widgets/controls",
      "model_module_version": "1.5.0",
      "model_name": "HTMLModel",
      "state": {
       "layout": "IPY_MODEL_19fcab284fef4170a7291c682d82ed30",
       "style": "IPY_MODEL_20c214fa01f34daa879e378b45002778",
       "value": "epoch: 100%"
      }
     },
     "0bcee0a90334459185d5362887c2a31a": {
      "model_module": "@jupyter-widgets/controls",
      "model_module_version": "1.5.0",
      "model_name": "ProgressStyleModel",
      "state": {
       "description_width": ""
      }
     },
     "0bdf407a07824246af323ec55dae4668": {
      "model_module": "@jupyter-widgets/controls",
      "model_module_version": "1.5.0",
      "model_name": "HTMLModel",
      "state": {
       "layout": "IPY_MODEL_8a694e8289d94c40add65b775b5ef616",
       "style": "IPY_MODEL_f3e901af9ff24d889394b4d59a964bbb",
       "value": " 624/625 [03:31&lt;00:00,  3.58it/s]"
      }
     },
     "0be8892ef70244c5899b06fdd03be75a": {
      "model_module": "@jupyter-widgets/controls",
      "model_module_version": "1.5.0",
      "model_name": "HTMLModel",
      "state": {
       "layout": "IPY_MODEL_aebe910797844216b4587a9ae0c373a0",
       "style": "IPY_MODEL_978d6613f83947b38bc33ad40f348980",
       "value": "g_steps (g_loss: 0.00973): 100%"
      }
     },
     "0bf2f5a280ae43b0a37dafc6c4e62926": {
      "model_module": "@jupyter-widgets/controls",
      "model_module_version": "1.5.0",
      "model_name": "DescriptionStyleModel",
      "state": {
       "description_width": ""
      }
     },
     "0c7b291cddd54a348b9205b665333ad5": {
      "model_module": "@jupyter-widgets/base",
      "model_module_version": "1.2.0",
      "model_name": "LayoutModel",
      "state": {}
     },
     "0cd430cc0d83495086e2758440f3d065": {
      "model_module": "@jupyter-widgets/controls",
      "model_module_version": "1.5.0",
      "model_name": "HTMLModel",
      "state": {
       "layout": "IPY_MODEL_18f1b83f53fa453d93d89faf5358ee7f",
       "style": "IPY_MODEL_7838eb9ef77f4a12a7f908b92a50a4e6",
       "value": " 67/469 [00:20&lt;02:21,  2.83it/s]"
      }
     },
     "0ce29804db6d4ffd833947c221bfe197": {
      "model_module": "@jupyter-widgets/controls",
      "model_module_version": "1.5.0",
      "model_name": "DescriptionStyleModel",
      "state": {
       "description_width": ""
      }
     },
     "0d0750ffd69446d5b77e713cf383100f": {
      "model_module": "@jupyter-widgets/controls",
      "model_module_version": "1.5.0",
      "model_name": "DescriptionStyleModel",
      "state": {
       "description_width": ""
      }
     },
     "0d315523efcb4d67a7d26f0cc58a71ef": {
      "model_module": "@jupyter-widgets/controls",
      "model_module_version": "1.5.0",
      "model_name": "HBoxModel",
      "state": {
       "children": [
        "IPY_MODEL_4960c2ba969e431fae582f6f3a9188a9",
        "IPY_MODEL_a73e131ca6eb4ea6a2230e1b41097626",
        "IPY_MODEL_352869567f8a4178abf55f60d26381dd"
       ],
       "layout": "IPY_MODEL_1ac003fb8b8d493a8cf85ce2bb8b10e8"
      }
     },
     "0dd834ffe0124f798fc935677f53aa85": {
      "model_module": "@jupyter-widgets/controls",
      "model_module_version": "1.5.0",
      "model_name": "ProgressStyleModel",
      "state": {
       "description_width": ""
      }
     },
     "0e2ad8a53ee44877b7cbf66e2e977c2d": {
      "model_module": "@jupyter-widgets/controls",
      "model_module_version": "1.5.0",
      "model_name": "ProgressStyleModel",
      "state": {
       "description_width": ""
      }
     },
     "0e43799c5dce4660ae789d3a63e99eb4": {
      "model_module": "@jupyter-widgets/controls",
      "model_module_version": "1.5.0",
      "model_name": "ProgressStyleModel",
      "state": {
       "description_width": ""
      }
     },
     "0e51da48c2a34b2284f8a213ef597ab5": {
      "model_module": "@jupyter-widgets/controls",
      "model_module_version": "1.5.0",
      "model_name": "DescriptionStyleModel",
      "state": {
       "description_width": ""
      }
     },
     "0e5832b2a6b148cd8ca14faf79f90338": {
      "model_module": "@jupyter-widgets/controls",
      "model_module_version": "1.5.0",
      "model_name": "HTMLModel",
      "state": {
       "layout": "IPY_MODEL_21a86495757945b4a89770c94ef95476",
       "style": "IPY_MODEL_73d37db65a4c4647953f4b30b34bdd15",
       "value": "epoch:   0%"
      }
     },
     "0e9bf8d8edd3400f85408e9b58ef3102": {
      "model_module": "@jupyter-widgets/controls",
      "model_module_version": "1.5.0",
      "model_name": "ProgressStyleModel",
      "state": {
       "description_width": ""
      }
     },
     "0eceff1cb7964e19a594ecde1c587143": {
      "model_module": "@jupyter-widgets/base",
      "model_module_version": "1.2.0",
      "model_name": "LayoutModel",
      "state": {}
     },
     "0edba55aee774c65a0ced363aa016c38": {
      "model_module": "@jupyter-widgets/controls",
      "model_module_version": "1.5.0",
      "model_name": "HTMLModel",
      "state": {
       "layout": "IPY_MODEL_26834f838a7047188606d1ae5039525d",
       "style": "IPY_MODEL_224e67a716ad4ebb93dbd760b9a5ee62",
       "value": "epoch: 100%"
      }
     },
     "0f0bfafd2ee547209a9ddb0509fc1bf6": {
      "model_module": "@jupyter-widgets/controls",
      "model_module_version": "1.5.0",
      "model_name": "HTMLModel",
      "state": {
       "layout": "IPY_MODEL_3ec961c824694d8a8c25c82f6fd424c0",
       "style": "IPY_MODEL_dc22a5a9dc7d4697b59a558fda483c1f",
       "value": "epoch: 100%"
      }
     },
     "0f2064a9430f4649a13700dad193673e": {
      "model_module": "@jupyter-widgets/controls",
      "model_module_version": "1.5.0",
      "model_name": "HBoxModel",
      "state": {
       "children": [
        "IPY_MODEL_af228304f9594e49888c47eb50d5d236",
        "IPY_MODEL_11b4d9c65331456aae8fe3943b3cbd8a",
        "IPY_MODEL_c7c4fcd2d22f4dc792f324b57f19bc40"
       ],
       "layout": "IPY_MODEL_72ef28d756dc4d579e81e6d52cab2725"
      }
     },
     "0f40301003314fe8a5c049510c538f5b": {
      "model_module": "@jupyter-widgets/controls",
      "model_module_version": "1.5.0",
      "model_name": "ProgressStyleModel",
      "state": {
       "description_width": ""
      }
     },
     "0f4470aea2e64def9319ee9c2263e2ea": {
      "model_module": "@jupyter-widgets/base",
      "model_module_version": "1.2.0",
      "model_name": "LayoutModel",
      "state": {}
     },
     "0f4d53e524ab4b96b6fe6dbbc7e5855e": {
      "model_module": "@jupyter-widgets/controls",
      "model_module_version": "1.5.0",
      "model_name": "ProgressStyleModel",
      "state": {
       "description_width": ""
      }
     },
     "0f694fff76bd4a7c8988ed8e5f704f5d": {
      "model_module": "@jupyter-widgets/base",
      "model_module_version": "1.2.0",
      "model_name": "LayoutModel",
      "state": {}
     },
     "0fc49a76af6c4b77b9bc602fe754f489": {
      "model_module": "@jupyter-widgets/controls",
      "model_module_version": "1.5.0",
      "model_name": "DescriptionStyleModel",
      "state": {
       "description_width": ""
      }
     },
     "0fe662b6044a4a5593e40ddc18a0704d": {
      "model_module": "@jupyter-widgets/controls",
      "model_module_version": "1.5.0",
      "model_name": "ProgressStyleModel",
      "state": {
       "description_width": ""
      }
     },
     "102d493d8777422e9828533ae4844013": {
      "model_module": "@jupyter-widgets/controls",
      "model_module_version": "1.5.0",
      "model_name": "ProgressStyleModel",
      "state": {
       "description_width": ""
      }
     },
     "104c2f61e77047b3acd141ddb408fc73": {
      "model_module": "@jupyter-widgets/controls",
      "model_module_version": "1.5.0",
      "model_name": "DescriptionStyleModel",
      "state": {
       "description_width": ""
      }
     },
     "105233d96c8142af941ce80cd50fa644": {
      "model_module": "@jupyter-widgets/controls",
      "model_module_version": "1.5.0",
      "model_name": "DescriptionStyleModel",
      "state": {
       "description_width": ""
      }
     },
     "10742b9187254d66a5501e27f663fbe5": {
      "model_module": "@jupyter-widgets/base",
      "model_module_version": "1.2.0",
      "model_name": "LayoutModel",
      "state": {}
     },
     "107c1a2f577f4147a35b42624746a1df": {
      "model_module": "@jupyter-widgets/base",
      "model_module_version": "1.2.0",
      "model_name": "LayoutModel",
      "state": {}
     },
     "10a040e356bb43869d9395dfd379316f": {
      "model_module": "@jupyter-widgets/controls",
      "model_module_version": "1.5.0",
      "model_name": "HBoxModel",
      "state": {
       "children": [
        "IPY_MODEL_bf625f02f47b4cf0afd3d1d88fe07904",
        "IPY_MODEL_2e6de7d8a23a4520a224b1244aba57ed",
        "IPY_MODEL_e0b6dd06fcbc4702a5928a33e123b9c2"
       ],
       "layout": "IPY_MODEL_b3a5618567574185997892aeb11c5f2e"
      }
     },
     "10ed9585dbe24e9c8cd6a2a106f41e6e": {
      "model_module": "@jupyter-widgets/controls",
      "model_module_version": "1.5.0",
      "model_name": "HBoxModel",
      "state": {
       "children": [
        "IPY_MODEL_8ed86199bbbb4b31a55dcdef61768970",
        "IPY_MODEL_f359c7806c794d09a15acd61d6699bb5",
        "IPY_MODEL_9a1cd7be17eb47349775ac5914c29948"
       ],
       "layout": "IPY_MODEL_4a2d7bca72b74a6283005766f8505fe2"
      }
     },
     "110e6deaf9d947eeba2df1d84ea87383": {
      "model_module": "@jupyter-widgets/controls",
      "model_module_version": "1.5.0",
      "model_name": "HTMLModel",
      "state": {
       "layout": "IPY_MODEL_05aa4caba818463aa59b22ef301967a9",
       "style": "IPY_MODEL_0ce29804db6d4ffd833947c221bfe197",
       "value": " 0/100 [00:00&lt;?, ?it/s]"
      }
     },
     "115eaec4f1374c07acda540ff5039904": {
      "model_module": "@jupyter-widgets/controls",
      "model_module_version": "1.5.0",
      "model_name": "DescriptionStyleModel",
      "state": {
       "description_width": ""
      }
     },
     "1161e1bf5ef6491cbeeebc5af73fd556": {
      "model_module": "@jupyter-widgets/controls",
      "model_module_version": "1.5.0",
      "model_name": "HTMLModel",
      "state": {
       "layout": "IPY_MODEL_437e3348ffe34f15a59bbcec3069720a",
       "style": "IPY_MODEL_4e477a146ab94914bed0ca0a24a7a71f",
       "value": "steps_G (loss_G: -0.05326): 100%"
      }
     },
     "116e1c6b91d0486aa2029167dadf66f3": {
      "model_module": "@jupyter-widgets/controls",
      "model_module_version": "1.5.0",
      "model_name": "HTMLModel",
      "state": {
       "layout": "IPY_MODEL_e72a0db2811b4db9919f8c32c3cbadbb",
       "style": "IPY_MODEL_dff852528a2b471d9202f38aa3da5682",
       "value": " 0/100 [00:00&lt;?, ?it/s]"
      }
     },
     "118baef4d10640e49e508d1e303cb663": {
      "model_module": "@jupyter-widgets/controls",
      "model_module_version": "1.5.0",
      "model_name": "HBoxModel",
      "state": {
       "children": [
        "IPY_MODEL_ee08d2d38bb248aa9bdc82158a118b6c",
        "IPY_MODEL_62dfb2e2c68e486da5ab6af3342cccab",
        "IPY_MODEL_e9638e4b75384275b2da1968400f3e45"
       ],
       "layout": "IPY_MODEL_5f720e72e81e4984ba2c84616d82833d"
      }
     },
     "11b4d9c65331456aae8fe3943b3cbd8a": {
      "model_module": "@jupyter-widgets/controls",
      "model_module_version": "1.5.0",
      "model_name": "FloatProgressModel",
      "state": {
       "layout": "IPY_MODEL_ba01af872aa74d23b76c11b351eb746e",
       "style": "IPY_MODEL_2e2ff044d7f846b784e58c65d97724a6"
      }
     },
     "11c8b6de7e5e4e34a9e6500be30169d8": {
      "model_module": "@jupyter-widgets/base",
      "model_module_version": "1.2.0",
      "model_name": "LayoutModel",
      "state": {}
     },
     "11ea731d2867475f952f1304140d6198": {
      "model_module": "@jupyter-widgets/base",
      "model_module_version": "1.2.0",
      "model_name": "LayoutModel",
      "state": {}
     },
     "11efa4a0096a48b99f57a5c0e68cbd66": {
      "model_module": "@jupyter-widgets/controls",
      "model_module_version": "1.5.0",
      "model_name": "HTMLModel",
      "state": {
       "layout": "IPY_MODEL_e9c00552de71432eb640bebeeb0dbed6",
       "style": "IPY_MODEL_e1def55cfb5d40508cfe19a6922792a4",
       "value": "d_steps (d_loss: -0.00029): 100%"
      }
     },
     "11fde330110e487e98028d2be58c5e49": {
      "model_module": "@jupyter-widgets/controls",
      "model_module_version": "1.5.0",
      "model_name": "HTMLModel",
      "state": {
       "layout": "IPY_MODEL_89b58f7664454f508df13a57aa738ab9",
       "style": "IPY_MODEL_c95cecc9ab794be58d4fbfcd2c65da3b",
       "value": "steps_G (loss_G: 2.06079): 100%"
      }
     },
     "1243c8b9fa17476489dfddff078e197c": {
      "model_module": "@jupyter-widgets/base",
      "model_module_version": "1.2.0",
      "model_name": "LayoutModel",
      "state": {}
     },
     "126e2a23549e4aa8ab386024786c3826": {
      "model_module": "@jupyter-widgets/controls",
      "model_module_version": "1.5.0",
      "model_name": "HBoxModel",
      "state": {
       "children": [
        "IPY_MODEL_997b5231f5cf4a988d65e0df85b510db",
        "IPY_MODEL_cae5ce8426184734815bb6316526ebbf",
        "IPY_MODEL_84fcfba1e85c4e6b84eda1f8af5b1209"
       ],
       "layout": "IPY_MODEL_29e86919e39842d4b461a05082ddbe81"
      }
     },
     "12a9cc32e2664c2bb23a408c0b7fcee2": {
      "model_module": "@jupyter-widgets/controls",
      "model_module_version": "1.5.0",
      "model_name": "ProgressStyleModel",
      "state": {
       "description_width": ""
      }
     },
     "12e04f688c174ac28b1220ee04c21c15": {
      "model_module": "@jupyter-widgets/controls",
      "model_module_version": "1.5.0",
      "model_name": "HTMLModel",
      "state": {
       "layout": "IPY_MODEL_6f66e0c78a6b49e1ac7095a7a67cff6c",
       "style": "IPY_MODEL_68fc5b22b798467e94f95eb1a8011d0c",
       "value": " 47/47 [01:29&lt;00:00,  1.59s/it]"
      }
     },
     "130810187a3b4206b9b82cb04d16a31e": {
      "model_module": "@jupyter-widgets/base",
      "model_module_version": "1.2.0",
      "model_name": "LayoutModel",
      "state": {}
     },
     "13678964f75b49ffac529e2fde6661b0": {
      "model_module": "@jupyter-widgets/controls",
      "model_module_version": "1.5.0",
      "model_name": "FloatProgressModel",
      "state": {
       "layout": "IPY_MODEL_362f530dc23548cf950e8e335775b3e0",
       "max": 624,
       "style": "IPY_MODEL_9739404be82c417684c35095b230b71b",
       "value": 59
      }
     },
     "13723713c2f74d9db5de85fae2309f92": {
      "model_module": "@jupyter-widgets/controls",
      "model_module_version": "1.5.0",
      "model_name": "ProgressStyleModel",
      "state": {
       "description_width": ""
      }
     },
     "140b844d688c4343a67aa9fde103ec78": {
      "model_module": "@jupyter-widgets/controls",
      "model_module_version": "1.5.0",
      "model_name": "FloatProgressModel",
      "state": {
       "layout": "IPY_MODEL_80125d59b75344569b2a25a81b2753ba",
       "max": 469,
       "style": "IPY_MODEL_7d1b63562b0f4ea0bed944164f49cf9a",
       "value": 468
      }
     },
     "1442437b69574a41a3052fbca900e457": {
      "model_module": "@jupyter-widgets/controls",
      "model_module_version": "1.5.0",
      "model_name": "HBoxModel",
      "state": {
       "children": [
        "IPY_MODEL_55cde9f436f648b4b1448f060ed4893d",
        "IPY_MODEL_f7feb13c508f41e480cc65b9c7606abc",
        "IPY_MODEL_860247006c304bcdad3ceb04029f2cb2"
       ],
       "layout": "IPY_MODEL_6305172e65f84ae0a0c6d43c8a39c428"
      }
     },
     "14879bd85e4a4b58976034b0cbcccbb6": {
      "model_module": "@jupyter-widgets/base",
      "model_module_version": "1.2.0",
      "model_name": "LayoutModel",
      "state": {}
     },
     "14b6f084058641b8b7333a5e5744f2de": {
      "model_module": "@jupyter-widgets/controls",
      "model_module_version": "1.5.0",
      "model_name": "DescriptionStyleModel",
      "state": {
       "description_width": ""
      }
     },
     "15844d5861d24c0ea030179d37c28c2f": {
      "model_module": "@jupyter-widgets/controls",
      "model_module_version": "1.5.0",
      "model_name": "HBoxModel",
      "state": {
       "children": [
        "IPY_MODEL_50c005833f2748a484413d2ea3002b4f",
        "IPY_MODEL_3184553e521f4566aa9d93cf2e63630e",
        "IPY_MODEL_d330ce00efdf44a0992a9596b26cf10c"
       ],
       "layout": "IPY_MODEL_4019fbce0b15477ba15132a594534227"
      }
     },
     "1593b6d1be684bdb8fbdb1c8f9411bc2": {
      "model_module": "@jupyter-widgets/controls",
      "model_module_version": "1.5.0",
      "model_name": "DescriptionStyleModel",
      "state": {
       "description_width": ""
      }
     },
     "15b2044f75914213ba13e8ce844787fb": {
      "model_module": "@jupyter-widgets/controls",
      "model_module_version": "1.5.0",
      "model_name": "FloatProgressModel",
      "state": {
       "layout": "IPY_MODEL_eba82c2f700c42afa717e97d04e62b35",
       "max": 469,
       "style": "IPY_MODEL_093c5e5c59414b6d910df890dd0532e7",
       "value": 74
      }
     },
     "15eaf3fc03e949d5a2f643048189ce4b": {
      "model_module": "@jupyter-widgets/base",
      "model_module_version": "1.2.0",
      "model_name": "LayoutModel",
      "state": {}
     },
     "15fce8d46f3c483b92179a07bceca120": {
      "model_module": "@jupyter-widgets/controls",
      "model_module_version": "1.5.0",
      "model_name": "HTMLModel",
      "state": {
       "layout": "IPY_MODEL_30feb6b8bb1d49c081b4b915b848ea8f",
       "style": "IPY_MODEL_eb79d09fdd954c28ba4309ed2d693e09",
       "value": "critic (loss: -0.18229):   0%"
      }
     },
     "1605eaedb6034c29890c2d541c65dfb8": {
      "model_module": "@jupyter-widgets/controls",
      "model_module_version": "1.5.0",
      "model_name": "HTMLModel",
      "state": {
       "layout": "IPY_MODEL_09dfc2e8a3134ddc82eaaeb9c8efbf7b",
       "style": "IPY_MODEL_e375221dd6e840a1b6b20e45b4e45a52",
       "value": " 93/93 [03:15&lt;00:00,  2.37s/it]"
      }
     },
     "1691f26c1bb445198f0bfc3bdc540b58": {
      "model_module": "@jupyter-widgets/base",
      "model_module_version": "1.2.0",
      "model_name": "LayoutModel",
      "state": {}
     },
     "16aef6cbbae34f859bfe19761a8fa46d": {
      "model_module": "@jupyter-widgets/controls",
      "model_module_version": "1.5.0",
      "model_name": "ProgressStyleModel",
      "state": {
       "description_width": ""
      }
     },
     "16afa8ebf4794f55bdd8fb95420f23f6": {
      "model_module": "@jupyter-widgets/controls",
      "model_module_version": "1.5.0",
      "model_name": "HTMLModel",
      "state": {
       "layout": "IPY_MODEL_5ef1fdf8aa4440fcab4b9c0b38c1a560",
       "style": "IPY_MODEL_4aa2187741f04ae7a8943b1e0a892b7b",
       "value": "steps_G:   0%"
      }
     },
     "17002705326740e3abe62a9720575ff5": {
      "model_module": "@jupyter-widgets/controls",
      "model_module_version": "1.5.0",
      "model_name": "FloatProgressModel",
      "state": {
       "layout": "IPY_MODEL_3b077143a5e445d7a7497f63e602c527",
       "max": 1,
       "style": "IPY_MODEL_73659fd29ba742c2a45d74f97dbb46c8",
       "value": 1
      }
     },
     "1710693e655a444eabe96c8030dbd33f": {
      "model_module": "@jupyter-widgets/base",
      "model_module_version": "1.2.0",
      "model_name": "LayoutModel",
      "state": {}
     },
     "1735904a9f9f46f892e305c952926eba": {
      "model_module": "@jupyter-widgets/controls",
      "model_module_version": "1.5.0",
      "model_name": "FloatProgressModel",
      "state": {
       "layout": "IPY_MODEL_40804d3c7ce549bca78859b4c13cb2c1",
       "max": 469,
       "style": "IPY_MODEL_5f1b7111f4904c30bfaf93b9adbddccf",
       "value": 38
      }
     },
     "17a468a8404c42fe8eab513c583ea04c": {
      "model_module": "@jupyter-widgets/base",
      "model_module_version": "1.2.0",
      "model_name": "LayoutModel",
      "state": {}
     },
     "17d873a1270e4389a407862f1e6bb8af": {
      "model_module": "@jupyter-widgets/base",
      "model_module_version": "1.2.0",
      "model_name": "LayoutModel",
      "state": {}
     },
     "17e45359dd8e49ea88732b245dd69f90": {
      "model_module": "@jupyter-widgets/controls",
      "model_module_version": "1.5.0",
      "model_name": "DescriptionStyleModel",
      "state": {
       "description_width": ""
      }
     },
     "182bdc2a9b594b46b048d591f63eb359": {
      "model_module": "@jupyter-widgets/controls",
      "model_module_version": "1.5.0",
      "model_name": "DescriptionStyleModel",
      "state": {
       "description_width": ""
      }
     },
     "18609d0603a84bed88d890d33e29018a": {
      "model_module": "@jupyter-widgets/base",
      "model_module_version": "1.2.0",
      "model_name": "LayoutModel",
      "state": {}
     },
     "187f14660f8f4d1ebe42c89a2007052e": {
      "model_module": "@jupyter-widgets/controls",
      "model_module_version": "1.5.0",
      "model_name": "HBoxModel",
      "state": {
       "children": [
        "IPY_MODEL_b46b9f6f19f841a3bdf7c1b8ad4f8eaf",
        "IPY_MODEL_d70e742401d64fa1bd97501f8432ed2c",
        "IPY_MODEL_8be2c3e092144e5da7d278975846fbd5"
       ],
       "layout": "IPY_MODEL_71cb4559b93e40b0b73413208e4c1444"
      }
     },
     "18d5e5d0125042dcbd3b342101e7000c": {
      "model_module": "@jupyter-widgets/base",
      "model_module_version": "1.2.0",
      "model_name": "LayoutModel",
      "state": {}
     },
     "18f1b83f53fa453d93d89faf5358ee7f": {
      "model_module": "@jupyter-widgets/base",
      "model_module_version": "1.2.0",
      "model_name": "LayoutModel",
      "state": {}
     },
     "1948798cb6724845a817b77c86136fb8": {
      "model_module": "@jupyter-widgets/base",
      "model_module_version": "1.2.0",
      "model_name": "LayoutModel",
      "state": {}
     },
     "1965d7828ef046aca4ef1b01ebd69081": {
      "model_module": "@jupyter-widgets/controls",
      "model_module_version": "1.5.0",
      "model_name": "DescriptionStyleModel",
      "state": {
       "description_width": ""
      }
     },
     "1976939526ea4789afb78f3e2d86d093": {
      "model_module": "@jupyter-widgets/controls",
      "model_module_version": "1.5.0",
      "model_name": "ProgressStyleModel",
      "state": {
       "description_width": ""
      }
     },
     "1990b494f9ca4c558125133460eb79c7": {
      "model_module": "@jupyter-widgets/base",
      "model_module_version": "1.2.0",
      "model_name": "LayoutModel",
      "state": {}
     },
     "19e28d03163142408e7e6fbf2efb499e": {
      "model_module": "@jupyter-widgets/controls",
      "model_module_version": "1.5.0",
      "model_name": "ProgressStyleModel",
      "state": {
       "description_width": ""
      }
     },
     "19e90ea90db84be6ad18bc9dd5e0199e": {
      "model_module": "@jupyter-widgets/controls",
      "model_module_version": "1.5.0",
      "model_name": "HTMLModel",
      "state": {
       "layout": "IPY_MODEL_bd990698872f432b9bc6e2dfdf246e1d",
       "style": "IPY_MODEL_3ef014fb2dcb492daedb102fbf6b757e",
       "value": "gen:   0%"
      }
     },
     "19fcab284fef4170a7291c682d82ed30": {
      "model_module": "@jupyter-widgets/base",
      "model_module_version": "1.2.0",
      "model_name": "LayoutModel",
      "state": {}
     },
     "1a343af6ddf14a6b8a38a83240022545": {
      "model_module": "@jupyter-widgets/base",
      "model_module_version": "1.2.0",
      "model_name": "LayoutModel",
      "state": {}
     },
     "1a69c850bb7b4dd981fed9bf60208bf5": {
      "model_module": "@jupyter-widgets/controls",
      "model_module_version": "1.5.0",
      "model_name": "HTMLModel",
      "state": {
       "layout": "IPY_MODEL_a1e230e56e974ced9795e3bc9954d977",
       "style": "IPY_MODEL_73e2d5f42409435793deb7960f943594",
       "value": " 115/469 [01:17&lt;03:58,  1.49it/s]"
      }
     },
     "1a6d6303a7bf4d829bbed261e7924ddd": {
      "model_module": "@jupyter-widgets/controls",
      "model_module_version": "1.5.0",
      "model_name": "ProgressStyleModel",
      "state": {
       "description_width": ""
      }
     },
     "1ac003fb8b8d493a8cf85ce2bb8b10e8": {
      "model_module": "@jupyter-widgets/base",
      "model_module_version": "1.2.0",
      "model_name": "LayoutModel",
      "state": {}
     },
     "1aef176565694714ba36c8b3ee9ad5ed": {
      "model_module": "@jupyter-widgets/controls",
      "model_module_version": "1.5.0",
      "model_name": "HBoxModel",
      "state": {
       "children": [
        "IPY_MODEL_92f14d6d2ced403c81ce92fcc74b856a",
        "IPY_MODEL_4733eea3312140e0a6ad78023d78afdb",
        "IPY_MODEL_b8f1813e479f4c81994e907e8d5e7758"
       ],
       "layout": "IPY_MODEL_45568825d3464779b07d80cc0e2d1b5f"
      }
     },
     "1b0047dc03ae4e1995f534f9951cf5a7": {
      "model_module": "@jupyter-widgets/controls",
      "model_module_version": "1.5.0",
      "model_name": "HTMLModel",
      "state": {
       "layout": "IPY_MODEL_17a468a8404c42fe8eab513c583ea04c",
       "style": "IPY_MODEL_f856f8cf12d34e37bdeb0d535a1385ca",
       "value": " 5/100 [09:58&lt;2:59:44, 113.52s/it]"
      }
     },
     "1b9f903dddbb4273b548c454be9fb3d6": {
      "model_module": "@jupyter-widgets/controls",
      "model_module_version": "1.5.0",
      "model_name": "ProgressStyleModel",
      "state": {
       "description_width": ""
      }
     },
     "1bee36bf18fd46b0819f27847674ff03": {
      "model_module": "@jupyter-widgets/controls",
      "model_module_version": "1.5.0",
      "model_name": "FloatProgressModel",
      "state": {
       "layout": "IPY_MODEL_778c75b010c648bbae6fdd337fd95fec",
       "max": 625,
       "style": "IPY_MODEL_a6a8a435028f492cbd3bbe0b94101f97",
       "value": 624
      }
     },
     "1bfad7672bae41ceaf2321d48be15fca": {
      "model_module": "@jupyter-widgets/controls",
      "model_module_version": "1.5.0",
      "model_name": "HBoxModel",
      "state": {
       "children": [
        "IPY_MODEL_8b82356fe3954f2185606da14531c2ae",
        "IPY_MODEL_15b2044f75914213ba13e8ce844787fb",
        "IPY_MODEL_bbc3f757b24946f2a292a1c80f071d81"
       ],
       "layout": "IPY_MODEL_5dd2096e604443269c9fb5fe0a029673"
      }
     },
     "1c14713a5b284217af934309509197d0": {
      "model_module": "@jupyter-widgets/controls",
      "model_module_version": "1.5.0",
      "model_name": "DescriptionStyleModel",
      "state": {
       "description_width": ""
      }
     },
     "1c249e0a0928414baa9de51ce8c1acff": {
      "model_module": "@jupyter-widgets/controls",
      "model_module_version": "1.5.0",
      "model_name": "DescriptionStyleModel",
      "state": {
       "description_width": ""
      }
     },
     "1c2fca8c5ddd41edb54bba2cc0b7f236": {
      "model_module": "@jupyter-widgets/base",
      "model_module_version": "1.2.0",
      "model_name": "LayoutModel",
      "state": {}
     },
     "1c63dedb06e6464faf3f6b4b4399a074": {
      "model_module": "@jupyter-widgets/base",
      "model_module_version": "1.2.0",
      "model_name": "LayoutModel",
      "state": {}
     },
     "1cc07320bc814004b7406d9c8d56d17b": {
      "model_module": "@jupyter-widgets/controls",
      "model_module_version": "1.5.0",
      "model_name": "HTMLModel",
      "state": {
       "layout": "IPY_MODEL_7be855b28ac54d82ac851e17bfd7b617",
       "style": "IPY_MODEL_cb05809cc050453484d6a4de76ee9037",
       "value": " 0/100 [00:00&lt;?, ?it/s]"
      }
     },
     "1cd681e9f1314c2fab954f1fe80383b0": {
      "model_module": "@jupyter-widgets/controls",
      "model_module_version": "1.5.0",
      "model_name": "HBoxModel",
      "state": {
       "children": [
        "IPY_MODEL_975bbe23d9d949d1a753ae13a2a037ed",
        "IPY_MODEL_673da1c1cef64b479348c3773dc1aad9",
        "IPY_MODEL_6976354b9658431f8151fe7e18fd405c"
       ],
       "layout": "IPY_MODEL_a37ef7471d6f4415ba8f6539b4645c85"
      }
     },
     "1cdabc9d0c6a4d5d8fcf5872907740f1": {
      "model_module": "@jupyter-widgets/controls",
      "model_module_version": "1.5.0",
      "model_name": "HBoxModel",
      "state": {
       "children": [
        "IPY_MODEL_9d432fed43034c3c9930c7c862c72e05",
        "IPY_MODEL_4137e40de3534fe7871619d13c2b97f5",
        "IPY_MODEL_4f696415d998438d9bc1a2e063a8015c"
       ],
       "layout": "IPY_MODEL_a6531346a8fc4f308ef97fadd6721310"
      }
     },
     "1d001e26865f4d00be0004c9a81a7cd3": {
      "model_module": "@jupyter-widgets/controls",
      "model_module_version": "1.5.0",
      "model_name": "ProgressStyleModel",
      "state": {
       "description_width": ""
      }
     },
     "1d148fa61d9446c6b7ca099b58280351": {
      "model_module": "@jupyter-widgets/base",
      "model_module_version": "1.2.0",
      "model_name": "LayoutModel",
      "state": {}
     },
     "1d25184d67cf46b696b0bd829835f2f7": {
      "model_module": "@jupyter-widgets/base",
      "model_module_version": "1.2.0",
      "model_name": "LayoutModel",
      "state": {}
     },
     "1d257b9bac744f36b7df6082ff360be1": {
      "model_module": "@jupyter-widgets/base",
      "model_module_version": "1.2.0",
      "model_name": "LayoutModel",
      "state": {}
     },
     "1d715f6f05c94fe491e7b6b926884c3b": {
      "model_module": "@jupyter-widgets/controls",
      "model_module_version": "1.5.0",
      "model_name": "DescriptionStyleModel",
      "state": {
       "description_width": ""
      }
     },
     "1d7bfc8fb1db44bdac3ec805348eb3ee": {
      "model_module": "@jupyter-widgets/controls",
      "model_module_version": "1.5.0",
      "model_name": "DescriptionStyleModel",
      "state": {
       "description_width": ""
      }
     },
     "1d8e8a7b04614ae29edb5273c832af55": {
      "model_module": "@jupyter-widgets/base",
      "model_module_version": "1.2.0",
      "model_name": "LayoutModel",
      "state": {}
     },
     "1d9a28ec322d4c0b92ba2d4f4a931212": {
      "model_module": "@jupyter-widgets/controls",
      "model_module_version": "1.5.0",
      "model_name": "HBoxModel",
      "state": {
       "children": [
        "IPY_MODEL_11efa4a0096a48b99f57a5c0e68cbd66",
        "IPY_MODEL_9a08ce0c707647c6aa040f0bc4dbad5e",
        "IPY_MODEL_b7d402e2bbcd4ec29de8f1df2c5f7a8e"
       ],
       "layout": "IPY_MODEL_8c09f49a94914696a55615f09880d5df"
      }
     },
     "1db9ee7a0518424d871d0e704c4234d8": {
      "model_module": "@jupyter-widgets/controls",
      "model_module_version": "1.5.0",
      "model_name": "HTMLModel",
      "state": {
       "layout": "IPY_MODEL_b680f8f2568a49288e2783fb3f40113b",
       "style": "IPY_MODEL_9a10538bca394b73ac6a060456c73d13",
       "value": " 93/93 [04:37&lt;00:00,  3.11s/it]"
      }
     },
     "1dbbda7f27a84bec966f800a0ce423ae": {
      "model_module": "@jupyter-widgets/controls",
      "model_module_version": "1.5.0",
      "model_name": "FloatProgressModel",
      "state": {
       "layout": "IPY_MODEL_6cbba5f68fb64fbd8bcc84d03910cd12",
       "max": 469,
       "style": "IPY_MODEL_2a6f5fa9caa9499a95ddad9bbe5f298b",
       "value": 285
      }
     },
     "1dc0158e5f844bc686e2ec6e3fd76b2f": {
      "model_module": "@jupyter-widgets/controls",
      "model_module_version": "1.5.0",
      "model_name": "HTMLModel",
      "state": {
       "layout": "IPY_MODEL_1d257b9bac744f36b7df6082ff360be1",
       "style": "IPY_MODEL_a274f5e0bbf64019ae764338d6aa918d",
       "value": " 1/1 [03:15&lt;00:00, 195.35s/it]"
      }
     },
     "1dc44e96ccb0431c8b66b936ca248c84": {
      "model_module": "@jupyter-widgets/base",
      "model_module_version": "1.2.0",
      "model_name": "LayoutModel",
      "state": {}
     },
     "1dc7f756e9044d63b3fd95b42fa4bbc0": {
      "model_module": "@jupyter-widgets/controls",
      "model_module_version": "1.5.0",
      "model_name": "FloatProgressModel",
      "state": {
       "layout": "IPY_MODEL_019c5f8990444aec893dd994a3470ad4",
       "max": 47,
       "style": "IPY_MODEL_9112de013ced4dc897ca50cdddcb6034",
       "value": 47
      }
     },
     "1deca310425c4db1995f043f18f04be1": {
      "model_module": "@jupyter-widgets/controls",
      "model_module_version": "1.5.0",
      "model_name": "HBoxModel",
      "state": {
       "children": [
        "IPY_MODEL_fdb9d955c1504a628b08f4321d19f6cf",
        "IPY_MODEL_f191dd30f2364c7c8de1b4f17a50990b",
        "IPY_MODEL_361c516a6d714c4eb90ab19efd7c2c91"
       ],
       "layout": "IPY_MODEL_412b7747310b4936821e101cf827a9e4"
      }
     },
     "1e35a3480d944484bd23b1d7ab0c0298": {
      "model_module": "@jupyter-widgets/base",
      "model_module_version": "1.2.0",
      "model_name": "LayoutModel",
      "state": {}
     },
     "1e9d938b5c9749dbabf235f165de33cc": {
      "model_module": "@jupyter-widgets/controls",
      "model_module_version": "1.5.0",
      "model_name": "HBoxModel",
      "state": {
       "children": [
        "IPY_MODEL_d9d52ddfd3f44db5b01161669f1cc20b",
        "IPY_MODEL_17002705326740e3abe62a9720575ff5",
        "IPY_MODEL_c9e72439f76d4ae7a0f3187a0ecd20c5"
       ],
       "layout": "IPY_MODEL_f427751469394c93816fc3ae63fdd70a"
      }
     },
     "1ede6a0b936f4cbcb8acd559615267c6": {
      "model_module": "@jupyter-widgets/controls",
      "model_module_version": "1.5.0",
      "model_name": "DescriptionStyleModel",
      "state": {
       "description_width": ""
      }
     },
     "1f0510342b1344e499e0ea76cb13fa79": {
      "model_module": "@jupyter-widgets/controls",
      "model_module_version": "1.5.0",
      "model_name": "ProgressStyleModel",
      "state": {
       "description_width": ""
      }
     },
     "1f278f519f624c1092a952650e24e6f7": {
      "model_module": "@jupyter-widgets/controls",
      "model_module_version": "1.5.0",
      "model_name": "HTMLModel",
      "state": {
       "layout": "IPY_MODEL_91f925ca11394b799becf65ed94a5fb5",
       "style": "IPY_MODEL_b66a7c37f3a846ac845f9b80c581dc50",
       "value": "epoch: 100%"
      }
     },
     "1f3e33bff10247c6854a810f72c9c53e": {
      "model_module": "@jupyter-widgets/base",
      "model_module_version": "1.2.0",
      "model_name": "LayoutModel",
      "state": {}
     },
     "1fb05cc3f9f749f29a18de9f1a619f9c": {
      "model_module": "@jupyter-widgets/controls",
      "model_module_version": "1.5.0",
      "model_name": "FloatProgressModel",
      "state": {
       "layout": "IPY_MODEL_20b1f17df4d54e89856eb4450d75165a",
       "style": "IPY_MODEL_e0131243af66483a8ea412f9215aef4b",
       "value": 3
      }
     },
     "1fb07c61b9fd4863a64da60cb6a6e761": {
      "model_module": "@jupyter-widgets/controls",
      "model_module_version": "1.5.0",
      "model_name": "DescriptionStyleModel",
      "state": {
       "description_width": ""
      }
     },
     "1fc824ddf07f4ce59b14c3f24749533b": {
      "model_module": "@jupyter-widgets/controls",
      "model_module_version": "1.5.0",
      "model_name": "ProgressStyleModel",
      "state": {
       "description_width": ""
      }
     },
     "206e70692e894924b1735e4587d582da": {
      "model_module": "@jupyter-widgets/controls",
      "model_module_version": "1.5.0",
      "model_name": "HTMLModel",
      "state": {
       "layout": "IPY_MODEL_82a3848e19df47a8b8b3deddd9cd93eb",
       "style": "IPY_MODEL_60bd24474a4842f287aadb67db9bad41",
       "value": "d_steps (d_loss: -0.00055):   4%"
      }
     },
     "208673cd92a544dfab50e3de571719bb": {
      "model_module": "@jupyter-widgets/base",
      "model_module_version": "1.2.0",
      "model_name": "LayoutModel",
      "state": {}
     },
     "2087fcf60d264726a86293e85ec674bd": {
      "model_module": "@jupyter-widgets/controls",
      "model_module_version": "1.5.0",
      "model_name": "FloatProgressModel",
      "state": {
       "layout": "IPY_MODEL_7f49b3dc8c3f44859bf98f80630a6210",
       "max": 30,
       "style": "IPY_MODEL_ba8045200b7e4c9dbcfc3ae4201c5e80"
      }
     },
     "20ac049f52d54f02866ebb131de702e0": {
      "model_module": "@jupyter-widgets/controls",
      "model_module_version": "1.5.0",
      "model_name": "ProgressStyleModel",
      "state": {
       "description_width": ""
      }
     },
     "20b1f17df4d54e89856eb4450d75165a": {
      "model_module": "@jupyter-widgets/base",
      "model_module_version": "1.2.0",
      "model_name": "LayoutModel",
      "state": {}
     },
     "20c214fa01f34daa879e378b45002778": {
      "model_module": "@jupyter-widgets/controls",
      "model_module_version": "1.5.0",
      "model_name": "DescriptionStyleModel",
      "state": {
       "description_width": ""
      }
     },
     "20cd20a50f7341268b9cbdead2bfaf41": {
      "model_module": "@jupyter-widgets/base",
      "model_module_version": "1.2.0",
      "model_name": "LayoutModel",
      "state": {}
     },
     "20d9abb9f130484695e977ee01014ed4": {
      "model_module": "@jupyter-widgets/controls",
      "model_module_version": "1.5.0",
      "model_name": "HTMLModel",
      "state": {
       "layout": "IPY_MODEL_3ed824ca5e604376a404486b1dcdd285",
       "style": "IPY_MODEL_3d69f2a615374facaeecb6f85532848b",
       "value": "gen (loss: 7.88255): 100%"
      }
     },
     "20e1758377444140818dcea47269d5e7": {
      "model_module": "@jupyter-widgets/base",
      "model_module_version": "1.2.0",
      "model_name": "LayoutModel",
      "state": {}
     },
     "21a86495757945b4a89770c94ef95476": {
      "model_module": "@jupyter-widgets/base",
      "model_module_version": "1.2.0",
      "model_name": "LayoutModel",
      "state": {}
     },
     "21f4b9196b944a3ba61bbba384c34d6b": {
      "model_module": "@jupyter-widgets/controls",
      "model_module_version": "1.5.0",
      "model_name": "DescriptionStyleModel",
      "state": {
       "description_width": ""
      }
     },
     "2219cc9ce5a84d5683faef376a18cdfa": {
      "model_module": "@jupyter-widgets/base",
      "model_module_version": "1.2.0",
      "model_name": "LayoutModel",
      "state": {}
     },
     "224e67a716ad4ebb93dbd760b9a5ee62": {
      "model_module": "@jupyter-widgets/controls",
      "model_module_version": "1.5.0",
      "model_name": "DescriptionStyleModel",
      "state": {
       "description_width": ""
      }
     },
     "228219b36475493f89463830e1089933": {
      "model_module": "@jupyter-widgets/base",
      "model_module_version": "1.2.0",
      "model_name": "LayoutModel",
      "state": {}
     },
     "22abfc5cf83149159584eba890ec995c": {
      "model_module": "@jupyter-widgets/controls",
      "model_module_version": "1.5.0",
      "model_name": "ProgressStyleModel",
      "state": {
       "description_width": ""
      }
     },
     "22e7feb4ab364f9ab10f85ec850972cf": {
      "model_module": "@jupyter-widgets/base",
      "model_module_version": "1.2.0",
      "model_name": "LayoutModel",
      "state": {}
     },
     "231b6cce428b434db72cdbb9a0858849": {
      "model_module": "@jupyter-widgets/base",
      "model_module_version": "1.2.0",
      "model_name": "LayoutModel",
      "state": {}
     },
     "23230e2a148343caa9e99d6db2e65acf": {
      "model_module": "@jupyter-widgets/controls",
      "model_module_version": "1.5.0",
      "model_name": "ProgressStyleModel",
      "state": {
       "description_width": ""
      }
     },
     "232772f23c964223bb361f7efdeaf837": {
      "model_module": "@jupyter-widgets/controls",
      "model_module_version": "1.5.0",
      "model_name": "DescriptionStyleModel",
      "state": {
       "description_width": ""
      }
     },
     "232e3e0be81e4341a5fe60cc13c4f47e": {
      "model_module": "@jupyter-widgets/controls",
      "model_module_version": "1.5.0",
      "model_name": "ProgressStyleModel",
      "state": {
       "description_width": ""
      }
     },
     "23ac7d790c5445bab6ddecde5b045d94": {
      "model_module": "@jupyter-widgets/controls",
      "model_module_version": "1.5.0",
      "model_name": "HTMLModel",
      "state": {
       "layout": "IPY_MODEL_208673cd92a544dfab50e3de571719bb",
       "style": "IPY_MODEL_c86675fc682a4b459975f5fe11a00a83",
       "value": "g_loss: -0.00487:  37%"
      }
     },
     "23c5c360631f4cef9ea5d74ca3aca8ba": {
      "model_module": "@jupyter-widgets/base",
      "model_module_version": "1.2.0",
      "model_name": "LayoutModel",
      "state": {}
     },
     "23dfb714979c4f6db721214ce1c05b69": {
      "model_module": "@jupyter-widgets/base",
      "model_module_version": "1.2.0",
      "model_name": "LayoutModel",
      "state": {}
     },
     "241d547963d64ab3a1ba2a1ccf15214c": {
      "model_module": "@jupyter-widgets/controls",
      "model_module_version": "1.5.0",
      "model_name": "ProgressStyleModel",
      "state": {
       "description_width": ""
      }
     },
     "241e030070bf43818c5252399f3b9301": {
      "model_module": "@jupyter-widgets/controls",
      "model_module_version": "1.5.0",
      "model_name": "DescriptionStyleModel",
      "state": {
       "description_width": ""
      }
     },
     "243f259e1e104a8d918ed03caba36d47": {
      "model_module": "@jupyter-widgets/base",
      "model_module_version": "1.2.0",
      "model_name": "LayoutModel",
      "state": {}
     },
     "246098f6b53b40108418cd838724262b": {
      "model_module": "@jupyter-widgets/controls",
      "model_module_version": "1.5.0",
      "model_name": "FloatProgressModel",
      "state": {
       "layout": "IPY_MODEL_59ecb94913cf4da8b04aa62b9610e6cd",
       "max": 469,
       "style": "IPY_MODEL_ae46c00a2e85455abe566eb58d9b3baa"
      }
     },
     "2499fde872f448418b54dd031644c435": {
      "model_module": "@jupyter-widgets/controls",
      "model_module_version": "1.5.0",
      "model_name": "DescriptionStyleModel",
      "state": {
       "description_width": ""
      }
     },
     "24da0ddd0c554a0b8d2fee1c6f534a5e": {
      "model_module": "@jupyter-widgets/controls",
      "model_module_version": "1.5.0",
      "model_name": "DescriptionStyleModel",
      "state": {
       "description_width": ""
      }
     },
     "252666da313a4bc4b74ebe0649fb00cd": {
      "model_module": "@jupyter-widgets/base",
      "model_module_version": "1.2.0",
      "model_name": "LayoutModel",
      "state": {}
     },
     "2593f3f24c6040f9890e7350bf3eedcf": {
      "model_module": "@jupyter-widgets/controls",
      "model_module_version": "1.5.0",
      "model_name": "HTMLModel",
      "state": {
       "layout": "IPY_MODEL_a86aaf32f14047f9bff76ebd77026676",
       "style": "IPY_MODEL_f483dec73156463d8f697d87574f7567",
       "value": "gen:   0%"
      }
     },
     "25a84d7eb71f4643b50562f11bebb6b7": {
      "model_module": "@jupyter-widgets/base",
      "model_module_version": "1.2.0",
      "model_name": "LayoutModel",
      "state": {}
     },
     "25ca48a5a30145bc8e833d6305180f1c": {
      "model_module": "@jupyter-widgets/base",
      "model_module_version": "1.2.0",
      "model_name": "LayoutModel",
      "state": {}
     },
     "261e30fe71e048ada0ac32d46ce1ae43": {
      "model_module": "@jupyter-widgets/controls",
      "model_module_version": "1.5.0",
      "model_name": "HTMLModel",
      "state": {
       "layout": "IPY_MODEL_f1e2c0860e784b85a8b93484e6b7274f",
       "style": "IPY_MODEL_b8be01c98d0c4594b55f4c2dd4ce1967",
       "value": " 0/469 [00:00&lt;?, ?it/s]"
      }
     },
     "2644e2abb6f844b6a2db16968b1fd373": {
      "model_module": "@jupyter-widgets/controls",
      "model_module_version": "1.5.0",
      "model_name": "DescriptionStyleModel",
      "state": {
       "description_width": ""
      }
     },
     "26834f838a7047188606d1ae5039525d": {
      "model_module": "@jupyter-widgets/base",
      "model_module_version": "1.2.0",
      "model_name": "LayoutModel",
      "state": {}
     },
     "26a9fd9c51cb47d081d5c54a73df85e6": {
      "model_module": "@jupyter-widgets/controls",
      "model_module_version": "1.5.0",
      "model_name": "HTMLModel",
      "state": {
       "layout": "IPY_MODEL_d43134e8b49a4f7a92698c882d2ccd09",
       "style": "IPY_MODEL_d423d84003694788bd8235a71a92bf8a",
       "value": "critic (loss: -9.14490): 100%"
      }
     },
     "26d05b041e9145e1afb8837fc3fa613d": {
      "model_module": "@jupyter-widgets/controls",
      "model_module_version": "1.5.0",
      "model_name": "FloatProgressModel",
      "state": {
       "layout": "IPY_MODEL_db67b47799914e64b8f79299b1b2739d",
       "max": 1,
       "style": "IPY_MODEL_0bcee0a90334459185d5362887c2a31a",
       "value": 1
      }
     },
     "26d1df42bd90466ab4c202153531c4f8": {
      "model_module": "@jupyter-widgets/controls",
      "model_module_version": "1.5.0",
      "model_name": "DescriptionStyleModel",
      "state": {
       "description_width": ""
      }
     },
     "2726d6ccdedd4173be9bdee04f46759e": {
      "model_module": "@jupyter-widgets/base",
      "model_module_version": "1.2.0",
      "model_name": "LayoutModel",
      "state": {}
     },
     "276622040efc433eafe4216ca81e1730": {
      "model_module": "@jupyter-widgets/controls",
      "model_module_version": "1.5.0",
      "model_name": "DescriptionStyleModel",
      "state": {
       "description_width": ""
      }
     },
     "279ea443ac9f43f08c3d568452072a2c": {
      "model_module": "@jupyter-widgets/base",
      "model_module_version": "1.2.0",
      "model_name": "LayoutModel",
      "state": {}
     },
     "27ae231d1c4240c1befc0493b5ec1743": {
      "model_module": "@jupyter-widgets/controls",
      "model_module_version": "1.5.0",
      "model_name": "HTMLModel",
      "state": {
       "layout": "IPY_MODEL_27e45534ecab478b966daf8a8d49832d",
       "style": "IPY_MODEL_35596484a56441f291bcca243934ad42",
       "value": "steps_f (loss_f: 0.00250):  82%"
      }
     },
     "27dd025b6b0947de936d9bed0ce2ae5a": {
      "model_module": "@jupyter-widgets/base",
      "model_module_version": "1.2.0",
      "model_name": "LayoutModel",
      "state": {}
     },
     "27e45534ecab478b966daf8a8d49832d": {
      "model_module": "@jupyter-widgets/base",
      "model_module_version": "1.2.0",
      "model_name": "LayoutModel",
      "state": {}
     },
     "281f47173a824e41bfdb5fd8c11e2ac7": {
      "model_module": "@jupyter-widgets/controls",
      "model_module_version": "1.5.0",
      "model_name": "HTMLModel",
      "state": {
       "layout": "IPY_MODEL_903a59ec3fde44559ac1a0b3d42d6610",
       "style": "IPY_MODEL_5dc431c197234d58bdc0b39f4a014518",
       "value": " 216/469 [01:42&lt;02:23,  1.77it/s]"
      }
     },
     "28a48954fd204fed999ad43bbbb3f89d": {
      "model_module": "@jupyter-widgets/controls",
      "model_module_version": "1.5.0",
      "model_name": "HBoxModel",
      "state": {
       "children": [
        "IPY_MODEL_30bd38ac6704472fa5130609d48c820b",
        "IPY_MODEL_75abd34cd881448da80f4428c5b3dc6c",
        "IPY_MODEL_1cc07320bc814004b7406d9c8d56d17b"
       ],
       "layout": "IPY_MODEL_eade7a7935b348e0acf28721f4bd72a6"
      }
     },
     "2970f797d908457fa7279e70d98ee49c": {
      "model_module": "@jupyter-widgets/controls",
      "model_module_version": "1.5.0",
      "model_name": "DescriptionStyleModel",
      "state": {
       "description_width": ""
      }
     },
     "29e86919e39842d4b461a05082ddbe81": {
      "model_module": "@jupyter-widgets/base",
      "model_module_version": "1.2.0",
      "model_name": "LayoutModel",
      "state": {}
     },
     "29eb67a1c6594ea99bb87cfc6730d0e2": {
      "model_module": "@jupyter-widgets/base",
      "model_module_version": "1.2.0",
      "model_name": "LayoutModel",
      "state": {}
     },
     "29ee594a627e497bb9cbbf0d9ebc80a2": {
      "model_module": "@jupyter-widgets/base",
      "model_module_version": "1.2.0",
      "model_name": "LayoutModel",
      "state": {}
     },
     "2a17a31fbcc344b0933b04cebe28dd56": {
      "model_module": "@jupyter-widgets/controls",
      "model_module_version": "1.5.0",
      "model_name": "DescriptionStyleModel",
      "state": {
       "description_width": ""
      }
     },
     "2a6f5fa9caa9499a95ddad9bbe5f298b": {
      "model_module": "@jupyter-widgets/controls",
      "model_module_version": "1.5.0",
      "model_name": "ProgressStyleModel",
      "state": {
       "description_width": ""
      }
     },
     "2a91b08f7b3440668e1696caf3f5c864": {
      "model_module": "@jupyter-widgets/controls",
      "model_module_version": "1.5.0",
      "model_name": "HBoxModel",
      "state": {
       "children": [
        "IPY_MODEL_33ce751a4ae84c6ba49a4ace34bec04c",
        "IPY_MODEL_675e040420f149f2928798dc97262eab",
        "IPY_MODEL_02d932a2846e4fc692c44d84fe0e4638"
       ],
       "layout": "IPY_MODEL_876b9bc35065440887b6c790e552e490"
      }
     },
     "2adf9d65856b44649375baf02f63c183": {
      "model_module": "@jupyter-widgets/controls",
      "model_module_version": "1.5.0",
      "model_name": "FloatProgressModel",
      "state": {
       "layout": "IPY_MODEL_9fa55196db0d42bc8b3ab2730b3a93e2",
       "max": 93,
       "style": "IPY_MODEL_523d65260bec4517957f1e0433ed2f00",
       "value": 93
      }
     },
     "2b05c1f86c2f46cda951477487c50ebc": {
      "model_module": "@jupyter-widgets/base",
      "model_module_version": "1.2.0",
      "model_name": "LayoutModel",
      "state": {}
     },
     "2b10b8aaa9ac4843839e483839e12908": {
      "model_module": "@jupyter-widgets/controls",
      "model_module_version": "1.5.0",
      "model_name": "ProgressStyleModel",
      "state": {
       "description_width": ""
      }
     },
     "2b434be86a68475498defe6746feec5d": {
      "model_module": "@jupyter-widgets/controls",
      "model_module_version": "1.5.0",
      "model_name": "ProgressStyleModel",
      "state": {
       "description_width": ""
      }
     },
     "2b95f9f380e14e4490d3e8c2b063e9ab": {
      "model_module": "@jupyter-widgets/controls",
      "model_module_version": "1.5.0",
      "model_name": "HTMLModel",
      "state": {
       "layout": "IPY_MODEL_8f9066db9e004fb488e542a87f9f9b56",
       "style": "IPY_MODEL_d4b59d50ac9d4c82bc0dc04f99c5b37b",
       "value": " 87/234 [01:02&lt;01:15,  1.96it/s]"
      }
     },
     "2ba03ea6ae9d40b1b967fce461f86572": {
      "model_module": "@jupyter-widgets/controls",
      "model_module_version": "1.5.0",
      "model_name": "ProgressStyleModel",
      "state": {
       "description_width": ""
      }
     },
     "2bd34a07759c4eab9ea16aea0f03ef89": {
      "model_module": "@jupyter-widgets/base",
      "model_module_version": "1.2.0",
      "model_name": "LayoutModel",
      "state": {}
     },
     "2c1830e0fce745ec88040eebfbbe8735": {
      "model_module": "@jupyter-widgets/controls",
      "model_module_version": "1.5.0",
      "model_name": "HTMLModel",
      "state": {
       "layout": "IPY_MODEL_0aeb3565ec5a420aad8a63b89bf86824",
       "style": "IPY_MODEL_7f8e77ec02b744319a2760089097be89",
       "value": "epoch: 100%"
      }
     },
     "2c32141b9e5f4cb29f040da521f0a06c": {
      "model_module": "@jupyter-widgets/base",
      "model_module_version": "1.2.0",
      "model_name": "LayoutModel",
      "state": {}
     },
     "2c9201b5b02b489c9f5017f34e45a519": {
      "model_module": "@jupyter-widgets/base",
      "model_module_version": "1.2.0",
      "model_name": "LayoutModel",
      "state": {}
     },
     "2c9e80eef52a40bc8e94328eb67a88d6": {
      "model_module": "@jupyter-widgets/controls",
      "model_module_version": "1.5.0",
      "model_name": "DescriptionStyleModel",
      "state": {
       "description_width": ""
      }
     },
     "2cba7b5941f74057b729e783fe3a41cb": {
      "model_module": "@jupyter-widgets/controls",
      "model_module_version": "1.5.0",
      "model_name": "HTMLModel",
      "state": {
       "layout": "IPY_MODEL_eecb3769ed5f4fc58fd8623f25540797",
       "style": "IPY_MODEL_d8a6d132c46240e3aa39c5d7f31c65d3",
       "value": " 469/469 [03:21&lt;00:00,  2.82it/s]"
      }
     },
     "2d0a504b42f14c2296dc6af903c5209d": {
      "model_module": "@jupyter-widgets/base",
      "model_module_version": "1.2.0",
      "model_name": "LayoutModel",
      "state": {}
     },
     "2d21c433148747e09456dbbbca8d0523": {
      "model_module": "@jupyter-widgets/controls",
      "model_module_version": "1.5.0",
      "model_name": "DescriptionStyleModel",
      "state": {
       "description_width": ""
      }
     },
     "2d38d77223554930934c21cc0d669df3": {
      "model_module": "@jupyter-widgets/base",
      "model_module_version": "1.2.0",
      "model_name": "LayoutModel",
      "state": {}
     },
     "2d867b9ac3194f99a0ac0724eb9d37fd": {
      "model_module": "@jupyter-widgets/controls",
      "model_module_version": "1.5.0",
      "model_name": "DescriptionStyleModel",
      "state": {
       "description_width": ""
      }
     },
     "2d924ed6be2b4e1eb4d7a1a8efd709d1": {
      "model_module": "@jupyter-widgets/controls",
      "model_module_version": "1.5.0",
      "model_name": "HTMLModel",
      "state": {
       "layout": "IPY_MODEL_de7967ad93cf4b5195413ccf8134b8cb",
       "style": "IPY_MODEL_c876286bc8d74d5e8656636e319ab0ea",
       "value": " 93/93 [03:22&lt;00:00,  2.46s/it]"
      }
     },
     "2dbe905a7b3145b89abf0c0c115324ec": {
      "model_module": "@jupyter-widgets/base",
      "model_module_version": "1.2.0",
      "model_name": "LayoutModel",
      "state": {}
     },
     "2df8ac2fb8454d2894f95278bf8ad5c3": {
      "model_module": "@jupyter-widgets/controls",
      "model_module_version": "1.5.0",
      "model_name": "HTMLModel",
      "state": {
       "layout": "IPY_MODEL_891d52e4fba14addb32f8e75abd1d1b8",
       "style": "IPY_MODEL_fe8188efc6404c07997a12ec9b2201ab",
       "value": "epoch:  24%"
      }
     },
     "2e16b6064a634a9aba0035dffb56bd9a": {
      "model_module": "@jupyter-widgets/controls",
      "model_module_version": "1.5.0",
      "model_name": "DescriptionStyleModel",
      "state": {
       "description_width": ""
      }
     },
     "2e2ff044d7f846b784e58c65d97724a6": {
      "model_module": "@jupyter-widgets/controls",
      "model_module_version": "1.5.0",
      "model_name": "ProgressStyleModel",
      "state": {
       "description_width": ""
      }
     },
     "2e6de7d8a23a4520a224b1244aba57ed": {
      "model_module": "@jupyter-widgets/controls",
      "model_module_version": "1.5.0",
      "model_name": "FloatProgressModel",
      "state": {
       "layout": "IPY_MODEL_cc0e98de003d4c838df074e3b70a1ab4",
       "max": 20,
       "style": "IPY_MODEL_a1646df657d44a05afb70824f2f3d242"
      }
     },
     "2e7d8f744a41489197c3acb2c2f38fcc": {
      "model_module": "@jupyter-widgets/controls",
      "model_module_version": "1.5.0",
      "model_name": "DescriptionStyleModel",
      "state": {
       "description_width": ""
      }
     },
     "2ea9b48d7bab487eaa6c8fce4ce53372": {
      "model_module": "@jupyter-widgets/controls",
      "model_module_version": "1.5.0",
      "model_name": "HBoxModel",
      "state": {
       "children": [
        "IPY_MODEL_78aabbf0dd4f4518b55f89f0a85cbd8a",
        "IPY_MODEL_1fb05cc3f9f749f29a18de9f1a619f9c",
        "IPY_MODEL_5689aeba4bdc477db094c05aadb2182a"
       ],
       "layout": "IPY_MODEL_755908eb954247bfb4398bcee9a5e588"
      }
     },
     "2efab596062a4361b94bf4b646e67744": {
      "model_module": "@jupyter-widgets/base",
      "model_module_version": "1.2.0",
      "model_name": "LayoutModel",
      "state": {}
     },
     "2f8e0ea950dc4012962df237e99cb52d": {
      "model_module": "@jupyter-widgets/controls",
      "model_module_version": "1.5.0",
      "model_name": "FloatProgressModel",
      "state": {
       "layout": "IPY_MODEL_870ab0f680134d0daa7c7bb8ba60c13f",
       "style": "IPY_MODEL_64f5db57d0554b7a9167e852b51dcca6",
       "value": 6
      }
     },
     "2fefcdeb34104179949f5bb06e29b4d2": {
      "model_module": "@jupyter-widgets/base",
      "model_module_version": "1.2.0",
      "model_name": "LayoutModel",
      "state": {}
     },
     "300bf70c4048483eaf03c675a9ae5591": {
      "model_module": "@jupyter-widgets/base",
      "model_module_version": "1.2.0",
      "model_name": "LayoutModel",
      "state": {}
     },
     "305066a93b34401e8320f0060f830f18": {
      "model_module": "@jupyter-widgets/base",
      "model_module_version": "1.2.0",
      "model_name": "LayoutModel",
      "state": {}
     },
     "30b4682bb5794600ad09583bf78282f6": {
      "model_module": "@jupyter-widgets/controls",
      "model_module_version": "1.5.0",
      "model_name": "DescriptionStyleModel",
      "state": {
       "description_width": ""
      }
     },
     "30bd38ac6704472fa5130609d48c820b": {
      "model_module": "@jupyter-widgets/controls",
      "model_module_version": "1.5.0",
      "model_name": "HTMLModel",
      "state": {
       "layout": "IPY_MODEL_10742b9187254d66a5501e27f663fbe5",
       "style": "IPY_MODEL_f168e979afec4349af28cd488274dee4",
       "value": "Epoch :   0%"
      }
     },
     "30c2a28bf31c4eeda0b34a909e1f53e5": {
      "model_module": "@jupyter-widgets/controls",
      "model_module_version": "1.5.0",
      "model_name": "FloatProgressModel",
      "state": {
       "layout": "IPY_MODEL_a9aa68f0796c405e820c5f32cecf0e34",
       "max": 10,
       "style": "IPY_MODEL_0f4d53e524ab4b96b6fe6dbbc7e5855e",
       "value": 10
      }
     },
     "30d2452934ae456c8e4d7ae8c9b66ed0": {
      "model_module": "@jupyter-widgets/base",
      "model_module_version": "1.2.0",
      "model_name": "LayoutModel",
      "state": {}
     },
     "30feb6b8bb1d49c081b4b915b848ea8f": {
      "model_module": "@jupyter-widgets/base",
      "model_module_version": "1.2.0",
      "model_name": "LayoutModel",
      "state": {}
     },
     "310aa9c93998444cb29e0675553c293e": {
      "model_module": "@jupyter-widgets/base",
      "model_module_version": "1.2.0",
      "model_name": "LayoutModel",
      "state": {}
     },
     "31503048ddf24b329cdd0eaf2a3ed7c6": {
      "model_module": "@jupyter-widgets/controls",
      "model_module_version": "1.5.0",
      "model_name": "FloatProgressModel",
      "state": {
       "layout": "IPY_MODEL_45f53febfd4944bd9520b4499d2ffe91",
       "max": 10,
       "style": "IPY_MODEL_ecf9218ecce440599d0f32d70c0c1a24",
       "value": 10
      }
     },
     "31791571f5934f7197a2722e5a8f8abe": {
      "model_module": "@jupyter-widgets/base",
      "model_module_version": "1.2.0",
      "model_name": "LayoutModel",
      "state": {}
     },
     "3184553e521f4566aa9d93cf2e63630e": {
      "model_module": "@jupyter-widgets/controls",
      "model_module_version": "1.5.0",
      "model_name": "FloatProgressModel",
      "state": {
       "layout": "IPY_MODEL_7bb4835e67e44015a1eb75111dcedbf9",
       "max": 93,
       "style": "IPY_MODEL_1fc824ddf07f4ce59b14c3f24749533b",
       "value": 93
      }
     },
     "31a083ff27ca41f7ba0a649ed9019212": {
      "model_module": "@jupyter-widgets/controls",
      "model_module_version": "1.5.0",
      "model_name": "DescriptionStyleModel",
      "state": {
       "description_width": ""
      }
     },
     "31e5ecefec464dd6a2245c3a3f6d0704": {
      "model_module": "@jupyter-widgets/controls",
      "model_module_version": "1.5.0",
      "model_name": "FloatProgressModel",
      "state": {
       "layout": "IPY_MODEL_25ca48a5a30145bc8e833d6305180f1c",
       "max": 469,
       "style": "IPY_MODEL_970f9faec1d247d6a4308e8986570307",
       "value": 14
      }
     },
     "320a139be56045198ce53c0765302619": {
      "model_module": "@jupyter-widgets/controls",
      "model_module_version": "1.5.0",
      "model_name": "FloatProgressModel",
      "state": {
       "layout": "IPY_MODEL_bcafb72a5a614cf6963fd5079be46c9e",
       "max": 469,
       "style": "IPY_MODEL_938b43f459f24799ba9fc862b2738ac4",
       "value": 469
      }
     },
     "33177dca02d34804a5c3d24420c46b91": {
      "model_module": "@jupyter-widgets/base",
      "model_module_version": "1.2.0",
      "model_name": "LayoutModel",
      "state": {}
     },
     "3321ff3366e0467eb3f7899ef95db06c": {
      "model_module": "@jupyter-widgets/controls",
      "model_module_version": "1.5.0",
      "model_name": "FloatProgressModel",
      "state": {
       "layout": "IPY_MODEL_be5a7e5b364b4f0db72efdd57b0bcc67",
       "style": "IPY_MODEL_69710a5aac964da1b3e90c0c562e10c5",
       "value": 3
      }
     },
     "333deea65b5549389916b443544cf2bd": {
      "model_module": "@jupyter-widgets/controls",
      "model_module_version": "1.5.0",
      "model_name": "ProgressStyleModel",
      "state": {
       "description_width": ""
      }
     },
     "335370b9de8e4eea8c84a9e3e7afaa07": {
      "model_module": "@jupyter-widgets/controls",
      "model_module_version": "1.5.0",
      "model_name": "FloatProgressModel",
      "state": {
       "layout": "IPY_MODEL_878c2b6f3d14480081a7619ff7d9d2ff",
       "max": 469,
       "style": "IPY_MODEL_0e2ad8a53ee44877b7cbf66e2e977c2d",
       "value": 176
      }
     },
     "33ce751a4ae84c6ba49a4ace34bec04c": {
      "model_module": "@jupyter-widgets/controls",
      "model_module_version": "1.5.0",
      "model_name": "HTMLModel",
      "state": {
       "layout": "IPY_MODEL_627685d22bdc490891a93abbee98d19b",
       "style": "IPY_MODEL_bd6bda3742174677a56f02c83dd62649",
       "value": "epoch:   0%"
      }
     },
     "33d4811395fd4330bfbefa9f5e2bb72f": {
      "model_module": "@jupyter-widgets/controls",
      "model_module_version": "1.5.0",
      "model_name": "DescriptionStyleModel",
      "state": {
       "description_width": ""
      }
     },
     "33e2dd42ea7943a78bd4e9dac8bb8be2": {
      "model_module": "@jupyter-widgets/controls",
      "model_module_version": "1.5.0",
      "model_name": "HTMLModel",
      "state": {
       "layout": "IPY_MODEL_d42ab2cd13fd461eb576f263c5fef411",
       "style": "IPY_MODEL_06b744be05c144e1b9725886a866cbd1",
       "value": "steps_f:   0%"
      }
     },
     "33f5618f73b04552b8e94984dc8372d3": {
      "model_module": "@jupyter-widgets/controls",
      "model_module_version": "1.5.0",
      "model_name": "FloatProgressModel",
      "state": {
       "layout": "IPY_MODEL_f0eb6863233c45ad81f46bcfac9def9a",
       "max": 625,
       "style": "IPY_MODEL_7adfcb72b6d54ef690d74be7a77b8b31",
       "value": 152
      }
     },
     "34861dad49664c92b664b75556869612": {
      "model_module": "@jupyter-widgets/controls",
      "model_module_version": "1.5.0",
      "model_name": "HBoxModel",
      "state": {
       "children": [
        "IPY_MODEL_efc91e2c48514db7b8dcb67c108e27f3",
        "IPY_MODEL_13678964f75b49ffac529e2fde6661b0",
        "IPY_MODEL_a28c521a144545da80bd649fcdc62b47"
       ],
       "layout": "IPY_MODEL_ecfc7628209442ef9722513cd52eee80"
      }
     },
     "34d1c49bb46b4993ae9c68a4843de3ad": {
      "model_module": "@jupyter-widgets/controls",
      "model_module_version": "1.5.0",
      "model_name": "HBoxModel",
      "state": {
       "children": [
        "IPY_MODEL_a548864f0ec14754a41668abdf953dac",
        "IPY_MODEL_3ded03db28b245088867b2083f45e643",
        "IPY_MODEL_7a81f0a2fe1c4df4a8cf6f1b20113e33"
       ],
       "layout": "IPY_MODEL_bfadbd0553a840249c763a815f0ec430"
      }
     },
     "352869567f8a4178abf55f60d26381dd": {
      "model_module": "@jupyter-widgets/controls",
      "model_module_version": "1.5.0",
      "model_name": "HTMLModel",
      "state": {
       "layout": "IPY_MODEL_d9a649ee28934c7cb2c61bdc85aa7f6f",
       "style": "IPY_MODEL_4c23078995e54ccd835c9d4944f2bae6",
       "value": " 293/469 [00:50&lt;00:27,  6.39it/s]"
      }
     },
     "352df6c1a62b4a1e927d0341872f02b7": {
      "model_module": "@jupyter-widgets/controls",
      "model_module_version": "1.5.0",
      "model_name": "DescriptionStyleModel",
      "state": {
       "description_width": ""
      }
     },
     "354dbbac24234983a807cfc6dc24b741": {
      "model_module": "@jupyter-widgets/controls",
      "model_module_version": "1.5.0",
      "model_name": "HTMLModel",
      "state": {
       "layout": "IPY_MODEL_5bbefe06a0024611b811f49247c6b21d",
       "style": "IPY_MODEL_4d014cfc782c4efc88d9f5d23f12deb1",
       "value": "d_loss: 0.00035:  13%"
      }
     },
     "35537cacf6b249d3b5766027200ef721": {
      "model_module": "@jupyter-widgets/controls",
      "model_module_version": "1.5.0",
      "model_name": "HTMLModel",
      "state": {
       "layout": "IPY_MODEL_2726d6ccdedd4173be9bdee04f46759e",
       "style": "IPY_MODEL_fc79a7d8bad04f1a928ef85f4ab41b8c",
       "value": "steps_f (loss_f: -0.00049):  70%"
      }
     },
     "35584f3f270448dab9aa5da7bf35c4db": {
      "model_module": "@jupyter-widgets/controls",
      "model_module_version": "1.5.0",
      "model_name": "HTMLModel",
      "state": {
       "layout": "IPY_MODEL_c18414c84a1f4faaa0db3f3b2fc9f2a0",
       "style": "IPY_MODEL_91e87b05511c456fa563648aa878aa1b",
       "value": " 31/234 [00:21&lt;03:01,  1.12it/s]"
      }
     },
     "35596484a56441f291bcca243934ad42": {
      "model_module": "@jupyter-widgets/controls",
      "model_module_version": "1.5.0",
      "model_name": "DescriptionStyleModel",
      "state": {
       "description_width": ""
      }
     },
     "3614fcd88afc4650bd34f432fffd93ca": {
      "model_module": "@jupyter-widgets/controls",
      "model_module_version": "1.5.0",
      "model_name": "ProgressStyleModel",
      "state": {
       "description_width": ""
      }
     },
     "361c516a6d714c4eb90ab19efd7c2c91": {
      "model_module": "@jupyter-widgets/controls",
      "model_module_version": "1.5.0",
      "model_name": "HTMLModel",
      "state": {
       "layout": "IPY_MODEL_43ddb18a447c457c8c41fcd4558d521e",
       "style": "IPY_MODEL_55bb3bb1b1dd49a889a4347f84763173",
       "value": " 5/469 [00:04&lt;04:22,  1.77it/s]"
      }
     },
     "362f530dc23548cf950e8e335775b3e0": {
      "model_module": "@jupyter-widgets/base",
      "model_module_version": "1.2.0",
      "model_name": "LayoutModel",
      "state": {}
     },
     "36561d0363df4454b80c11eb4a5540a6": {
      "model_module": "@jupyter-widgets/base",
      "model_module_version": "1.2.0",
      "model_name": "LayoutModel",
      "state": {}
     },
     "36912fd3503c4f1e983382b0df440fa4": {
      "model_module": "@jupyter-widgets/controls",
      "model_module_version": "1.5.0",
      "model_name": "HBoxModel",
      "state": {
       "children": [
        "IPY_MODEL_1161e1bf5ef6491cbeeebc5af73fd556",
        "IPY_MODEL_a81d2384f1db42f09a421375b8ec770b",
        "IPY_MODEL_5523adb12f844cd281525f56a76506b5"
       ],
       "layout": "IPY_MODEL_3c5a15ab602d45e596e0b2549d6fdba4"
      }
     },
     "3692da07fa7b47bead9776f1df939f5a": {
      "model_module": "@jupyter-widgets/base",
      "model_module_version": "1.2.0",
      "model_name": "LayoutModel",
      "state": {}
     },
     "36efe57ae86c42209a218b8609741cd2": {
      "model_module": "@jupyter-widgets/controls",
      "model_module_version": "1.5.0",
      "model_name": "FloatProgressModel",
      "state": {
       "layout": "IPY_MODEL_037633d8eeac494fa69e9dd7c3ffa820",
       "max": 30,
       "style": "IPY_MODEL_aea3ebd85540402e9f42376c390c1798"
      }
     },
     "37aba9fc919e4b3f84c665bce9194976": {
      "model_module": "@jupyter-widgets/controls",
      "model_module_version": "1.5.0",
      "model_name": "HTMLModel",
      "state": {
       "layout": "IPY_MODEL_ef3bd408026c44b9ac0724ab1e88f1dc",
       "style": "IPY_MODEL_7453a70ed6dd409fad872b3b2375c8bb",
       "value": "steps_G (loss_G: -0.00952):  24%"
      }
     },
     "37e1c311c30f4097bcd235960bccea94": {
      "model_module": "@jupyter-widgets/controls",
      "model_module_version": "1.5.0",
      "model_name": "DescriptionStyleModel",
      "state": {
       "description_width": ""
      }
     },
     "38619801c8f54781a45f18282c7aab02": {
      "model_module": "@jupyter-widgets/controls",
      "model_module_version": "1.5.0",
      "model_name": "FloatProgressModel",
      "state": {
       "layout": "IPY_MODEL_75fe8582195c44b19f80e49e9277b127",
       "style": "IPY_MODEL_7eb848bc889247aca5953921fab9be1a"
      }
     },
     "38708bc505ba4825941e0a7a455ed053": {
      "model_module": "@jupyter-widgets/controls",
      "model_module_version": "1.5.0",
      "model_name": "HBoxModel",
      "state": {
       "children": [
        "IPY_MODEL_c86abf0b4ee6499f93e8e11d64f5389b",
        "IPY_MODEL_3321ff3366e0467eb3f7899ef95db06c",
        "IPY_MODEL_ee5bf9ea830f49a1aa4b3992beeb45cd"
       ],
       "layout": "IPY_MODEL_ce0653da2d744a809063826497fc9ab5"
      }
     },
     "38d38be6f1964b9e82dc5d3149da1f20": {
      "model_module": "@jupyter-widgets/base",
      "model_module_version": "1.2.0",
      "model_name": "LayoutModel",
      "state": {}
     },
     "38f2a18cf9c649debb263244732f9264": {
      "model_module": "@jupyter-widgets/controls",
      "model_module_version": "1.5.0",
      "model_name": "HBoxModel",
      "state": {
       "children": [
        "IPY_MODEL_99c38430e8464fe0bc5be34ca4c6728c",
        "IPY_MODEL_246098f6b53b40108418cd838724262b",
        "IPY_MODEL_261e30fe71e048ada0ac32d46ce1ae43"
       ],
       "layout": "IPY_MODEL_22e7feb4ab364f9ab10f85ec850972cf"
      }
     },
     "39099c7e85524a5ca3e89d67cff4c5fa": {
      "model_module": "@jupyter-widgets/controls",
      "model_module_version": "1.5.0",
      "model_name": "HBoxModel",
      "state": {
       "children": [
        "IPY_MODEL_b1ea2845f85d4bdab746b30ca5f83988",
        "IPY_MODEL_c42b368d527c4a02a2a05fb9ebd7d4c2",
        "IPY_MODEL_012cbadf8fb748abba90384a59d15d91"
       ],
       "layout": "IPY_MODEL_f44d9a31c44a428aad5f1bfac480f658"
      }
     },
     "39106201728b4985ac148233a1a53f82": {
      "model_module": "@jupyter-widgets/base",
      "model_module_version": "1.2.0",
      "model_name": "LayoutModel",
      "state": {}
     },
     "39b92a4e2c7c4440848595b892171954": {
      "model_module": "@jupyter-widgets/controls",
      "model_module_version": "1.5.0",
      "model_name": "DescriptionStyleModel",
      "state": {
       "description_width": ""
      }
     },
     "3a8978cb3fc549dbb7b753a2f4b3abf7": {
      "model_module": "@jupyter-widgets/base",
      "model_module_version": "1.2.0",
      "model_name": "LayoutModel",
      "state": {}
     },
     "3b077143a5e445d7a7497f63e602c527": {
      "model_module": "@jupyter-widgets/base",
      "model_module_version": "1.2.0",
      "model_name": "LayoutModel",
      "state": {}
     },
     "3b38f31b790d4493a693fef779446cc3": {
      "model_module": "@jupyter-widgets/controls",
      "model_module_version": "1.5.0",
      "model_name": "HBoxModel",
      "state": {
       "children": [
        "IPY_MODEL_11fde330110e487e98028d2be58c5e49",
        "IPY_MODEL_1bee36bf18fd46b0819f27847674ff03",
        "IPY_MODEL_0bdf407a07824246af323ec55dae4668"
       ],
       "layout": "IPY_MODEL_279ea443ac9f43f08c3d568452072a2c"
      }
     },
     "3b4b300567334f6b90d175baea926aff": {
      "model_module": "@jupyter-widgets/base",
      "model_module_version": "1.2.0",
      "model_name": "LayoutModel",
      "state": {}
     },
     "3b9bc3f8a78c4154badc1c508f2e97c3": {
      "model_module": "@jupyter-widgets/base",
      "model_module_version": "1.2.0",
      "model_name": "LayoutModel",
      "state": {}
     },
     "3bbf7d93dc0742558e5a881ce05bdfe0": {
      "model_module": "@jupyter-widgets/base",
      "model_module_version": "1.2.0",
      "model_name": "LayoutModel",
      "state": {}
     },
     "3c033d1f3d6e456fa1d24c6575e23dca": {
      "model_module": "@jupyter-widgets/base",
      "model_module_version": "1.2.0",
      "model_name": "LayoutModel",
      "state": {}
     },
     "3c258601f8964beea610f85df82e6784": {
      "model_module": "@jupyter-widgets/controls",
      "model_module_version": "1.5.0",
      "model_name": "DescriptionStyleModel",
      "state": {
       "description_width": ""
      }
     },
     "3c5a15ab602d45e596e0b2549d6fdba4": {
      "model_module": "@jupyter-widgets/base",
      "model_module_version": "1.2.0",
      "model_name": "LayoutModel",
      "state": {}
     },
     "3c844ef06aa34d358c59b0b64e31e411": {
      "model_module": "@jupyter-widgets/controls",
      "model_module_version": "1.5.0",
      "model_name": "HTMLModel",
      "state": {
       "layout": "IPY_MODEL_f7b50841c29f4c9b96f40aee97b9b61b",
       "style": "IPY_MODEL_0a578de326a84997b35745da2e16b256",
       "value": "d_loss: -0.00021:  38%"
      }
     },
     "3c942a9c97474933bf20f7c63b995c19": {
      "model_module": "@jupyter-widgets/base",
      "model_module_version": "1.2.0",
      "model_name": "LayoutModel",
      "state": {}
     },
     "3ca1f555190c4afb9910981216e9fb30": {
      "model_module": "@jupyter-widgets/controls",
      "model_module_version": "1.5.0",
      "model_name": "HTMLModel",
      "state": {
       "layout": "IPY_MODEL_434f255cb5504cbfa7b1bd3244c8949c",
       "style": "IPY_MODEL_0fc49a76af6c4b77b9bc602fe754f489",
       "value": " 180/465 [03:56&lt;04:50,  1.02s/it]"
      }
     },
     "3d29db09031e4abeb1e4d74712de7d88": {
      "model_module": "@jupyter-widgets/controls",
      "model_module_version": "1.5.0",
      "model_name": "FloatProgressModel",
      "state": {
       "layout": "IPY_MODEL_66390916618c496a92a227382809fb70",
       "max": 469,
       "style": "IPY_MODEL_2b10b8aaa9ac4843839e483839e12908",
       "value": 115
      }
     },
     "3d352a06cf214a34a9693b737c8dd77b": {
      "model_module": "@jupyter-widgets/controls",
      "model_module_version": "1.5.0",
      "model_name": "HBoxModel",
      "state": {
       "children": [
        "IPY_MODEL_8a10bffede7245a3b0b3d5556c98feb8",
        "IPY_MODEL_2f8e0ea950dc4012962df237e99cb52d",
        "IPY_MODEL_9e4123f7d0814d489ad713026bdb29fc"
       ],
       "layout": "IPY_MODEL_cc9bdf858e564fc1b6d4c1e8e11436a4"
      }
     },
     "3d48cfc7c3e144e1b340cb96bd08ba45": {
      "model_module": "@jupyter-widgets/controls",
      "model_module_version": "1.5.0",
      "model_name": "FloatProgressModel",
      "state": {
       "layout": "IPY_MODEL_2efab596062a4361b94bf4b646e67744",
       "max": 469,
       "style": "IPY_MODEL_a103c3415fec4a70862c275a0835b5d5",
       "value": 216
      }
     },
     "3d61e219a2c7415d9040a2113b4daf66": {
      "model_module": "@jupyter-widgets/controls",
      "model_module_version": "1.5.0",
      "model_name": "HBoxModel",
      "state": {
       "children": [
        "IPY_MODEL_15fce8d46f3c483b92179a07bceca120",
        "IPY_MODEL_6fe3014bd92f48ffba2e940bad1efc42",
        "IPY_MODEL_d5ee4a19c798489aa87f62d80ad8dab1"
       ],
       "layout": "IPY_MODEL_52aefad244eb4bfcb346be85bf5514dd"
      }
     },
     "3d69f2a615374facaeecb6f85532848b": {
      "model_module": "@jupyter-widgets/controls",
      "model_module_version": "1.5.0",
      "model_name": "DescriptionStyleModel",
      "state": {
       "description_width": ""
      }
     },
     "3d7720abd3d249d5841fa2448582d065": {
      "model_module": "@jupyter-widgets/base",
      "model_module_version": "1.2.0",
      "model_name": "LayoutModel",
      "state": {}
     },
     "3d9e846988e74a599d1b99b83a77ac92": {
      "model_module": "@jupyter-widgets/controls",
      "model_module_version": "1.5.0",
      "model_name": "DescriptionStyleModel",
      "state": {
       "description_width": ""
      }
     },
     "3ddd9b106ce9433db1e29aefe95e531e": {
      "model_module": "@jupyter-widgets/controls",
      "model_module_version": "1.5.0",
      "model_name": "HTMLModel",
      "state": {
       "layout": "IPY_MODEL_96f6ece5be744f8dbef91ac8b53f58ef",
       "style": "IPY_MODEL_96119b0667934e6bbf02b60b2cb8d9a8",
       "value": " 1/1 [03:11&lt;00:00, 191.12s/it]"
      }
     },
     "3de0d94a43254b24a6b4a5429f521cb4": {
      "model_module": "@jupyter-widgets/controls",
      "model_module_version": "1.5.0",
      "model_name": "ProgressStyleModel",
      "state": {
       "description_width": ""
      }
     },
     "3deabc2b01624b87b595f1fe781be582": {
      "model_module": "@jupyter-widgets/controls",
      "model_module_version": "1.5.0",
      "model_name": "HTMLModel",
      "state": {
       "layout": "IPY_MODEL_496668cc9f7d4f18a51393f2312c3380",
       "style": "IPY_MODEL_0a2b9d64daad4ab1adc5631f4797e90f",
       "value": "gen (loss: 29.13030): 100%"
      }
     },
     "3ded03db28b245088867b2083f45e643": {
      "model_module": "@jupyter-widgets/controls",
      "model_module_version": "1.5.0",
      "model_name": "FloatProgressModel",
      "state": {
       "layout": "IPY_MODEL_f2c4885fd11b4d03abb7b22e04915999",
       "max": 469,
       "style": "IPY_MODEL_12a9cc32e2664c2bb23a408c0b7fcee2",
       "value": 1
      }
     },
     "3df1184301fa4ef0b5301bfd4e134276": {
      "model_module": "@jupyter-widgets/controls",
      "model_module_version": "1.5.0",
      "model_name": "ProgressStyleModel",
      "state": {
       "description_width": ""
      }
     },
     "3e6ad51beff94cd1bb70ea8dd57cb215": {
      "model_module": "@jupyter-widgets/controls",
      "model_module_version": "1.5.0",
      "model_name": "HBoxModel",
      "state": {
       "children": [
        "IPY_MODEL_df78a75487dc4bf491ee7d1ea4ae3a04",
        "IPY_MODEL_98982f48fe8640c5abad1034c3d59957",
        "IPY_MODEL_507d197a04d44ce4b167381423f8478d"
       ],
       "layout": "IPY_MODEL_ad7aee01ed2b40ffb526eac854dc8305"
      }
     },
     "3ea112013008499d86e8cad888dd4407": {
      "model_module": "@jupyter-widgets/controls",
      "model_module_version": "1.5.0",
      "model_name": "FloatProgressModel",
      "state": {
       "layout": "IPY_MODEL_5fa97e77cfff4099960a4833ecd0b74e",
       "max": 469,
       "style": "IPY_MODEL_ab2b75a7d1944db7b1bd098ebb835500",
       "value": 469
      }
     },
     "3ec961c824694d8a8c25c82f6fd424c0": {
      "model_module": "@jupyter-widgets/base",
      "model_module_version": "1.2.0",
      "model_name": "LayoutModel",
      "state": {}
     },
     "3ed1d9693025487eb79459355e88ce8a": {
      "model_module": "@jupyter-widgets/controls",
      "model_module_version": "1.5.0",
      "model_name": "DescriptionStyleModel",
      "state": {
       "description_width": ""
      }
     },
     "3ed824ca5e604376a404486b1dcdd285": {
      "model_module": "@jupyter-widgets/base",
      "model_module_version": "1.2.0",
      "model_name": "LayoutModel",
      "state": {}
     },
     "3ef014fb2dcb492daedb102fbf6b757e": {
      "model_module": "@jupyter-widgets/controls",
      "model_module_version": "1.5.0",
      "model_name": "DescriptionStyleModel",
      "state": {
       "description_width": ""
      }
     },
     "3f02ce683fbb4f86817c8de1f5a49491": {
      "model_module": "@jupyter-widgets/base",
      "model_module_version": "1.2.0",
      "model_name": "LayoutModel",
      "state": {}
     },
     "3f5588529801415195e99f4c6412eafc": {
      "model_module": "@jupyter-widgets/controls",
      "model_module_version": "1.5.0",
      "model_name": "DescriptionStyleModel",
      "state": {
       "description_width": ""
      }
     },
     "3fba57e25a3c4695a996bcb22033d21f": {
      "model_module": "@jupyter-widgets/controls",
      "model_module_version": "1.5.0",
      "model_name": "DescriptionStyleModel",
      "state": {
       "description_width": ""
      }
     },
     "4019fbce0b15477ba15132a594534227": {
      "model_module": "@jupyter-widgets/base",
      "model_module_version": "1.2.0",
      "model_name": "LayoutModel",
      "state": {}
     },
     "40579a9e1c7a4f27865b9f117cf4f181": {
      "model_module": "@jupyter-widgets/base",
      "model_module_version": "1.2.0",
      "model_name": "LayoutModel",
      "state": {}
     },
     "40804d3c7ce549bca78859b4c13cb2c1": {
      "model_module": "@jupyter-widgets/base",
      "model_module_version": "1.2.0",
      "model_name": "LayoutModel",
      "state": {}
     },
     "409574199e424c1794abdf3ed333d867": {
      "model_module": "@jupyter-widgets/controls",
      "model_module_version": "1.5.0",
      "model_name": "FloatProgressModel",
      "state": {
       "layout": "IPY_MODEL_415bc1b440024afba52c922336e14ddd",
       "style": "IPY_MODEL_fe9f6694db7f415b92dad36199945217",
       "value": 100
      }
     },
     "409cd5be345e4bb68178201e658aed9d": {
      "model_module": "@jupyter-widgets/controls",
      "model_module_version": "1.5.0",
      "model_name": "HBoxModel",
      "state": {
       "children": [
        "IPY_MODEL_6cc0ad9b7f1744509fec8238d692c6ed",
        "IPY_MODEL_31e5ecefec464dd6a2245c3a3f6d0704",
        "IPY_MODEL_8f6aa3df4a3542a388acfbc2d2f22574"
       ],
       "layout": "IPY_MODEL_8362c36b16374acb98ee3c72643eb694"
      }
     },
     "40d4306ca8be4c4aa52f645440bb4c94": {
      "model_module": "@jupyter-widgets/base",
      "model_module_version": "1.2.0",
      "model_name": "LayoutModel",
      "state": {}
     },
     "4121b95a568649f28e92ea854fc1da3c": {
      "model_module": "@jupyter-widgets/controls",
      "model_module_version": "1.5.0",
      "model_name": "ProgressStyleModel",
      "state": {
       "description_width": ""
      }
     },
     "412b7747310b4936821e101cf827a9e4": {
      "model_module": "@jupyter-widgets/base",
      "model_module_version": "1.2.0",
      "model_name": "LayoutModel",
      "state": {}
     },
     "4137e40de3534fe7871619d13c2b97f5": {
      "model_module": "@jupyter-widgets/controls",
      "model_module_version": "1.5.0",
      "model_name": "FloatProgressModel",
      "state": {
       "layout": "IPY_MODEL_04661d7b3ae44095a51926b1073bb14f",
       "max": 1,
       "style": "IPY_MODEL_1976939526ea4789afb78f3e2d86d093",
       "value": 1
      }
     },
     "415bc1b440024afba52c922336e14ddd": {
      "model_module": "@jupyter-widgets/base",
      "model_module_version": "1.2.0",
      "model_name": "LayoutModel",
      "state": {}
     },
     "415f0a4577f240668758650a8f7dfa0b": {
      "model_module": "@jupyter-widgets/controls",
      "model_module_version": "1.5.0",
      "model_name": "ProgressStyleModel",
      "state": {
       "description_width": ""
      }
     },
     "41724bbc99d64d889be7833cc0dadc07": {
      "model_module": "@jupyter-widgets/base",
      "model_module_version": "1.2.0",
      "model_name": "LayoutModel",
      "state": {}
     },
     "419994049187491c8851c53de813febd": {
      "model_module": "@jupyter-widgets/base",
      "model_module_version": "1.2.0",
      "model_name": "LayoutModel",
      "state": {}
     },
     "41cca163aaf74cc0a788411c77ee795e": {
      "model_module": "@jupyter-widgets/controls",
      "model_module_version": "1.5.0",
      "model_name": "FloatProgressModel",
      "state": {
       "layout": "IPY_MODEL_8f54a47307384754a59acc411b85113f",
       "max": 235,
       "style": "IPY_MODEL_094d248a976a4ff4899626e9e98c0619",
       "value": 235
      }
     },
     "4206fac7f73744d483d3d6bbc48bfcec": {
      "model_module": "@jupyter-widgets/base",
      "model_module_version": "1.2.0",
      "model_name": "LayoutModel",
      "state": {}
     },
     "420de5e1a09a4d039c55dc82a2050a50": {
      "model_module": "@jupyter-widgets/controls",
      "model_module_version": "1.5.0",
      "model_name": "HBoxModel",
      "state": {
       "children": [
        "IPY_MODEL_c08f6c4d5fe14977a32abc2fb0066abb",
        "IPY_MODEL_7fff71083488443693325941427a77de",
        "IPY_MODEL_441d02a13913408a9a00befa662b810d"
       ],
       "layout": "IPY_MODEL_fb3597e9261440bdac1e5cf566359d74"
      }
     },
     "427c79e69ac94df88ddaf9803af4e55b": {
      "model_module": "@jupyter-widgets/controls",
      "model_module_version": "1.5.0",
      "model_name": "FloatProgressModel",
      "state": {
       "layout": "IPY_MODEL_dc951c1a5cf0477e9045284d506a3992",
       "style": "IPY_MODEL_0dd834ffe0124f798fc935677f53aa85",
       "value": 8
      }
     },
     "42908ecbb4db4f7f8a6c1beb165437d5": {
      "model_module": "@jupyter-widgets/controls",
      "model_module_version": "1.5.0",
      "model_name": "FloatProgressModel",
      "state": {
       "layout": "IPY_MODEL_0760be096ee243ee91bb75391ce35bfb",
       "max": 234,
       "style": "IPY_MODEL_cf76148513b64800b581bfa4204ab8e7"
      }
     },
     "42c716f7ba9d49229b7749dcb3ff2101": {
      "model_module": "@jupyter-widgets/controls",
      "model_module_version": "1.5.0",
      "model_name": "DescriptionStyleModel",
      "state": {
       "description_width": ""
      }
     },
     "42cfb0d418964e75869a18fc954001de": {
      "model_module": "@jupyter-widgets/controls",
      "model_module_version": "1.5.0",
      "model_name": "HTMLModel",
      "state": {
       "layout": "IPY_MODEL_9ac75d52c41644079a6d042b91b0085e",
       "style": "IPY_MODEL_513a07d96cf8447aae64dd7dfb24034a",
       "value": "steps_G:   0%"
      }
     },
     "42d8ee4149f6412285a2c1f21482d51b": {
      "model_module": "@jupyter-widgets/controls",
      "model_module_version": "1.5.0",
      "model_name": "ProgressStyleModel",
      "state": {
       "description_width": ""
      }
     },
     "431900b77a2b4235bb2cabe8ec7125be": {
      "model_module": "@jupyter-widgets/controls",
      "model_module_version": "1.5.0",
      "model_name": "HBoxModel",
      "state": {
       "children": [
        "IPY_MODEL_a72cc4e4df594f39b158827a539b2906",
        "IPY_MODEL_31503048ddf24b329cdd0eaf2a3ed7c6",
        "IPY_MODEL_6caef38ca8334b18bdd0206d2a7e0748"
       ],
       "layout": "IPY_MODEL_c4af78a274cb4347823340f44993b6e8"
      }
     },
     "434f255cb5504cbfa7b1bd3244c8949c": {
      "model_module": "@jupyter-widgets/base",
      "model_module_version": "1.2.0",
      "model_name": "LayoutModel",
      "state": {}
     },
     "4350116306724256b112734395c929eb": {
      "model_module": "@jupyter-widgets/controls",
      "model_module_version": "1.5.0",
      "model_name": "HBoxModel",
      "state": {
       "children": [
        "IPY_MODEL_0e5832b2a6b148cd8ca14faf79f90338",
        "IPY_MODEL_8f5bf95ef741442e884c125b210cbb52",
        "IPY_MODEL_69e5755b201c4979bbb013d412f8bb27"
       ],
       "layout": "IPY_MODEL_252666da313a4bc4b74ebe0649fb00cd"
      }
     },
     "43553c879bca4896883e3ee66a1fd213": {
      "model_module": "@jupyter-widgets/base",
      "model_module_version": "1.2.0",
      "model_name": "LayoutModel",
      "state": {}
     },
     "437e3348ffe34f15a59bbcec3069720a": {
      "model_module": "@jupyter-widgets/base",
      "model_module_version": "1.2.0",
      "model_name": "LayoutModel",
      "state": {}
     },
     "43ddb18a447c457c8c41fcd4558d521e": {
      "model_module": "@jupyter-widgets/base",
      "model_module_version": "1.2.0",
      "model_name": "LayoutModel",
      "state": {}
     },
     "4416379ef59b4796b858657685aae18c": {
      "model_module": "@jupyter-widgets/controls",
      "model_module_version": "1.5.0",
      "model_name": "DescriptionStyleModel",
      "state": {
       "description_width": ""
      }
     },
     "441d02a13913408a9a00befa662b810d": {
      "model_module": "@jupyter-widgets/controls",
      "model_module_version": "1.5.0",
      "model_name": "HTMLModel",
      "state": {
       "layout": "IPY_MODEL_d77f9b63904b4e138e4a0c565cfc41b3",
       "style": "IPY_MODEL_ad896bfc955e455f9c913c99bb52b4d1",
       "value": " 216/469 [01:41&lt;02:23,  1.76it/s]"
      }
     },
     "4435e1e1441c40b6b7b89e225e3998e7": {
      "model_module": "@jupyter-widgets/controls",
      "model_module_version": "1.5.0",
      "model_name": "HBoxModel",
      "state": {
       "children": [
        "IPY_MODEL_6008396d881e49e8ad8be75a371b4b3d",
        "IPY_MODEL_3ea112013008499d86e8cad888dd4407",
        "IPY_MODEL_573da1e803c1443e9035fd891f651396"
       ],
       "layout": "IPY_MODEL_b9372c37a2024612bd17c47ce9d2891e"
      }
     },
     "444676c873df42d3880141d433916865": {
      "model_module": "@jupyter-widgets/base",
      "model_module_version": "1.2.0",
      "model_name": "LayoutModel",
      "state": {}
     },
     "452252d9a7474fb7b73ccb519fd8c11a": {
      "model_module": "@jupyter-widgets/controls",
      "model_module_version": "1.5.0",
      "model_name": "HBoxModel",
      "state": {
       "children": [
        "IPY_MODEL_a9848c28c7e24dce976843bfa16d8f0f",
        "IPY_MODEL_8e0609f1cf184d60a08820b0a3052068",
        "IPY_MODEL_2d924ed6be2b4e1eb4d7a1a8efd709d1"
       ],
       "layout": "IPY_MODEL_9601052d8977492995eeeaeaf348f9be"
      }
     },
     "45568825d3464779b07d80cc0e2d1b5f": {
      "model_module": "@jupyter-widgets/base",
      "model_module_version": "1.2.0",
      "model_name": "LayoutModel",
      "state": {}
     },
     "456193f99a1a4cf394bd858fd4755812": {
      "model_module": "@jupyter-widgets/base",
      "model_module_version": "1.2.0",
      "model_name": "LayoutModel",
      "state": {}
     },
     "45bc0a8fd4ea494dbeabe0d27cdb7296": {
      "model_module": "@jupyter-widgets/controls",
      "model_module_version": "1.5.0",
      "model_name": "HTMLModel",
      "state": {
       "layout": "IPY_MODEL_419994049187491c8851c53de813febd",
       "style": "IPY_MODEL_b6434632acba470a997953c55d46316b",
       "value": "epoch:   8%"
      }
     },
     "45f53febfd4944bd9520b4499d2ffe91": {
      "model_module": "@jupyter-widgets/base",
      "model_module_version": "1.2.0",
      "model_name": "LayoutModel",
      "state": {}
     },
     "461d79ed259943c28ff9adaba518c1f1": {
      "model_module": "@jupyter-widgets/controls",
      "model_module_version": "1.5.0",
      "model_name": "ProgressStyleModel",
      "state": {
       "description_width": ""
      }
     },
     "463710c8b65c407798e2e2842d0e7f33": {
      "model_module": "@jupyter-widgets/controls",
      "model_module_version": "1.5.0",
      "model_name": "DescriptionStyleModel",
      "state": {
       "description_width": ""
      }
     },
     "46a5649cd2504e1e9ee30acbca4f12fe": {
      "model_module": "@jupyter-widgets/controls",
      "model_module_version": "1.5.0",
      "model_name": "DescriptionStyleModel",
      "state": {
       "description_width": ""
      }
     },
     "46c38252e1df4680a2cef89d34a06c2f": {
      "model_module": "@jupyter-widgets/controls",
      "model_module_version": "1.5.0",
      "model_name": "HTMLModel",
      "state": {
       "layout": "IPY_MODEL_1c63dedb06e6464faf3f6b4b4399a074",
       "style": "IPY_MODEL_a35e8c141f874c86b875d59386ace1d6",
       "value": " 0/469 [00:00&lt;?, ?it/s]"
      }
     },
     "46faaa5826e44efa9302e9af5b3c3fea": {
      "model_module": "@jupyter-widgets/controls",
      "model_module_version": "1.5.0",
      "model_name": "HBoxModel",
      "state": {
       "children": [
        "IPY_MODEL_bee8f6c7159341de834c07fca3faf13c",
        "IPY_MODEL_140b844d688c4343a67aa9fde103ec78",
        "IPY_MODEL_b44f6469e56d4a0293823457a629449f"
       ],
       "layout": "IPY_MODEL_a542c6a55fa94206934303c10e18d37d"
      }
     },
     "4729dca2258f4896a71731d47de48847": {
      "model_module": "@jupyter-widgets/base",
      "model_module_version": "1.2.0",
      "model_name": "LayoutModel",
      "state": {}
     },
     "4733eea3312140e0a6ad78023d78afdb": {
      "model_module": "@jupyter-widgets/controls",
      "model_module_version": "1.5.0",
      "model_name": "FloatProgressModel",
      "state": {
       "layout": "IPY_MODEL_db889a8ef8274b22a9ecb4abf1874460",
       "max": 469,
       "style": "IPY_MODEL_13723713c2f74d9db5de85fae2309f92",
       "value": 332
      }
     },
     "4758a0d9fa224f9da943c41cb9dbffdd": {
      "model_module": "@jupyter-widgets/base",
      "model_module_version": "1.2.0",
      "model_name": "LayoutModel",
      "state": {}
     },
     "481f3cd6a5b949ddb6f3cc073461b71d": {
      "model_module": "@jupyter-widgets/base",
      "model_module_version": "1.2.0",
      "model_name": "LayoutModel",
      "state": {}
     },
     "485466d6eb9d4357a3a95508bcf5853b": {
      "model_module": "@jupyter-widgets/base",
      "model_module_version": "1.2.0",
      "model_name": "LayoutModel",
      "state": {}
     },
     "488cb81d88bc4ff5ab1c5382b76471ef": {
      "model_module": "@jupyter-widgets/controls",
      "model_module_version": "1.5.0",
      "model_name": "ProgressStyleModel",
      "state": {
       "description_width": ""
      }
     },
     "48b3ca0a9b0b4cfda1bd4cd1ac4e45a6": {
      "model_module": "@jupyter-widgets/controls",
      "model_module_version": "1.5.0",
      "model_name": "ProgressStyleModel",
      "state": {
       "description_width": ""
      }
     },
     "49315cca760d4b708684214e7eaa6978": {
      "model_module": "@jupyter-widgets/controls",
      "model_module_version": "1.5.0",
      "model_name": "DescriptionStyleModel",
      "state": {
       "description_width": ""
      }
     },
     "494fc585de8c43b38561959bd2faf4c4": {
      "model_module": "@jupyter-widgets/controls",
      "model_module_version": "1.5.0",
      "model_name": "HTMLModel",
      "state": {
       "layout": "IPY_MODEL_80f5bcf8b6454615923d0e44f8f3ad34",
       "style": "IPY_MODEL_f621a071365043ef959174040f26e7dd",
       "value": " 152/625 [01:16&lt;02:23,  3.30it/s]"
      }
     },
     "4959b87208d44e08ac6795f45a4b6462": {
      "model_module": "@jupyter-widgets/controls",
      "model_module_version": "1.5.0",
      "model_name": "ProgressStyleModel",
      "state": {
       "description_width": ""
      }
     },
     "4960c2ba969e431fae582f6f3a9188a9": {
      "model_module": "@jupyter-widgets/controls",
      "model_module_version": "1.5.0",
      "model_name": "HTMLModel",
      "state": {
       "layout": "IPY_MODEL_593b6b368f124507b6692182ab8a84cd",
       "style": "IPY_MODEL_53b5867117454dd7af161f94e17f08ec",
       "value": "steps_f (loss_f: 0.00018):  62%"
      }
     },
     "496668cc9f7d4f18a51393f2312c3380": {
      "model_module": "@jupyter-widgets/base",
      "model_module_version": "1.2.0",
      "model_name": "LayoutModel",
      "state": {}
     },
     "4967f0acb0544928b5a9f6811723cde5": {
      "model_module": "@jupyter-widgets/base",
      "model_module_version": "1.2.0",
      "model_name": "LayoutModel",
      "state": {}
     },
     "49817c7a2e05424581eca5147017a506": {
      "model_module": "@jupyter-widgets/controls",
      "model_module_version": "1.5.0",
      "model_name": "DescriptionStyleModel",
      "state": {
       "description_width": ""
      }
     },
     "4a2d7bca72b74a6283005766f8505fe2": {
      "model_module": "@jupyter-widgets/base",
      "model_module_version": "1.2.0",
      "model_name": "LayoutModel",
      "state": {}
     },
     "4a573839cd8e443c9cfb04b30ec7e935": {
      "model_module": "@jupyter-widgets/base",
      "model_module_version": "1.2.0",
      "model_name": "LayoutModel",
      "state": {}
     },
     "4a6aa45c3c634a3dba0e3ab152448ebe": {
      "model_module": "@jupyter-widgets/controls",
      "model_module_version": "1.5.0",
      "model_name": "DescriptionStyleModel",
      "state": {
       "description_width": ""
      }
     },
     "4aa2187741f04ae7a8943b1e0a892b7b": {
      "model_module": "@jupyter-widgets/controls",
      "model_module_version": "1.5.0",
      "model_name": "DescriptionStyleModel",
      "state": {
       "description_width": ""
      }
     },
     "4aa42c7e60a04a908595194f105e6571": {
      "model_module": "@jupyter-widgets/controls",
      "model_module_version": "1.5.0",
      "model_name": "FloatProgressModel",
      "state": {
       "layout": "IPY_MODEL_fc9bcf4fe8694ee0a0703ca6cdc48106",
       "max": 93,
       "style": "IPY_MODEL_6995cdf2d8fe453ab4094c2858672d63"
      }
     },
     "4b4d8ee0db47470db4bd204fd5340773": {
      "model_module": "@jupyter-widgets/controls",
      "model_module_version": "1.5.0",
      "model_name": "FloatProgressModel",
      "state": {
       "layout": "IPY_MODEL_924eae4dc1b94463add10d44bf7c7f79",
       "max": 234,
       "style": "IPY_MODEL_333deea65b5549389916b443544cf2bd"
      }
     },
     "4b8a71ceaa804c95b8306054a9ee0a6d": {
      "model_module": "@jupyter-widgets/controls",
      "model_module_version": "1.5.0",
      "model_name": "HBoxModel",
      "state": {
       "children": [
        "IPY_MODEL_79df2904d2394f65bb3c205b8e2b6722",
        "IPY_MODEL_42908ecbb4db4f7f8a6c1beb165437d5",
        "IPY_MODEL_afff208dec73428fbe91af1e0aa67419"
       ],
       "layout": "IPY_MODEL_1dc44e96ccb0431c8b66b936ca248c84"
      }
     },
     "4c23078995e54ccd835c9d4944f2bae6": {
      "model_module": "@jupyter-widgets/controls",
      "model_module_version": "1.5.0",
      "model_name": "DescriptionStyleModel",
      "state": {
       "description_width": ""
      }
     },
     "4d014cfc782c4efc88d9f5d23f12deb1": {
      "model_module": "@jupyter-widgets/controls",
      "model_module_version": "1.5.0",
      "model_name": "DescriptionStyleModel",
      "state": {
       "description_width": ""
      }
     },
     "4d755e37aae24e8cb3e8c36870179420": {
      "model_module": "@jupyter-widgets/base",
      "model_module_version": "1.2.0",
      "model_name": "LayoutModel",
      "state": {}
     },
     "4df4f9b465be4b61a47f19e234150f6d": {
      "model_module": "@jupyter-widgets/base",
      "model_module_version": "1.2.0",
      "model_name": "LayoutModel",
      "state": {}
     },
     "4e1fe5e9652242e3802d4272542e80f6": {
      "model_module": "@jupyter-widgets/base",
      "model_module_version": "1.2.0",
      "model_name": "LayoutModel",
      "state": {}
     },
     "4e2d58c03c1a49a5bf1451bb226815f4": {
      "model_module": "@jupyter-widgets/base",
      "model_module_version": "1.2.0",
      "model_name": "LayoutModel",
      "state": {}
     },
     "4e477a146ab94914bed0ca0a24a7a71f": {
      "model_module": "@jupyter-widgets/controls",
      "model_module_version": "1.5.0",
      "model_name": "DescriptionStyleModel",
      "state": {
       "description_width": ""
      }
     },
     "4e69097ecb1d490dba52141634502824": {
      "model_module": "@jupyter-widgets/controls",
      "model_module_version": "1.5.0",
      "model_name": "DescriptionStyleModel",
      "state": {
       "description_width": ""
      }
     },
     "4e799465c1c54129b4e1fef83e65386f": {
      "model_module": "@jupyter-widgets/controls",
      "model_module_version": "1.5.0",
      "model_name": "ProgressStyleModel",
      "state": {
       "description_width": ""
      }
     },
     "4e840f5669584270af2553e06601070d": {
      "model_module": "@jupyter-widgets/controls",
      "model_module_version": "1.5.0",
      "model_name": "HTMLModel",
      "state": {
       "layout": "IPY_MODEL_73acbe1c19d846899bed845d1a6df658",
       "style": "IPY_MODEL_2e16b6064a634a9aba0035dffb56bd9a",
       "value": " 100/100 [4:23:02&lt;00:00, 201.24s/it]"
      }
     },
     "4f03c86ba26e4797be726e37af7e5c87": {
      "model_module": "@jupyter-widgets/controls",
      "model_module_version": "1.5.0",
      "model_name": "HTMLModel",
      "state": {
       "layout": "IPY_MODEL_62b86bb9bbbf4105941eabc0445bb8a2",
       "style": "IPY_MODEL_8a1db9b453704127b8c5f4dbb4551d35",
       "value": "epoch: 100%"
      }
     },
     "4f56e299f0b1475b870893392d56d605": {
      "model_module": "@jupyter-widgets/base",
      "model_module_version": "1.2.0",
      "model_name": "LayoutModel",
      "state": {}
     },
     "4f696415d998438d9bc1a2e063a8015c": {
      "model_module": "@jupyter-widgets/controls",
      "model_module_version": "1.5.0",
      "model_name": "HTMLModel",
      "state": {
       "layout": "IPY_MODEL_901575291f9a4b94807a26160054dc1b",
       "style": "IPY_MODEL_7d98a626f3b54a00bb2cb4d79efaef42",
       "value": " 1/1 [04:21&lt;00:00, 261.94s/it]"
      }
     },
     "4ffbbe6c9cf847bca2d6457a97bcf83e": {
      "model_module": "@jupyter-widgets/base",
      "model_module_version": "1.2.0",
      "model_name": "LayoutModel",
      "state": {}
     },
     "4ffc88aa1ec64796a27d7d67dcf5774a": {
      "model_module": "@jupyter-widgets/controls",
      "model_module_version": "1.5.0",
      "model_name": "DescriptionStyleModel",
      "state": {
       "description_width": ""
      }
     },
     "506292b0de234067acf5b1ae1fb0d4e3": {
      "model_module": "@jupyter-widgets/base",
      "model_module_version": "1.2.0",
      "model_name": "LayoutModel",
      "state": {}
     },
     "507d197a04d44ce4b167381423f8478d": {
      "model_module": "@jupyter-widgets/controls",
      "model_module_version": "1.5.0",
      "model_name": "HTMLModel",
      "state": {
       "layout": "IPY_MODEL_23dfb714979c4f6db721214ce1c05b69",
       "style": "IPY_MODEL_2c9e80eef52a40bc8e94328eb67a88d6",
       "value": " 0/469 [00:00&lt;?, ?it/s]"
      }
     },
     "50c005833f2748a484413d2ea3002b4f": {
      "model_module": "@jupyter-widgets/controls",
      "model_module_version": "1.5.0",
      "model_name": "HTMLModel",
      "state": {
       "layout": "IPY_MODEL_e517a2d49a0d42748e9973d6fdd873c8",
       "style": "IPY_MODEL_21f4b9196b944a3ba61bbba384c34d6b",
       "value": "gen (loss: -1.41896): 100%"
      }
     },
     "513a07d96cf8447aae64dd7dfb24034a": {
      "model_module": "@jupyter-widgets/controls",
      "model_module_version": "1.5.0",
      "model_name": "DescriptionStyleModel",
      "state": {
       "description_width": ""
      }
     },
     "5142619d6e4c41c7be2fd65762057a5a": {
      "model_module": "@jupyter-widgets/controls",
      "model_module_version": "1.5.0",
      "model_name": "HTMLModel",
      "state": {
       "layout": "IPY_MODEL_e91ed5e71c9544b2bb8744c51c726255",
       "style": "IPY_MODEL_9d5136cc05a54931b6a24cb7d8400a1b",
       "value": " 0/100 [00:00&lt;?, ?it/s]"
      }
     },
     "51978862b3654f4f88fa98fe41011f9d": {
      "model_module": "@jupyter-widgets/base",
      "model_module_version": "1.2.0",
      "model_name": "LayoutModel",
      "state": {}
     },
     "51c44bc6433747e39869bdf76acae46e": {
      "model_module": "@jupyter-widgets/controls",
      "model_module_version": "1.5.0",
      "model_name": "HTMLModel",
      "state": {
       "layout": "IPY_MODEL_c03649aafced42819213c08d00aef1e6",
       "style": "IPY_MODEL_8698ae6443db4ebd996e5f3bdf4e5440",
       "value": " 93/93 [09:15&lt;00:00,  6.60s/it]"
      }
     },
     "51f4693bf5504c0d9cbdcbdbcc6a8218": {
      "model_module": "@jupyter-widgets/controls",
      "model_module_version": "1.5.0",
      "model_name": "FloatProgressModel",
      "state": {
       "layout": "IPY_MODEL_9e6c3242184d4817a9296fec840863d4",
       "max": 469,
       "style": "IPY_MODEL_9c4c2f1dfdb842acbfefe59d1bcc5a44",
       "value": 469
      }
     },
     "523d65260bec4517957f1e0433ed2f00": {
      "model_module": "@jupyter-widgets/controls",
      "model_module_version": "1.5.0",
      "model_name": "ProgressStyleModel",
      "state": {
       "description_width": ""
      }
     },
     "524955cc575f4b9cb83153017c32b9f0": {
      "model_module": "@jupyter-widgets/controls",
      "model_module_version": "1.5.0",
      "model_name": "HTMLModel",
      "state": {
       "layout": "IPY_MODEL_b8a87cddd3524cd18a4906f60af396aa",
       "style": "IPY_MODEL_3c258601f8964beea610f85df82e6784",
       "value": " 0/100 [00:00&lt;?, ?it/s]"
      }
     },
     "52aefad244eb4bfcb346be85bf5514dd": {
      "model_module": "@jupyter-widgets/base",
      "model_module_version": "1.2.0",
      "model_name": "LayoutModel",
      "state": {}
     },
     "538879b521c74c89a42ab124a6219650": {
      "model_module": "@jupyter-widgets/controls",
      "model_module_version": "1.5.0",
      "model_name": "DescriptionStyleModel",
      "state": {
       "description_width": ""
      }
     },
     "53b5867117454dd7af161f94e17f08ec": {
      "model_module": "@jupyter-widgets/controls",
      "model_module_version": "1.5.0",
      "model_name": "DescriptionStyleModel",
      "state": {
       "description_width": ""
      }
     },
     "54565e51bf1f46f6a0682dc2b14e72b5": {
      "model_module": "@jupyter-widgets/controls",
      "model_module_version": "1.5.0",
      "model_name": "FloatProgressModel",
      "state": {
       "layout": "IPY_MODEL_c2f4bafff9484c81a7188b87d496ed16",
       "max": 234,
       "style": "IPY_MODEL_09534bedeae84155a1dfc23861425b00",
       "value": 142
      }
     },
     "54a482855e1545efb2cfa20f199b3155": {
      "model_module": "@jupyter-widgets/controls",
      "model_module_version": "1.5.0",
      "model_name": "HTMLModel",
      "state": {
       "layout": "IPY_MODEL_e747411b731a451182d47970c99c6557",
       "style": "IPY_MODEL_ba3ad9e3a26c43b0913aed6d581e2af8",
       "value": " 0/93 [00:00&lt;?, ?it/s]"
      }
     },
     "54d3b27ad2b942bdab912c74f6d21d21": {
      "model_module": "@jupyter-widgets/base",
      "model_module_version": "1.2.0",
      "model_name": "LayoutModel",
      "state": {}
     },
     "5523adb12f844cd281525f56a76506b5": {
      "model_module": "@jupyter-widgets/controls",
      "model_module_version": "1.5.0",
      "model_name": "HTMLModel",
      "state": {
       "layout": "IPY_MODEL_e74a3f05fdaa4582ab811e4fbb47cb04",
       "style": "IPY_MODEL_17e45359dd8e49ea88732b245dd69f90",
       "value": " 469/469 [01:20&lt;00:00,  6.93it/s]"
      }
     },
     "552463a1ccf047a5a642fcd652460c81": {
      "model_module": "@jupyter-widgets/base",
      "model_module_version": "1.2.0",
      "model_name": "LayoutModel",
      "state": {}
     },
     "554c52facc2b4e3688dd44fdac33e9ee": {
      "model_module": "@jupyter-widgets/base",
      "model_module_version": "1.2.0",
      "model_name": "LayoutModel",
      "state": {}
     },
     "5565f3657dbd4936b6728d45d0af66fd": {
      "model_module": "@jupyter-widgets/controls",
      "model_module_version": "1.5.0",
      "model_name": "ProgressStyleModel",
      "state": {
       "description_width": ""
      }
     },
     "55bb3bb1b1dd49a889a4347f84763173": {
      "model_module": "@jupyter-widgets/controls",
      "model_module_version": "1.5.0",
      "model_name": "DescriptionStyleModel",
      "state": {
       "description_width": ""
      }
     },
     "55cde9f436f648b4b1448f060ed4893d": {
      "model_module": "@jupyter-widgets/controls",
      "model_module_version": "1.5.0",
      "model_name": "HTMLModel",
      "state": {
       "layout": "IPY_MODEL_31791571f5934f7197a2722e5a8f8abe",
       "style": "IPY_MODEL_105233d96c8142af941ce80cd50fa644",
       "value": "steps_f (loss_f: 0.01357): 100%"
      }
     },
     "562f8f7d728b48868fbd00b87cca0dd1": {
      "model_module": "@jupyter-widgets/base",
      "model_module_version": "1.2.0",
      "model_name": "LayoutModel",
      "state": {}
     },
     "5637f07b7ded4c3aab4c95e3926a5062": {
      "model_module": "@jupyter-widgets/base",
      "model_module_version": "1.2.0",
      "model_name": "LayoutModel",
      "state": {}
     },
     "56781ea13f0645d1bd2fe4ccb7f37d28": {
      "model_module": "@jupyter-widgets/controls",
      "model_module_version": "1.5.0",
      "model_name": "HTMLModel",
      "state": {
       "layout": "IPY_MODEL_e0b8b92e3b224954a04451c4ab612576",
       "style": "IPY_MODEL_42c716f7ba9d49229b7749dcb3ff2101",
       "value": " 0/30 [00:00&lt;?, ?it/s]"
      }
     },
     "5689aeba4bdc477db094c05aadb2182a": {
      "model_module": "@jupyter-widgets/controls",
      "model_module_version": "1.5.0",
      "model_name": "HTMLModel",
      "state": {
       "layout": "IPY_MODEL_cedde7592eb0497a834545d25011bf17",
       "style": "IPY_MODEL_56e903e463a246388462ead24e3250f3",
       "value": " 3/100 [11:22&lt;5:59:55, 222.64s/it]"
      }
     },
     "56e4577c017c452b8ce848c166d0347b": {
      "model_module": "@jupyter-widgets/controls",
      "model_module_version": "1.5.0",
      "model_name": "DescriptionStyleModel",
      "state": {
       "description_width": ""
      }
     },
     "56e903e463a246388462ead24e3250f3": {
      "model_module": "@jupyter-widgets/controls",
      "model_module_version": "1.5.0",
      "model_name": "DescriptionStyleModel",
      "state": {
       "description_width": ""
      }
     },
     "573da1e803c1443e9035fd891f651396": {
      "model_module": "@jupyter-widgets/controls",
      "model_module_version": "1.5.0",
      "model_name": "HTMLModel",
      "state": {
       "layout": "IPY_MODEL_ddb75829b20e4f8587f41ac7176c1fa5",
       "style": "IPY_MODEL_966df1105e6542398334c58b77a82560",
       "value": " 469/469 [04:37&lt;00:00,  1.67it/s]"
      }
     },
     "5783f3855a8f413d99bca20426114c59": {
      "model_module": "@jupyter-widgets/base",
      "model_module_version": "1.2.0",
      "model_name": "LayoutModel",
      "state": {}
     },
     "578c083545f440249407cd7d3df0a2a4": {
      "model_module": "@jupyter-widgets/base",
      "model_module_version": "1.2.0",
      "model_name": "LayoutModel",
      "state": {}
     },
     "57ccb4ef478d4d1280c1b61115658163": {
      "model_module": "@jupyter-widgets/base",
      "model_module_version": "1.2.0",
      "model_name": "LayoutModel",
      "state": {}
     },
     "583b2b55d0b54c03a6b094b86f042745": {
      "model_module": "@jupyter-widgets/controls",
      "model_module_version": "1.5.0",
      "model_name": "HTMLModel",
      "state": {
       "layout": "IPY_MODEL_7e39b5439793436fb42a91b097a47bb7",
       "style": "IPY_MODEL_d380ef367d514236983c65048b51b5dd",
       "value": "d_steps (d_loss: -0.00010):  14%"
      }
     },
     "583b9cf22e504c59b3bb928df383c925": {
      "model_module": "@jupyter-widgets/controls",
      "model_module_version": "1.5.0",
      "model_name": "ProgressStyleModel",
      "state": {
       "description_width": ""
      }
     },
     "5892aa0ee99a4dc18853ab86c921d42f": {
      "model_module": "@jupyter-widgets/controls",
      "model_module_version": "1.5.0",
      "model_name": "DescriptionStyleModel",
      "state": {
       "description_width": ""
      }
     },
     "5904beb4259a4c8198e8ab55668656f2": {
      "model_module": "@jupyter-widgets/controls",
      "model_module_version": "1.5.0",
      "model_name": "HTMLModel",
      "state": {
       "layout": "IPY_MODEL_ba177ba228c647349e979305c292579d",
       "style": "IPY_MODEL_2d21c433148747e09456dbbbca8d0523",
       "value": "steps_G (loss_G: -0.02072):  62%"
      }
     },
     "59114acbf3344cdaa3ecfa5208ec3e14": {
      "model_module": "@jupyter-widgets/base",
      "model_module_version": "1.2.0",
      "model_name": "LayoutModel",
      "state": {}
     },
     "593b6b368f124507b6692182ab8a84cd": {
      "model_module": "@jupyter-widgets/base",
      "model_module_version": "1.2.0",
      "model_name": "LayoutModel",
      "state": {}
     },
     "595c76a3a91b45e386a71afb913b4f0a": {
      "model_module": "@jupyter-widgets/controls",
      "model_module_version": "1.5.0",
      "model_name": "FloatProgressModel",
      "state": {
       "layout": "IPY_MODEL_3b4b300567334f6b90d175baea926aff",
       "max": 234,
       "style": "IPY_MODEL_ab7321d805fa4bc4a117d1f604ed01e4",
       "value": 31
      }
     },
     "596aa5f7cf904b8ebb2e97f84ea61868": {
      "model_module": "@jupyter-widgets/base",
      "model_module_version": "1.2.0",
      "model_name": "LayoutModel",
      "state": {}
     },
     "5990939789904870831a3fb7237236fe": {
      "model_module": "@jupyter-widgets/controls",
      "model_module_version": "1.5.0",
      "model_name": "DescriptionStyleModel",
      "state": {
       "description_width": ""
      }
     },
     "599b17b39970466ab8bc4239cda35656": {
      "model_module": "@jupyter-widgets/controls",
      "model_module_version": "1.5.0",
      "model_name": "HBoxModel",
      "state": {
       "children": [
        "IPY_MODEL_e0e1821cbc2940ca8a26740bfcbc9c33",
        "IPY_MODEL_3d29db09031e4abeb1e4d74712de7d88",
        "IPY_MODEL_1a69c850bb7b4dd981fed9bf60208bf5"
       ],
       "layout": "IPY_MODEL_1c2fca8c5ddd41edb54bba2cc0b7f236"
      }
     },
     "59a657b6de3e49dc904e41e8a9f2c041": {
      "model_module": "@jupyter-widgets/base",
      "model_module_version": "1.2.0",
      "model_name": "LayoutModel",
      "state": {}
     },
     "59da58d32c3a4232b48c374434877088": {
      "model_module": "@jupyter-widgets/controls",
      "model_module_version": "1.5.0",
      "model_name": "HTMLModel",
      "state": {
       "layout": "IPY_MODEL_4df4f9b465be4b61a47f19e234150f6d",
       "style": "IPY_MODEL_e0fbc05c345f422183e4c4b4b1e1753d",
       "value": " 142/234 [02:30&lt;01:51,  1.21s/it]"
      }
     },
     "59ecb94913cf4da8b04aa62b9610e6cd": {
      "model_module": "@jupyter-widgets/base",
      "model_module_version": "1.2.0",
      "model_name": "LayoutModel",
      "state": {}
     },
     "5a00a783a6ff41d6b64693bac437ad59": {
      "model_module": "@jupyter-widgets/controls",
      "model_module_version": "1.5.0",
      "model_name": "ProgressStyleModel",
      "state": {
       "description_width": ""
      }
     },
     "5a495a605c51479eaa55c13a71a68b2b": {
      "model_module": "@jupyter-widgets/controls",
      "model_module_version": "1.5.0",
      "model_name": "FloatProgressModel",
      "state": {
       "layout": "IPY_MODEL_657f4be3c05648ac8faf4ea43e199a89",
       "max": 469,
       "style": "IPY_MODEL_4959b87208d44e08ac6795f45a4b6462",
       "value": 385
      }
     },
     "5b92c596509e4a809c0799638773f10c": {
      "model_module": "@jupyter-widgets/controls",
      "model_module_version": "1.5.0",
      "model_name": "HBoxModel",
      "state": {
       "children": [
        "IPY_MODEL_e728d67c656e4bf9b3c798c6448e74f4",
        "IPY_MODEL_e91e055172434aa3a8702942298d71ff",
        "IPY_MODEL_3ca1f555190c4afb9910981216e9fb30"
       ],
       "layout": "IPY_MODEL_d54d3a8085a54ce1a79d76df4509027e"
      }
     },
     "5b9ed30e2a23461092b60c0d61867c02": {
      "model_module": "@jupyter-widgets/controls",
      "model_module_version": "1.5.0",
      "model_name": "HBoxModel",
      "state": {
       "children": [
        "IPY_MODEL_72287c03cfd946a3b024fd758b834702",
        "IPY_MODEL_d83ddc075e014a5ba3aa13802989074f",
        "IPY_MODEL_73f806ce00ab4edd8758cf24f740d3d3"
       ],
       "layout": "IPY_MODEL_130810187a3b4206b9b82cb04d16a31e"
      }
     },
     "5bbc855298d646fa99f85f07a5a96138": {
      "model_module": "@jupyter-widgets/controls",
      "model_module_version": "1.5.0",
      "model_name": "HBoxModel",
      "state": {
       "children": [
        "IPY_MODEL_f1506b1c7fde404da0bb85488fc46de7",
        "IPY_MODEL_1dc7f756e9044d63b3fd95b42fa4bbc0",
        "IPY_MODEL_12e04f688c174ac28b1220ee04c21c15"
       ],
       "layout": "IPY_MODEL_9fa330303ab24e67b50da1b09ca6e29c"
      }
     },
     "5bbefe06a0024611b811f49247c6b21d": {
      "model_module": "@jupyter-widgets/base",
      "model_module_version": "1.2.0",
      "model_name": "LayoutModel",
      "state": {}
     },
     "5c380cb2a84d45ea89365d0fbc99698d": {
      "model_module": "@jupyter-widgets/controls",
      "model_module_version": "1.5.0",
      "model_name": "HBoxModel",
      "state": {
       "children": [
        "IPY_MODEL_e2f6c651941044cdb21cfc2590fccc47",
        "IPY_MODEL_a4cf0a7abbca4fabbf1282049bb65859",
        "IPY_MODEL_d1e49e9edea94cbd9dee915cadd630ad"
       ],
       "layout": "IPY_MODEL_97cf790c2fcf4e6ca0ac0df722a31e1a"
      }
     },
     "5c3a2d9026c24a47a9025ec234fe95d6": {
      "model_module": "@jupyter-widgets/base",
      "model_module_version": "1.2.0",
      "model_name": "LayoutModel",
      "state": {}
     },
     "5c5f8741777543d59d58fe463bc673fd": {
      "model_module": "@jupyter-widgets/base",
      "model_module_version": "1.2.0",
      "model_name": "LayoutModel",
      "state": {}
     },
     "5cc768909daa4d90a469a86ee17e96c7": {
      "model_module": "@jupyter-widgets/controls",
      "model_module_version": "1.5.0",
      "model_name": "HTMLModel",
      "state": {
       "layout": "IPY_MODEL_885824e304e7413b9049f398b90b8ea0",
       "style": "IPY_MODEL_7cbf382d5c4145fa9d87d2dac599a25f",
       "value": "g_steps (g_loss: -0.02084): 100%"
      }
     },
     "5ce4760940a04c4bb2f817a596c2dc9b": {
      "model_module": "@jupyter-widgets/controls",
      "model_module_version": "1.5.0",
      "model_name": "HBoxModel",
      "state": {
       "children": [
        "IPY_MODEL_b1df35d89c05441897ba03a210ac7758",
        "IPY_MODEL_36efe57ae86c42209a218b8609741cd2",
        "IPY_MODEL_66b0832e71084b06a8350a7eb035c301"
       ],
       "layout": "IPY_MODEL_af7bf5f091774eb78a9b7725efdf74f1"
      }
     },
     "5d33db6130c642e9a5decb414deea139": {
      "model_module": "@jupyter-widgets/base",
      "model_module_version": "1.2.0",
      "model_name": "LayoutModel",
      "state": {}
     },
     "5d6661deb1ea42098b8392e8fe6af54a": {
      "model_module": "@jupyter-widgets/base",
      "model_module_version": "1.2.0",
      "model_name": "LayoutModel",
      "state": {}
     },
     "5d831ac913be41c48b2062d7075d7e47": {
      "model_module": "@jupyter-widgets/controls",
      "model_module_version": "1.5.0",
      "model_name": "HBoxModel",
      "state": {
       "children": [
        "IPY_MODEL_0be8892ef70244c5899b06fdd03be75a",
        "IPY_MODEL_c5477a66489f41cfa2435a956ed333c7",
        "IPY_MODEL_b14111fabcd54dd4bb6d745b703197dd"
       ],
       "layout": "IPY_MODEL_2d38d77223554930934c21cc0d669df3"
      }
     },
     "5dc431c197234d58bdc0b39f4a014518": {
      "model_module": "@jupyter-widgets/controls",
      "model_module_version": "1.5.0",
      "model_name": "DescriptionStyleModel",
      "state": {
       "description_width": ""
      }
     },
     "5dd2096e604443269c9fb5fe0a029673": {
      "model_module": "@jupyter-widgets/base",
      "model_module_version": "1.2.0",
      "model_name": "LayoutModel",
      "state": {}
     },
     "5dda2c0f89564b7284b15a2d41e195da": {
      "model_module": "@jupyter-widgets/controls",
      "model_module_version": "1.5.0",
      "model_name": "DescriptionStyleModel",
      "state": {
       "description_width": ""
      }
     },
     "5dfdf294c6cc4cea94f42cd5b6465cb1": {
      "model_module": "@jupyter-widgets/base",
      "model_module_version": "1.2.0",
      "model_name": "LayoutModel",
      "state": {}
     },
     "5ee316d2a1f94697bd351df9b89a872d": {
      "model_module": "@jupyter-widgets/base",
      "model_module_version": "1.2.0",
      "model_name": "LayoutModel",
      "state": {}
     },
     "5eef831e92ed43c98c0f1bea745d62df": {
      "model_module": "@jupyter-widgets/controls",
      "model_module_version": "1.5.0",
      "model_name": "HTMLModel",
      "state": {
       "layout": "IPY_MODEL_0a6aa55aeb7b49ec92304d10d098ce19",
       "style": "IPY_MODEL_182bdc2a9b594b46b048d591f63eb359",
       "value": "critic (loss: -35.80120): 100%"
      }
     },
     "5ef1fdf8aa4440fcab4b9c0b38c1a560": {
      "model_module": "@jupyter-widgets/base",
      "model_module_version": "1.2.0",
      "model_name": "LayoutModel",
      "state": {}
     },
     "5f173f1ccb5f4dd69960e025762ad5ea": {
      "model_module": "@jupyter-widgets/base",
      "model_module_version": "1.2.0",
      "model_name": "LayoutModel",
      "state": {}
     },
     "5f1b7111f4904c30bfaf93b9adbddccf": {
      "model_module": "@jupyter-widgets/controls",
      "model_module_version": "1.5.0",
      "model_name": "ProgressStyleModel",
      "state": {
       "description_width": ""
      }
     },
     "5f720e72e81e4984ba2c84616d82833d": {
      "model_module": "@jupyter-widgets/base",
      "model_module_version": "1.2.0",
      "model_name": "LayoutModel",
      "state": {}
     },
     "5f73d4a481ec4f3ea3e19d6bf26c13f8": {
      "model_module": "@jupyter-widgets/base",
      "model_module_version": "1.2.0",
      "model_name": "LayoutModel",
      "state": {}
     },
     "5f7f3edf040149ce84d1c936cfb1d245": {
      "model_module": "@jupyter-widgets/base",
      "model_module_version": "1.2.0",
      "model_name": "LayoutModel",
      "state": {}
     },
     "5f97b706540e452c8e0c073da9018873": {
      "model_module": "@jupyter-widgets/controls",
      "model_module_version": "1.5.0",
      "model_name": "DescriptionStyleModel",
      "state": {
       "description_width": ""
      }
     },
     "5fa97e77cfff4099960a4833ecd0b74e": {
      "model_module": "@jupyter-widgets/base",
      "model_module_version": "1.2.0",
      "model_name": "LayoutModel",
      "state": {}
     },
     "5faebb44e35647bc8236710ccb4c2146": {
      "model_module": "@jupyter-widgets/controls",
      "model_module_version": "1.5.0",
      "model_name": "HBoxModel",
      "state": {
       "children": [
        "IPY_MODEL_b20b90d3e3a74a07901b200f3a14fb45",
        "IPY_MODEL_08a28772307c4a6f8732456340dfa5ab",
        "IPY_MODEL_9d71a6813cd74413b5f70a4a44203189"
       ],
       "layout": "IPY_MODEL_cf907f6d45ac4e99b3a32ffc78c6c0ac"
      }
     },
     "6008396d881e49e8ad8be75a371b4b3d": {
      "model_module": "@jupyter-widgets/controls",
      "model_module_version": "1.5.0",
      "model_name": "HTMLModel",
      "state": {
       "layout": "IPY_MODEL_6079375e66284da3a42ba2519f4c0c67",
       "style": "IPY_MODEL_a86093ee62f44adba549025864286374",
       "value": "critic (loss: -2.98701): 100%"
      }
     },
     "601605da3eb04a158b8893890b1b97cd": {
      "model_module": "@jupyter-widgets/controls",
      "model_module_version": "1.5.0",
      "model_name": "ProgressStyleModel",
      "state": {
       "description_width": ""
      }
     },
     "6077bc4bd8814ac5bebcc6cd2e2ebbbe": {
      "model_module": "@jupyter-widgets/base",
      "model_module_version": "1.2.0",
      "model_name": "LayoutModel",
      "state": {}
     },
     "6079375e66284da3a42ba2519f4c0c67": {
      "model_module": "@jupyter-widgets/base",
      "model_module_version": "1.2.0",
      "model_name": "LayoutModel",
      "state": {}
     },
     "609ded604b9e4fcb82d2a1f94b20813a": {
      "model_module": "@jupyter-widgets/controls",
      "model_module_version": "1.5.0",
      "model_name": "HBoxModel",
      "state": {
       "children": [
        "IPY_MODEL_5eef831e92ed43c98c0f1bea745d62df",
        "IPY_MODEL_51f4693bf5504c0d9cbdcbdbcc6a8218",
        "IPY_MODEL_dd828c50948a4e42a56ca1b3157a7e46"
       ],
       "layout": "IPY_MODEL_40579a9e1c7a4f27865b9f117cf4f181"
      }
     },
     "60bd24474a4842f287aadb67db9bad41": {
      "model_module": "@jupyter-widgets/controls",
      "model_module_version": "1.5.0",
      "model_name": "DescriptionStyleModel",
      "state": {
       "description_width": ""
      }
     },
     "60e1d0e4aedb4a3291db38842d674cbd": {
      "model_module": "@jupyter-widgets/base",
      "model_module_version": "1.2.0",
      "model_name": "LayoutModel",
      "state": {}
     },
     "611ef3e449d440a5a0b1175c97885234": {
      "model_module": "@jupyter-widgets/controls",
      "model_module_version": "1.5.0",
      "model_name": "HBoxModel",
      "state": {
       "children": [
        "IPY_MODEL_046a653411014457b84a00afd24dc9b4",
        "IPY_MODEL_3d48cfc7c3e144e1b340cb96bd08ba45",
        "IPY_MODEL_281f47173a824e41bfdb5fd8c11e2ac7"
       ],
       "layout": "IPY_MODEL_99741c35126043a9a5e3dba321480aea"
      }
     },
     "61708a7a75b441d0bac078a513dbf12c": {
      "model_module": "@jupyter-widgets/controls",
      "model_module_version": "1.5.0",
      "model_name": "ProgressStyleModel",
      "state": {
       "description_width": ""
      }
     },
     "619295037e5a4d4988f39c54690e3e40": {
      "model_module": "@jupyter-widgets/base",
      "model_module_version": "1.2.0",
      "model_name": "LayoutModel",
      "state": {}
     },
     "62661e5296154741b496fba968d8f6fa": {
      "model_module": "@jupyter-widgets/controls",
      "model_module_version": "1.5.0",
      "model_name": "DescriptionStyleModel",
      "state": {
       "description_width": ""
      }
     },
     "627685d22bdc490891a93abbee98d19b": {
      "model_module": "@jupyter-widgets/base",
      "model_module_version": "1.2.0",
      "model_name": "LayoutModel",
      "state": {}
     },
     "62b86bb9bbbf4105941eabc0445bb8a2": {
      "model_module": "@jupyter-widgets/base",
      "model_module_version": "1.2.0",
      "model_name": "LayoutModel",
      "state": {}
     },
     "62dfb2e2c68e486da5ab6af3342cccab": {
      "model_module": "@jupyter-widgets/controls",
      "model_module_version": "1.5.0",
      "model_name": "FloatProgressModel",
      "state": {
       "layout": "IPY_MODEL_59114acbf3344cdaa3ecfa5208ec3e14",
       "max": 30,
       "style": "IPY_MODEL_004af499efae4053bbace8c905258fe2"
      }
     },
     "6305172e65f84ae0a0c6d43c8a39c428": {
      "model_module": "@jupyter-widgets/base",
      "model_module_version": "1.2.0",
      "model_name": "LayoutModel",
      "state": {}
     },
     "632052bb3bdb4c368f4aa93a283ffd59": {
      "model_module": "@jupyter-widgets/controls",
      "model_module_version": "1.5.0",
      "model_name": "ProgressStyleModel",
      "state": {
       "description_width": ""
      }
     },
     "64b400b1d0d042e1b1985ca437689296": {
      "model_module": "@jupyter-widgets/base",
      "model_module_version": "1.2.0",
      "model_name": "LayoutModel",
      "state": {}
     },
     "64f5db57d0554b7a9167e852b51dcca6": {
      "model_module": "@jupyter-widgets/controls",
      "model_module_version": "1.5.0",
      "model_name": "ProgressStyleModel",
      "state": {
       "description_width": ""
      }
     },
     "653fd83f0f234bb49c7d602d7f21e611": {
      "model_module": "@jupyter-widgets/controls",
      "model_module_version": "1.5.0",
      "model_name": "ProgressStyleModel",
      "state": {
       "description_width": ""
      }
     },
     "6547dd6ef9fa4dbdb1bce18aa855bc83": {
      "model_module": "@jupyter-widgets/base",
      "model_module_version": "1.2.0",
      "model_name": "LayoutModel",
      "state": {}
     },
     "654fc28073f34d9f9df0a756e5bae383": {
      "model_module": "@jupyter-widgets/controls",
      "model_module_version": "1.5.0",
      "model_name": "DescriptionStyleModel",
      "state": {
       "description_width": ""
      }
     },
     "657f4be3c05648ac8faf4ea43e199a89": {
      "model_module": "@jupyter-widgets/base",
      "model_module_version": "1.2.0",
      "model_name": "LayoutModel",
      "state": {}
     },
     "65ed901a6c04435ca720177d86c136bb": {
      "model_module": "@jupyter-widgets/controls",
      "model_module_version": "1.5.0",
      "model_name": "HTMLModel",
      "state": {
       "layout": "IPY_MODEL_a3cdc39722de427eb75234a68de67891",
       "style": "IPY_MODEL_9f9517378b204832a8d6785592a7c715",
       "value": "g_steps (g_loss: -0.01032):   8%"
      }
     },
     "66356c749274437c936a9134e3171e64": {
      "model_module": "@jupyter-widgets/controls",
      "model_module_version": "1.5.0",
      "model_name": "HBoxModel",
      "state": {
       "children": [
        "IPY_MODEL_909845857a294475a2f7a6a997d191b4",
        "IPY_MODEL_e5d70ace4e2c419faca845e7579a1da0",
        "IPY_MODEL_a314054c0b0a41bc8cf8e184664222cd"
       ],
       "layout": "IPY_MODEL_11ea731d2867475f952f1304140d6198"
      }
     },
     "66390916618c496a92a227382809fb70": {
      "model_module": "@jupyter-widgets/base",
      "model_module_version": "1.2.0",
      "model_name": "LayoutModel",
      "state": {}
     },
     "665ed9233a4443f1822818a73fa73901": {
      "model_module": "@jupyter-widgets/controls",
      "model_module_version": "1.5.0",
      "model_name": "FloatProgressModel",
      "state": {
       "layout": "IPY_MODEL_ca2e7065142949e6ab0ab3a83aa4676f",
       "max": 1,
       "style": "IPY_MODEL_eeb8155628114b1aadc58bf364e06e39",
       "value": 1
      }
     },
     "668e1e294e8f43bc91599d8accf2d40d": {
      "model_module": "@jupyter-widgets/base",
      "model_module_version": "1.2.0",
      "model_name": "LayoutModel",
      "state": {}
     },
     "66b0832e71084b06a8350a7eb035c301": {
      "model_module": "@jupyter-widgets/controls",
      "model_module_version": "1.5.0",
      "model_name": "HTMLModel",
      "state": {
       "layout": "IPY_MODEL_d1b180b4f3e74dd785ded091cb09dd9b",
       "style": "IPY_MODEL_bfe79cd2e7684f73a05de29b6d9a67c7",
       "value": " 0/30 [00:00&lt;?, ?it/s]"
      }
     },
     "66dacc9c862446ac9869e62a4a9c5c38": {
      "model_module": "@jupyter-widgets/controls",
      "model_module_version": "1.5.0",
      "model_name": "FloatProgressModel",
      "state": {
       "layout": "IPY_MODEL_ae3474f111084bde99937adc7d3f40b1",
       "max": 234,
       "style": "IPY_MODEL_ae53cc00f330434fbec4c2c2d6dfaca8",
       "value": 12
      }
     },
     "673da1c1cef64b479348c3773dc1aad9": {
      "model_module": "@jupyter-widgets/controls",
      "model_module_version": "1.5.0",
      "model_name": "FloatProgressModel",
      "state": {
       "layout": "IPY_MODEL_8cff1245c3d34bdf8c01255006ef875c",
       "max": 1,
       "style": "IPY_MODEL_d65d2e7e1a294b41827c6b55b34c5e17",
       "value": 1
      }
     },
     "674224c0958d401680973a5899ab8bbd": {
      "model_module": "@jupyter-widgets/controls",
      "model_module_version": "1.5.0",
      "model_name": "HTMLModel",
      "state": {
       "layout": "IPY_MODEL_5637f07b7ded4c3aab4c95e3926a5062",
       "style": "IPY_MODEL_09d45b639f654ce488e5966cb727eb13",
       "value": " 292/469 [00:50&lt;00:30,  5.77it/s]"
      }
     },
     "675e040420f149f2928798dc97262eab": {
      "model_module": "@jupyter-widgets/controls",
      "model_module_version": "1.5.0",
      "model_name": "FloatProgressModel",
      "state": {
       "layout": "IPY_MODEL_2219cc9ce5a84d5683faef376a18cdfa",
       "max": 20,
       "style": "IPY_MODEL_4121b95a568649f28e92ea854fc1da3c"
      }
     },
     "67d66d14d3234a50af8a04459d4b595a": {
      "model_module": "@jupyter-widgets/base",
      "model_module_version": "1.2.0",
      "model_name": "LayoutModel",
      "state": {}
     },
     "6836907fa6c34a48a575d3c44e1b9a26": {
      "model_module": "@jupyter-widgets/controls",
      "model_module_version": "1.5.0",
      "model_name": "FloatProgressModel",
      "state": {
       "layout": "IPY_MODEL_1d8e8a7b04614ae29edb5273c832af55",
       "max": 2345,
       "style": "IPY_MODEL_1a6d6303a7bf4d829bbed261e7924ddd",
       "value": 2345
      }
     },
     "6874cbc53b98406fb7fab193b3c1469c": {
      "model_module": "@jupyter-widgets/controls",
      "model_module_version": "1.5.0",
      "model_name": "DescriptionStyleModel",
      "state": {
       "description_width": ""
      }
     },
     "6888fdcb9d5b443a93c1996764407270": {
      "model_module": "@jupyter-widgets/controls",
      "model_module_version": "1.5.0",
      "model_name": "HBoxModel",
      "state": {
       "children": [
        "IPY_MODEL_9c5b6c9ec0cf4d18a434093ef9a77633",
        "IPY_MODEL_cd081fc4ac3c4894b54f048cc2870d8f",
        "IPY_MODEL_5142619d6e4c41c7be2fd65762057a5a"
       ],
       "layout": "IPY_MODEL_506292b0de234067acf5b1ae1fb0d4e3"
      }
     },
     "68e8d88c180748c9b53e4a7144bd8a20": {
      "model_module": "@jupyter-widgets/base",
      "model_module_version": "1.2.0",
      "model_name": "LayoutModel",
      "state": {}
     },
     "68fc5b22b798467e94f95eb1a8011d0c": {
      "model_module": "@jupyter-widgets/controls",
      "model_module_version": "1.5.0",
      "model_name": "DescriptionStyleModel",
      "state": {
       "description_width": ""
      }
     },
     "692fda8b01774423a52071a497223cd3": {
      "model_module": "@jupyter-widgets/controls",
      "model_module_version": "1.5.0",
      "model_name": "DescriptionStyleModel",
      "state": {
       "description_width": ""
      }
     },
     "69616afdb91f45f49b020ddacb2148e6": {
      "model_module": "@jupyter-widgets/controls",
      "model_module_version": "1.5.0",
      "model_name": "DescriptionStyleModel",
      "state": {
       "description_width": ""
      }
     },
     "69710a5aac964da1b3e90c0c562e10c5": {
      "model_module": "@jupyter-widgets/controls",
      "model_module_version": "1.5.0",
      "model_name": "ProgressStyleModel",
      "state": {
       "description_width": ""
      }
     },
     "6976354b9658431f8151fe7e18fd405c": {
      "model_module": "@jupyter-widgets/controls",
      "model_module_version": "1.5.0",
      "model_name": "HTMLModel",
      "state": {
       "layout": "IPY_MODEL_5d33db6130c642e9a5decb414deea139",
       "style": "IPY_MODEL_1fb07c61b9fd4863a64da60cb6a6e761",
       "value": " 1/1 [03:32&lt;00:00, 212.46s/it]"
      }
     },
     "6995cdf2d8fe453ab4094c2858672d63": {
      "model_module": "@jupyter-widgets/controls",
      "model_module_version": "1.5.0",
      "model_name": "ProgressStyleModel",
      "state": {
       "description_width": ""
      }
     },
     "69aa18a1d64e481090c1f3ff04f34066": {
      "model_module": "@jupyter-widgets/base",
      "model_module_version": "1.2.0",
      "model_name": "LayoutModel",
      "state": {}
     },
     "69e5755b201c4979bbb013d412f8bb27": {
      "model_module": "@jupyter-widgets/controls",
      "model_module_version": "1.5.0",
      "model_name": "HTMLModel",
      "state": {
       "layout": "IPY_MODEL_3c033d1f3d6e456fa1d24c6575e23dca",
       "style": "IPY_MODEL_93e85e5979b848d482ee3483b4898f65",
       "value": " 0/100 [00:00&lt;?, ?it/s]"
      }
     },
     "6a5687e9fb424c40b947159865f54639": {
      "model_module": "@jupyter-widgets/base",
      "model_module_version": "1.2.0",
      "model_name": "LayoutModel",
      "state": {}
     },
     "6a5cd8db0a6f46b59fe5f930e54d045b": {
      "model_module": "@jupyter-widgets/controls",
      "model_module_version": "1.5.0",
      "model_name": "DescriptionStyleModel",
      "state": {
       "description_width": ""
      }
     },
     "6ae6ffe089024c9e8744eaaaf32148eb": {
      "model_module": "@jupyter-widgets/controls",
      "model_module_version": "1.5.0",
      "model_name": "DescriptionStyleModel",
      "state": {
       "description_width": ""
      }
     },
     "6aea511dbb5743b292b9b2cff72fa87f": {
      "model_module": "@jupyter-widgets/controls",
      "model_module_version": "1.5.0",
      "model_name": "FloatProgressModel",
      "state": {
       "layout": "IPY_MODEL_f2cdf42eaa2c4953b77905ddedf75390",
       "style": "IPY_MODEL_f32a8fc53fd847d9999c5a3849bf6d0b",
       "value": 24
      }
     },
     "6afd068f727f4ecf864470433a20a341": {
      "model_module": "@jupyter-widgets/base",
      "model_module_version": "1.2.0",
      "model_name": "LayoutModel",
      "state": {}
     },
     "6b8427037bb54d41ba3cfc89e1afb082": {
      "model_module": "@jupyter-widgets/controls",
      "model_module_version": "1.5.0",
      "model_name": "HTMLModel",
      "state": {
       "layout": "IPY_MODEL_853463448dcb4d14943c049fa5804a13",
       "style": "IPY_MODEL_cea557fb72b84b3ca2661ed695ed785f",
       "value": " 385/469 [01:27&lt;00:20,  4.11it/s]"
      }
     },
     "6be08140c03247c58b34a5fd0b853e0f": {
      "model_module": "@jupyter-widgets/base",
      "model_module_version": "1.2.0",
      "model_name": "LayoutModel",
      "state": {}
     },
     "6c26c391ec5b47e8a061e62298ca2ac9": {
      "model_module": "@jupyter-widgets/base",
      "model_module_version": "1.2.0",
      "model_name": "LayoutModel",
      "state": {}
     },
     "6c65395ba2a841b5a92a615b0cf8779f": {
      "model_module": "@jupyter-widgets/controls",
      "model_module_version": "1.5.0",
      "model_name": "DescriptionStyleModel",
      "state": {
       "description_width": ""
      }
     },
     "6caef38ca8334b18bdd0206d2a7e0748": {
      "model_module": "@jupyter-widgets/controls",
      "model_module_version": "1.5.0",
      "model_name": "HTMLModel",
      "state": {
       "layout": "IPY_MODEL_e4a3451fd7de4e1ca2a352c515cd1a61",
       "style": "IPY_MODEL_7f9a0b6e148043f3b21eeff6e9b93f83",
       "value": " 10/10 [1:52:31&lt;00:00, 821.33s/it]"
      }
     },
     "6cbba5f68fb64fbd8bcc84d03910cd12": {
      "model_module": "@jupyter-widgets/base",
      "model_module_version": "1.2.0",
      "model_name": "LayoutModel",
      "state": {}
     },
     "6cc0ad9b7f1744509fec8238d692c6ed": {
      "model_module": "@jupyter-widgets/controls",
      "model_module_version": "1.5.0",
      "model_name": "HTMLModel",
      "state": {
       "layout": "IPY_MODEL_5f173f1ccb5f4dd69960e025762ad5ea",
       "style": "IPY_MODEL_1c14713a5b284217af934309509197d0",
       "value": "d_steps (d_loss: -0.00022):   3%"
      }
     },
     "6d321b2ebb47487fb7e2b8b6d5eef38c": {
      "model_module": "@jupyter-widgets/controls",
      "model_module_version": "1.5.0",
      "model_name": "HTMLModel",
      "state": {
       "layout": "IPY_MODEL_a75d9d0eb005479ba37484f6795ca152",
       "style": "IPY_MODEL_37e1c311c30f4097bcd235960bccea94",
       "value": " 8/100 [24:06&lt;5:27:07, 213.34s/it]"
      }
     },
     "6d34c3d907b343aa9c47100df90237d9": {
      "model_module": "@jupyter-widgets/controls",
      "model_module_version": "1.5.0",
      "model_name": "DescriptionStyleModel",
      "state": {
       "description_width": ""
      }
     },
     "6db0ba39970046088f4d4b8455856c8c": {
      "model_module": "@jupyter-widgets/controls",
      "model_module_version": "1.5.0",
      "model_name": "HBoxModel",
      "state": {
       "children": [
        "IPY_MODEL_7fcbd4edb55b4f02bf8fe882552dd937",
        "IPY_MODEL_2087fcf60d264726a86293e85ec674bd",
        "IPY_MODEL_56781ea13f0645d1bd2fe4ccb7f37d28"
       ],
       "layout": "IPY_MODEL_2c9201b5b02b489c9f5017f34e45a519"
      }
     },
     "6de21beeaea544a5902154c480800532": {
      "model_module": "@jupyter-widgets/controls",
      "model_module_version": "1.5.0",
      "model_name": "HBoxModel",
      "state": {
       "children": [
        "IPY_MODEL_42cfb0d418964e75869a18fc954001de",
        "IPY_MODEL_ae3b8975f94f4b7da63f11b9a106213e",
        "IPY_MODEL_78e41316c1664b6081c6b8b15c67492e"
       ],
       "layout": "IPY_MODEL_f991dc65ae624190a02592c0ead9d443"
      }
     },
     "6e0bda1ea5b844ae9a521faefc2c40c5": {
      "model_module": "@jupyter-widgets/base",
      "model_module_version": "1.2.0",
      "model_name": "LayoutModel",
      "state": {}
     },
     "6e651776989f494285d0aea226f578d5": {
      "model_module": "@jupyter-widgets/controls",
      "model_module_version": "1.5.0",
      "model_name": "HBoxModel",
      "state": {
       "children": [
        "IPY_MODEL_d3689598b58f42b0ad1bc1471615bfb9",
        "IPY_MODEL_c4f449e6e6bd4041be25241e459a711c",
        "IPY_MODEL_a010d47846804b309140bbed3cf35e03"
       ],
       "layout": "IPY_MODEL_e1a4e432fb4c4ec4a2d90b3316018ac1"
      }
     },
     "6ebdcaedc2d54299a7f6f44bdbc7f20f": {
      "model_module": "@jupyter-widgets/base",
      "model_module_version": "1.2.0",
      "model_name": "LayoutModel",
      "state": {}
     },
     "6f1d6f522ebe403a9c5b02a7adbffd8a": {
      "model_module": "@jupyter-widgets/controls",
      "model_module_version": "1.5.0",
      "model_name": "DescriptionStyleModel",
      "state": {
       "description_width": ""
      }
     },
     "6f56dbff57e94bafa1332148b93746b0": {
      "model_module": "@jupyter-widgets/controls",
      "model_module_version": "1.5.0",
      "model_name": "HTMLModel",
      "state": {
       "layout": "IPY_MODEL_a5b2df06c02448ee8b671bf30c85271e",
       "style": "IPY_MODEL_46a5649cd2504e1e9ee30acbca4f12fe",
       "value": " 162/234 [02:47&lt;00:34,  2.06it/s]"
      }
     },
     "6f5f1a54615c4945add0f1121586721d": {
      "model_module": "@jupyter-widgets/controls",
      "model_module_version": "1.5.0",
      "model_name": "HBoxModel",
      "state": {
       "children": [
        "IPY_MODEL_0f0bfafd2ee547209a9ddb0509fc1bf6",
        "IPY_MODEL_f5ab600c303b40b38ca055da9c67ef3d",
        "IPY_MODEL_c094faef47954ab4ab54d987bca9fdd9"
       ],
       "layout": "IPY_MODEL_f2dda76d438c422c948e77aed6cb0408"
      }
     },
     "6f66e0c78a6b49e1ac7095a7a67cff6c": {
      "model_module": "@jupyter-widgets/base",
      "model_module_version": "1.2.0",
      "model_name": "LayoutModel",
      "state": {}
     },
     "6f7f1901a3074b6fa9d92c5aa58394d2": {
      "model_module": "@jupyter-widgets/controls",
      "model_module_version": "1.5.0",
      "model_name": "HBoxModel",
      "state": {
       "children": [
        "IPY_MODEL_e2c8d23b0d4c41d89a087764f4f6a2d9",
        "IPY_MODEL_808b74ccb7154707b85da2870ca1a70f",
        "IPY_MODEL_1db9ee7a0518424d871d0e704c4234d8"
       ],
       "layout": "IPY_MODEL_d0b69299dec14f438a2e4086a1771a68"
      }
     },
     "6fe3014bd92f48ffba2e940bad1efc42": {
      "model_module": "@jupyter-widgets/controls",
      "model_module_version": "1.5.0",
      "model_name": "FloatProgressModel",
      "state": {
       "layout": "IPY_MODEL_b2a42cc4e19d4ce79a8727c4de53e723",
       "max": 469,
       "style": "IPY_MODEL_0e43799c5dce4660ae789d3a63e99eb4",
       "value": 1
      }
     },
     "701a15276003465dab9f2104a3b95647": {
      "model_module": "@jupyter-widgets/base",
      "model_module_version": "1.2.0",
      "model_name": "LayoutModel",
      "state": {}
     },
     "7073ec46869c4ecf8b92ab311e68465e": {
      "model_module": "@jupyter-widgets/base",
      "model_module_version": "1.2.0",
      "model_name": "LayoutModel",
      "state": {}
     },
     "70b0d75d7b954d208fe16d81215478a4": {
      "model_module": "@jupyter-widgets/base",
      "model_module_version": "1.2.0",
      "model_name": "LayoutModel",
      "state": {}
     },
     "70f0030f4ca943729b2476a32e53f449": {
      "model_module": "@jupyter-widgets/base",
      "model_module_version": "1.2.0",
      "model_name": "LayoutModel",
      "state": {}
     },
     "70f5d69841e54d11b604549e2a2a36d1": {
      "model_module": "@jupyter-widgets/base",
      "model_module_version": "1.2.0",
      "model_name": "LayoutModel",
      "state": {}
     },
     "711da34443d74c3ebaa1d38d7afd065a": {
      "model_module": "@jupyter-widgets/controls",
      "model_module_version": "1.5.0",
      "model_name": "DescriptionStyleModel",
      "state": {
       "description_width": ""
      }
     },
     "71cb4559b93e40b0b73413208e4c1444": {
      "model_module": "@jupyter-widgets/base",
      "model_module_version": "1.2.0",
      "model_name": "LayoutModel",
      "state": {}
     },
     "720b4ca181ab4c9986ab9f8613ee12ed": {
      "model_module": "@jupyter-widgets/controls",
      "model_module_version": "1.5.0",
      "model_name": "HTMLModel",
      "state": {
       "layout": "IPY_MODEL_a5c932f758f949d69f9703438b5b0724",
       "style": "IPY_MODEL_538879b521c74c89a42ab124a6219650",
       "value": " 18/469 [00:07&lt;02:26,  3.08it/s]"
      }
     },
     "72287c03cfd946a3b024fd758b834702": {
      "model_module": "@jupyter-widgets/controls",
      "model_module_version": "1.5.0",
      "model_name": "HTMLModel",
      "state": {
       "layout": "IPY_MODEL_a58501add6404df4814c35835c5cefa2",
       "style": "IPY_MODEL_9cc0749cc37b478fa4805dd782c2430c",
       "value": "critic (loss: -3.04705):  10%"
      }
     },
     "72336573b89d4efcb1bdd03868e1caff": {
      "model_module": "@jupyter-widgets/controls",
      "model_module_version": "1.5.0",
      "model_name": "HBoxModel",
      "state": {
       "children": [
        "IPY_MODEL_16afa8ebf4794f55bdd8fb95420f23f6",
        "IPY_MODEL_4b4d8ee0db47470db4bd204fd5340773",
        "IPY_MODEL_aad59b3d51c84c8380ae857c1bfa9955"
       ],
       "layout": "IPY_MODEL_a981b4a3ab304eadb539e058fef27f73"
      }
     },
     "72ef28d756dc4d579e81e6d52cab2725": {
      "model_module": "@jupyter-widgets/base",
      "model_module_version": "1.2.0",
      "model_name": "LayoutModel",
      "state": {}
     },
     "72f71e239d8f4b1fa53156b8504b5269": {
      "model_module": "@jupyter-widgets/controls",
      "model_module_version": "1.5.0",
      "model_name": "DescriptionStyleModel",
      "state": {
       "description_width": ""
      }
     },
     "73659fd29ba742c2a45d74f97dbb46c8": {
      "model_module": "@jupyter-widgets/controls",
      "model_module_version": "1.5.0",
      "model_name": "ProgressStyleModel",
      "state": {
       "description_width": ""
      }
     },
     "7389d9cd8613469cb74c12e1393087b0": {
      "model_module": "@jupyter-widgets/controls",
      "model_module_version": "1.5.0",
      "model_name": "HBoxModel",
      "state": {
       "children": [
        "IPY_MODEL_2df8ac2fb8454d2894f95278bf8ad5c3",
        "IPY_MODEL_6aea511dbb5743b292b9b2cff72fa87f",
        "IPY_MODEL_8e0b68e8c3f446d8994af35ff21330c5"
       ],
       "layout": "IPY_MODEL_078c24212f6a4ba58be743bd155cb710"
      }
     },
     "73acbe1c19d846899bed845d1a6df658": {
      "model_module": "@jupyter-widgets/base",
      "model_module_version": "1.2.0",
      "model_name": "LayoutModel",
      "state": {}
     },
     "73b0cfea327745cd8c14f16a761b9849": {
      "model_module": "@jupyter-widgets/controls",
      "model_module_version": "1.5.0",
      "model_name": "HBoxModel",
      "state": {
       "children": [
        "IPY_MODEL_65ed901a6c04435ca720177d86c136bb",
        "IPY_MODEL_a3f4aaf7752147cd9b9ff1802b7d9e5b",
        "IPY_MODEL_9c6ed45ac9044e77b06345cc6003ab03"
       ],
       "layout": "IPY_MODEL_cb43dba285024a3a8e7b302c525b33eb"
      }
     },
     "73b1e3a7b35046f187c60feebc8d88c7": {
      "model_module": "@jupyter-widgets/controls",
      "model_module_version": "1.5.0",
      "model_name": "HBoxModel",
      "state": {
       "children": [
        "IPY_MODEL_835377019f1b4bc98e7274c7e5ef00a0",
        "IPY_MODEL_e84b51afec5d4af383279a672193eb7a",
        "IPY_MODEL_6f56dbff57e94bafa1332148b93746b0"
       ],
       "layout": "IPY_MODEL_43553c879bca4896883e3ee66a1fd213"
      }
     },
     "73c53048b4004709bc54851240ea1179": {
      "model_module": "@jupyter-widgets/controls",
      "model_module_version": "1.5.0",
      "model_name": "FloatProgressModel",
      "state": {
       "layout": "IPY_MODEL_25a84d7eb71f4643b50562f11bebb6b7",
       "max": 93,
       "style": "IPY_MODEL_1d001e26865f4d00be0004c9a81a7cd3",
       "value": 93
      }
     },
     "73d37db65a4c4647953f4b30b34bdd15": {
      "model_module": "@jupyter-widgets/controls",
      "model_module_version": "1.5.0",
      "model_name": "DescriptionStyleModel",
      "state": {
       "description_width": ""
      }
     },
     "73e2d5f42409435793deb7960f943594": {
      "model_module": "@jupyter-widgets/controls",
      "model_module_version": "1.5.0",
      "model_name": "DescriptionStyleModel",
      "state": {
       "description_width": ""
      }
     },
     "73e7f4d4306741a38501d3e32a708b8b": {
      "model_module": "@jupyter-widgets/controls",
      "model_module_version": "1.5.0",
      "model_name": "HTMLModel",
      "state": {
       "layout": "IPY_MODEL_27dd025b6b0947de936d9bed0ce2ae5a",
       "style": "IPY_MODEL_e5df126e9fef41fdaa8eb46b075d7031",
       "value": "g_steps (g_loss: -0.00048):  61%"
      }
     },
     "73f806ce00ab4edd8758cf24f740d3d3": {
      "model_module": "@jupyter-widgets/controls",
      "model_module_version": "1.5.0",
      "model_name": "HTMLModel",
      "state": {
       "layout": "IPY_MODEL_4967f0acb0544928b5a9f6811723cde5",
       "style": "IPY_MODEL_c4f4984f0eaa42f4a39d0a0f1486e1bf",
       "value": " 47/469 [00:17&lt;02:42,  2.60it/s]"
      }
     },
     "73ffb3d57543414da83878db95d742a2": {
      "model_module": "@jupyter-widgets/base",
      "model_module_version": "1.2.0",
      "model_name": "LayoutModel",
      "state": {}
     },
     "74070c041cd648929dda28826fb7c449": {
      "model_module": "@jupyter-widgets/base",
      "model_module_version": "1.2.0",
      "model_name": "LayoutModel",
      "state": {}
     },
     "7413fd0cb98a41798cecdb969588e7fc": {
      "model_module": "@jupyter-widgets/controls",
      "model_module_version": "1.5.0",
      "model_name": "HTMLModel",
      "state": {
       "layout": "IPY_MODEL_82647bfcf4f3474a85d80f4587cd2f5f",
       "style": "IPY_MODEL_e214067e7cfc45448869b40de4be112c",
       "value": "steps_f (loss_f: -0.01305): 100%"
      }
     },
     "7453a70ed6dd409fad872b3b2375c8bb": {
      "model_module": "@jupyter-widgets/controls",
      "model_module_version": "1.5.0",
      "model_name": "DescriptionStyleModel",
      "state": {
       "description_width": ""
      }
     },
     "74b4c198675f43c7a204decc63a9fe7e": {
      "model_module": "@jupyter-widgets/controls",
      "model_module_version": "1.5.0",
      "model_name": "HTMLModel",
      "state": {
       "layout": "IPY_MODEL_17d873a1270e4389a407862f1e6bb8af",
       "style": "IPY_MODEL_b921f56b8b924f62a6d08c2305693361",
       "value": "epoch:   0%"
      }
     },
     "755908eb954247bfb4398bcee9a5e588": {
      "model_module": "@jupyter-widgets/base",
      "model_module_version": "1.2.0",
      "model_name": "LayoutModel",
      "state": {}
     },
     "75738bc24cbe4359a4913480dc6b0a99": {
      "model_module": "@jupyter-widgets/base",
      "model_module_version": "1.2.0",
      "model_name": "LayoutModel",
      "state": {}
     },
     "75abd34cd881448da80f4428c5b3dc6c": {
      "model_module": "@jupyter-widgets/controls",
      "model_module_version": "1.5.0",
      "model_name": "FloatProgressModel",
      "state": {
       "layout": "IPY_MODEL_e70c1f8035cb4b6fae63ba1e679b338e",
       "style": "IPY_MODEL_415f0a4577f240668758650a8f7dfa0b"
      }
     },
     "75bb9da3fc774b4585e2d8505d487691": {
      "model_module": "@jupyter-widgets/controls",
      "model_module_version": "1.5.0",
      "model_name": "DescriptionStyleModel",
      "state": {
       "description_width": ""
      }
     },
     "75c3096c5c5b445cb4bfd8b175a3aaec": {
      "model_module": "@jupyter-widgets/base",
      "model_module_version": "1.2.0",
      "model_name": "LayoutModel",
      "state": {}
     },
     "75e8e44bcc8846c887b033e6d25017b6": {
      "model_module": "@jupyter-widgets/controls",
      "model_module_version": "1.5.0",
      "model_name": "HTMLModel",
      "state": {
       "layout": "IPY_MODEL_f82578ce17d64a00b7e4b41f35f4263a",
       "style": "IPY_MODEL_30b4682bb5794600ad09583bf78282f6",
       "value": "epoch: 100%"
      }
     },
     "75fe8582195c44b19f80e49e9277b127": {
      "model_module": "@jupyter-widgets/base",
      "model_module_version": "1.2.0",
      "model_name": "LayoutModel",
      "state": {}
     },
     "762bea6247ef4c34b3907ef024e55a52": {
      "model_module": "@jupyter-widgets/controls",
      "model_module_version": "1.5.0",
      "model_name": "DescriptionStyleModel",
      "state": {
       "description_width": ""
      }
     },
     "767e859654ba475ab755cbb1cd4452b4": {
      "model_module": "@jupyter-widgets/controls",
      "model_module_version": "1.5.0",
      "model_name": "HTMLModel",
      "state": {
       "layout": "IPY_MODEL_4f56e299f0b1475b870893392d56d605",
       "style": "IPY_MODEL_e3d4f3fc69214855b44e4715c096bf62",
       "value": " 234/234 [03:21&lt;00:00,  1.32it/s]"
      }
     },
     "76ff6a1e0bbd4fc3aa2cd2937d7956e0": {
      "model_module": "@jupyter-widgets/controls",
      "model_module_version": "1.5.0",
      "model_name": "FloatProgressModel",
      "state": {
       "layout": "IPY_MODEL_e4ced83d153947f99617309e901daf51",
       "max": 469,
       "style": "IPY_MODEL_b82466e6fb9c4a1ca852431ed8d7ba29",
       "value": 67
      }
     },
     "777c15a278af456d9979117043ae19be": {
      "model_module": "@jupyter-widgets/controls",
      "model_module_version": "1.5.0",
      "model_name": "HTMLModel",
      "state": {
       "layout": "IPY_MODEL_6c26c391ec5b47e8a061e62298ca2ac9",
       "style": "IPY_MODEL_cfa334ecc4f448d08928b9e4b3d41b2d",
       "value": " 176/469 [01:02&lt;01:00,  4.81it/s]"
      }
     },
     "778c75b010c648bbae6fdd337fd95fec": {
      "model_module": "@jupyter-widgets/base",
      "model_module_version": "1.2.0",
      "model_name": "LayoutModel",
      "state": {}
     },
     "77bdf3a274164621a9c6a1a3726e66b3": {
      "model_module": "@jupyter-widgets/controls",
      "model_module_version": "1.5.0",
      "model_name": "ProgressStyleModel",
      "state": {
       "description_width": ""
      }
     },
     "780166ac9a2c4b5d836efc088fd9b6b1": {
      "model_module": "@jupyter-widgets/controls",
      "model_module_version": "1.5.0",
      "model_name": "FloatProgressModel",
      "state": {
       "layout": "IPY_MODEL_3d7720abd3d249d5841fa2448582d065",
       "style": "IPY_MODEL_fe6b8ded839a4f1b86ed4b64cceec9f7"
      }
     },
     "7838eb9ef77f4a12a7f908b92a50a4e6": {
      "model_module": "@jupyter-widgets/controls",
      "model_module_version": "1.5.0",
      "model_name": "DescriptionStyleModel",
      "state": {
       "description_width": ""
      }
     },
     "787aa98167cf4aa1bb1a8ef3168f9550": {
      "model_module": "@jupyter-widgets/base",
      "model_module_version": "1.2.0",
      "model_name": "LayoutModel",
      "state": {}
     },
     "78aabbf0dd4f4518b55f89f0a85cbd8a": {
      "model_module": "@jupyter-widgets/controls",
      "model_module_version": "1.5.0",
      "model_name": "HTMLModel",
      "state": {
       "layout": "IPY_MODEL_ab67b6639f284d75b555645c35076ab9",
       "style": "IPY_MODEL_3f5588529801415195e99f4c6412eafc",
       "value": "epoch:   3%"
      }
     },
     "78e41316c1664b6081c6b8b15c67492e": {
      "model_module": "@jupyter-widgets/controls",
      "model_module_version": "1.5.0",
      "model_name": "HTMLModel",
      "state": {
       "layout": "IPY_MODEL_0c7b291cddd54a348b9205b665333ad5",
       "style": "IPY_MODEL_a128651d873441339cbdc59e81184aec",
       "value": " 0/234 [00:00&lt;?, ?it/s]"
      }
     },
     "7919a9ff4a924c4eaef84af0ec4f027c": {
      "model_module": "@jupyter-widgets/controls",
      "model_module_version": "1.5.0",
      "model_name": "HTMLModel",
      "state": {
       "layout": "IPY_MODEL_9c9136ca5e704c57ae98c938b1710a54",
       "style": "IPY_MODEL_e8a472bda7de4c859ea3d904a145b05f",
       "value": " 285/469 [02:30&lt;02:18,  1.33it/s]"
      }
     },
     "792367008ce947e89837a8725ca47c27": {
      "model_module": "@jupyter-widgets/controls",
      "model_module_version": "1.5.0",
      "model_name": "DescriptionStyleModel",
      "state": {
       "description_width": ""
      }
     },
     "79df2904d2394f65bb3c205b8e2b6722": {
      "model_module": "@jupyter-widgets/controls",
      "model_module_version": "1.5.0",
      "model_name": "HTMLModel",
      "state": {
       "layout": "IPY_MODEL_ac6c16c75682418fa5c0d0091977db72",
       "style": "IPY_MODEL_a5b5ce80dc8d491a95d3e24106b6468f",
       "value": "g_steps:   0%"
      }
     },
     "79e046fd765045099ece802c06ac9f32": {
      "model_module": "@jupyter-widgets/controls",
      "model_module_version": "1.5.0",
      "model_name": "HTMLModel",
      "state": {
       "layout": "IPY_MODEL_107c1a2f577f4147a35b42624746a1df",
       "style": "IPY_MODEL_2970f797d908457fa7279e70d98ee49c",
       "value": " 181/469 [03:58&lt;10:09,  2.12s/it]"
      }
     },
     "7a1c6bdd87414cc08647dddf992017ba": {
      "model_module": "@jupyter-widgets/controls",
      "model_module_version": "1.5.0",
      "model_name": "HBoxModel",
      "state": {
       "children": [
        "IPY_MODEL_ce5a307fdf7142428f94974dae049713",
        "IPY_MODEL_b1dd45f396a94918b07e9c42b9504e23",
        "IPY_MODEL_93541b0bbb4b438db82aeed3ffc314cf"
       ],
       "layout": "IPY_MODEL_80359970c7544bd095ee032ee9722ad7"
      }
     },
     "7a3e45cbde2041638471291b3f6b8c8a": {
      "model_module": "@jupyter-widgets/controls",
      "model_module_version": "1.5.0",
      "model_name": "HBoxModel",
      "state": {
       "children": [
        "IPY_MODEL_d05327e4e0c94fb59d3007c60edcc6d6",
        "IPY_MODEL_d2d8cdf9863e474f9a3e91442ad4dccc",
        "IPY_MODEL_e22537e686d84366b8baa0aa997c679f"
       ],
       "layout": "IPY_MODEL_a6f94c08e42141eb9ad68f63d01b3402"
      }
     },
     "7a737da68a9143bba9b0c6248b5bd54e": {
      "model_module": "@jupyter-widgets/controls",
      "model_module_version": "1.5.0",
      "model_name": "FloatProgressModel",
      "state": {
       "layout": "IPY_MODEL_481f3cd6a5b949ddb6f3cc073461b71d",
       "max": 469,
       "style": "IPY_MODEL_632052bb3bdb4c368f4aa93a283ffd59",
       "value": 24
      }
     },
     "7a81f0a2fe1c4df4a8cf6f1b20113e33": {
      "model_module": "@jupyter-widgets/controls",
      "model_module_version": "1.5.0",
      "model_name": "HTMLModel",
      "state": {
       "layout": "IPY_MODEL_ad9f2955333d496db9122ef68bad9d26",
       "style": "IPY_MODEL_a8e538d88e1f44d4afcc509189da1474",
       "value": " 1/469 [00:03&lt;25:02,  3.21s/it]"
      }
     },
     "7a84256788f34e65b0b55d13c63de7cd": {
      "model_module": "@jupyter-widgets/controls",
      "model_module_version": "1.5.0",
      "model_name": "HTMLModel",
      "state": {
       "layout": "IPY_MODEL_5dfdf294c6cc4cea94f42cd5b6465cb1",
       "style": "IPY_MODEL_762bea6247ef4c34b3907ef024e55a52",
       "value": "critic (loss: -21.24438): 100%"
      }
     },
     "7a9c786b676340f8ad7cf80991ba0582": {
      "model_module": "@jupyter-widgets/controls",
      "model_module_version": "1.5.0",
      "model_name": "HTMLModel",
      "state": {
       "layout": "IPY_MODEL_9bbc70ad514142878fa36baba6cb53d7",
       "style": "IPY_MODEL_4416379ef59b4796b858657685aae18c",
       "value": "d_steps (d_loss: -0.00087): 100%"
      }
     },
     "7adfcb72b6d54ef690d74be7a77b8b31": {
      "model_module": "@jupyter-widgets/controls",
      "model_module_version": "1.5.0",
      "model_name": "ProgressStyleModel",
      "state": {
       "description_width": ""
      }
     },
     "7b0db9e868704f9f929567f54e65bb37": {
      "model_module": "@jupyter-widgets/controls",
      "model_module_version": "1.5.0",
      "model_name": "HTMLModel",
      "state": {
       "layout": "IPY_MODEL_fb6cbc59483b419383e31bd5961ebffa",
       "style": "IPY_MODEL_104c2f61e77047b3acd141ddb408fc73",
       "value": "d_steps (d_loss: 0.00011):   8%"
      }
     },
     "7b10ff49366a486d811d769833fa0e8c": {
      "model_module": "@jupyter-widgets/controls",
      "model_module_version": "1.5.0",
      "model_name": "DescriptionStyleModel",
      "state": {
       "description_width": ""
      }
     },
     "7b81d7e0aae246d994ea9100fcc22ac4": {
      "model_module": "@jupyter-widgets/controls",
      "model_module_version": "1.5.0",
      "model_name": "DescriptionStyleModel",
      "state": {
       "description_width": ""
      }
     },
     "7b86cf25170846f78f4f63e78383bfe0": {
      "model_module": "@jupyter-widgets/base",
      "model_module_version": "1.2.0",
      "model_name": "LayoutModel",
      "state": {}
     },
     "7bb4835e67e44015a1eb75111dcedbf9": {
      "model_module": "@jupyter-widgets/base",
      "model_module_version": "1.2.0",
      "model_name": "LayoutModel",
      "state": {}
     },
     "7be855b28ac54d82ac851e17bfd7b617": {
      "model_module": "@jupyter-widgets/base",
      "model_module_version": "1.2.0",
      "model_name": "LayoutModel",
      "state": {}
     },
     "7bf25c7b0e2a42a4b7709e269d3ffcba": {
      "model_module": "@jupyter-widgets/controls",
      "model_module_version": "1.5.0",
      "model_name": "HBoxModel",
      "state": {
       "children": [
        "IPY_MODEL_efaf56d7124a48fbb39d979fd349e1bd",
        "IPY_MODEL_c10382da10f74305ba86fe6b7d804979",
        "IPY_MODEL_54a482855e1545efb2cfa20f199b3155"
       ],
       "layout": "IPY_MODEL_1d25184d67cf46b696b0bd829835f2f7"
      }
     },
     "7cbf382d5c4145fa9d87d2dac599a25f": {
      "model_module": "@jupyter-widgets/controls",
      "model_module_version": "1.5.0",
      "model_name": "DescriptionStyleModel",
      "state": {
       "description_width": ""
      }
     },
     "7cd162bc112046039ab70e25f2662979": {
      "model_module": "@jupyter-widgets/controls",
      "model_module_version": "1.5.0",
      "model_name": "DescriptionStyleModel",
      "state": {
       "description_width": ""
      }
     },
     "7cd5fadd98554189bdfedea1ac24e6aa": {
      "model_module": "@jupyter-widgets/base",
      "model_module_version": "1.2.0",
      "model_name": "LayoutModel",
      "state": {}
     },
     "7d1b63562b0f4ea0bed944164f49cf9a": {
      "model_module": "@jupyter-widgets/controls",
      "model_module_version": "1.5.0",
      "model_name": "ProgressStyleModel",
      "state": {
       "description_width": ""
      }
     },
     "7d4e80da4ada4a7381cf29e56e6da381": {
      "model_module": "@jupyter-widgets/controls",
      "model_module_version": "1.5.0",
      "model_name": "ProgressStyleModel",
      "state": {
       "description_width": ""
      }
     },
     "7d80740ee34e4a6e973d45a9e1079323": {
      "model_module": "@jupyter-widgets/controls",
      "model_module_version": "1.5.0",
      "model_name": "HTMLModel",
      "state": {
       "layout": "IPY_MODEL_ced817b4677b497798e7ed00d49f9053",
       "style": "IPY_MODEL_5990939789904870831a3fb7237236fe",
       "value": "gen (loss: 30.63743): 100%"
      }
     },
     "7d848c63ed584963ab6cef2ca8a7be3e": {
      "model_module": "@jupyter-widgets/controls",
      "model_module_version": "1.5.0",
      "model_name": "HBoxModel",
      "state": {
       "children": [
        "IPY_MODEL_b23351a34059494d90885fea9805b62e",
        "IPY_MODEL_dda064b1e01049cca956f8348824471a",
        "IPY_MODEL_0a584ffac22045bfa79b607b85a0c5b3"
       ],
       "layout": "IPY_MODEL_39106201728b4985ac148233a1a53f82"
      }
     },
     "7d98a626f3b54a00bb2cb4d79efaef42": {
      "model_module": "@jupyter-widgets/controls",
      "model_module_version": "1.5.0",
      "model_name": "DescriptionStyleModel",
      "state": {
       "description_width": ""
      }
     },
     "7da38f933555420e8bee1ecd05783b68": {
      "model_module": "@jupyter-widgets/controls",
      "model_module_version": "1.5.0",
      "model_name": "HBoxModel",
      "state": {
       "children": [
        "IPY_MODEL_3c844ef06aa34d358c59b0b64e31e411",
        "IPY_MODEL_335370b9de8e4eea8c84a9e3e7afaa07",
        "IPY_MODEL_777c15a278af456d9979117043ae19be"
       ],
       "layout": "IPY_MODEL_8de8d1afd1204d3395791057ed3c9512"
      }
     },
     "7db4ef9e34f34769bec57e068b3f9a47": {
      "model_module": "@jupyter-widgets/controls",
      "model_module_version": "1.5.0",
      "model_name": "DescriptionStyleModel",
      "state": {
       "description_width": ""
      }
     },
     "7dedf61071854b588868d4b232b83059": {
      "model_module": "@jupyter-widgets/controls",
      "model_module_version": "1.5.0",
      "model_name": "HBoxModel",
      "state": {
       "children": [
        "IPY_MODEL_001131a0399f4d8e8a67ef17ddcd3eac",
        "IPY_MODEL_9b649030a4a04cafb226f8cc5b680762",
        "IPY_MODEL_b3f45f4b00e0464f954d4cb1b2fb0d2b"
       ],
       "layout": "IPY_MODEL_fba22a429a8241b7b9284aa02ff9a36e"
      }
     },
     "7e39b5439793436fb42a91b097a47bb7": {
      "model_module": "@jupyter-widgets/base",
      "model_module_version": "1.2.0",
      "model_name": "LayoutModel",
      "state": {}
     },
     "7e4efc36e6484ab18eae7d05633e2577": {
      "model_module": "@jupyter-widgets/base",
      "model_module_version": "1.2.0",
      "model_name": "LayoutModel",
      "state": {}
     },
     "7ea52ac4e0124f34933064a3b8b8812f": {
      "model_module": "@jupyter-widgets/controls",
      "model_module_version": "1.5.0",
      "model_name": "HTMLModel",
      "state": {
       "layout": "IPY_MODEL_36561d0363df4454b80c11eb4a5540a6",
       "style": "IPY_MODEL_9325925fe8c54dfe93d926074026fef9",
       "value": " 0/100 [00:00&lt;?, ?it/s]"
      }
     },
     "7eb848bc889247aca5953921fab9be1a": {
      "model_module": "@jupyter-widgets/controls",
      "model_module_version": "1.5.0",
      "model_name": "ProgressStyleModel",
      "state": {
       "description_width": ""
      }
     },
     "7edfc95ee1734cc6ac6f170040112cfc": {
      "model_module": "@jupyter-widgets/controls",
      "model_module_version": "1.5.0",
      "model_name": "ProgressStyleModel",
      "state": {
       "description_width": ""
      }
     },
     "7f0e72e2cec24b54a8a6737762dc5ecb": {
      "model_module": "@jupyter-widgets/base",
      "model_module_version": "1.2.0",
      "model_name": "LayoutModel",
      "state": {}
     },
     "7f49b3dc8c3f44859bf98f80630a6210": {
      "model_module": "@jupyter-widgets/base",
      "model_module_version": "1.2.0",
      "model_name": "LayoutModel",
      "state": {}
     },
     "7f75b207dfb64e6b90151825544100bd": {
      "model_module": "@jupyter-widgets/controls",
      "model_module_version": "1.5.0",
      "model_name": "DescriptionStyleModel",
      "state": {
       "description_width": ""
      }
     },
     "7f8e77ec02b744319a2760089097be89": {
      "model_module": "@jupyter-widgets/controls",
      "model_module_version": "1.5.0",
      "model_name": "DescriptionStyleModel",
      "state": {
       "description_width": ""
      }
     },
     "7f9a0b6e148043f3b21eeff6e9b93f83": {
      "model_module": "@jupyter-widgets/controls",
      "model_module_version": "1.5.0",
      "model_name": "DescriptionStyleModel",
      "state": {
       "description_width": ""
      }
     },
     "7fcbd4edb55b4f02bf8fe882552dd937": {
      "model_module": "@jupyter-widgets/controls",
      "model_module_version": "1.5.0",
      "model_name": "HTMLModel",
      "state": {
       "layout": "IPY_MODEL_1e35a3480d944484bd23b1d7ab0c0298",
       "style": "IPY_MODEL_6f1d6f522ebe403a9c5b02a7adbffd8a",
       "value": "epoch:   0%"
      }
     },
     "7ff541fdf82040d49797d4389647224a": {
      "model_module": "@jupyter-widgets/base",
      "model_module_version": "1.2.0",
      "model_name": "LayoutModel",
      "state": {}
     },
     "7fff71083488443693325941427a77de": {
      "model_module": "@jupyter-widgets/controls",
      "model_module_version": "1.5.0",
      "model_name": "FloatProgressModel",
      "state": {
       "layout": "IPY_MODEL_a4648ed8fb27458b830f0c9dad7f6c5b",
       "max": 469,
       "style": "IPY_MODEL_2b434be86a68475498defe6746feec5d",
       "value": 216
      }
     },
     "80125d59b75344569b2a25a81b2753ba": {
      "model_module": "@jupyter-widgets/base",
      "model_module_version": "1.2.0",
      "model_name": "LayoutModel",
      "state": {}
     },
     "80359970c7544bd095ee032ee9722ad7": {
      "model_module": "@jupyter-widgets/base",
      "model_module_version": "1.2.0",
      "model_name": "LayoutModel",
      "state": {}
     },
     "804cd53880c04f7b8384286b46ed1e2e": {
      "model_module": "@jupyter-widgets/base",
      "model_module_version": "1.2.0",
      "model_name": "LayoutModel",
      "state": {}
     },
     "8085bd3866f54bc78e12eb2a3fe13927": {
      "model_module": "@jupyter-widgets/base",
      "model_module_version": "1.2.0",
      "model_name": "LayoutModel",
      "state": {}
     },
     "808b74ccb7154707b85da2870ca1a70f": {
      "model_module": "@jupyter-widgets/controls",
      "model_module_version": "1.5.0",
      "model_name": "FloatProgressModel",
      "state": {
       "layout": "IPY_MODEL_33177dca02d34804a5c3d24420c46b91",
       "max": 93,
       "style": "IPY_MODEL_5565f3657dbd4936b6728d45d0af66fd",
       "value": 93
      }
     },
     "80f5bcf8b6454615923d0e44f8f3ad34": {
      "model_module": "@jupyter-widgets/base",
      "model_module_version": "1.2.0",
      "model_name": "LayoutModel",
      "state": {}
     },
     "8164668d6bd54c8bb2d64b3b2ac57c44": {
      "model_module": "@jupyter-widgets/controls",
      "model_module_version": "1.5.0",
      "model_name": "ProgressStyleModel",
      "state": {
       "description_width": ""
      }
     },
     "81991c9cb8354b95ab0b2adc722458a6": {
      "model_module": "@jupyter-widgets/base",
      "model_module_version": "1.2.0",
      "model_name": "LayoutModel",
      "state": {}
     },
     "81e59f98126e4b45896b987f5adaf523": {
      "model_module": "@jupyter-widgets/base",
      "model_module_version": "1.2.0",
      "model_name": "LayoutModel",
      "state": {}
     },
     "82647bfcf4f3474a85d80f4587cd2f5f": {
      "model_module": "@jupyter-widgets/base",
      "model_module_version": "1.2.0",
      "model_name": "LayoutModel",
      "state": {}
     },
     "82a3848e19df47a8b8b3deddd9cd93eb": {
      "model_module": "@jupyter-widgets/base",
      "model_module_version": "1.2.0",
      "model_name": "LayoutModel",
      "state": {}
     },
     "8325144d5eee49d58e212e679bc3789b": {
      "model_module": "@jupyter-widgets/controls",
      "model_module_version": "1.5.0",
      "model_name": "DescriptionStyleModel",
      "state": {
       "description_width": ""
      }
     },
     "835377019f1b4bc98e7274c7e5ef00a0": {
      "model_module": "@jupyter-widgets/controls",
      "model_module_version": "1.5.0",
      "model_name": "HTMLModel",
      "state": {
       "layout": "IPY_MODEL_a1792e5888024f37b2af00d99cb78e01",
       "style": "IPY_MODEL_cd052f62b83c4032a2812e833e8b2bcc",
       "value": "steps_G (loss_G: 0.00840):  69%"
      }
     },
     "8362c36b16374acb98ee3c72643eb694": {
      "model_module": "@jupyter-widgets/base",
      "model_module_version": "1.2.0",
      "model_name": "LayoutModel",
      "state": {}
     },
     "837c4c7031dd4e9b99accd629e2d7e8e": {
      "model_module": "@jupyter-widgets/controls",
      "model_module_version": "1.5.0",
      "model_name": "HBoxModel",
      "state": {
       "children": [
        "IPY_MODEL_bd94e72d86a648d2ac7df70f4e4fdff1",
        "IPY_MODEL_d0f8300630854604b42c2622d6953a49",
        "IPY_MODEL_dd5f34eaf50f4f1aa41ec5b2d7a4b782"
       ],
       "layout": "IPY_MODEL_c7104076ac8a498a8bb05b4578f70af7"
      }
     },
     "84068951b6b9474891e14bc6de4c0936": {
      "model_module": "@jupyter-widgets/controls",
      "model_module_version": "1.5.0",
      "model_name": "HBoxModel",
      "state": {
       "children": [
        "IPY_MODEL_f5c49252fe564335988e4305c6ca56b5",
        "IPY_MODEL_41cca163aaf74cc0a788411c77ee795e",
        "IPY_MODEL_99e3415d462c44119027bc8f97c24514"
       ],
       "layout": "IPY_MODEL_a06a803469e8406a967672224ec44a06"
      }
     },
     "844ee65e0d7b492fb21d7723309c2a1b": {
      "model_module": "@jupyter-widgets/base",
      "model_module_version": "1.2.0",
      "model_name": "LayoutModel",
      "state": {}
     },
     "84789cdd8a754c14b79510ece03049a8": {
      "model_module": "@jupyter-widgets/controls",
      "model_module_version": "1.5.0",
      "model_name": "HBoxModel",
      "state": {
       "children": [
        "IPY_MODEL_8f8f83533e0e4a5c851dfe652ce53486",
        "IPY_MODEL_595c76a3a91b45e386a71afb913b4f0a",
        "IPY_MODEL_35584f3f270448dab9aa5da7bf35c4db"
       ],
       "layout": "IPY_MODEL_73ffb3d57543414da83878db95d742a2"
      }
     },
     "849c8a6b8f1148f0868dfff07b9caf06": {
      "model_module": "@jupyter-widgets/controls",
      "model_module_version": "1.5.0",
      "model_name": "HBoxModel",
      "state": {
       "children": [
        "IPY_MODEL_354dbbac24234983a807cfc6dc24b741",
        "IPY_MODEL_c39fb8a456cb4f26a4604014b3c5ed4d",
        "IPY_MODEL_874205e418d84c82bfd0e122235494aa"
       ],
       "layout": "IPY_MODEL_9925ebdbfbe447ba856a58c2ba32d98a"
      }
     },
     "84fc3b8b6305452e902039669c70907a": {
      "model_module": "@jupyter-widgets/controls",
      "model_module_version": "1.5.0",
      "model_name": "DescriptionStyleModel",
      "state": {
       "description_width": ""
      }
     },
     "84fcfba1e85c4e6b84eda1f8af5b1209": {
      "model_module": "@jupyter-widgets/controls",
      "model_module_version": "1.5.0",
      "model_name": "HTMLModel",
      "state": {
       "layout": "IPY_MODEL_da3fbace235845168ae58cca72451e00",
       "style": "IPY_MODEL_d7e68c05452240279709657e82fdf4d0",
       "value": " 312/312 [03:11&lt;00:00,  3.11it/s]"
      }
     },
     "853463448dcb4d14943c049fa5804a13": {
      "model_module": "@jupyter-widgets/base",
      "model_module_version": "1.2.0",
      "model_name": "LayoutModel",
      "state": {}
     },
     "853f0b0a324e45608b1ec95123a659d4": {
      "model_module": "@jupyter-widgets/controls",
      "model_module_version": "1.5.0",
      "model_name": "DescriptionStyleModel",
      "state": {
       "description_width": ""
      }
     },
     "85696b2f64574000a93f0a75f4fdb2ec": {
      "model_module": "@jupyter-widgets/controls",
      "model_module_version": "1.5.0",
      "model_name": "HTMLModel",
      "state": {
       "layout": "IPY_MODEL_a8d12ea67e854ef28af075f12555b996",
       "style": "IPY_MODEL_6874cbc53b98406fb7fab193b3c1469c",
       "value": "d_steps (d_loss: -0.00121):   5%"
      }
     },
     "85c0652b8cfe41e99ef152e84e781d29": {
      "model_module": "@jupyter-widgets/controls",
      "model_module_version": "1.5.0",
      "model_name": "DescriptionStyleModel",
      "state": {
       "description_width": ""
      }
     },
     "860247006c304bcdad3ceb04029f2cb2": {
      "model_module": "@jupyter-widgets/controls",
      "model_module_version": "1.5.0",
      "model_name": "HTMLModel",
      "state": {
       "layout": "IPY_MODEL_554c52facc2b4e3688dd44fdac33e9ee",
       "style": "IPY_MODEL_b02da4ac6e624b118661d465235d1ed2",
       "value": " 469/469 [09:45&lt;00:00,  1.05it/s]"
      }
     },
     "8667135c651641a9b60186a8ab465598": {
      "model_module": "@jupyter-widgets/controls",
      "model_module_version": "1.5.0",
      "model_name": "DescriptionStyleModel",
      "state": {
       "description_width": ""
      }
     },
     "8698ae6443db4ebd996e5f3bdf4e5440": {
      "model_module": "@jupyter-widgets/controls",
      "model_module_version": "1.5.0",
      "model_name": "DescriptionStyleModel",
      "state": {
       "description_width": ""
      }
     },
     "86b33cbf437b4fdabf79c93e1495c0af": {
      "model_module": "@jupyter-widgets/controls",
      "model_module_version": "1.5.0",
      "model_name": "DescriptionStyleModel",
      "state": {
       "description_width": ""
      }
     },
     "870ab0f680134d0daa7c7bb8ba60c13f": {
      "model_module": "@jupyter-widgets/base",
      "model_module_version": "1.2.0",
      "model_name": "LayoutModel",
      "state": {}
     },
     "873a6f651d9243e8997e8c5d1473a8a7": {
      "model_module": "@jupyter-widgets/controls",
      "model_module_version": "1.5.0",
      "model_name": "DescriptionStyleModel",
      "state": {
       "description_width": ""
      }
     },
     "874205e418d84c82bfd0e122235494aa": {
      "model_module": "@jupyter-widgets/controls",
      "model_module_version": "1.5.0",
      "model_name": "HTMLModel",
      "state": {
       "layout": "IPY_MODEL_81e59f98126e4b45896b987f5adaf523",
       "style": "IPY_MODEL_c7a1253939a74c2c92908c8107ff033a",
       "value": " 63/469 [00:21&lt;03:29,  1.94it/s]"
      }
     },
     "8749e21f64b24b73a99a78ddd0d03c0b": {
      "model_module": "@jupyter-widgets/controls",
      "model_module_version": "1.5.0",
      "model_name": "DescriptionStyleModel",
      "state": {
       "description_width": ""
      }
     },
     "8757ff06259c4a879b7df57c3bb53ef2": {
      "model_module": "@jupyter-widgets/base",
      "model_module_version": "1.2.0",
      "model_name": "LayoutModel",
      "state": {}
     },
     "876b9bc35065440887b6c790e552e490": {
      "model_module": "@jupyter-widgets/base",
      "model_module_version": "1.2.0",
      "model_name": "LayoutModel",
      "state": {}
     },
     "878c2b6f3d14480081a7619ff7d9d2ff": {
      "model_module": "@jupyter-widgets/base",
      "model_module_version": "1.2.0",
      "model_name": "LayoutModel",
      "state": {}
     },
     "87d6b7e86fd5482da4be7f0b86805d66": {
      "model_module": "@jupyter-widgets/controls",
      "model_module_version": "1.5.0",
      "model_name": "DescriptionStyleModel",
      "state": {
       "description_width": ""
      }
     },
     "885824e304e7413b9049f398b90b8ea0": {
      "model_module": "@jupyter-widgets/base",
      "model_module_version": "1.2.0",
      "model_name": "LayoutModel",
      "state": {}
     },
     "88be42deac3248998fd4c73654a6183c": {
      "model_module": "@jupyter-widgets/controls",
      "model_module_version": "1.5.0",
      "model_name": "HTMLModel",
      "state": {
       "layout": "IPY_MODEL_09d027bb9b8b40838d3ee6ad0053aa97",
       "style": "IPY_MODEL_1593b6d1be684bdb8fbdb1c8f9411bc2",
       "value": "gen (loss: 21.52958): 100%"
      }
     },
     "88cc4348d87b4f689e6dd7a77dee9112": {
      "model_module": "@jupyter-widgets/base",
      "model_module_version": "1.2.0",
      "model_name": "LayoutModel",
      "state": {}
     },
     "88d4023a1a3246d79e4d1a4cfb404902": {
      "model_module": "@jupyter-widgets/base",
      "model_module_version": "1.2.0",
      "model_name": "LayoutModel",
      "state": {}
     },
     "88f16347d2c24212a90824877f9d47ce": {
      "model_module": "@jupyter-widgets/base",
      "model_module_version": "1.2.0",
      "model_name": "LayoutModel",
      "state": {}
     },
     "88fe3b3f618241fc99d658e2ccdd7bd3": {
      "model_module": "@jupyter-widgets/base",
      "model_module_version": "1.2.0",
      "model_name": "LayoutModel",
      "state": {}
     },
     "891d52e4fba14addb32f8e75abd1d1b8": {
      "model_module": "@jupyter-widgets/base",
      "model_module_version": "1.2.0",
      "model_name": "LayoutModel",
      "state": {}
     },
     "89b58f7664454f508df13a57aa738ab9": {
      "model_module": "@jupyter-widgets/base",
      "model_module_version": "1.2.0",
      "model_name": "LayoutModel",
      "state": {}
     },
     "89d96eaf7508461c863693ce20ea5dff": {
      "model_module": "@jupyter-widgets/base",
      "model_module_version": "1.2.0",
      "model_name": "LayoutModel",
      "state": {}
     },
     "8a10bffede7245a3b0b3d5556c98feb8": {
      "model_module": "@jupyter-widgets/controls",
      "model_module_version": "1.5.0",
      "model_name": "HTMLModel",
      "state": {
       "layout": "IPY_MODEL_e11725449fdc44768b867e43c5a07ec4",
       "style": "IPY_MODEL_ba4a9321b1784b83b9ea4ded340eaa2e",
       "value": "epoch:   6%"
      }
     },
     "8a1db9b453704127b8c5f4dbb4551d35": {
      "model_module": "@jupyter-widgets/controls",
      "model_module_version": "1.5.0",
      "model_name": "DescriptionStyleModel",
      "state": {
       "description_width": ""
      }
     },
     "8a694e8289d94c40add65b775b5ef616": {
      "model_module": "@jupyter-widgets/base",
      "model_module_version": "1.2.0",
      "model_name": "LayoutModel",
      "state": {}
     },
     "8b0892fffa10406fa2ecbad8948a8a2b": {
      "model_module": "@jupyter-widgets/base",
      "model_module_version": "1.2.0",
      "model_name": "LayoutModel",
      "state": {}
     },
     "8b82356fe3954f2185606da14531c2ae": {
      "model_module": "@jupyter-widgets/controls",
      "model_module_version": "1.5.0",
      "model_name": "HTMLModel",
      "state": {
       "layout": "IPY_MODEL_c68ba33b697d484d907dec5e59fb8fbf",
       "style": "IPY_MODEL_fb1e8cbd61814932abbfb18ee305be04",
       "value": "d_steps (d_loss: -0.00040):  16%"
      }
     },
     "8be2c3e092144e5da7d278975846fbd5": {
      "model_module": "@jupyter-widgets/controls",
      "model_module_version": "1.5.0",
      "model_name": "HTMLModel",
      "state": {
       "layout": "IPY_MODEL_aea232f764554eab96cf818439081dcc",
       "style": "IPY_MODEL_8325144d5eee49d58e212e679bc3789b",
       "value": " 0/100 [00:00&lt;?, ?it/s]"
      }
     },
     "8be6295cae5646b1bc26de6069e2ff49": {
      "model_module": "@jupyter-widgets/controls",
      "model_module_version": "1.5.0",
      "model_name": "HBoxModel",
      "state": {
       "children": [
        "IPY_MODEL_88be42deac3248998fd4c73654a6183c",
        "IPY_MODEL_2adf9d65856b44649375baf02f63c183",
        "IPY_MODEL_d8158713e0044dc7baae791dac8aee17"
       ],
       "layout": "IPY_MODEL_88cc4348d87b4f689e6dd7a77dee9112"
      }
     },
     "8c09f49a94914696a55615f09880d5df": {
      "model_module": "@jupyter-widgets/base",
      "model_module_version": "1.2.0",
      "model_name": "LayoutModel",
      "state": {}
     },
     "8c31dc197f1f41abb976a5ae03ab1593": {
      "model_module": "@jupyter-widgets/controls",
      "model_module_version": "1.5.0",
      "model_name": "HTMLModel",
      "state": {
       "layout": "IPY_MODEL_6077bc4bd8814ac5bebcc6cd2e2ebbbe",
       "style": "IPY_MODEL_5dda2c0f89564b7284b15a2d41e195da",
       "value": "Epoch :   0%"
      }
     },
     "8c4c7fe6d71d44bca3318990f6081e0a": {
      "model_module": "@jupyter-widgets/base",
      "model_module_version": "1.2.0",
      "model_name": "LayoutModel",
      "state": {}
     },
     "8cff1245c3d34bdf8c01255006ef875c": {
      "model_module": "@jupyter-widgets/base",
      "model_module_version": "1.2.0",
      "model_name": "LayoutModel",
      "state": {}
     },
     "8d0e7d181bb9465892293c57eebe6bd4": {
      "model_module": "@jupyter-widgets/base",
      "model_module_version": "1.2.0",
      "model_name": "LayoutModel",
      "state": {}
     },
     "8d7d60f2366346e79a816696be30a9bd": {
      "model_module": "@jupyter-widgets/controls",
      "model_module_version": "1.5.0",
      "model_name": "HTMLModel",
      "state": {
       "layout": "IPY_MODEL_2fefcdeb34104179949f5bb06e29b4d2",
       "style": "IPY_MODEL_2a17a31fbcc344b0933b04cebe28dd56",
       "value": "epoch:   5%"
      }
     },
     "8d905a2c7b5a4c8b93d5d11ec431e473": {
      "model_module": "@jupyter-widgets/base",
      "model_module_version": "1.2.0",
      "model_name": "LayoutModel",
      "state": {}
     },
     "8dc75c2f3e964000a3374c17e517168f": {
      "model_module": "@jupyter-widgets/controls",
      "model_module_version": "1.5.0",
      "model_name": "HTMLModel",
      "state": {
       "layout": "IPY_MODEL_1990b494f9ca4c558125133460eb79c7",
       "style": "IPY_MODEL_5f97b706540e452c8e0c073da9018873",
       "value": " 0/93 [00:00&lt;?, ?it/s]"
      }
     },
     "8de8d1afd1204d3395791057ed3c9512": {
      "model_module": "@jupyter-widgets/base",
      "model_module_version": "1.2.0",
      "model_name": "LayoutModel",
      "state": {}
     },
     "8e0609f1cf184d60a08820b0a3052068": {
      "model_module": "@jupyter-widgets/controls",
      "model_module_version": "1.5.0",
      "model_name": "FloatProgressModel",
      "state": {
       "layout": "IPY_MODEL_844ee65e0d7b492fb21d7723309c2a1b",
       "max": 93,
       "style": "IPY_MODEL_2ba03ea6ae9d40b1b967fce461f86572",
       "value": 93
      }
     },
     "8e0b68e8c3f446d8994af35ff21330c5": {
      "model_module": "@jupyter-widgets/controls",
      "model_module_version": "1.5.0",
      "model_name": "HTMLModel",
      "state": {
       "layout": "IPY_MODEL_b8cf898f3c1a47ea9b1f86939c386d76",
       "style": "IPY_MODEL_232772f23c964223bb361f7efdeaf837",
       "value": " 24/100 [1:44:06&lt;4:48:35, 227.83s/it]"
      }
     },
     "8ec0c1d911b74de5a795c5d828bee727": {
      "model_module": "@jupyter-widgets/base",
      "model_module_version": "1.2.0",
      "model_name": "LayoutModel",
      "state": {}
     },
     "8ecf95cdb40d40f6add4c2dc2f29427a": {
      "model_module": "@jupyter-widgets/controls",
      "model_module_version": "1.5.0",
      "model_name": "HBoxModel",
      "state": {
       "children": [
        "IPY_MODEL_35537cacf6b249d3b5766027200ef721",
        "IPY_MODEL_cda0908444294e5c9975da76afb2ca9f",
        "IPY_MODEL_b7fe6206cb244220a6dacd5f2534371d"
       ],
       "layout": "IPY_MODEL_619295037e5a4d4988f39c54690e3e40"
      }
     },
     "8ed86199bbbb4b31a55dcdef61768970": {
      "model_module": "@jupyter-widgets/controls",
      "model_module_version": "1.5.0",
      "model_name": "HTMLModel",
      "state": {
       "layout": "IPY_MODEL_cc37b6c541dc4f939c9462bcd768d491",
       "style": "IPY_MODEL_792367008ce947e89837a8725ca47c27",
       "value": "epoch:  45%"
      }
     },
     "8f504cef196d4bfcbe6f5389ecbfcc50": {
      "model_module": "@jupyter-widgets/controls",
      "model_module_version": "1.5.0",
      "model_name": "HBoxModel",
      "state": {
       "children": [
        "IPY_MODEL_e32ee21fb8af4d689bd54e9f9c3fe874",
        "IPY_MODEL_fb92538bc21b453784ddd7d365478339",
        "IPY_MODEL_f95ec5e34f6d4539962c4a835e83e5d1"
       ],
       "layout": "IPY_MODEL_fdc5e394fcd14d2e8cc709f00a5d7c74"
      }
     },
     "8f54a47307384754a59acc411b85113f": {
      "model_module": "@jupyter-widgets/base",
      "model_module_version": "1.2.0",
      "model_name": "LayoutModel",
      "state": {}
     },
     "8f5bf95ef741442e884c125b210cbb52": {
      "model_module": "@jupyter-widgets/controls",
      "model_module_version": "1.5.0",
      "model_name": "FloatProgressModel",
      "state": {
       "layout": "IPY_MODEL_4e2d58c03c1a49a5bf1451bb226815f4",
       "style": "IPY_MODEL_01f15059db7e451c9bac29655ff10761"
      }
     },
     "8f6aa3df4a3542a388acfbc2d2f22574": {
      "model_module": "@jupyter-widgets/controls",
      "model_module_version": "1.5.0",
      "model_name": "HTMLModel",
      "state": {
       "layout": "IPY_MODEL_2c32141b9e5f4cb29f040da521f0a06c",
       "style": "IPY_MODEL_84fc3b8b6305452e902039669c70907a",
       "value": " 14/469 [00:06&lt;02:11,  3.46it/s]"
      }
     },
     "8f8d3e72daf34322b3b61e791385f8cd": {
      "model_module": "@jupyter-widgets/controls",
      "model_module_version": "1.5.0",
      "model_name": "DescriptionStyleModel",
      "state": {
       "description_width": ""
      }
     },
     "8f8f83533e0e4a5c851dfe652ce53486": {
      "model_module": "@jupyter-widgets/controls",
      "model_module_version": "1.5.0",
      "model_name": "HTMLModel",
      "state": {
       "layout": "IPY_MODEL_305066a93b34401e8320f0060f830f18",
       "style": "IPY_MODEL_86b33cbf437b4fdabf79c93e1495c0af",
       "value": "g_loss: 0.00933:  13%"
      }
     },
     "8f9066db9e004fb488e542a87f9f9b56": {
      "model_module": "@jupyter-widgets/base",
      "model_module_version": "1.2.0",
      "model_name": "LayoutModel",
      "state": {}
     },
     "901575291f9a4b94807a26160054dc1b": {
      "model_module": "@jupyter-widgets/base",
      "model_module_version": "1.2.0",
      "model_name": "LayoutModel",
      "state": {}
     },
     "901cdb6a791b474aa86f39a155f64122": {
      "model_module": "@jupyter-widgets/controls",
      "model_module_version": "1.5.0",
      "model_name": "DescriptionStyleModel",
      "state": {
       "description_width": ""
      }
     },
     "903a59ec3fde44559ac1a0b3d42d6610": {
      "model_module": "@jupyter-widgets/base",
      "model_module_version": "1.2.0",
      "model_name": "LayoutModel",
      "state": {}
     },
     "9086f3129f5e412dbc0f29a55bc9a258": {
      "model_module": "@jupyter-widgets/controls",
      "model_module_version": "1.5.0",
      "model_name": "DescriptionStyleModel",
      "state": {
       "description_width": ""
      }
     },
     "909845857a294475a2f7a6a997d191b4": {
      "model_module": "@jupyter-widgets/controls",
      "model_module_version": "1.5.0",
      "model_name": "HTMLModel",
      "state": {
       "layout": "IPY_MODEL_6547dd6ef9fa4dbdb1bce18aa855bc83",
       "style": "IPY_MODEL_e7a012d74aae4685880539ab037eec48",
       "value": "critic (loss: -37.49880): 100%"
      }
     },
     "90b0b6b346fa44b09cd4a4df479624c5": {
      "model_module": "@jupyter-widgets/controls",
      "model_module_version": "1.5.0",
      "model_name": "HBoxModel",
      "state": {
       "children": [
        "IPY_MODEL_74b4c198675f43c7a204decc63a9fe7e",
        "IPY_MODEL_bc91a526350e44f29ff64cd293650a9c",
        "IPY_MODEL_e7897708396243d8a8b1bfe55404f066"
       ],
       "layout": "IPY_MODEL_e94543c02d8e414da76e9d54ebf858a9"
      }
     },
     "90c40134269b4dc9a49855022c2fb5e9": {
      "model_module": "@jupyter-widgets/base",
      "model_module_version": "1.2.0",
      "model_name": "LayoutModel",
      "state": {}
     },
     "90d85e5781044b8e8c07e11fd56d0275": {
      "model_module": "@jupyter-widgets/base",
      "model_module_version": "1.2.0",
      "model_name": "LayoutModel",
      "state": {}
     },
     "91097cb031c743a8a4a5a9a747b7210e": {
      "model_module": "@jupyter-widgets/controls",
      "model_module_version": "1.5.0",
      "model_name": "HBoxModel",
      "state": {
       "children": [
        "IPY_MODEL_73e7f4d4306741a38501d3e32a708b8b",
        "IPY_MODEL_54565e51bf1f46f6a0682dc2b14e72b5",
        "IPY_MODEL_59da58d32c3a4232b48c374434877088"
       ],
       "layout": "IPY_MODEL_e55b76c6811b4504bbf30424b5573122"
      }
     },
     "9112de013ced4dc897ca50cdddcb6034": {
      "model_module": "@jupyter-widgets/controls",
      "model_module_version": "1.5.0",
      "model_name": "ProgressStyleModel",
      "state": {
       "description_width": ""
      }
     },
     "91976afe8adf4f76ab30e99eb0a0bd40": {
      "model_module": "@jupyter-widgets/base",
      "model_module_version": "1.2.0",
      "model_name": "LayoutModel",
      "state": {}
     },
     "91dfab14146c48fe8746e81664ed303c": {
      "model_module": "@jupyter-widgets/controls",
      "model_module_version": "1.5.0",
      "model_name": "ProgressStyleModel",
      "state": {
       "description_width": ""
      }
     },
     "91e87b05511c456fa563648aa878aa1b": {
      "model_module": "@jupyter-widgets/controls",
      "model_module_version": "1.5.0",
      "model_name": "DescriptionStyleModel",
      "state": {
       "description_width": ""
      }
     },
     "91f925ca11394b799becf65ed94a5fb5": {
      "model_module": "@jupyter-widgets/base",
      "model_module_version": "1.2.0",
      "model_name": "LayoutModel",
      "state": {}
     },
     "923a2090f6a54da3beacc1aa336db5c3": {
      "model_module": "@jupyter-widgets/controls",
      "model_module_version": "1.5.0",
      "model_name": "ProgressStyleModel",
      "state": {
       "description_width": ""
      }
     },
     "924eae4dc1b94463add10d44bf7c7f79": {
      "model_module": "@jupyter-widgets/base",
      "model_module_version": "1.2.0",
      "model_name": "LayoutModel",
      "state": {}
     },
     "92f14d6d2ced403c81ce92fcc74b856a": {
      "model_module": "@jupyter-widgets/controls",
      "model_module_version": "1.5.0",
      "model_name": "HTMLModel",
      "state": {
       "layout": "IPY_MODEL_ecf6fae754b44551acb3b2462d66ca1e",
       "style": "IPY_MODEL_b3f0aaa78f7d45dcba16a338d9850a94",
       "value": "d_steps (d_loss: -0.00049):  71%"
      }
     },
     "9325925fe8c54dfe93d926074026fef9": {
      "model_module": "@jupyter-widgets/controls",
      "model_module_version": "1.5.0",
      "model_name": "DescriptionStyleModel",
      "state": {
       "description_width": ""
      }
     },
     "93541b0bbb4b438db82aeed3ffc314cf": {
      "model_module": "@jupyter-widgets/controls",
      "model_module_version": "1.5.0",
      "model_name": "HTMLModel",
      "state": {
       "layout": "IPY_MODEL_f3721da046db48ec80a9c2ae46c7eaf0",
       "style": "IPY_MODEL_0ad237b590bf436285aa6eb0b3a128ed",
       "value": " 33/234 [00:20&lt;02:23,  1.40it/s]"
      }
     },
     "938b43f459f24799ba9fc862b2738ac4": {
      "model_module": "@jupyter-widgets/controls",
      "model_module_version": "1.5.0",
      "model_name": "ProgressStyleModel",
      "state": {
       "description_width": ""
      }
     },
     "93bfd87690934fd6ba1423213e47656b": {
      "model_module": "@jupyter-widgets/controls",
      "model_module_version": "1.5.0",
      "model_name": "HTMLModel",
      "state": {
       "layout": "IPY_MODEL_485466d6eb9d4357a3a95508bcf5853b",
       "style": "IPY_MODEL_df5e5954c5d94756aef2266ae88287eb",
       "value": " 38/469 [00:11&lt;02:29,  2.89it/s]"
      }
     },
     "93e85e5979b848d482ee3483b4898f65": {
      "model_module": "@jupyter-widgets/controls",
      "model_module_version": "1.5.0",
      "model_name": "DescriptionStyleModel",
      "state": {
       "description_width": ""
      }
     },
     "9425899dfef642f99b3c4c4e6c4e43d5": {
      "model_module": "@jupyter-widgets/base",
      "model_module_version": "1.2.0",
      "model_name": "LayoutModel",
      "state": {}
     },
     "9442efd69caa4d7fbd7afa3d93067319": {
      "model_module": "@jupyter-widgets/base",
      "model_module_version": "1.2.0",
      "model_name": "LayoutModel",
      "state": {}
     },
     "94faa97fcd3d48baa34892d5052c1912": {
      "model_module": "@jupyter-widgets/base",
      "model_module_version": "1.2.0",
      "model_name": "LayoutModel",
      "state": {}
     },
     "9566223319d74671a2252729d04a1ba5": {
      "model_module": "@jupyter-widgets/base",
      "model_module_version": "1.2.0",
      "model_name": "LayoutModel",
      "state": {}
     },
     "95e8ef629b9e405d91dd1fd6a0e42efb": {
      "model_module": "@jupyter-widgets/controls",
      "model_module_version": "1.5.0",
      "model_name": "ProgressStyleModel",
      "state": {
       "description_width": ""
      }
     },
     "9601052d8977492995eeeaeaf348f9be": {
      "model_module": "@jupyter-widgets/base",
      "model_module_version": "1.2.0",
      "model_name": "LayoutModel",
      "state": {}
     },
     "96119b0667934e6bbf02b60b2cb8d9a8": {
      "model_module": "@jupyter-widgets/controls",
      "model_module_version": "1.5.0",
      "model_name": "DescriptionStyleModel",
      "state": {
       "description_width": ""
      }
     },
     "962acd1f2b5f4584bdd627f18ebcd054": {
      "model_module": "@jupyter-widgets/controls",
      "model_module_version": "1.5.0",
      "model_name": "DescriptionStyleModel",
      "state": {
       "description_width": ""
      }
     },
     "966df1105e6542398334c58b77a82560": {
      "model_module": "@jupyter-widgets/controls",
      "model_module_version": "1.5.0",
      "model_name": "DescriptionStyleModel",
      "state": {
       "description_width": ""
      }
     },
     "9679c3667dd14500adcca6bdff49a2da": {
      "model_module": "@jupyter-widgets/base",
      "model_module_version": "1.2.0",
      "model_name": "LayoutModel",
      "state": {}
     },
     "96d4f78322ff4c5889679eda2baa6c4a": {
      "model_module": "@jupyter-widgets/controls",
      "model_module_version": "1.5.0",
      "model_name": "HBoxModel",
      "state": {
       "children": [
        "IPY_MODEL_fb960c99359f4175a1ea3ff6e9578ac8",
        "IPY_MODEL_dd9caa3a76aa41d491c5b545bea3d243",
        "IPY_MODEL_116e1c6b91d0486aa2029167dadf66f3"
       ],
       "layout": "IPY_MODEL_7e4efc36e6484ab18eae7d05633e2577"
      }
     },
     "96f6ece5be744f8dbef91ac8b53f58ef": {
      "model_module": "@jupyter-widgets/base",
      "model_module_version": "1.2.0",
      "model_name": "LayoutModel",
      "state": {}
     },
     "970f9faec1d247d6a4308e8986570307": {
      "model_module": "@jupyter-widgets/controls",
      "model_module_version": "1.5.0",
      "model_name": "ProgressStyleModel",
      "state": {
       "description_width": ""
      }
     },
     "9739404be82c417684c35095b230b71b": {
      "model_module": "@jupyter-widgets/controls",
      "model_module_version": "1.5.0",
      "model_name": "ProgressStyleModel",
      "state": {
       "description_width": ""
      }
     },
     "975bbe23d9d949d1a753ae13a2a037ed": {
      "model_module": "@jupyter-widgets/controls",
      "model_module_version": "1.5.0",
      "model_name": "HTMLModel",
      "state": {
       "layout": "IPY_MODEL_fd1693c1bddd4bac8c7db43d1c0c3aea",
       "style": "IPY_MODEL_2644e2abb6f844b6a2db16968b1fd373",
       "value": "epoch: 100%"
      }
     },
     "978d6613f83947b38bc33ad40f348980": {
      "model_module": "@jupyter-widgets/controls",
      "model_module_version": "1.5.0",
      "model_name": "DescriptionStyleModel",
      "state": {
       "description_width": ""
      }
     },
     "97cf790c2fcf4e6ca0ac0df722a31e1a": {
      "model_module": "@jupyter-widgets/base",
      "model_module_version": "1.2.0",
      "model_name": "LayoutModel",
      "state": {}
     },
     "9829e25cd674460aa46f822ffa2b53f6": {
      "model_module": "@jupyter-widgets/controls",
      "model_module_version": "1.5.0",
      "model_name": "HBoxModel",
      "state": {
       "children": [
        "IPY_MODEL_f06f59fa65b849eaab5e08b2b2eee55b",
        "IPY_MODEL_d4d6a1a8cb364d1ca44fc0ad6b9c44fa",
        "IPY_MODEL_7ea52ac4e0124f34933064a3b8b8812f"
       ],
       "layout": "IPY_MODEL_4d755e37aae24e8cb3e8c36870179420"
      }
     },
     "989064c64c1d4183a3b3832bd9ce88c3": {
      "model_module": "@jupyter-widgets/base",
      "model_module_version": "1.2.0",
      "model_name": "LayoutModel",
      "state": {}
     },
     "98982f48fe8640c5abad1034c3d59957": {
      "model_module": "@jupyter-widgets/controls",
      "model_module_version": "1.5.0",
      "model_name": "FloatProgressModel",
      "state": {
       "layout": "IPY_MODEL_11c8b6de7e5e4e34a9e6500be30169d8",
       "max": 469,
       "style": "IPY_MODEL_48b3ca0a9b0b4cfda1bd4cd1ac4e45a6"
      }
     },
     "9925ebdbfbe447ba856a58c2ba32d98a": {
      "model_module": "@jupyter-widgets/base",
      "model_module_version": "1.2.0",
      "model_name": "LayoutModel",
      "state": {}
     },
     "99741c35126043a9a5e3dba321480aea": {
      "model_module": "@jupyter-widgets/base",
      "model_module_version": "1.2.0",
      "model_name": "LayoutModel",
      "state": {}
     },
     "997b5231f5cf4a988d65e0df85b510db": {
      "model_module": "@jupyter-widgets/controls",
      "model_module_version": "1.5.0",
      "model_name": "HTMLModel",
      "state": {
       "layout": "IPY_MODEL_18609d0603a84bed88d890d33e29018a",
       "style": "IPY_MODEL_00efe773505a4e40b636aeb8a6e9ec6a",
       "value": "gen (loss: -0.61632): 100%"
      }
     },
     "9998421346b447aa888c2e246219a9a2": {
      "model_module": "@jupyter-widgets/controls",
      "model_module_version": "1.5.0",
      "model_name": "ProgressStyleModel",
      "state": {
       "description_width": ""
      }
     },
     "99c38430e8464fe0bc5be34ca4c6728c": {
      "model_module": "@jupyter-widgets/controls",
      "model_module_version": "1.5.0",
      "model_name": "HTMLModel",
      "state": {
       "layout": "IPY_MODEL_bb848ebbe4984202b091282c36955ed4",
       "style": "IPY_MODEL_06eb316c935848b5aa74c84d5f12738e",
       "value": "critic:   0%"
      }
     },
     "99c404eb512140dfa3f3bf5f277aa06a": {
      "model_module": "@jupyter-widgets/controls",
      "model_module_version": "1.5.0",
      "model_name": "HBoxModel",
      "state": {
       "children": [
        "IPY_MODEL_583b2b55d0b54c03a6b094b86f042745",
        "IPY_MODEL_76ff6a1e0bbd4fc3aa2cd2937d7956e0",
        "IPY_MODEL_0cd430cc0d83495086e2758440f3d065"
       ],
       "layout": "IPY_MODEL_8d0e7d181bb9465892293c57eebe6bd4"
      }
     },
     "99d82cb686cf4a0db26871306b62f808": {
      "model_module": "@jupyter-widgets/base",
      "model_module_version": "1.2.0",
      "model_name": "LayoutModel",
      "state": {}
     },
     "99e3415d462c44119027bc8f97c24514": {
      "model_module": "@jupyter-widgets/controls",
      "model_module_version": "1.5.0",
      "model_name": "HTMLModel",
      "state": {
       "layout": "IPY_MODEL_fdaf4f3f377a4b2390997ac113647155",
       "style": "IPY_MODEL_d4de513d1883448abd56bca89fe8d1fa",
       "value": " 235/235 [01:29&lt;00:00,  4.05it/s]"
      }
     },
     "99e8026a065f4f43bd91a810739147ee": {
      "model_module": "@jupyter-widgets/controls",
      "model_module_version": "1.5.0",
      "model_name": "HBoxModel",
      "state": {
       "children": [
        "IPY_MODEL_8c31dc197f1f41abb976a5ae03ab1593",
        "IPY_MODEL_38619801c8f54781a45f18282c7aab02",
        "IPY_MODEL_110e6deaf9d947eeba2df1d84ea87383"
       ],
       "layout": "IPY_MODEL_e305123f782b4420a5e08e0a99e1f594"
      }
     },
     "99fd3c4d97b445ef85857eaf7d5b245d": {
      "model_module": "@jupyter-widgets/controls",
      "model_module_version": "1.5.0",
      "model_name": "DescriptionStyleModel",
      "state": {
       "description_width": ""
      }
     },
     "9a08ce0c707647c6aa040f0bc4dbad5e": {
      "model_module": "@jupyter-widgets/controls",
      "model_module_version": "1.5.0",
      "model_name": "FloatProgressModel",
      "state": {
       "layout": "IPY_MODEL_8c4c7fe6d71d44bca3318990f6081e0a",
       "max": 469,
       "style": "IPY_MODEL_af7867519ffc4dcab92aa21db51fa3e9",
       "value": 469
      }
     },
     "9a10538bca394b73ac6a060456c73d13": {
      "model_module": "@jupyter-widgets/controls",
      "model_module_version": "1.5.0",
      "model_name": "DescriptionStyleModel",
      "state": {
       "description_width": ""
      }
     },
     "9a1cd7be17eb47349775ac5914c29948": {
      "model_module": "@jupyter-widgets/controls",
      "model_module_version": "1.5.0",
      "model_name": "HTMLModel",
      "state": {
       "layout": "IPY_MODEL_89d96eaf7508461c863693ce20ea5dff",
       "style": "IPY_MODEL_f1b679cb984942e5a105427721d1a1ef",
       "value": " 45/100 [1:03:54&lt;1:13:20, 80.01s/it]"
      }
     },
     "9a23eed15c4844f7ae33b8cfff7ccbba": {
      "model_module": "@jupyter-widgets/controls",
      "model_module_version": "1.5.0",
      "model_name": "HTMLModel",
      "state": {
       "layout": "IPY_MODEL_b9c96f255bc24df2aaa6cf5782b4757d",
       "style": "IPY_MODEL_ac27ca8bfc384147aa443c12a9e3a693",
       "value": "critic (loss: -17.42921): 100%"
      }
     },
     "9a3cc9d247b84779b549c8e498e0cb10": {
      "model_module": "@jupyter-widgets/base",
      "model_module_version": "1.2.0",
      "model_name": "LayoutModel",
      "state": {}
     },
     "9a7014c56c9d4a5f902e2c2d62cea024": {
      "model_module": "@jupyter-widgets/controls",
      "model_module_version": "1.5.0",
      "model_name": "HTMLModel",
      "state": {
       "layout": "IPY_MODEL_6be08140c03247c58b34a5fd0b853e0f",
       "style": "IPY_MODEL_ec4eca7aa19f432c8603317e26993c9e",
       "value": " 0/465 [00:00&lt;?, ?it/s]"
      }
     },
     "9aabfbec991045fb80ca5245fa249e7d": {
      "model_module": "@jupyter-widgets/base",
      "model_module_version": "1.2.0",
      "model_name": "LayoutModel",
      "state": {}
     },
     "9ac75d52c41644079a6d042b91b0085e": {
      "model_module": "@jupyter-widgets/base",
      "model_module_version": "1.2.0",
      "model_name": "LayoutModel",
      "state": {}
     },
     "9b0e19acda044d8093ba01d604b1c87d": {
      "model_module": "@jupyter-widgets/base",
      "model_module_version": "1.2.0",
      "model_name": "LayoutModel",
      "state": {}
     },
     "9b379fb53bd341daa7be063ef5f0abfe": {
      "model_module": "@jupyter-widgets/controls",
      "model_module_version": "1.5.0",
      "model_name": "ProgressStyleModel",
      "state": {
       "description_width": ""
      }
     },
     "9b649030a4a04cafb226f8cc5b680762": {
      "model_module": "@jupyter-widgets/controls",
      "model_module_version": "1.5.0",
      "model_name": "FloatProgressModel",
      "state": {
       "layout": "IPY_MODEL_8d905a2c7b5a4c8b93d5d11ec431e473",
       "style": "IPY_MODEL_3de0d94a43254b24a6b4a5429f521cb4",
       "value": 1
      }
     },
     "9b7e38f342634d66ad26cb016f470964": {
      "model_module": "@jupyter-widgets/controls",
      "model_module_version": "1.5.0",
      "model_name": "ProgressStyleModel",
      "state": {
       "description_width": ""
      }
     },
     "9bbc70ad514142878fa36baba6cb53d7": {
      "model_module": "@jupyter-widgets/base",
      "model_module_version": "1.2.0",
      "model_name": "LayoutModel",
      "state": {}
     },
     "9bc7dde6038d4f4895b20e9db6c63d90": {
      "model_module": "@jupyter-widgets/controls",
      "model_module_version": "1.5.0",
      "model_name": "HTMLModel",
      "state": {
       "layout": "IPY_MODEL_29eb67a1c6594ea99bb87cfc6730d0e2",
       "style": "IPY_MODEL_69616afdb91f45f49b020ddacb2148e6",
       "value": "g_steps (g_loss: 0.00930):   5%"
      }
     },
     "9bf387bba51241788fbad6d0753086ec": {
      "model_module": "@jupyter-widgets/base",
      "model_module_version": "1.2.0",
      "model_name": "LayoutModel",
      "state": {}
     },
     "9c017b17f1594e7a9c751a2549010802": {
      "model_module": "@jupyter-widgets/controls",
      "model_module_version": "1.5.0",
      "model_name": "HTMLModel",
      "state": {
       "layout": "IPY_MODEL_a8283283d5f84f18b8100f1a7f802225",
       "style": "IPY_MODEL_1d715f6f05c94fe491e7b6b926884c3b",
       "value": " 469/469 [03:32&lt;00:00,  3.26it/s]"
      }
     },
     "9c4c2f1dfdb842acbfefe59d1bcc5a44": {
      "model_module": "@jupyter-widgets/controls",
      "model_module_version": "1.5.0",
      "model_name": "ProgressStyleModel",
      "state": {
       "description_width": ""
      }
     },
     "9c5b6c9ec0cf4d18a434093ef9a77633": {
      "model_module": "@jupyter-widgets/controls",
      "model_module_version": "1.5.0",
      "model_name": "HTMLModel",
      "state": {
       "layout": "IPY_MODEL_1691f26c1bb445198f0bfc3bdc540b58",
       "style": "IPY_MODEL_a6511da41e5340e4ab61343d1e8667be",
       "value": "epoch:   0%"
      }
     },
     "9c6ed45ac9044e77b06345cc6003ab03": {
      "model_module": "@jupyter-widgets/controls",
      "model_module_version": "1.5.0",
      "model_name": "HTMLModel",
      "state": {
       "layout": "IPY_MODEL_ec63737a011d42cbb9479e7934c6f284",
       "style": "IPY_MODEL_1965d7828ef046aca4ef1b01ebd69081",
       "value": " 19/234 [00:11&lt;02:28,  1.44it/s]"
      }
     },
     "9c90fbd763e141a9b7fc1c623fd90ba9": {
      "model_module": "@jupyter-widgets/base",
      "model_module_version": "1.2.0",
      "model_name": "LayoutModel",
      "state": {}
     },
     "9c9136ca5e704c57ae98c938b1710a54": {
      "model_module": "@jupyter-widgets/base",
      "model_module_version": "1.2.0",
      "model_name": "LayoutModel",
      "state": {}
     },
     "9cac6b0aafdc4422893bad0483c10a4c": {
      "model_module": "@jupyter-widgets/controls",
      "model_module_version": "1.5.0",
      "model_name": "HTMLModel",
      "state": {
       "layout": "IPY_MODEL_2dbe905a7b3145b89abf0c0c115324ec",
       "style": "IPY_MODEL_fd35fb97f88c46dabf86d478b07b18de",
       "value": "d_steps:   0%"
      }
     },
     "9cc0749cc37b478fa4805dd782c2430c": {
      "model_module": "@jupyter-widgets/controls",
      "model_module_version": "1.5.0",
      "model_name": "DescriptionStyleModel",
      "state": {
       "description_width": ""
      }
     },
     "9cd5f27f11d5438ab1574a63f3787dab": {
      "model_module": "@jupyter-widgets/base",
      "model_module_version": "1.2.0",
      "model_name": "LayoutModel",
      "state": {}
     },
     "9cf091cfb44c485cb1b385cc15b6289c": {
      "model_module": "@jupyter-widgets/base",
      "model_module_version": "1.2.0",
      "model_name": "LayoutModel",
      "state": {}
     },
     "9d432fed43034c3c9930c7c862c72e05": {
      "model_module": "@jupyter-widgets/controls",
      "model_module_version": "1.5.0",
      "model_name": "HTMLModel",
      "state": {
       "layout": "IPY_MODEL_02ecbfcc2acb47e3bb8002c0ff797ef4",
       "style": "IPY_MODEL_8749e21f64b24b73a99a78ddd0d03c0b",
       "value": "epoch: 100%"
      }
     },
     "9d5136cc05a54931b6a24cb7d8400a1b": {
      "model_module": "@jupyter-widgets/controls",
      "model_module_version": "1.5.0",
      "model_name": "DescriptionStyleModel",
      "state": {
       "description_width": ""
      }
     },
     "9d610b1f3f8246aba4caa92d4e402efa": {
      "model_module": "@jupyter-widgets/controls",
      "model_module_version": "1.5.0",
      "model_name": "DescriptionStyleModel",
      "state": {
       "description_width": ""
      }
     },
     "9d71a6813cd74413b5f70a4a44203189": {
      "model_module": "@jupyter-widgets/controls",
      "model_module_version": "1.5.0",
      "model_name": "HTMLModel",
      "state": {
       "layout": "IPY_MODEL_c2fb5e5da9a0411b8603d3d5a8a4ed46",
       "style": "IPY_MODEL_2e7d8f744a41489197c3acb2c2f38fcc",
       "value": " 7/234 [00:06&lt;02:33,  1.48it/s]"
      }
     },
     "9dec9dd526f043119a42a11e02606337": {
      "model_module": "@jupyter-widgets/base",
      "model_module_version": "1.2.0",
      "model_name": "LayoutModel",
      "state": {}
     },
     "9e4123f7d0814d489ad713026bdb29fc": {
      "model_module": "@jupyter-widgets/controls",
      "model_module_version": "1.5.0",
      "model_name": "HTMLModel",
      "state": {
       "layout": "IPY_MODEL_20cd20a50f7341268b9cbdead2bfaf41",
       "style": "IPY_MODEL_087c6e32b32c4172841e804c2eb348a7",
       "value": " 6/100 [20:16&lt;6:14:48, 239.24s/it]"
      }
     },
     "9e6c3242184d4817a9296fec840863d4": {
      "model_module": "@jupyter-widgets/base",
      "model_module_version": "1.2.0",
      "model_name": "LayoutModel",
      "state": {}
     },
     "9ea180a0799c49059386e35d946f3f84": {
      "model_module": "@jupyter-widgets/base",
      "model_module_version": "1.2.0",
      "model_name": "LayoutModel",
      "state": {}
     },
     "9f47c0e5efea4ef4aa57b7955a527d3c": {
      "model_module": "@jupyter-widgets/controls",
      "model_module_version": "1.5.0",
      "model_name": "DescriptionStyleModel",
      "state": {
       "description_width": ""
      }
     },
     "9f9517378b204832a8d6785592a7c715": {
      "model_module": "@jupyter-widgets/controls",
      "model_module_version": "1.5.0",
      "model_name": "DescriptionStyleModel",
      "state": {
       "description_width": ""
      }
     },
     "9fa330303ab24e67b50da1b09ca6e29c": {
      "model_module": "@jupyter-widgets/base",
      "model_module_version": "1.2.0",
      "model_name": "LayoutModel",
      "state": {}
     },
     "9fa55196db0d42bc8b3ab2730b3a93e2": {
      "model_module": "@jupyter-widgets/base",
      "model_module_version": "1.2.0",
      "model_name": "LayoutModel",
      "state": {}
     },
     "a010d47846804b309140bbed3cf35e03": {
      "model_module": "@jupyter-widgets/controls",
      "model_module_version": "1.5.0",
      "model_name": "HTMLModel",
      "state": {
       "layout": "IPY_MODEL_9bf387bba51241788fbad6d0753086ec",
       "style": "IPY_MODEL_b69d04ebf6124dfdb5d73b97a379b63f",
       "value": " 166/234 [02:30&lt;01:03,  1.07it/s]"
      }
     },
     "a0237d90be5b462abb4d401a9840457d": {
      "model_module": "@jupyter-widgets/base",
      "model_module_version": "1.2.0",
      "model_name": "LayoutModel",
      "state": {}
     },
     "a06a803469e8406a967672224ec44a06": {
      "model_module": "@jupyter-widgets/base",
      "model_module_version": "1.2.0",
      "model_name": "LayoutModel",
      "state": {}
     },
     "a103c3415fec4a70862c275a0835b5d5": {
      "model_module": "@jupyter-widgets/controls",
      "model_module_version": "1.5.0",
      "model_name": "ProgressStyleModel",
      "state": {
       "description_width": ""
      }
     },
     "a128651d873441339cbdc59e81184aec": {
      "model_module": "@jupyter-widgets/controls",
      "model_module_version": "1.5.0",
      "model_name": "DescriptionStyleModel",
      "state": {
       "description_width": ""
      }
     },
     "a1646df657d44a05afb70824f2f3d242": {
      "model_module": "@jupyter-widgets/controls",
      "model_module_version": "1.5.0",
      "model_name": "ProgressStyleModel",
      "state": {
       "description_width": ""
      }
     },
     "a1792e5888024f37b2af00d99cb78e01": {
      "model_module": "@jupyter-widgets/base",
      "model_module_version": "1.2.0",
      "model_name": "LayoutModel",
      "state": {}
     },
     "a1e230e56e974ced9795e3bc9954d977": {
      "model_module": "@jupyter-widgets/base",
      "model_module_version": "1.2.0",
      "model_name": "LayoutModel",
      "state": {}
     },
     "a274f5e0bbf64019ae764338d6aa918d": {
      "model_module": "@jupyter-widgets/controls",
      "model_module_version": "1.5.0",
      "model_name": "DescriptionStyleModel",
      "state": {
       "description_width": ""
      }
     },
     "a27b7116b06444b6bd5823f6bf0b471d": {
      "model_module": "@jupyter-widgets/controls",
      "model_module_version": "1.5.0",
      "model_name": "HTMLModel",
      "state": {
       "layout": "IPY_MODEL_40d4306ca8be4c4aa52f645440bb4c94",
       "style": "IPY_MODEL_352df6c1a62b4a1e927d0341872f02b7",
       "value": "critic (loss: -1.23530): 100%"
      }
     },
     "a286b7d64ec248338c908db976076de7": {
      "model_module": "@jupyter-widgets/base",
      "model_module_version": "1.2.0",
      "model_name": "LayoutModel",
      "state": {}
     },
     "a28c521a144545da80bd649fcdc62b47": {
      "model_module": "@jupyter-widgets/controls",
      "model_module_version": "1.5.0",
      "model_name": "HTMLModel",
      "state": {
       "layout": "IPY_MODEL_e49afab1fd004d0cb48ccd25ca759814",
       "style": "IPY_MODEL_0bf2f5a280ae43b0a37dafc6c4e62926",
       "value": " 59/624 [00:17&lt;02:29,  3.77it/s]"
      }
     },
     "a2aee8eebb6b4ed3bcfccf7d90b14427": {
      "model_module": "@jupyter-widgets/controls",
      "model_module_version": "1.5.0",
      "model_name": "FloatProgressModel",
      "state": {
       "layout": "IPY_MODEL_ada918f0d3cb475fa1e4b0086be5cba8",
       "style": "IPY_MODEL_653fd83f0f234bb49c7d602d7f21e611",
       "value": 1
      }
     },
     "a314054c0b0a41bc8cf8e184664222cd": {
      "model_module": "@jupyter-widgets/controls",
      "model_module_version": "1.5.0",
      "model_name": "HTMLModel",
      "state": {
       "layout": "IPY_MODEL_41724bbc99d64d889be7833cc0dadc07",
       "style": "IPY_MODEL_4ffc88aa1ec64796a27d7d67dcf5774a",
       "value": " 469/469 [03:15&lt;00:00,  3.15it/s]"
      }
     },
     "a35e8c141f874c86b875d59386ace1d6": {
      "model_module": "@jupyter-widgets/controls",
      "model_module_version": "1.5.0",
      "model_name": "DescriptionStyleModel",
      "state": {
       "description_width": ""
      }
     },
     "a373f7b54e0e4b60ac6f3576a3c8d078": {
      "model_module": "@jupyter-widgets/base",
      "model_module_version": "1.2.0",
      "model_name": "LayoutModel",
      "state": {}
     },
     "a37ef7471d6f4415ba8f6539b4645c85": {
      "model_module": "@jupyter-widgets/base",
      "model_module_version": "1.2.0",
      "model_name": "LayoutModel",
      "state": {}
     },
     "a37fd4b765e143eeaf85433085e5f8ca": {
      "model_module": "@jupyter-widgets/base",
      "model_module_version": "1.2.0",
      "model_name": "LayoutModel",
      "state": {}
     },
     "a3cdc39722de427eb75234a68de67891": {
      "model_module": "@jupyter-widgets/base",
      "model_module_version": "1.2.0",
      "model_name": "LayoutModel",
      "state": {}
     },
     "a3f4aaf7752147cd9b9ff1802b7d9e5b": {
      "model_module": "@jupyter-widgets/controls",
      "model_module_version": "1.5.0",
      "model_name": "FloatProgressModel",
      "state": {
       "layout": "IPY_MODEL_9679c3667dd14500adcca6bdff49a2da",
       "max": 234,
       "style": "IPY_MODEL_d33ad6656f654dedb43d79d098c2ce39",
       "value": 19
      }
     },
     "a43d48c06fc44bf69bc07f8e50868a1f": {
      "model_module": "@jupyter-widgets/base",
      "model_module_version": "1.2.0",
      "model_name": "LayoutModel",
      "state": {}
     },
     "a4648ed8fb27458b830f0c9dad7f6c5b": {
      "model_module": "@jupyter-widgets/base",
      "model_module_version": "1.2.0",
      "model_name": "LayoutModel",
      "state": {}
     },
     "a4cf0a7abbca4fabbf1282049bb65859": {
      "model_module": "@jupyter-widgets/controls",
      "model_module_version": "1.5.0",
      "model_name": "FloatProgressModel",
      "state": {
       "layout": "IPY_MODEL_54d3b27ad2b942bdab912c74f6d21d21",
       "style": "IPY_MODEL_19e28d03163142408e7e6fbf2efb499e"
      }
     },
     "a4e5d1832aea4a71b10c0d21bf4e18ae": {
      "model_module": "@jupyter-widgets/controls",
      "model_module_version": "1.5.0",
      "model_name": "DescriptionStyleModel",
      "state": {
       "description_width": ""
      }
     },
     "a53ccad2f1d74e798459148bee5c37c1": {
      "model_module": "@jupyter-widgets/controls",
      "model_module_version": "1.5.0",
      "model_name": "DescriptionStyleModel",
      "state": {
       "description_width": ""
      }
     },
     "a542c6a55fa94206934303c10e18d37d": {
      "model_module": "@jupyter-widgets/base",
      "model_module_version": "1.2.0",
      "model_name": "LayoutModel",
      "state": {}
     },
     "a548864f0ec14754a41668abdf953dac": {
      "model_module": "@jupyter-widgets/controls",
      "model_module_version": "1.5.0",
      "model_name": "HTMLModel",
      "state": {
       "layout": "IPY_MODEL_b1b9b72b86c14f918d9d12c4256c87b6",
       "style": "IPY_MODEL_dad4e4073b9b432b8e28493088b61ccc",
       "value": "steps_f (loss_f: 37.64648):   0%"
      }
     },
     "a553810e75e3423bb3104ea3474623f1": {
      "model_module": "@jupyter-widgets/controls",
      "model_module_version": "1.5.0",
      "model_name": "DescriptionStyleModel",
      "state": {
       "description_width": ""
      }
     },
     "a58501add6404df4814c35835c5cefa2": {
      "model_module": "@jupyter-widgets/base",
      "model_module_version": "1.2.0",
      "model_name": "LayoutModel",
      "state": {}
     },
     "a5b2df06c02448ee8b671bf30c85271e": {
      "model_module": "@jupyter-widgets/base",
      "model_module_version": "1.2.0",
      "model_name": "LayoutModel",
      "state": {}
     },
     "a5b5ce80dc8d491a95d3e24106b6468f": {
      "model_module": "@jupyter-widgets/controls",
      "model_module_version": "1.5.0",
      "model_name": "DescriptionStyleModel",
      "state": {
       "description_width": ""
      }
     },
     "a5c932f758f949d69f9703438b5b0724": {
      "model_module": "@jupyter-widgets/base",
      "model_module_version": "1.2.0",
      "model_name": "LayoutModel",
      "state": {}
     },
     "a6511da41e5340e4ab61343d1e8667be": {
      "model_module": "@jupyter-widgets/controls",
      "model_module_version": "1.5.0",
      "model_name": "DescriptionStyleModel",
      "state": {
       "description_width": ""
      }
     },
     "a6531346a8fc4f308ef97fadd6721310": {
      "model_module": "@jupyter-widgets/base",
      "model_module_version": "1.2.0",
      "model_name": "LayoutModel",
      "state": {}
     },
     "a6a8a435028f492cbd3bbe0b94101f97": {
      "model_module": "@jupyter-widgets/controls",
      "model_module_version": "1.5.0",
      "model_name": "ProgressStyleModel",
      "state": {
       "description_width": ""
      }
     },
     "a6f94c08e42141eb9ad68f63d01b3402": {
      "model_module": "@jupyter-widgets/base",
      "model_module_version": "1.2.0",
      "model_name": "LayoutModel",
      "state": {}
     },
     "a72cc4e4df594f39b158827a539b2906": {
      "model_module": "@jupyter-widgets/controls",
      "model_module_version": "1.5.0",
      "model_name": "HTMLModel",
      "state": {
       "layout": "IPY_MODEL_4ffbbe6c9cf847bca2d6457a97bcf83e",
       "style": "IPY_MODEL_fa889bf1201a49b1a0b8432c070cd240",
       "value": "epoch: 100%"
      }
     },
     "a73e131ca6eb4ea6a2230e1b41097626": {
      "model_module": "@jupyter-widgets/controls",
      "model_module_version": "1.5.0",
      "model_name": "FloatProgressModel",
      "state": {
       "layout": "IPY_MODEL_578c083545f440249407cd7d3df0a2a4",
       "max": 469,
       "style": "IPY_MODEL_95e8ef629b9e405d91dd1fd6a0e42efb",
       "value": 293
      }
     },
     "a75d9d0eb005479ba37484f6795ca152": {
      "model_module": "@jupyter-widgets/base",
      "model_module_version": "1.2.0",
      "model_name": "LayoutModel",
      "state": {}
     },
     "a7b706702d9540faab8db2f773233396": {
      "model_module": "@jupyter-widgets/base",
      "model_module_version": "1.2.0",
      "model_name": "LayoutModel",
      "state": {}
     },
     "a81d2384f1db42f09a421375b8ec770b": {
      "model_module": "@jupyter-widgets/controls",
      "model_module_version": "1.5.0",
      "model_name": "FloatProgressModel",
      "state": {
       "layout": "IPY_MODEL_d063a72a7e3c4565aa294f89fa231eed",
       "max": 469,
       "style": "IPY_MODEL_09ea8f6486654af69d2595ee4668a71e",
       "value": 469
      }
     },
     "a8283283d5f84f18b8100f1a7f802225": {
      "model_module": "@jupyter-widgets/base",
      "model_module_version": "1.2.0",
      "model_name": "LayoutModel",
      "state": {}
     },
     "a844a78292c44d97bae07b6d462645a0": {
      "model_module": "@jupyter-widgets/controls",
      "model_module_version": "1.5.0",
      "model_name": "HTMLModel",
      "state": {
       "layout": "IPY_MODEL_3c942a9c97474933bf20f7c63b995c19",
       "style": "IPY_MODEL_a553810e75e3423bb3104ea3474623f1",
       "value": " 93/93 [03:32&lt;00:00,  2.15s/it]"
      }
     },
     "a86093ee62f44adba549025864286374": {
      "model_module": "@jupyter-widgets/controls",
      "model_module_version": "1.5.0",
      "model_name": "DescriptionStyleModel",
      "state": {
       "description_width": ""
      }
     },
     "a86aaf32f14047f9bff76ebd77026676": {
      "model_module": "@jupyter-widgets/base",
      "model_module_version": "1.2.0",
      "model_name": "LayoutModel",
      "state": {}
     },
     "a8d12ea67e854ef28af075f12555b996": {
      "model_module": "@jupyter-widgets/base",
      "model_module_version": "1.2.0",
      "model_name": "LayoutModel",
      "state": {}
     },
     "a8e538d88e1f44d4afcc509189da1474": {
      "model_module": "@jupyter-widgets/controls",
      "model_module_version": "1.5.0",
      "model_name": "DescriptionStyleModel",
      "state": {
       "description_width": ""
      }
     },
     "a92c6a3ab0c74336b2326a0fe90b6cd2": {
      "model_module": "@jupyter-widgets/base",
      "model_module_version": "1.2.0",
      "model_name": "LayoutModel",
      "state": {}
     },
     "a981b4a3ab304eadb539e058fef27f73": {
      "model_module": "@jupyter-widgets/base",
      "model_module_version": "1.2.0",
      "model_name": "LayoutModel",
      "state": {}
     },
     "a9848c28c7e24dce976843bfa16d8f0f": {
      "model_module": "@jupyter-widgets/controls",
      "model_module_version": "1.5.0",
      "model_name": "HTMLModel",
      "state": {
       "layout": "IPY_MODEL_70b0d75d7b954d208fe16d81215478a4",
       "style": "IPY_MODEL_6d34c3d907b343aa9c47100df90237d9",
       "value": "gen (loss: 17.83395): 100%"
      }
     },
     "a98fe2e79f9640aa8deb646baabc8171": {
      "model_module": "@jupyter-widgets/base",
      "model_module_version": "1.2.0",
      "model_name": "LayoutModel",
      "state": {}
     },
     "a9aa68f0796c405e820c5f32cecf0e34": {
      "model_module": "@jupyter-widgets/base",
      "model_module_version": "1.2.0",
      "model_name": "LayoutModel",
      "state": {}
     },
     "aa1687e81845477aa6a774f22bb48c8b": {
      "model_module": "@jupyter-widgets/controls",
      "model_module_version": "1.5.0",
      "model_name": "FloatProgressModel",
      "state": {
       "layout": "IPY_MODEL_df8d06b947994c1e85b3da829fb60c5f",
       "max": 469,
       "style": "IPY_MODEL_0f40301003314fe8a5c049510c538f5b"
      }
     },
     "aa25db7e270a444d9825f7a5329a9533": {
      "model_module": "@jupyter-widgets/base",
      "model_module_version": "1.2.0",
      "model_name": "LayoutModel",
      "state": {}
     },
     "aa2a1692d3544023beca80b64f661f03": {
      "model_module": "@jupyter-widgets/controls",
      "model_module_version": "1.5.0",
      "model_name": "HBoxModel",
      "state": {
       "children": [
        "IPY_MODEL_0edba55aee774c65a0ced363aa016c38",
        "IPY_MODEL_30c2a28bf31c4eeda0b34a909e1f53e5",
        "IPY_MODEL_e17cc11b051742218cde2e596a6bb091"
       ],
       "layout": "IPY_MODEL_94faa97fcd3d48baa34892d5052c1912"
      }
     },
     "aa5458668fb54e849cdb566ae1f0fd90": {
      "model_module": "@jupyter-widgets/base",
      "model_module_version": "1.2.0",
      "model_name": "LayoutModel",
      "state": {}
     },
     "aa79867f99724179804f7a0f00fa4ee0": {
      "model_module": "@jupyter-widgets/controls",
      "model_module_version": "1.5.0",
      "model_name": "FloatProgressModel",
      "state": {
       "layout": "IPY_MODEL_51978862b3654f4f88fa98fe41011f9d",
       "max": 469,
       "style": "IPY_MODEL_fe04b3d6059e4ba89e4101350f678d8f",
       "value": 385
      }
     },
     "aa88a4b87ebb40df9ed31c2c3fd44fc8": {
      "model_module": "@jupyter-widgets/controls",
      "model_module_version": "1.5.0",
      "model_name": "DescriptionStyleModel",
      "state": {
       "description_width": ""
      }
     },
     "aad59b3d51c84c8380ae857c1bfa9955": {
      "model_module": "@jupyter-widgets/controls",
      "model_module_version": "1.5.0",
      "model_name": "HTMLModel",
      "state": {
       "layout": "IPY_MODEL_228219b36475493f89463830e1089933",
       "style": "IPY_MODEL_f0f2820f1a004860bcd50d788e84afe8",
       "value": " 0/234 [00:00&lt;?, ?it/s]"
      }
     },
     "ab2b75a7d1944db7b1bd098ebb835500": {
      "model_module": "@jupyter-widgets/controls",
      "model_module_version": "1.5.0",
      "model_name": "ProgressStyleModel",
      "state": {
       "description_width": ""
      }
     },
     "ab67b6639f284d75b555645c35076ab9": {
      "model_module": "@jupyter-widgets/base",
      "model_module_version": "1.2.0",
      "model_name": "LayoutModel",
      "state": {}
     },
     "ab7321d805fa4bc4a117d1f604ed01e4": {
      "model_module": "@jupyter-widgets/controls",
      "model_module_version": "1.5.0",
      "model_name": "ProgressStyleModel",
      "state": {
       "description_width": ""
      }
     },
     "ab816e41cce14f609021557209c674f1": {
      "model_module": "@jupyter-widgets/controls",
      "model_module_version": "1.5.0",
      "model_name": "HBoxModel",
      "state": {
       "children": [
        "IPY_MODEL_e9bd53b53b494abb9bbb0d7a6c422350",
        "IPY_MODEL_1dbbda7f27a84bec966f800a0ce423ae",
        "IPY_MODEL_7919a9ff4a924c4eaef84af0ec4f027c"
       ],
       "layout": "IPY_MODEL_df1a331660974ac4ab34f2e6d822b432"
      }
     },
     "ac27ca8bfc384147aa443c12a9e3a693": {
      "model_module": "@jupyter-widgets/controls",
      "model_module_version": "1.5.0",
      "model_name": "DescriptionStyleModel",
      "state": {
       "description_width": ""
      }
     },
     "ac521003c95f445cb4329f8c6de1c3e8": {
      "model_module": "@jupyter-widgets/base",
      "model_module_version": "1.2.0",
      "model_name": "LayoutModel",
      "state": {}
     },
     "ac6c16c75682418fa5c0d0091977db72": {
      "model_module": "@jupyter-widgets/base",
      "model_module_version": "1.2.0",
      "model_name": "LayoutModel",
      "state": {}
     },
     "acabe1eb6a394f67bd5f0c63ae8ed068": {
      "model_module": "@jupyter-widgets/base",
      "model_module_version": "1.2.0",
      "model_name": "LayoutModel",
      "state": {}
     },
     "accf44e8a6ac43908cc6b2081bbffbf3": {
      "model_module": "@jupyter-widgets/base",
      "model_module_version": "1.2.0",
      "model_name": "LayoutModel",
      "state": {}
     },
     "ace64ace5f0e4ebe97683e3bef34410d": {
      "model_module": "@jupyter-widgets/controls",
      "model_module_version": "1.5.0",
      "model_name": "HBoxModel",
      "state": {
       "children": [
        "IPY_MODEL_010bb724572e4db8bbd520a562bbdccb",
        "IPY_MODEL_6836907fa6c34a48a575d3c44e1b9a26",
        "IPY_MODEL_b4508ae0b9454c2bbebfcb5cbe7e4d11"
       ],
       "layout": "IPY_MODEL_243f259e1e104a8d918ed03caba36d47"
      }
     },
     "ad06db31911d47a1ad92064ee88a9ebd": {
      "model_module": "@jupyter-widgets/controls",
      "model_module_version": "1.5.0",
      "model_name": "FloatProgressModel",
      "state": {
       "layout": "IPY_MODEL_4758a0d9fa224f9da943c41cb9dbffdd",
       "max": 234,
       "style": "IPY_MODEL_16aef6cbbae34f859bfe19761a8fa46d",
       "value": 234
      }
     },
     "ad465ff408554e4b90e5ca12db5b7e15": {
      "model_module": "@jupyter-widgets/controls",
      "model_module_version": "1.5.0",
      "model_name": "DescriptionStyleModel",
      "state": {
       "description_width": ""
      }
     },
     "ad7aee01ed2b40ffb526eac854dc8305": {
      "model_module": "@jupyter-widgets/base",
      "model_module_version": "1.2.0",
      "model_name": "LayoutModel",
      "state": {}
     },
     "ad896bfc955e455f9c913c99bb52b4d1": {
      "model_module": "@jupyter-widgets/controls",
      "model_module_version": "1.5.0",
      "model_name": "DescriptionStyleModel",
      "state": {
       "description_width": ""
      }
     },
     "ad910586633147de98f694c401a24ae5": {
      "model_module": "@jupyter-widgets/controls",
      "model_module_version": "1.5.0",
      "model_name": "DescriptionStyleModel",
      "state": {
       "description_width": ""
      }
     },
     "ad98c81fec23479183d2e4e23d155866": {
      "model_module": "@jupyter-widgets/controls",
      "model_module_version": "1.5.0",
      "model_name": "HTMLModel",
      "state": {
       "layout": "IPY_MODEL_804cd53880c04f7b8384286b46ed1e2e",
       "style": "IPY_MODEL_9086f3129f5e412dbc0f29a55bc9a258",
       "value": " 12/234 [00:25&lt;06:41,  1.81s/it]"
      }
     },
     "ad9f2955333d496db9122ef68bad9d26": {
      "model_module": "@jupyter-widgets/base",
      "model_module_version": "1.2.0",
      "model_name": "LayoutModel",
      "state": {}
     },
     "ada918f0d3cb475fa1e4b0086be5cba8": {
      "model_module": "@jupyter-widgets/base",
      "model_module_version": "1.2.0",
      "model_name": "LayoutModel",
      "state": {}
     },
     "adc95a6ab9ae47d2a85861fd0738801b": {
      "model_module": "@jupyter-widgets/base",
      "model_module_version": "1.2.0",
      "model_name": "LayoutModel",
      "state": {}
     },
     "ae3474f111084bde99937adc7d3f40b1": {
      "model_module": "@jupyter-widgets/base",
      "model_module_version": "1.2.0",
      "model_name": "LayoutModel",
      "state": {}
     },
     "ae3b8975f94f4b7da63f11b9a106213e": {
      "model_module": "@jupyter-widgets/controls",
      "model_module_version": "1.5.0",
      "model_name": "FloatProgressModel",
      "state": {
       "layout": "IPY_MODEL_c931cd10cd62447ca7cc9f30d454c083",
       "max": 234,
       "style": "IPY_MODEL_baa27cc286c44224a90718fec8e36510"
      }
     },
     "ae46c00a2e85455abe566eb58d9b3baa": {
      "model_module": "@jupyter-widgets/controls",
      "model_module_version": "1.5.0",
      "model_name": "ProgressStyleModel",
      "state": {
       "description_width": ""
      }
     },
     "ae53cc00f330434fbec4c2c2d6dfaca8": {
      "model_module": "@jupyter-widgets/controls",
      "model_module_version": "1.5.0",
      "model_name": "ProgressStyleModel",
      "state": {
       "description_width": ""
      }
     },
     "aea232f764554eab96cf818439081dcc": {
      "model_module": "@jupyter-widgets/base",
      "model_module_version": "1.2.0",
      "model_name": "LayoutModel",
      "state": {}
     },
     "aea3ebd85540402e9f42376c390c1798": {
      "model_module": "@jupyter-widgets/controls",
      "model_module_version": "1.5.0",
      "model_name": "ProgressStyleModel",
      "state": {
       "description_width": ""
      }
     },
     "aebe910797844216b4587a9ae0c373a0": {
      "model_module": "@jupyter-widgets/base",
      "model_module_version": "1.2.0",
      "model_name": "LayoutModel",
      "state": {}
     },
     "aef28b972e984ad2ad00366b1460e218": {
      "model_module": "@jupyter-widgets/controls",
      "model_module_version": "1.5.0",
      "model_name": "HTMLModel",
      "state": {
       "layout": "IPY_MODEL_90d85e5781044b8e8c07e11fd56d0275",
       "style": "IPY_MODEL_8667135c651641a9b60186a8ab465598",
       "value": " 9/234 [00:07&lt;02:38,  1.42it/s]"
      }
     },
     "af0b5bdbfb1542ae8ad15236f86ba921": {
      "model_module": "@jupyter-widgets/controls",
      "model_module_version": "1.5.0",
      "model_name": "HBoxModel",
      "state": {
       "children": [
        "IPY_MODEL_ea6af73d80424b45b9ce779205a957f8",
        "IPY_MODEL_c262cf5c37c14a69a7d3424328cb11d6",
        "IPY_MODEL_aef28b972e984ad2ad00366b1460e218"
       ],
       "layout": "IPY_MODEL_decccc19ec0a4d60ab6f4e7c1a61f538"
      }
     },
     "af20ab390418415797063ab9658ecfa2": {
      "model_module": "@jupyter-widgets/controls",
      "model_module_version": "1.5.0",
      "model_name": "HTMLModel",
      "state": {
       "layout": "IPY_MODEL_e8f0a7f6ea1940269898cdca25d02936",
       "style": "IPY_MODEL_33d4811395fd4330bfbefa9f5e2bb72f",
       "value": "Epoch :   0%"
      }
     },
     "af228304f9594e49888c47eb50d5d236": {
      "model_module": "@jupyter-widgets/controls",
      "model_module_version": "1.5.0",
      "model_name": "HTMLModel",
      "state": {
       "layout": "IPY_MODEL_300bf70c4048483eaf03c675a9ae5591",
       "style": "IPY_MODEL_0d0750ffd69446d5b77e713cf383100f",
       "value": "epoch:   0%"
      }
     },
     "af7867519ffc4dcab92aa21db51fa3e9": {
      "model_module": "@jupyter-widgets/controls",
      "model_module_version": "1.5.0",
      "model_name": "ProgressStyleModel",
      "state": {
       "description_width": ""
      }
     },
     "af7bf5f091774eb78a9b7725efdf74f1": {
      "model_module": "@jupyter-widgets/base",
      "model_module_version": "1.2.0",
      "model_name": "LayoutModel",
      "state": {}
     },
     "afff208dec73428fbe91af1e0aa67419": {
      "model_module": "@jupyter-widgets/controls",
      "model_module_version": "1.5.0",
      "model_name": "HTMLModel",
      "state": {
       "layout": "IPY_MODEL_b2b682a787554b779f8ed578c82df004",
       "style": "IPY_MODEL_1d7bfc8fb1db44bdac3ec805348eb3ee",
       "value": " 0/234 [00:00&lt;?, ?it/s]"
      }
     },
     "b02da4ac6e624b118661d465235d1ed2": {
      "model_module": "@jupyter-widgets/controls",
      "model_module_version": "1.5.0",
      "model_name": "DescriptionStyleModel",
      "state": {
       "description_width": ""
      }
     },
     "b13363422533466dbcd6b985d00a2380": {
      "model_module": "@jupyter-widgets/base",
      "model_module_version": "1.2.0",
      "model_name": "LayoutModel",
      "state": {}
     },
     "b14111fabcd54dd4bb6d745b703197dd": {
      "model_module": "@jupyter-widgets/controls",
      "model_module_version": "1.5.0",
      "model_name": "HTMLModel",
      "state": {
       "layout": "IPY_MODEL_1d148fa61d9446c6b7ca099b58280351",
       "style": "IPY_MODEL_6ae6ffe089024c9e8744eaaaf32148eb",
       "value": " 234/234 [03:04&lt;00:00,  1.09it/s]"
      }
     },
     "b143994458a94d61884c32935e147e8a": {
      "model_module": "@jupyter-widgets/controls",
      "model_module_version": "1.5.0",
      "model_name": "DescriptionStyleModel",
      "state": {
       "description_width": ""
      }
     },
     "b1b9b72b86c14f918d9d12c4256c87b6": {
      "model_module": "@jupyter-widgets/base",
      "model_module_version": "1.2.0",
      "model_name": "LayoutModel",
      "state": {}
     },
     "b1dd45f396a94918b07e9c42b9504e23": {
      "model_module": "@jupyter-widgets/controls",
      "model_module_version": "1.5.0",
      "model_name": "FloatProgressModel",
      "state": {
       "layout": "IPY_MODEL_9cf091cfb44c485cb1b385cc15b6289c",
       "max": 234,
       "style": "IPY_MODEL_23230e2a148343caa9e99d6db2e65acf",
       "value": 33
      }
     },
     "b1df35d89c05441897ba03a210ac7758": {
      "model_module": "@jupyter-widgets/controls",
      "model_module_version": "1.5.0",
      "model_name": "HTMLModel",
      "state": {
       "layout": "IPY_MODEL_c529e28dda1e4b16b23d384871b9cc9d",
       "style": "IPY_MODEL_75bb9da3fc774b4585e2d8505d487691",
       "value": "epoch:   0%"
      }
     },
     "b1ea2845f85d4bdab746b30ca5f83988": {
      "model_module": "@jupyter-widgets/controls",
      "model_module_version": "1.5.0",
      "model_name": "HTMLModel",
      "state": {
       "layout": "IPY_MODEL_444676c873df42d3880141d433916865",
       "style": "IPY_MODEL_4e69097ecb1d490dba52141634502824",
       "value": "g_steps (g_loss: 0.00840):  16%"
      }
     },
     "b20b90d3e3a74a07901b200f3a14fb45": {
      "model_module": "@jupyter-widgets/controls",
      "model_module_version": "1.5.0",
      "model_name": "HTMLModel",
      "state": {
       "layout": "IPY_MODEL_9566223319d74671a2252729d04a1ba5",
       "style": "IPY_MODEL_d74809d995d44a5490dfd9643ad3684a",
       "value": "g_steps (g_loss: 0.00882):   3%"
      }
     },
     "b23351a34059494d90885fea9805b62e": {
      "model_module": "@jupyter-widgets/controls",
      "model_module_version": "1.5.0",
      "model_name": "HTMLModel",
      "state": {
       "layout": "IPY_MODEL_b13363422533466dbcd6b985d00a2380",
       "style": "IPY_MODEL_c6837a8c4a3745bc8afdf7968eb29387",
       "value": "epoch: 100%"
      }
     },
     "b257c3dd4dcf4fdab46b4c34a9c8d772": {
      "model_module": "@jupyter-widgets/base",
      "model_module_version": "1.2.0",
      "model_name": "LayoutModel",
      "state": {}
     },
     "b2a42cc4e19d4ce79a8727c4de53e723": {
      "model_module": "@jupyter-widgets/base",
      "model_module_version": "1.2.0",
      "model_name": "LayoutModel",
      "state": {}
     },
     "b2b682a787554b779f8ed578c82df004": {
      "model_module": "@jupyter-widgets/base",
      "model_module_version": "1.2.0",
      "model_name": "LayoutModel",
      "state": {}
     },
     "b2ec02af2b954b9ba8b6d53be6276690": {
      "model_module": "@jupyter-widgets/controls",
      "model_module_version": "1.5.0",
      "model_name": "FloatProgressModel",
      "state": {
       "layout": "IPY_MODEL_ce0586e039a14d50ab42ca08a25c55d2",
       "max": 469,
       "style": "IPY_MODEL_f19afd1e13fa4e9e9b0ec804779c4121",
       "value": 292
      }
     },
     "b36a813cb1f4443fbee1771c19a81fda": {
      "model_module": "@jupyter-widgets/controls",
      "model_module_version": "1.5.0",
      "model_name": "HTMLModel",
      "state": {
       "layout": "IPY_MODEL_0064df88117a4712adc68599a4a813fd",
       "style": "IPY_MODEL_0e51da48c2a34b2284f8a213ef597ab5",
       "value": " 0/93 [00:00&lt;?, ?it/s]"
      }
     },
     "b3754500017541b1864e2bea15e25da0": {
      "model_module": "@jupyter-widgets/controls",
      "model_module_version": "1.5.0",
      "model_name": "DescriptionStyleModel",
      "state": {
       "description_width": ""
      }
     },
     "b3a5618567574185997892aeb11c5f2e": {
      "model_module": "@jupyter-widgets/base",
      "model_module_version": "1.2.0",
      "model_name": "LayoutModel",
      "state": {}
     },
     "b3f0aaa78f7d45dcba16a338d9850a94": {
      "model_module": "@jupyter-widgets/controls",
      "model_module_version": "1.5.0",
      "model_name": "DescriptionStyleModel",
      "state": {
       "description_width": ""
      }
     },
     "b3f45f4b00e0464f954d4cb1b2fb0d2b": {
      "model_module": "@jupyter-widgets/controls",
      "model_module_version": "1.5.0",
      "model_name": "HTMLModel",
      "state": {
       "layout": "IPY_MODEL_fb7b49a491fe4e6e901c5b858b83ffc7",
       "style": "IPY_MODEL_7cd162bc112046039ab70e25f2662979",
       "value": " 1/100 [02:30&lt;4:08:02, 150.33s/it]"
      }
     },
     "b44f6469e56d4a0293823457a629449f": {
      "model_module": "@jupyter-widgets/controls",
      "model_module_version": "1.5.0",
      "model_name": "HTMLModel",
      "state": {
       "layout": "IPY_MODEL_75738bc24cbe4359a4913480dc6b0a99",
       "style": "IPY_MODEL_6c65395ba2a841b5a92a615b0cf8779f",
       "value": " 468/469 [03:37&lt;00:00,  2.16it/s]"
      }
     },
     "b4508ae0b9454c2bbebfcb5cbe7e4d11": {
      "model_module": "@jupyter-widgets/controls",
      "model_module_version": "1.5.0",
      "model_name": "HTMLModel",
      "state": {
       "layout": "IPY_MODEL_88d4023a1a3246d79e4d1a4cfb404902",
       "style": "IPY_MODEL_c9bb1b48deb24ca290fa6478e8ddbaa9",
       "value": " 2345/2345 [09:45&lt;00:00,  7.63it/s]"
      }
     },
     "b46b9f6f19f841a3bdf7c1b8ad4f8eaf": {
      "model_module": "@jupyter-widgets/controls",
      "model_module_version": "1.5.0",
      "model_name": "HTMLModel",
      "state": {
       "layout": "IPY_MODEL_d6c9e63f75ae49c98a908b24834f8a49",
       "style": "IPY_MODEL_3ed1d9693025487eb79459355e88ce8a",
       "value": "epoch:   0%"
      }
     },
     "b5b4dd6f743b4c449bfc27da82b3cd10": {
      "model_module": "@jupyter-widgets/controls",
      "model_module_version": "1.5.0",
      "model_name": "DescriptionStyleModel",
      "state": {
       "description_width": ""
      }
     },
     "b6156f47576d4d90a47c2d6376272792": {
      "model_module": "@jupyter-widgets/controls",
      "model_module_version": "1.5.0",
      "model_name": "HBoxModel",
      "state": {
       "children": [
        "IPY_MODEL_20d9abb9f130484695e977ee01014ed4",
        "IPY_MODEL_fd8e74a197814bc2b61d81588ad512df",
        "IPY_MODEL_a844a78292c44d97bae07b6d462645a0"
       ],
       "layout": "IPY_MODEL_668e1e294e8f43bc91599d8accf2d40d"
      }
     },
     "b6434632acba470a997953c55d46316b": {
      "model_module": "@jupyter-widgets/controls",
      "model_module_version": "1.5.0",
      "model_name": "DescriptionStyleModel",
      "state": {
       "description_width": ""
      }
     },
     "b66a7c37f3a846ac845f9b80c581dc50": {
      "model_module": "@jupyter-widgets/controls",
      "model_module_version": "1.5.0",
      "model_name": "DescriptionStyleModel",
      "state": {
       "description_width": ""
      }
     },
     "b680f8f2568a49288e2783fb3f40113b": {
      "model_module": "@jupyter-widgets/base",
      "model_module_version": "1.2.0",
      "model_name": "LayoutModel",
      "state": {}
     },
     "b69d04ebf6124dfdb5d73b97a379b63f": {
      "model_module": "@jupyter-widgets/controls",
      "model_module_version": "1.5.0",
      "model_name": "DescriptionStyleModel",
      "state": {
       "description_width": ""
      }
     },
     "b6f08554998941928b90b7a1310114e9": {
      "model_module": "@jupyter-widgets/controls",
      "model_module_version": "1.5.0",
      "model_name": "DescriptionStyleModel",
      "state": {
       "description_width": ""
      }
     },
     "b741f8d3af91432c83ec49ac2d23e2b0": {
      "model_module": "@jupyter-widgets/base",
      "model_module_version": "1.2.0",
      "model_name": "LayoutModel",
      "state": {}
     },
     "b7791c4f231541b2865cf509c3ab8a56": {
      "model_module": "@jupyter-widgets/controls",
      "model_module_version": "1.5.0",
      "model_name": "HTMLModel",
      "state": {
       "layout": "IPY_MODEL_ec4ceebee33d49cc93bbfac655685ec0",
       "style": "IPY_MODEL_39b92a4e2c7c4440848595b892171954",
       "value": "epoch:   1%"
      }
     },
     "b7ca462afcc44e3a8a36dd11f09416ec": {
      "model_module": "@jupyter-widgets/controls",
      "model_module_version": "1.5.0",
      "model_name": "HBoxModel",
      "state": {
       "children": [
        "IPY_MODEL_33e2dd42ea7943a78bd4e9dac8bb8be2",
        "IPY_MODEL_e94a94ab9b7a47beb6b35a887778cf62",
        "IPY_MODEL_09282287ee76410cbb237209d55c5524"
       ],
       "layout": "IPY_MODEL_ed7c2a2854794eda8600522c2f882a8b"
      }
     },
     "b7d402e2bbcd4ec29de8f1df2c5f7a8e": {
      "model_module": "@jupyter-widgets/controls",
      "model_module_version": "1.5.0",
      "model_name": "HTMLModel",
      "state": {
       "layout": "IPY_MODEL_accf44e8a6ac43908cc6b2081bbffbf3",
       "style": "IPY_MODEL_d4580acf7576407594a48f7be151dba7",
       "value": " 469/469 [03:04&lt;00:00,  2.09it/s]"
      }
     },
     "b7fe6206cb244220a6dacd5f2534371d": {
      "model_module": "@jupyter-widgets/controls",
      "model_module_version": "1.5.0",
      "model_name": "HTMLModel",
      "state": {
       "layout": "IPY_MODEL_03a448c38fd04763844968e31f6ec77d",
       "style": "IPY_MODEL_99fd3c4d97b445ef85857eaf7d5b245d",
       "value": " 326/469 [02:48&lt;00:37,  3.81it/s]"
      }
     },
     "b82466e6fb9c4a1ca852431ed8d7ba29": {
      "model_module": "@jupyter-widgets/controls",
      "model_module_version": "1.5.0",
      "model_name": "ProgressStyleModel",
      "state": {
       "description_width": ""
      }
     },
     "b85d67cef1de4cc0ac43d44990711987": {
      "model_module": "@jupyter-widgets/controls",
      "model_module_version": "1.5.0",
      "model_name": "HTMLModel",
      "state": {
       "layout": "IPY_MODEL_0a90164ef7a74ea4acf43fc8b81e4058",
       "style": "IPY_MODEL_2d867b9ac3194f99a0ac0724eb9d37fd",
       "value": " 469/469 [03:22&lt;00:00,  1.73it/s]"
      }
     },
     "b8a84b8310544352b5e459a640b35932": {
      "model_module": "@jupyter-widgets/base",
      "model_module_version": "1.2.0",
      "model_name": "LayoutModel",
      "state": {}
     },
     "b8a87cddd3524cd18a4906f60af396aa": {
      "model_module": "@jupyter-widgets/base",
      "model_module_version": "1.2.0",
      "model_name": "LayoutModel",
      "state": {}
     },
     "b8be01c98d0c4594b55f4c2dd4ce1967": {
      "model_module": "@jupyter-widgets/controls",
      "model_module_version": "1.5.0",
      "model_name": "DescriptionStyleModel",
      "state": {
       "description_width": ""
      }
     },
     "b8cf898f3c1a47ea9b1f86939c386d76": {
      "model_module": "@jupyter-widgets/base",
      "model_module_version": "1.2.0",
      "model_name": "LayoutModel",
      "state": {}
     },
     "b8db46736872457a97584e234eb2439d": {
      "model_module": "@jupyter-widgets/controls",
      "model_module_version": "1.5.0",
      "model_name": "HBoxModel",
      "state": {
       "children": [
        "IPY_MODEL_dfd9b7211c34484080c2b8f9bcfa497d",
        "IPY_MODEL_f89233cf00b24f52bc5f17bad231ed96",
        "IPY_MODEL_0aa3d4350ab14182a65689dae3488710"
       ],
       "layout": "IPY_MODEL_2d0a504b42f14c2296dc6af903c5209d"
      }
     },
     "b8f1813e479f4c81994e907e8d5e7758": {
      "model_module": "@jupyter-widgets/controls",
      "model_module_version": "1.5.0",
      "model_name": "HTMLModel",
      "state": {
       "layout": "IPY_MODEL_5f73d4a481ec4f3ea3e19d6bf26c13f8",
       "style": "IPY_MODEL_2499fde872f448418b54dd031644c435",
       "value": " 332/469 [02:30&lt;00:57,  2.39it/s]"
      }
     },
     "b921f56b8b924f62a6d08c2305693361": {
      "model_module": "@jupyter-widgets/controls",
      "model_module_version": "1.5.0",
      "model_name": "DescriptionStyleModel",
      "state": {
       "description_width": ""
      }
     },
     "b9372c37a2024612bd17c47ce9d2891e": {
      "model_module": "@jupyter-widgets/base",
      "model_module_version": "1.2.0",
      "model_name": "LayoutModel",
      "state": {}
     },
     "b94775bdba014891b60b57db813f8842": {
      "model_module": "@jupyter-widgets/base",
      "model_module_version": "1.2.0",
      "model_name": "LayoutModel",
      "state": {}
     },
     "b9ac974837874889bf463a213208741b": {
      "model_module": "@jupyter-widgets/controls",
      "model_module_version": "1.5.0",
      "model_name": "DescriptionStyleModel",
      "state": {
       "description_width": ""
      }
     },
     "b9c96f255bc24df2aaa6cf5782b4757d": {
      "model_module": "@jupyter-widgets/base",
      "model_module_version": "1.2.0",
      "model_name": "LayoutModel",
      "state": {}
     },
     "ba01af872aa74d23b76c11b351eb746e": {
      "model_module": "@jupyter-widgets/base",
      "model_module_version": "1.2.0",
      "model_name": "LayoutModel",
      "state": {}
     },
     "ba177ba228c647349e979305c292579d": {
      "model_module": "@jupyter-widgets/base",
      "model_module_version": "1.2.0",
      "model_name": "LayoutModel",
      "state": {}
     },
     "ba33c8b751b34af9852e08479c67391b": {
      "model_module": "@jupyter-widgets/controls",
      "model_module_version": "1.5.0",
      "model_name": "HTMLModel",
      "state": {
       "layout": "IPY_MODEL_a7b706702d9540faab8db2f773233396",
       "style": "IPY_MODEL_463710c8b65c407798e2e2842d0e7f33",
       "value": " 469/469 [03:31&lt;00:00,  1.68it/s]"
      }
     },
     "ba3ad9e3a26c43b0913aed6d581e2af8": {
      "model_module": "@jupyter-widgets/controls",
      "model_module_version": "1.5.0",
      "model_name": "DescriptionStyleModel",
      "state": {
       "description_width": ""
      }
     },
     "ba4a9321b1784b83b9ea4ded340eaa2e": {
      "model_module": "@jupyter-widgets/controls",
      "model_module_version": "1.5.0",
      "model_name": "DescriptionStyleModel",
      "state": {
       "description_width": ""
      }
     },
     "ba5d42ded817489394ec66ef8afd7737": {
      "model_module": "@jupyter-widgets/controls",
      "model_module_version": "1.5.0",
      "model_name": "ProgressStyleModel",
      "state": {
       "description_width": ""
      }
     },
     "ba8045200b7e4c9dbcfc3ae4201c5e80": {
      "model_module": "@jupyter-widgets/controls",
      "model_module_version": "1.5.0",
      "model_name": "ProgressStyleModel",
      "state": {
       "description_width": ""
      }
     },
     "baa27cc286c44224a90718fec8e36510": {
      "model_module": "@jupyter-widgets/controls",
      "model_module_version": "1.5.0",
      "model_name": "ProgressStyleModel",
      "state": {
       "description_width": ""
      }
     },
     "baa2f8af1fd94d9d9a90620db4dbeda9": {
      "model_module": "@jupyter-widgets/controls",
      "model_module_version": "1.5.0",
      "model_name": "HBoxModel",
      "state": {
       "children": [
        "IPY_MODEL_2c1830e0fce745ec88040eebfbbe8735",
        "IPY_MODEL_f82c9155ec2648ea87eafa846cc73935",
        "IPY_MODEL_de0f248b8bc04c3aba08cf0a1277b796"
       ],
       "layout": "IPY_MODEL_b94775bdba014891b60b57db813f8842"
      }
     },
     "bb848ebbe4984202b091282c36955ed4": {
      "model_module": "@jupyter-widgets/base",
      "model_module_version": "1.2.0",
      "model_name": "LayoutModel",
      "state": {}
     },
     "bbc3f757b24946f2a292a1c80f071d81": {
      "model_module": "@jupyter-widgets/controls",
      "model_module_version": "1.5.0",
      "model_name": "HTMLModel",
      "state": {
       "layout": "IPY_MODEL_4a573839cd8e443c9cfb04b30ec7e935",
       "style": "IPY_MODEL_31a083ff27ca41f7ba0a649ed9019212",
       "value": " 74/469 [00:35&lt;03:11,  2.06it/s]"
      }
     },
     "bc505940302243cfaa8bfa693f1be8da": {
      "model_module": "@jupyter-widgets/base",
      "model_module_version": "1.2.0",
      "model_name": "LayoutModel",
      "state": {}
     },
     "bc641ad4eab74050bb5f348aab25501d": {
      "model_module": "@jupyter-widgets/base",
      "model_module_version": "1.2.0",
      "model_name": "LayoutModel",
      "state": {}
     },
     "bc91a526350e44f29ff64cd293650a9c": {
      "model_module": "@jupyter-widgets/controls",
      "model_module_version": "1.5.0",
      "model_name": "FloatProgressModel",
      "state": {
       "layout": "IPY_MODEL_f1fa2e72d9694a9cbd7c29341e146015",
       "max": 1,
       "style": "IPY_MODEL_232e3e0be81e4341a5fe60cc13c4f47e"
      }
     },
     "bcafb72a5a614cf6963fd5079be46c9e": {
      "model_module": "@jupyter-widgets/base",
      "model_module_version": "1.2.0",
      "model_name": "LayoutModel",
      "state": {}
     },
     "bd6bda3742174677a56f02c83dd62649": {
      "model_module": "@jupyter-widgets/controls",
      "model_module_version": "1.5.0",
      "model_name": "DescriptionStyleModel",
      "state": {
       "description_width": ""
      }
     },
     "bd94e72d86a648d2ac7df70f4e4fdff1": {
      "model_module": "@jupyter-widgets/controls",
      "model_module_version": "1.5.0",
      "model_name": "HTMLModel",
      "state": {
       "layout": "IPY_MODEL_60e1d0e4aedb4a3291db38842d674cbd",
       "style": "IPY_MODEL_f78327c185864e0c8da9820ded4d7123",
       "value": "steps_f (loss_f: -0.02655): 100%"
      }
     },
     "bd990698872f432b9bc6e2dfdf246e1d": {
      "model_module": "@jupyter-widgets/base",
      "model_module_version": "1.2.0",
      "model_name": "LayoutModel",
      "state": {}
     },
     "bdbcae98227c4a43ac20fd8b0b93e45b": {
      "model_module": "@jupyter-widgets/controls",
      "model_module_version": "1.5.0",
      "model_name": "DescriptionStyleModel",
      "state": {
       "description_width": ""
      }
     },
     "be217f62c8164737be1ad496c0169eb0": {
      "model_module": "@jupyter-widgets/controls",
      "model_module_version": "1.5.0",
      "model_name": "ProgressStyleModel",
      "state": {
       "description_width": ""
      }
     },
     "be5a7e5b364b4f0db72efdd57b0bcc67": {
      "model_module": "@jupyter-widgets/base",
      "model_module_version": "1.2.0",
      "model_name": "LayoutModel",
      "state": {}
     },
     "be78d159993e425aae7099470075b410": {
      "model_module": "@jupyter-widgets/controls",
      "model_module_version": "1.5.0",
      "model_name": "HBoxModel",
      "state": {
       "children": [
        "IPY_MODEL_19e90ea90db84be6ad18bc9dd5e0199e",
        "IPY_MODEL_4aa42c7e60a04a908595194f105e6571",
        "IPY_MODEL_8dc75c2f3e964000a3374c17e517168f"
       ],
       "layout": "IPY_MODEL_989064c64c1d4183a3b3832bd9ce88c3"
      }
     },
     "bee8f6c7159341de834c07fca3faf13c": {
      "model_module": "@jupyter-widgets/controls",
      "model_module_version": "1.5.0",
      "model_name": "HTMLModel",
      "state": {
       "layout": "IPY_MODEL_0eceff1cb7964e19a594ecde1c587143",
       "style": "IPY_MODEL_b5b4dd6f743b4c449bfc27da82b3cd10",
       "value": "d_loss: -0.00023: 100%"
      }
     },
     "bef5b9a77a9749b994e673f4fcf31568": {
      "model_module": "@jupyter-widgets/controls",
      "model_module_version": "1.5.0",
      "model_name": "HBoxModel",
      "state": {
       "children": [
        "IPY_MODEL_27ae231d1c4240c1befc0493b5ec1743",
        "IPY_MODEL_aa79867f99724179804f7a0f00fa4ee0",
        "IPY_MODEL_cdc1aa19827a4d538c8751f6636a92d7"
       ],
       "layout": "IPY_MODEL_e70b4703002a4a22a91bf6f242ebebfb"
      }
     },
     "bf625f02f47b4cf0afd3d1d88fe07904": {
      "model_module": "@jupyter-widgets/controls",
      "model_module_version": "1.5.0",
      "model_name": "HTMLModel",
      "state": {
       "layout": "IPY_MODEL_9a3cc9d247b84779b549c8e498e0cb10",
       "style": "IPY_MODEL_a4e5d1832aea4a71b10c0d21bf4e18ae",
       "value": "epoch:   0%"
      }
     },
     "bfadbd0553a840249c763a815f0ec430": {
      "model_module": "@jupyter-widgets/base",
      "model_module_version": "1.2.0",
      "model_name": "LayoutModel",
      "state": {}
     },
     "bfe79cd2e7684f73a05de29b6d9a67c7": {
      "model_module": "@jupyter-widgets/controls",
      "model_module_version": "1.5.0",
      "model_name": "DescriptionStyleModel",
      "state": {
       "description_width": ""
      }
     },
     "c00dd66df4254093bd86e3adc77e79b9": {
      "model_module": "@jupyter-widgets/controls",
      "model_module_version": "1.5.0",
      "model_name": "HTMLModel",
      "state": {
       "layout": "IPY_MODEL_5d6661deb1ea42098b8392e8fe6af54a",
       "style": "IPY_MODEL_de53a28751124d63a4bb9d781607a6a6",
       "value": " 20/20 [1:53:51&lt;00:00, 387.89s/it]"
      }
     },
     "c03649aafced42819213c08d00aef1e6": {
      "model_module": "@jupyter-widgets/base",
      "model_module_version": "1.2.0",
      "model_name": "LayoutModel",
      "state": {}
     },
     "c054bcad49af47c68727c3775ee78e6e": {
      "model_module": "@jupyter-widgets/controls",
      "model_module_version": "1.5.0",
      "model_name": "DescriptionStyleModel",
      "state": {
       "description_width": ""
      }
     },
     "c08f6c4d5fe14977a32abc2fb0066abb": {
      "model_module": "@jupyter-widgets/controls",
      "model_module_version": "1.5.0",
      "model_name": "HTMLModel",
      "state": {
       "layout": "IPY_MODEL_23c5c360631f4cef9ea5d74ca3aca8ba",
       "style": "IPY_MODEL_0600d029508046e7aa7a0aa789c21caa",
       "value": "steps_f (loss_f: 0.01265):  46%"
      }
     },
     "c094faef47954ab4ab54d987bca9fdd9": {
      "model_module": "@jupyter-widgets/controls",
      "model_module_version": "1.5.0",
      "model_name": "HTMLModel",
      "state": {
       "layout": "IPY_MODEL_cb77a0c3fd8d42a0b31097c271755895",
       "style": "IPY_MODEL_49315cca760d4b708684214e7eaa6978",
       "value": " 100/100 [5:23:22&lt;00:00, 198.47s/it]"
      }
     },
     "c10382da10f74305ba86fe6b7d804979": {
      "model_module": "@jupyter-widgets/controls",
      "model_module_version": "1.5.0",
      "model_name": "FloatProgressModel",
      "state": {
       "layout": "IPY_MODEL_04f224432c2e4fe4acaf6485be3251d5",
       "max": 93,
       "style": "IPY_MODEL_9b7e38f342634d66ad26cb016f470964"
      }
     },
     "c15eae9522f34404ba11fc8c3a25212b": {
      "model_module": "@jupyter-widgets/base",
      "model_module_version": "1.2.0",
      "model_name": "LayoutModel",
      "state": {}
     },
     "c18414c84a1f4faaa0db3f3b2fc9f2a0": {
      "model_module": "@jupyter-widgets/base",
      "model_module_version": "1.2.0",
      "model_name": "LayoutModel",
      "state": {}
     },
     "c22de4f2dbc044f79d470e6f0174fea5": {
      "model_module": "@jupyter-widgets/base",
      "model_module_version": "1.2.0",
      "model_name": "LayoutModel",
      "state": {}
     },
     "c262cf5c37c14a69a7d3424328cb11d6": {
      "model_module": "@jupyter-widgets/controls",
      "model_module_version": "1.5.0",
      "model_name": "FloatProgressModel",
      "state": {
       "layout": "IPY_MODEL_68e8d88c180748c9b53e4a7144bd8a20",
       "max": 234,
       "style": "IPY_MODEL_9b379fb53bd341daa7be063ef5f0abfe",
       "value": 9
      }
     },
     "c2f4bafff9484c81a7188b87d496ed16": {
      "model_module": "@jupyter-widgets/base",
      "model_module_version": "1.2.0",
      "model_name": "LayoutModel",
      "state": {}
     },
     "c2fb5e5da9a0411b8603d3d5a8a4ed46": {
      "model_module": "@jupyter-widgets/base",
      "model_module_version": "1.2.0",
      "model_name": "LayoutModel",
      "state": {}
     },
     "c39fb8a456cb4f26a4604014b3c5ed4d": {
      "model_module": "@jupyter-widgets/controls",
      "model_module_version": "1.5.0",
      "model_name": "FloatProgressModel",
      "state": {
       "layout": "IPY_MODEL_a92c6a3ab0c74336b2326a0fe90b6cd2",
       "max": 469,
       "style": "IPY_MODEL_ba5d42ded817489394ec66ef8afd7737",
       "value": 63
      }
     },
     "c42b368d527c4a02a2a05fb9ebd7d4c2": {
      "model_module": "@jupyter-widgets/controls",
      "model_module_version": "1.5.0",
      "model_name": "FloatProgressModel",
      "state": {
       "layout": "IPY_MODEL_08e96e6cde2446669f9715c869a1e47b",
       "max": 234,
       "style": "IPY_MODEL_e79c32b63a9f43b4b03febefa27d8939",
       "value": 37
      }
     },
     "c4af78a274cb4347823340f44993b6e8": {
      "model_module": "@jupyter-widgets/base",
      "model_module_version": "1.2.0",
      "model_name": "LayoutModel",
      "state": {}
     },
     "c4f449e6e6bd4041be25241e459a711c": {
      "model_module": "@jupyter-widgets/controls",
      "model_module_version": "1.5.0",
      "model_name": "FloatProgressModel",
      "state": {
       "layout": "IPY_MODEL_cc894f4bb0ac44adb8992450682f717f",
       "max": 234,
       "style": "IPY_MODEL_1f0510342b1344e499e0ea76cb13fa79",
       "value": 166
      }
     },
     "c4f4984f0eaa42f4a39d0a0f1486e1bf": {
      "model_module": "@jupyter-widgets/controls",
      "model_module_version": "1.5.0",
      "model_name": "DescriptionStyleModel",
      "state": {
       "description_width": ""
      }
     },
     "c529e28dda1e4b16b23d384871b9cc9d": {
      "model_module": "@jupyter-widgets/base",
      "model_module_version": "1.2.0",
      "model_name": "LayoutModel",
      "state": {}
     },
     "c5477a66489f41cfa2435a956ed333c7": {
      "model_module": "@jupyter-widgets/controls",
      "model_module_version": "1.5.0",
      "model_name": "FloatProgressModel",
      "state": {
       "layout": "IPY_MODEL_552463a1ccf047a5a642fcd652460c81",
       "max": 234,
       "style": "IPY_MODEL_0201c71904624cfa89a901842b8ac895",
       "value": 234
      }
     },
     "c585981ffb354c02883795c6e2deb1e6": {
      "model_module": "@jupyter-widgets/base",
      "model_module_version": "1.2.0",
      "model_name": "LayoutModel",
      "state": {}
     },
     "c5ac65882e9642a4ae6f044dae6ef54c": {
      "model_module": "@jupyter-widgets/controls",
      "model_module_version": "1.5.0",
      "model_name": "HBoxModel",
      "state": {
       "children": [
        "IPY_MODEL_9cac6b0aafdc4422893bad0483c10a4c",
        "IPY_MODEL_aa1687e81845477aa6a774f22bb48c8b",
        "IPY_MODEL_46c38252e1df4680a2cef89d34a06c2f"
       ],
       "layout": "IPY_MODEL_456193f99a1a4cf394bd858fd4755812"
      }
     },
     "c63f22db1088441fb41f458600d19fc8": {
      "model_module": "@jupyter-widgets/controls",
      "model_module_version": "1.5.0",
      "model_name": "FloatProgressModel",
      "state": {
       "layout": "IPY_MODEL_e6c1000aeeee4d5dae67359c2e1afe8b",
       "max": 20,
       "style": "IPY_MODEL_0fe662b6044a4a5593e40ddc18a0704d",
       "value": 20
      }
     },
     "c6837a8c4a3745bc8afdf7968eb29387": {
      "model_module": "@jupyter-widgets/controls",
      "model_module_version": "1.5.0",
      "model_name": "DescriptionStyleModel",
      "state": {
       "description_width": ""
      }
     },
     "c68ba33b697d484d907dec5e59fb8fbf": {
      "model_module": "@jupyter-widgets/base",
      "model_module_version": "1.2.0",
      "model_name": "LayoutModel",
      "state": {}
     },
     "c6901d4708fd4894a93522f99a4a109e": {
      "model_module": "@jupyter-widgets/controls",
      "model_module_version": "1.5.0",
      "model_name": "ProgressStyleModel",
      "state": {
       "description_width": ""
      }
     },
     "c7002b0d076342a3a0a53e9889cd4fdd": {
      "model_module": "@jupyter-widgets/controls",
      "model_module_version": "1.5.0",
      "model_name": "DescriptionStyleModel",
      "state": {
       "description_width": ""
      }
     },
     "c7104076ac8a498a8bb05b4578f70af7": {
      "model_module": "@jupyter-widgets/base",
      "model_module_version": "1.2.0",
      "model_name": "LayoutModel",
      "state": {}
     },
     "c7a1253939a74c2c92908c8107ff033a": {
      "model_module": "@jupyter-widgets/controls",
      "model_module_version": "1.5.0",
      "model_name": "DescriptionStyleModel",
      "state": {
       "description_width": ""
      }
     },
     "c7c4fcd2d22f4dc792f324b57f19bc40": {
      "model_module": "@jupyter-widgets/controls",
      "model_module_version": "1.5.0",
      "model_name": "HTMLModel",
      "state": {
       "layout": "IPY_MODEL_a43d48c06fc44bf69bc07f8e50868a1f",
       "style": "IPY_MODEL_8f8d3e72daf34322b3b61e791385f8cd",
       "value": " 0/100 [00:00&lt;?, ?it/s]"
      }
     },
     "c86675fc682a4b459975f5fe11a00a83": {
      "model_module": "@jupyter-widgets/controls",
      "model_module_version": "1.5.0",
      "model_name": "DescriptionStyleModel",
      "state": {
       "description_width": ""
      }
     },
     "c86abf0b4ee6499f93e8e11d64f5389b": {
      "model_module": "@jupyter-widgets/controls",
      "model_module_version": "1.5.0",
      "model_name": "HTMLModel",
      "state": {
       "layout": "IPY_MODEL_3b9bc3f8a78c4154badc1c508f2e97c3",
       "style": "IPY_MODEL_b143994458a94d61884c32935e147e8a",
       "value": "epoch:   3%"
      }
     },
     "c876286bc8d74d5e8656636e319ab0ea": {
      "model_module": "@jupyter-widgets/controls",
      "model_module_version": "1.5.0",
      "model_name": "DescriptionStyleModel",
      "state": {
       "description_width": ""
      }
     },
     "c897fabb1e7c41489cdabbdf5ff56814": {
      "model_module": "@jupyter-widgets/controls",
      "model_module_version": "1.5.0",
      "model_name": "FloatProgressModel",
      "state": {
       "layout": "IPY_MODEL_7b86cf25170846f78f4f63e78383bfe0",
       "max": 234,
       "style": "IPY_MODEL_0e9bf8d8edd3400f85408e9b58ef3102",
       "value": 87
      }
     },
     "c8ddf2fafc63432daca2de08c572dcd5": {
      "model_module": "@jupyter-widgets/controls",
      "model_module_version": "1.5.0",
      "model_name": "HBoxModel",
      "state": {
       "children": [
        "IPY_MODEL_85696b2f64574000a93f0a75f4fdb2ec",
        "IPY_MODEL_7a737da68a9143bba9b0c6248b5bd54e",
        "IPY_MODEL_e037d127d52e4d45954735ca8bd479f3"
       ],
       "layout": "IPY_MODEL_8085bd3866f54bc78e12eb2a3fe13927"
      }
     },
     "c8ee3a51641f4167ba23f9eaa96ba3ac": {
      "model_module": "@jupyter-widgets/controls",
      "model_module_version": "1.5.0",
      "model_name": "HBoxModel",
      "state": {
       "children": [
        "IPY_MODEL_2593f3f24c6040f9890e7350bf3eedcf",
        "IPY_MODEL_f8fd24274af74c09bb8486d6d0c1366a",
        "IPY_MODEL_9a7014c56c9d4a5f902e2c2d62cea024"
       ],
       "layout": "IPY_MODEL_aa25db7e270a444d9825f7a5329a9533"
      }
     },
     "c931cd10cd62447ca7cc9f30d454c083": {
      "model_module": "@jupyter-widgets/base",
      "model_module_version": "1.2.0",
      "model_name": "LayoutModel",
      "state": {}
     },
     "c942d3006dcf49ae86ce48d5ee316418": {
      "model_module": "@jupyter-widgets/controls",
      "model_module_version": "1.5.0",
      "model_name": "ProgressStyleModel",
      "state": {
       "description_width": ""
      }
     },
     "c95cecc9ab794be58d4fbfcd2c65da3b": {
      "model_module": "@jupyter-widgets/controls",
      "model_module_version": "1.5.0",
      "model_name": "DescriptionStyleModel",
      "state": {
       "description_width": ""
      }
     },
     "c9a282e7fe0b4e3faf92a0a5bdb230ec": {
      "model_module": "@jupyter-widgets/base",
      "model_module_version": "1.2.0",
      "model_name": "LayoutModel",
      "state": {}
     },
     "c9bb1b48deb24ca290fa6478e8ddbaa9": {
      "model_module": "@jupyter-widgets/controls",
      "model_module_version": "1.5.0",
      "model_name": "DescriptionStyleModel",
      "state": {
       "description_width": ""
      }
     },
     "c9e72439f76d4ae7a0f3187a0ecd20c5": {
      "model_module": "@jupyter-widgets/controls",
      "model_module_version": "1.5.0",
      "model_name": "HTMLModel",
      "state": {
       "layout": "IPY_MODEL_f6128f03a036447c9c862769178c0201",
       "style": "IPY_MODEL_4a6aa45c3c634a3dba0e3ab152448ebe",
       "value": " 1/1 [01:29&lt;00:00, 89.14s/it]"
      }
     },
     "ca28870f260640ad93ec0d152ef0748b": {
      "model_module": "@jupyter-widgets/base",
      "model_module_version": "1.2.0",
      "model_name": "LayoutModel",
      "state": {}
     },
     "ca2e7065142949e6ab0ab3a83aa4676f": {
      "model_module": "@jupyter-widgets/base",
      "model_module_version": "1.2.0",
      "model_name": "LayoutModel",
      "state": {}
     },
     "caca69cceecd4cf08158b2bc2ac5e61b": {
      "model_module": "@jupyter-widgets/base",
      "model_module_version": "1.2.0",
      "model_name": "LayoutModel",
      "state": {}
     },
     "cae269dc45634d3091c98e3d6b6bf9eb": {
      "model_module": "@jupyter-widgets/base",
      "model_module_version": "1.2.0",
      "model_name": "LayoutModel",
      "state": {}
     },
     "cae5ce8426184734815bb6316526ebbf": {
      "model_module": "@jupyter-widgets/controls",
      "model_module_version": "1.5.0",
      "model_name": "FloatProgressModel",
      "state": {
       "layout": "IPY_MODEL_9dec9dd526f043119a42a11e02606337",
       "max": 312,
       "style": "IPY_MODEL_91dfab14146c48fe8746e81664ed303c",
       "value": 312
      }
     },
     "cb05809cc050453484d6a4de76ee9037": {
      "model_module": "@jupyter-widgets/controls",
      "model_module_version": "1.5.0",
      "model_name": "DescriptionStyleModel",
      "state": {
       "description_width": ""
      }
     },
     "cb13e2cd6d5d4fa18384a5ae5fde2f6d": {
      "model_module": "@jupyter-widgets/controls",
      "model_module_version": "1.5.0",
      "model_name": "ProgressStyleModel",
      "state": {
       "description_width": ""
      }
     },
     "cb43dba285024a3a8e7b302c525b33eb": {
      "model_module": "@jupyter-widgets/base",
      "model_module_version": "1.2.0",
      "model_name": "LayoutModel",
      "state": {}
     },
     "cb77a0c3fd8d42a0b31097c271755895": {
      "model_module": "@jupyter-widgets/base",
      "model_module_version": "1.2.0",
      "model_name": "LayoutModel",
      "state": {}
     },
     "cb9a3df02d334ca5969b8ffa2f4e2fe7": {
      "model_module": "@jupyter-widgets/controls",
      "model_module_version": "1.5.0",
      "model_name": "FloatProgressModel",
      "state": {
       "layout": "IPY_MODEL_99d82cb686cf4a0db26871306b62f808",
       "max": 93,
       "style": "IPY_MODEL_e80641bae98649e3be609f482745ccb6",
       "value": 93
      }
     },
     "cc0e98de003d4c838df074e3b70a1ab4": {
      "model_module": "@jupyter-widgets/base",
      "model_module_version": "1.2.0",
      "model_name": "LayoutModel",
      "state": {}
     },
     "cc37b6c541dc4f939c9462bcd768d491": {
      "model_module": "@jupyter-widgets/base",
      "model_module_version": "1.2.0",
      "model_name": "LayoutModel",
      "state": {}
     },
     "cc894f4bb0ac44adb8992450682f717f": {
      "model_module": "@jupyter-widgets/base",
      "model_module_version": "1.2.0",
      "model_name": "LayoutModel",
      "state": {}
     },
     "cc9bdf858e564fc1b6d4c1e8e11436a4": {
      "model_module": "@jupyter-widgets/base",
      "model_module_version": "1.2.0",
      "model_name": "LayoutModel",
      "state": {}
     },
     "cd052f62b83c4032a2812e833e8b2bcc": {
      "model_module": "@jupyter-widgets/controls",
      "model_module_version": "1.5.0",
      "model_name": "DescriptionStyleModel",
      "state": {
       "description_width": ""
      }
     },
     "cd081fc4ac3c4894b54f048cc2870d8f": {
      "model_module": "@jupyter-widgets/controls",
      "model_module_version": "1.5.0",
      "model_name": "FloatProgressModel",
      "state": {
       "layout": "IPY_MODEL_5ee316d2a1f94697bd351df9b89a872d",
       "style": "IPY_MODEL_42d8ee4149f6412285a2c1f21482d51b"
      }
     },
     "cd2b1f82e1d241dcafff5886195c33bf": {
      "model_module": "@jupyter-widgets/controls",
      "model_module_version": "1.5.0",
      "model_name": "DescriptionStyleModel",
      "state": {
       "description_width": ""
      }
     },
     "cda0908444294e5c9975da76afb2ca9f": {
      "model_module": "@jupyter-widgets/controls",
      "model_module_version": "1.5.0",
      "model_name": "FloatProgressModel",
      "state": {
       "layout": "IPY_MODEL_9b0e19acda044d8093ba01d604b1c87d",
       "max": 469,
       "style": "IPY_MODEL_461d79ed259943c28ff9adaba518c1f1",
       "value": 326
      }
     },
     "cdb3bf747bcb44638b5b0405b941b733": {
      "model_module": "@jupyter-widgets/base",
      "model_module_version": "1.2.0",
      "model_name": "LayoutModel",
      "state": {}
     },
     "cdc1aa19827a4d538c8751f6636a92d7": {
      "model_module": "@jupyter-widgets/controls",
      "model_module_version": "1.5.0",
      "model_name": "HTMLModel",
      "state": {
       "layout": "IPY_MODEL_3bbf7d93dc0742558e5a881ce05bdfe0",
       "style": "IPY_MODEL_e7b19b9c189a44829eea3bc4a9f39f04",
       "value": " 385/469 [01:27&lt;00:20,  4.06it/s]"
      }
     },
     "ce0586e039a14d50ab42ca08a25c55d2": {
      "model_module": "@jupyter-widgets/base",
      "model_module_version": "1.2.0",
      "model_name": "LayoutModel",
      "state": {}
     },
     "ce0653da2d744a809063826497fc9ab5": {
      "model_module": "@jupyter-widgets/base",
      "model_module_version": "1.2.0",
      "model_name": "LayoutModel",
      "state": {}
     },
     "ce11e732405343c882b4d02fa9dda10b": {
      "model_module": "@jupyter-widgets/base",
      "model_module_version": "1.2.0",
      "model_name": "LayoutModel",
      "state": {}
     },
     "ce5a307fdf7142428f94974dae049713": {
      "model_module": "@jupyter-widgets/controls",
      "model_module_version": "1.5.0",
      "model_name": "HTMLModel",
      "state": {
       "layout": "IPY_MODEL_c22de4f2dbc044f79d470e6f0174fea5",
       "style": "IPY_MODEL_24da0ddd0c554a0b8d2fee1c6f534a5e",
       "value": "g_steps (g_loss: -0.00236):  14%"
      }
     },
     "ce85549957494dc1bdf83fb5e600137f": {
      "model_module": "@jupyter-widgets/controls",
      "model_module_version": "1.5.0",
      "model_name": "FloatProgressModel",
      "state": {
       "layout": "IPY_MODEL_15eaf3fc03e949d5a2f643048189ce4b",
       "max": 469,
       "style": "IPY_MODEL_102d493d8777422e9828533ae4844013",
       "value": 469
      }
     },
     "cea557fb72b84b3ca2661ed695ed785f": {
      "model_module": "@jupyter-widgets/controls",
      "model_module_version": "1.5.0",
      "model_name": "DescriptionStyleModel",
      "state": {
       "description_width": ""
      }
     },
     "ced817b4677b497798e7ed00d49f9053": {
      "model_module": "@jupyter-widgets/base",
      "model_module_version": "1.2.0",
      "model_name": "LayoutModel",
      "state": {}
     },
     "cedde7592eb0497a834545d25011bf17": {
      "model_module": "@jupyter-widgets/base",
      "model_module_version": "1.2.0",
      "model_name": "LayoutModel",
      "state": {}
     },
     "cf209a14fa1b45e88822cc069f5e1c8b": {
      "model_module": "@jupyter-widgets/controls",
      "model_module_version": "1.5.0",
      "model_name": "HBoxModel",
      "state": {
       "children": [
        "IPY_MODEL_26a9fd9c51cb47d081d5c54a73df85e6",
        "IPY_MODEL_dacbb9007fb1495395c46408c25f8e92",
        "IPY_MODEL_9c017b17f1594e7a9c751a2549010802"
       ],
       "layout": "IPY_MODEL_ce11e732405343c882b4d02fa9dda10b"
      }
     },
     "cf76148513b64800b581bfa4204ab8e7": {
      "model_module": "@jupyter-widgets/controls",
      "model_module_version": "1.5.0",
      "model_name": "ProgressStyleModel",
      "state": {
       "description_width": ""
      }
     },
     "cf907f6d45ac4e99b3a32ffc78c6c0ac": {
      "model_module": "@jupyter-widgets/base",
      "model_module_version": "1.2.0",
      "model_name": "LayoutModel",
      "state": {}
     },
     "cfa334ecc4f448d08928b9e4b3d41b2d": {
      "model_module": "@jupyter-widgets/controls",
      "model_module_version": "1.5.0",
      "model_name": "DescriptionStyleModel",
      "state": {
       "description_width": ""
      }
     },
     "d05327e4e0c94fb59d3007c60edcc6d6": {
      "model_module": "@jupyter-widgets/controls",
      "model_module_version": "1.5.0",
      "model_name": "HTMLModel",
      "state": {
       "layout": "IPY_MODEL_deea0fc97c4e4f0e8652e94b43f35ebc",
       "style": "IPY_MODEL_c7002b0d076342a3a0a53e9889cd4fdd",
       "value": "critic (loss: -0.32927): 100%"
      }
     },
     "d063a72a7e3c4565aa294f89fa231eed": {
      "model_module": "@jupyter-widgets/base",
      "model_module_version": "1.2.0",
      "model_name": "LayoutModel",
      "state": {}
     },
     "d0b69299dec14f438a2e4086a1771a68": {
      "model_module": "@jupyter-widgets/base",
      "model_module_version": "1.2.0",
      "model_name": "LayoutModel",
      "state": {}
     },
     "d0cdf67cab4141ecb74076d066a88a2f": {
      "model_module": "@jupyter-widgets/controls",
      "model_module_version": "1.5.0",
      "model_name": "ProgressStyleModel",
      "state": {
       "description_width": ""
      }
     },
     "d0f8300630854604b42c2622d6953a49": {
      "model_module": "@jupyter-widgets/controls",
      "model_module_version": "1.5.0",
      "model_name": "FloatProgressModel",
      "state": {
       "layout": "IPY_MODEL_30d2452934ae456c8e4d7ae8c9b66ed0",
       "max": 469,
       "style": "IPY_MODEL_5a00a783a6ff41d6b64693bac437ad59",
       "value": 469
      }
     },
     "d1b180b4f3e74dd785ded091cb09dd9b": {
      "model_module": "@jupyter-widgets/base",
      "model_module_version": "1.2.0",
      "model_name": "LayoutModel",
      "state": {}
     },
     "d1cdf1e3f9204f1bbd2b5492df1e0b3e": {
      "model_module": "@jupyter-widgets/base",
      "model_module_version": "1.2.0",
      "model_name": "LayoutModel",
      "state": {}
     },
     "d1e49e9edea94cbd9dee915cadd630ad": {
      "model_module": "@jupyter-widgets/controls",
      "model_module_version": "1.5.0",
      "model_name": "HTMLModel",
      "state": {
       "layout": "IPY_MODEL_e8ef586b29b74eb4837fb26e9671e262",
       "style": "IPY_MODEL_26d1df42bd90466ab4c202153531c4f8",
       "value": " 0/100 [00:00&lt;?, ?it/s]"
      }
     },
     "d2d8cdf9863e474f9a3e91442ad4dccc": {
      "model_module": "@jupyter-widgets/controls",
      "model_module_version": "1.5.0",
      "model_name": "FloatProgressModel",
      "state": {
       "layout": "IPY_MODEL_1f3e33bff10247c6854a810f72c9c53e",
       "max": 235,
       "style": "IPY_MODEL_e5a2032b6b1c4784b2983aa0a86c4ddd",
       "value": 235
      }
     },
     "d330ce00efdf44a0992a9596b26cf10c": {
      "model_module": "@jupyter-widgets/controls",
      "model_module_version": "1.5.0",
      "model_name": "HTMLModel",
      "state": {
       "layout": "IPY_MODEL_3a8978cb3fc549dbb7b753a2f4b3abf7",
       "style": "IPY_MODEL_14b6f084058641b8b7333a5e5744f2de",
       "value": " 93/93 [07:21&lt;00:00,  4.74s/it]"
      }
     },
     "d33ad6656f654dedb43d79d098c2ce39": {
      "model_module": "@jupyter-widgets/controls",
      "model_module_version": "1.5.0",
      "model_name": "ProgressStyleModel",
      "state": {
       "description_width": ""
      }
     },
     "d35fadf22a1f4e96a8fe1a84ecca1c75": {
      "model_module": "@jupyter-widgets/controls",
      "model_module_version": "1.5.0",
      "model_name": "HBoxModel",
      "state": {
       "children": [
        "IPY_MODEL_5904beb4259a4c8198e8ab55668656f2",
        "IPY_MODEL_b2ec02af2b954b9ba8b6d53be6276690",
        "IPY_MODEL_674224c0958d401680973a5899ab8bbd"
       ],
       "layout": "IPY_MODEL_29ee594a627e497bb9cbbf0d9ebc80a2"
      }
     },
     "d3689598b58f42b0ad1bc1471615bfb9": {
      "model_module": "@jupyter-widgets/controls",
      "model_module_version": "1.5.0",
      "model_name": "HTMLModel",
      "state": {
       "layout": "IPY_MODEL_4729dca2258f4896a71731d47de48847",
       "style": "IPY_MODEL_7db4ef9e34f34769bec57e068b3f9a47",
       "value": "g_steps (g_loss: -0.01197):  71%"
      }
     },
     "d380ef367d514236983c65048b51b5dd": {
      "model_module": "@jupyter-widgets/controls",
      "model_module_version": "1.5.0",
      "model_name": "DescriptionStyleModel",
      "state": {
       "description_width": ""
      }
     },
     "d423d84003694788bd8235a71a92bf8a": {
      "model_module": "@jupyter-widgets/controls",
      "model_module_version": "1.5.0",
      "model_name": "DescriptionStyleModel",
      "state": {
       "description_width": ""
      }
     },
     "d42ab2cd13fd461eb576f263c5fef411": {
      "model_module": "@jupyter-widgets/base",
      "model_module_version": "1.2.0",
      "model_name": "LayoutModel",
      "state": {}
     },
     "d43134e8b49a4f7a92698c882d2ccd09": {
      "model_module": "@jupyter-widgets/base",
      "model_module_version": "1.2.0",
      "model_name": "LayoutModel",
      "state": {}
     },
     "d4580acf7576407594a48f7be151dba7": {
      "model_module": "@jupyter-widgets/controls",
      "model_module_version": "1.5.0",
      "model_name": "DescriptionStyleModel",
      "state": {
       "description_width": ""
      }
     },
     "d4b59d50ac9d4c82bc0dc04f99c5b37b": {
      "model_module": "@jupyter-widgets/controls",
      "model_module_version": "1.5.0",
      "model_name": "DescriptionStyleModel",
      "state": {
       "description_width": ""
      }
     },
     "d4d6a1a8cb364d1ca44fc0ad6b9c44fa": {
      "model_module": "@jupyter-widgets/controls",
      "model_module_version": "1.5.0",
      "model_name": "FloatProgressModel",
      "state": {
       "layout": "IPY_MODEL_70f0030f4ca943729b2476a32e53f449",
       "style": "IPY_MODEL_61708a7a75b441d0bac078a513dbf12c"
      }
     },
     "d4de513d1883448abd56bca89fe8d1fa": {
      "model_module": "@jupyter-widgets/controls",
      "model_module_version": "1.5.0",
      "model_name": "DescriptionStyleModel",
      "state": {
       "description_width": ""
      }
     },
     "d54d3a8085a54ce1a79d76df4509027e": {
      "model_module": "@jupyter-widgets/base",
      "model_module_version": "1.2.0",
      "model_name": "LayoutModel",
      "state": {}
     },
     "d5ee4a19c798489aa87f62d80ad8dab1": {
      "model_module": "@jupyter-widgets/controls",
      "model_module_version": "1.5.0",
      "model_name": "HTMLModel",
      "state": {
       "layout": "IPY_MODEL_f95a4abee4bc4e6a84b8879d9175dbf1",
       "style": "IPY_MODEL_cd2b1f82e1d241dcafff5886195c33bf",
       "value": " 1/469 [00:01&lt;15:19,  1.96s/it]"
      }
     },
     "d5f4768d0a25461589397fc6d01165db": {
      "model_module": "@jupyter-widgets/controls",
      "model_module_version": "1.5.0",
      "model_name": "HBoxModel",
      "state": {
       "children": [
        "IPY_MODEL_45bc0a8fd4ea494dbeabe0d27cdb7296",
        "IPY_MODEL_427c79e69ac94df88ddaf9803af4e55b",
        "IPY_MODEL_6d321b2ebb47487fb7e2b8b6d5eef38c"
       ],
       "layout": "IPY_MODEL_fb0ebf7e384844e1940f288a29c0272a"
      }
     },
     "d65d2e7e1a294b41827c6b55b34c5e17": {
      "model_module": "@jupyter-widgets/controls",
      "model_module_version": "1.5.0",
      "model_name": "ProgressStyleModel",
      "state": {
       "description_width": ""
      }
     },
     "d6ba921aadbb4313bc526861d89ad068": {
      "model_module": "@jupyter-widgets/controls",
      "model_module_version": "1.5.0",
      "model_name": "HBoxModel",
      "state": {
       "children": [
        "IPY_MODEL_9a23eed15c4844f7ae33b8cfff7ccbba",
        "IPY_MODEL_eda8b729a1714c3fbbf6a4cb602f9e01",
        "IPY_MODEL_b85d67cef1de4cc0ac43d44990711987"
       ],
       "layout": "IPY_MODEL_02094f01b551402fb8b76a2cfb5a5fd0"
      }
     },
     "d6c9e63f75ae49c98a908b24834f8a49": {
      "model_module": "@jupyter-widgets/base",
      "model_module_version": "1.2.0",
      "model_name": "LayoutModel",
      "state": {}
     },
     "d70e742401d64fa1bd97501f8432ed2c": {
      "model_module": "@jupyter-widgets/controls",
      "model_module_version": "1.5.0",
      "model_name": "FloatProgressModel",
      "state": {
       "layout": "IPY_MODEL_e1bf283756504988ad2f4beb81bc71de",
       "style": "IPY_MODEL_fb0e70320e2f48a2ad45ffbb7f47305d"
      }
     },
     "d74809d995d44a5490dfd9643ad3684a": {
      "model_module": "@jupyter-widgets/controls",
      "model_module_version": "1.5.0",
      "model_name": "DescriptionStyleModel",
      "state": {
       "description_width": ""
      }
     },
     "d7667909f75a40efbf23be19081dd7b9": {
      "model_module": "@jupyter-widgets/controls",
      "model_module_version": "1.5.0",
      "model_name": "HBoxModel",
      "state": {
       "children": [
        "IPY_MODEL_7a9c786b676340f8ad7cf80991ba0582",
        "IPY_MODEL_320a139be56045198ce53c0765302619",
        "IPY_MODEL_2cba7b5941f74057b729e783fe3a41cb"
       ],
       "layout": "IPY_MODEL_75c3096c5c5b445cb4bfd8b175a3aaec"
      }
     },
     "d77f9b63904b4e138e4a0c565cfc41b3": {
      "model_module": "@jupyter-widgets/base",
      "model_module_version": "1.2.0",
      "model_name": "LayoutModel",
      "state": {}
     },
     "d7e68c05452240279709657e82fdf4d0": {
      "model_module": "@jupyter-widgets/controls",
      "model_module_version": "1.5.0",
      "model_name": "DescriptionStyleModel",
      "state": {
       "description_width": ""
      }
     },
     "d8158713e0044dc7baae791dac8aee17": {
      "model_module": "@jupyter-widgets/controls",
      "model_module_version": "1.5.0",
      "model_name": "HTMLModel",
      "state": {
       "layout": "IPY_MODEL_bc505940302243cfaa8bfa693f1be8da",
       "style": "IPY_MODEL_f78cd7d67fff46f69a5fec0798f193b0",
       "value": " 93/93 [04:21&lt;00:00,  2.45s/it]"
      }
     },
     "d82f518940ac48debc1257997a23e60d": {
      "model_module": "@jupyter-widgets/controls",
      "model_module_version": "1.5.0",
      "model_name": "ProgressStyleModel",
      "state": {
       "description_width": ""
      }
     },
     "d830b6b382d2422ab63fa1c9a2572228": {
      "model_module": "@jupyter-widgets/controls",
      "model_module_version": "1.5.0",
      "model_name": "HTMLModel",
      "state": {
       "layout": "IPY_MODEL_b741f8d3af91432c83ec49ac2d23e2b0",
       "style": "IPY_MODEL_aa88a4b87ebb40df9ed31c2c3fd44fc8",
       "value": " 1/1 [03:22&lt;00:00, 202.49s/it]"
      }
     },
     "d83ddc075e014a5ba3aa13802989074f": {
      "model_module": "@jupyter-widgets/controls",
      "model_module_version": "1.5.0",
      "model_name": "FloatProgressModel",
      "state": {
       "layout": "IPY_MODEL_3692da07fa7b47bead9776f1df939f5a",
       "max": 469,
       "style": "IPY_MODEL_7edfc95ee1734cc6ac6f170040112cfc",
       "value": 47
      }
     },
     "d8a6d132c46240e3aa39c5d7f31c65d3": {
      "model_module": "@jupyter-widgets/controls",
      "model_module_version": "1.5.0",
      "model_name": "DescriptionStyleModel",
      "state": {
       "description_width": ""
      }
     },
     "d911e76e1c684630823aa53af097ce20": {
      "model_module": "@jupyter-widgets/controls",
      "model_module_version": "1.5.0",
      "model_name": "HBoxModel",
      "state": {
       "children": [
        "IPY_MODEL_75e8e44bcc8846c887b033e6d25017b6",
        "IPY_MODEL_665ed9233a4443f1822818a73fa73901",
        "IPY_MODEL_1dc0158e5f844bc686e2ec6e3fd76b2f"
       ],
       "layout": "IPY_MODEL_88fe3b3f618241fc99d658e2ccdd7bd3"
      }
     },
     "d9a649ee28934c7cb2c61bdc85aa7f6f": {
      "model_module": "@jupyter-widgets/base",
      "model_module_version": "1.2.0",
      "model_name": "LayoutModel",
      "state": {}
     },
     "d9acf3c72ae943d080413f804adbf8db": {
      "model_module": "@jupyter-widgets/base",
      "model_module_version": "1.2.0",
      "model_name": "LayoutModel",
      "state": {}
     },
     "d9d52ddfd3f44db5b01161669f1cc20b": {
      "model_module": "@jupyter-widgets/controls",
      "model_module_version": "1.5.0",
      "model_name": "HTMLModel",
      "state": {
       "layout": "IPY_MODEL_ac521003c95f445cb4329f8c6de1c3e8",
       "style": "IPY_MODEL_3d9e846988e74a599d1b99b83a77ac92",
       "value": "epoch: 100%"
      }
     },
     "da3fbace235845168ae58cca72451e00": {
      "model_module": "@jupyter-widgets/base",
      "model_module_version": "1.2.0",
      "model_name": "LayoutModel",
      "state": {}
     },
     "da59e04e68a3496585d97881e7801a4f": {
      "model_module": "@jupyter-widgets/controls",
      "model_module_version": "1.5.0",
      "model_name": "FloatProgressModel",
      "state": {
       "layout": "IPY_MODEL_fec7e2c3309d4b7289c35e4719f8e366",
       "max": 1,
       "style": "IPY_MODEL_3614fcd88afc4650bd34f432fffd93ca",
       "value": 1
      }
     },
     "dacbb9007fb1495395c46408c25f8e92": {
      "model_module": "@jupyter-widgets/controls",
      "model_module_version": "1.5.0",
      "model_name": "FloatProgressModel",
      "state": {
       "layout": "IPY_MODEL_aa5458668fb54e849cdb566ae1f0fd90",
       "max": 469,
       "style": "IPY_MODEL_ea69a17182d645f1858f3f9ae5857d20",
       "value": 469
      }
     },
     "dad4e4073b9b432b8e28493088b61ccc": {
      "model_module": "@jupyter-widgets/controls",
      "model_module_version": "1.5.0",
      "model_name": "DescriptionStyleModel",
      "state": {
       "description_width": ""
      }
     },
     "dae112206783487caa2fada3b7fea8e4": {
      "model_module": "@jupyter-widgets/controls",
      "model_module_version": "1.5.0",
      "model_name": "HBoxModel",
      "state": {
       "children": [
        "IPY_MODEL_f5fd990ad23a40c98b67f643360d8212",
        "IPY_MODEL_409574199e424c1794abdf3ed333d867",
        "IPY_MODEL_4e840f5669584270af2553e06601070d"
       ],
       "layout": "IPY_MODEL_1948798cb6724845a817b77c86136fb8"
      }
     },
     "db67b47799914e64b8f79299b1b2739d": {
      "model_module": "@jupyter-widgets/base",
      "model_module_version": "1.2.0",
      "model_name": "LayoutModel",
      "state": {}
     },
     "db889a8ef8274b22a9ecb4abf1874460": {
      "model_module": "@jupyter-widgets/base",
      "model_module_version": "1.2.0",
      "model_name": "LayoutModel",
      "state": {}
     },
     "dc09ec73f1fd464ebd97d37dc418e961": {
      "model_module": "@jupyter-widgets/controls",
      "model_module_version": "1.5.0",
      "model_name": "HTMLModel",
      "state": {
       "layout": "IPY_MODEL_4206fac7f73744d483d3d6bbc48bfcec",
       "style": "IPY_MODEL_276622040efc433eafe4216ca81e1730",
       "value": "steps_G (loss_G: -0.05157):  82%"
      }
     },
     "dc135521139b4786956d303c903316bf": {
      "model_module": "@jupyter-widgets/base",
      "model_module_version": "1.2.0",
      "model_name": "LayoutModel",
      "state": {}
     },
     "dc22a5a9dc7d4697b59a558fda483c1f": {
      "model_module": "@jupyter-widgets/controls",
      "model_module_version": "1.5.0",
      "model_name": "DescriptionStyleModel",
      "state": {
       "description_width": ""
      }
     },
     "dc3c1a45308d402b90b5663bdca28851": {
      "model_module": "@jupyter-widgets/base",
      "model_module_version": "1.2.0",
      "model_name": "LayoutModel",
      "state": {}
     },
     "dc951c1a5cf0477e9045284d506a3992": {
      "model_module": "@jupyter-widgets/base",
      "model_module_version": "1.2.0",
      "model_name": "LayoutModel",
      "state": {}
     },
     "dce21c4bc43d47ef94fbb15ad8ddf186": {
      "model_module": "@jupyter-widgets/controls",
      "model_module_version": "1.5.0",
      "model_name": "HBoxModel",
      "state": {
       "children": [
        "IPY_MODEL_9bc7dde6038d4f4895b20e9db6c63d90",
        "IPY_MODEL_66dacc9c862446ac9869e62a4a9c5c38",
        "IPY_MODEL_ad98c81fec23479183d2e4e23d155866"
       ],
       "layout": "IPY_MODEL_7073ec46869c4ecf8b92ab311e68465e"
      }
     },
     "dd5f34eaf50f4f1aa41ec5b2d7a4b782": {
      "model_module": "@jupyter-widgets/controls",
      "model_module_version": "1.5.0",
      "model_name": "HTMLModel",
      "state": {
       "layout": "IPY_MODEL_20e1758377444140818dcea47269d5e7",
       "style": "IPY_MODEL_f8790a4e6d3d4f278a3fbce3df8026b5",
       "value": " 469/469 [01:20&lt;00:00,  6.82it/s]"
      }
     },
     "dd828c50948a4e42a56ca1b3157a7e46": {
      "model_module": "@jupyter-widgets/controls",
      "model_module_version": "1.5.0",
      "model_name": "HTMLModel",
      "state": {
       "layout": "IPY_MODEL_5f7f3edf040149ce84d1c936cfb1d245",
       "style": "IPY_MODEL_0b6333e758c44d62aba73e750566f930",
       "value": " 469/469 [09:15&lt;00:00,  1.18s/it]"
      }
     },
     "dd9caa3a76aa41d491c5b545bea3d243": {
      "model_module": "@jupyter-widgets/controls",
      "model_module_version": "1.5.0",
      "model_name": "FloatProgressModel",
      "state": {
       "layout": "IPY_MODEL_8b0892fffa10406fa2ecbad8948a8a2b",
       "style": "IPY_MODEL_d0cdf67cab4141ecb74076d066a88a2f"
      }
     },
     "dda064b1e01049cca956f8348824471a": {
      "model_module": "@jupyter-widgets/controls",
      "model_module_version": "1.5.0",
      "model_name": "FloatProgressModel",
      "state": {
       "layout": "IPY_MODEL_dc135521139b4786956d303c903316bf",
       "max": 20,
       "style": "IPY_MODEL_4e799465c1c54129b4e1fef83e65386f",
       "value": 20
      }
     },
     "ddb75829b20e4f8587f41ac7176c1fa5": {
      "model_module": "@jupyter-widgets/base",
      "model_module_version": "1.2.0",
      "model_name": "LayoutModel",
      "state": {}
     },
     "de0f248b8bc04c3aba08cf0a1277b796": {
      "model_module": "@jupyter-widgets/controls",
      "model_module_version": "1.5.0",
      "model_name": "HTMLModel",
      "state": {
       "layout": "IPY_MODEL_9aabfbec991045fb80ca5245fa249e7d",
       "style": "IPY_MODEL_a53ccad2f1d74e798459148bee5c37c1",
       "value": " 1/1 [09:15&lt;00:00, 555.18s/it]"
      }
     },
     "de53a28751124d63a4bb9d781607a6a6": {
      "model_module": "@jupyter-widgets/controls",
      "model_module_version": "1.5.0",
      "model_name": "DescriptionStyleModel",
      "state": {
       "description_width": ""
      }
     },
     "de7967ad93cf4b5195413ccf8134b8cb": {
      "model_module": "@jupyter-widgets/base",
      "model_module_version": "1.2.0",
      "model_name": "LayoutModel",
      "state": {}
     },
     "decccc19ec0a4d60ab6f4e7c1a61f538": {
      "model_module": "@jupyter-widgets/base",
      "model_module_version": "1.2.0",
      "model_name": "LayoutModel",
      "state": {}
     },
     "deea0fc97c4e4f0e8652e94b43f35ebc": {
      "model_module": "@jupyter-widgets/base",
      "model_module_version": "1.2.0",
      "model_name": "LayoutModel",
      "state": {}
     },
     "df1a331660974ac4ab34f2e6d822b432": {
      "model_module": "@jupyter-widgets/base",
      "model_module_version": "1.2.0",
      "model_name": "LayoutModel",
      "state": {}
     },
     "df5e5954c5d94756aef2266ae88287eb": {
      "model_module": "@jupyter-widgets/controls",
      "model_module_version": "1.5.0",
      "model_name": "DescriptionStyleModel",
      "state": {
       "description_width": ""
      }
     },
     "df78a75487dc4bf491ee7d1ea4ae3a04": {
      "model_module": "@jupyter-widgets/controls",
      "model_module_version": "1.5.0",
      "model_name": "HTMLModel",
      "state": {
       "layout": "IPY_MODEL_a373f7b54e0e4b60ac6f3576a3c8d078",
       "style": "IPY_MODEL_ad465ff408554e4b90e5ca12db5b7e15",
       "value": "critic:   0%"
      }
     },
     "df8d06b947994c1e85b3da829fb60c5f": {
      "model_module": "@jupyter-widgets/base",
      "model_module_version": "1.2.0",
      "model_name": "LayoutModel",
      "state": {}
     },
     "dfd9b7211c34484080c2b8f9bcfa497d": {
      "model_module": "@jupyter-widgets/controls",
      "model_module_version": "1.5.0",
      "model_name": "HTMLModel",
      "state": {
       "layout": "IPY_MODEL_eb13c2fd3d254163a6c0279072bf8bbe",
       "style": "IPY_MODEL_962acd1f2b5f4584bdd627f18ebcd054",
       "value": "g_loss: 0.00761: 100%"
      }
     },
     "dfe3626ae588434da87473c40bc97096": {
      "model_module": "@jupyter-widgets/controls",
      "model_module_version": "1.5.0",
      "model_name": "HBoxModel",
      "state": {
       "children": [
        "IPY_MODEL_09d1588c52dd4204831a742fca73d5c5",
        "IPY_MODEL_f6faa22386634ca0ac3ccd47c3e42b26",
        "IPY_MODEL_79e046fd765045099ece802c06ac9f32"
       ],
       "layout": "IPY_MODEL_0f4470aea2e64def9319ee9c2263e2ea"
      }
     },
     "dff852528a2b471d9202f38aa3da5682": {
      "model_module": "@jupyter-widgets/controls",
      "model_module_version": "1.5.0",
      "model_name": "DescriptionStyleModel",
      "state": {
       "description_width": ""
      }
     },
     "e0131243af66483a8ea412f9215aef4b": {
      "model_module": "@jupyter-widgets/controls",
      "model_module_version": "1.5.0",
      "model_name": "ProgressStyleModel",
      "state": {
       "description_width": ""
      }
     },
     "e037d127d52e4d45954735ca8bd479f3": {
      "model_module": "@jupyter-widgets/controls",
      "model_module_version": "1.5.0",
      "model_name": "HTMLModel",
      "state": {
       "layout": "IPY_MODEL_f1a6fa4c05ab489c9e9d294695ed967e",
       "style": "IPY_MODEL_b6f08554998941928b90b7a1310114e9",
       "value": " 24/469 [00:24&lt;06:20,  1.17it/s]"
      }
     },
     "e0aa76ca0bb746ecbd7595ef7c83c01d": {
      "model_module": "@jupyter-widgets/controls",
      "model_module_version": "1.5.0",
      "model_name": "FloatProgressModel",
      "state": {
       "layout": "IPY_MODEL_57ccb4ef478d4d1280c1b61115658163",
       "max": 93,
       "style": "IPY_MODEL_77bdf3a274164621a9c6a1a3726e66b3"
      }
     },
     "e0b6dd06fcbc4702a5928a33e123b9c2": {
      "model_module": "@jupyter-widgets/controls",
      "model_module_version": "1.5.0",
      "model_name": "HTMLModel",
      "state": {
       "layout": "IPY_MODEL_1a343af6ddf14a6b8a38a83240022545",
       "style": "IPY_MODEL_56e4577c017c452b8ce848c166d0347b",
       "value": " 0/20 [00:00&lt;?, ?it/s]"
      }
     },
     "e0b8b92e3b224954a04451c4ab612576": {
      "model_module": "@jupyter-widgets/base",
      "model_module_version": "1.2.0",
      "model_name": "LayoutModel",
      "state": {}
     },
     "e0b9797f8f684cf1a4af23b5c88479c1": {
      "model_module": "@jupyter-widgets/controls",
      "model_module_version": "1.5.0",
      "model_name": "FloatProgressModel",
      "state": {
       "layout": "IPY_MODEL_f472d34fbfbb4fe698129b104efac6e9",
       "style": "IPY_MODEL_22abfc5cf83149159584eba890ec995c",
       "value": 5
      }
     },
     "e0e1821cbc2940ca8a26740bfcbc9c33": {
      "model_module": "@jupyter-widgets/controls",
      "model_module_version": "1.5.0",
      "model_name": "HTMLModel",
      "state": {
       "layout": "IPY_MODEL_7f0e72e2cec24b54a8a6737762dc5ecb",
       "style": "IPY_MODEL_85c0652b8cfe41e99ef152e84e781d29",
       "value": "steps_f (loss_f: 0.00001):  25%"
      }
     },
     "e0fbc05c345f422183e4c4b4b1e1753d": {
      "model_module": "@jupyter-widgets/controls",
      "model_module_version": "1.5.0",
      "model_name": "DescriptionStyleModel",
      "state": {
       "description_width": ""
      }
     },
     "e11725449fdc44768b867e43c5a07ec4": {
      "model_module": "@jupyter-widgets/base",
      "model_module_version": "1.2.0",
      "model_name": "LayoutModel",
      "state": {}
     },
     "e17cc11b051742218cde2e596a6bb091": {
      "model_module": "@jupyter-widgets/controls",
      "model_module_version": "1.5.0",
      "model_name": "HTMLModel",
      "state": {
       "layout": "IPY_MODEL_c9a282e7fe0b4e3faf92a0a5bdb230ec",
       "style": "IPY_MODEL_49817c7a2e05424581eca5147017a506",
       "value": " 10/10 [13:49&lt;00:00, 85.85s/it]"
      }
     },
     "e182e781681e4638b8bf64fbb53f2a24": {
      "model_module": "@jupyter-widgets/base",
      "model_module_version": "1.2.0",
      "model_name": "LayoutModel",
      "state": {}
     },
     "e1a4e432fb4c4ec4a2d90b3316018ac1": {
      "model_module": "@jupyter-widgets/base",
      "model_module_version": "1.2.0",
      "model_name": "LayoutModel",
      "state": {}
     },
     "e1bf283756504988ad2f4beb81bc71de": {
      "model_module": "@jupyter-widgets/base",
      "model_module_version": "1.2.0",
      "model_name": "LayoutModel",
      "state": {}
     },
     "e1def55cfb5d40508cfe19a6922792a4": {
      "model_module": "@jupyter-widgets/controls",
      "model_module_version": "1.5.0",
      "model_name": "DescriptionStyleModel",
      "state": {
       "description_width": ""
      }
     },
     "e213e6df56d743e0a59be0b725f9afdc": {
      "model_module": "@jupyter-widgets/controls",
      "model_module_version": "1.5.0",
      "model_name": "DescriptionStyleModel",
      "state": {
       "description_width": ""
      }
     },
     "e214067e7cfc45448869b40de4be112c": {
      "model_module": "@jupyter-widgets/controls",
      "model_module_version": "1.5.0",
      "model_name": "DescriptionStyleModel",
      "state": {
       "description_width": ""
      }
     },
     "e22537e686d84366b8baa0aa997c679f": {
      "model_module": "@jupyter-widgets/controls",
      "model_module_version": "1.5.0",
      "model_name": "HTMLModel",
      "state": {
       "layout": "IPY_MODEL_787aa98167cf4aa1bb1a8ef3168f9550",
       "style": "IPY_MODEL_853f0b0a324e45608b1ec95123a659d4",
       "value": " 235/235 [03:11&lt;00:00,  1.61it/s]"
      }
     },
     "e2c8d23b0d4c41d89a087764f4f6a2d9": {
      "model_module": "@jupyter-widgets/controls",
      "model_module_version": "1.5.0",
      "model_name": "HTMLModel",
      "state": {
       "layout": "IPY_MODEL_596aa5f7cf904b8ebb2e97f84ea61868",
       "style": "IPY_MODEL_9f47c0e5efea4ef4aa57b7955a527d3c",
       "value": "gen (loss: 15.48638): 100%"
      }
     },
     "e2f6c651941044cdb21cfc2590fccc47": {
      "model_module": "@jupyter-widgets/controls",
      "model_module_version": "1.5.0",
      "model_name": "HTMLModel",
      "state": {
       "layout": "IPY_MODEL_231b6cce428b434db72cdbb9a0858849",
       "style": "IPY_MODEL_241e030070bf43818c5252399f3b9301",
       "value": "epoch:   0%"
      }
     },
     "e305123f782b4420a5e08e0a99e1f594": {
      "model_module": "@jupyter-widgets/base",
      "model_module_version": "1.2.0",
      "model_name": "LayoutModel",
      "state": {}
     },
     "e30f73b3475c4abf951e2ecff7abbb21": {
      "model_module": "@jupyter-widgets/controls",
      "model_module_version": "1.5.0",
      "model_name": "HBoxModel",
      "state": {
       "children": [
        "IPY_MODEL_7a84256788f34e65b0b55d13c63de7cd",
        "IPY_MODEL_f5c9b67dc8f74b15a40c3559a61fed42",
        "IPY_MODEL_eac26add73704ea3bb55db4574ac056a"
       ],
       "layout": "IPY_MODEL_fbaa047b661d400d9434a4e6f6010914"
      }
     },
     "e32ee21fb8af4d689bd54e9f9c3fe874": {
      "model_module": "@jupyter-widgets/controls",
      "model_module_version": "1.5.0",
      "model_name": "HTMLModel",
      "state": {
       "layout": "IPY_MODEL_18d5e5d0125042dcbd3b342101e7000c",
       "style": "IPY_MODEL_e213e6df56d743e0a59be0b725f9afdc",
       "value": "epoch:   0%"
      }
     },
     "e375221dd6e840a1b6b20e45b4e45a52": {
      "model_module": "@jupyter-widgets/controls",
      "model_module_version": "1.5.0",
      "model_name": "DescriptionStyleModel",
      "state": {
       "description_width": ""
      }
     },
     "e3d4f3fc69214855b44e4715c096bf62": {
      "model_module": "@jupyter-widgets/controls",
      "model_module_version": "1.5.0",
      "model_name": "DescriptionStyleModel",
      "state": {
       "description_width": ""
      }
     },
     "e472b56d60b14f839b74c06a708e957d": {
      "model_module": "@jupyter-widgets/base",
      "model_module_version": "1.2.0",
      "model_name": "LayoutModel",
      "state": {}
     },
     "e49afab1fd004d0cb48ccd25ca759814": {
      "model_module": "@jupyter-widgets/base",
      "model_module_version": "1.2.0",
      "model_name": "LayoutModel",
      "state": {}
     },
     "e4a3451fd7de4e1ca2a352c515cd1a61": {
      "model_module": "@jupyter-widgets/base",
      "model_module_version": "1.2.0",
      "model_name": "LayoutModel",
      "state": {}
     },
     "e4ced83d153947f99617309e901daf51": {
      "model_module": "@jupyter-widgets/base",
      "model_module_version": "1.2.0",
      "model_name": "LayoutModel",
      "state": {}
     },
     "e4e16f0e5c1a45f8a4e7be41c0b12cca": {
      "model_module": "@jupyter-widgets/controls",
      "model_module_version": "1.5.0",
      "model_name": "DescriptionStyleModel",
      "state": {
       "description_width": ""
      }
     },
     "e517a2d49a0d42748e9973d6fdd873c8": {
      "model_module": "@jupyter-widgets/base",
      "model_module_version": "1.2.0",
      "model_name": "LayoutModel",
      "state": {}
     },
     "e55b76c6811b4504bbf30424b5573122": {
      "model_module": "@jupyter-widgets/base",
      "model_module_version": "1.2.0",
      "model_name": "LayoutModel",
      "state": {}
     },
     "e5a2032b6b1c4784b2983aa0a86c4ddd": {
      "model_module": "@jupyter-widgets/controls",
      "model_module_version": "1.5.0",
      "model_name": "ProgressStyleModel",
      "state": {
       "description_width": ""
      }
     },
     "e5bc696ddeb6403a9e52d6e0788cae87": {
      "model_module": "@jupyter-widgets/controls",
      "model_module_version": "1.5.0",
      "model_name": "HTMLModel",
      "state": {
       "layout": "IPY_MODEL_e472b56d60b14f839b74c06a708e957d",
       "style": "IPY_MODEL_1ede6a0b936f4cbcb8acd559615267c6",
       "value": " 469/469 [07:21&lt;00:00,  1.15it/s]"
      }
     },
     "e5d70ace4e2c419faca845e7579a1da0": {
      "model_module": "@jupyter-widgets/controls",
      "model_module_version": "1.5.0",
      "model_name": "FloatProgressModel",
      "state": {
       "layout": "IPY_MODEL_caca69cceecd4cf08158b2bc2ac5e61b",
       "max": 469,
       "style": "IPY_MODEL_923a2090f6a54da3beacc1aa336db5c3",
       "value": 469
      }
     },
     "e5df126e9fef41fdaa8eb46b075d7031": {
      "model_module": "@jupyter-widgets/controls",
      "model_module_version": "1.5.0",
      "model_name": "DescriptionStyleModel",
      "state": {
       "description_width": ""
      }
     },
     "e6ace95ca79e4f81b2218a7db5a909e8": {
      "model_module": "@jupyter-widgets/controls",
      "model_module_version": "1.5.0",
      "model_name": "DescriptionStyleModel",
      "state": {
       "description_width": ""
      }
     },
     "e6c1000aeeee4d5dae67359c2e1afe8b": {
      "model_module": "@jupyter-widgets/base",
      "model_module_version": "1.2.0",
      "model_name": "LayoutModel",
      "state": {}
     },
     "e6db6103c27943f1862e50fb430b975b": {
      "model_module": "@jupyter-widgets/base",
      "model_module_version": "1.2.0",
      "model_name": "LayoutModel",
      "state": {}
     },
     "e70b4703002a4a22a91bf6f242ebebfb": {
      "model_module": "@jupyter-widgets/base",
      "model_module_version": "1.2.0",
      "model_name": "LayoutModel",
      "state": {}
     },
     "e70c1f8035cb4b6fae63ba1e679b338e": {
      "model_module": "@jupyter-widgets/base",
      "model_module_version": "1.2.0",
      "model_name": "LayoutModel",
      "state": {}
     },
     "e728d67c656e4bf9b3c798c6448e74f4": {
      "model_module": "@jupyter-widgets/controls",
      "model_module_version": "1.5.0",
      "model_name": "HTMLModel",
      "state": {
       "layout": "IPY_MODEL_f9a5f037e54c43bba6edc95af0de6920",
       "style": "IPY_MODEL_7f75b207dfb64e6b90151825544100bd",
       "value": "gen (loss: 20.06441):  39%"
      }
     },
     "e72a0db2811b4db9919f8c32c3cbadbb": {
      "model_module": "@jupyter-widgets/base",
      "model_module_version": "1.2.0",
      "model_name": "LayoutModel",
      "state": {}
     },
     "e747411b731a451182d47970c99c6557": {
      "model_module": "@jupyter-widgets/base",
      "model_module_version": "1.2.0",
      "model_name": "LayoutModel",
      "state": {}
     },
     "e74a3f05fdaa4582ab811e4fbb47cb04": {
      "model_module": "@jupyter-widgets/base",
      "model_module_version": "1.2.0",
      "model_name": "LayoutModel",
      "state": {}
     },
     "e7897708396243d8a8b1bfe55404f066": {
      "model_module": "@jupyter-widgets/controls",
      "model_module_version": "1.5.0",
      "model_name": "HTMLModel",
      "state": {
       "layout": "IPY_MODEL_03feac46ac4e4fb89254284c44bb0b94",
       "style": "IPY_MODEL_f32c78efd3f845b196dbf4a9d3fdc7a3",
       "value": " 0/1 [00:00&lt;?, ?it/s]"
      }
     },
     "e79c32b63a9f43b4b03febefa27d8939": {
      "model_module": "@jupyter-widgets/controls",
      "model_module_version": "1.5.0",
      "model_name": "ProgressStyleModel",
      "state": {
       "description_width": ""
      }
     },
     "e7a012d74aae4685880539ab037eec48": {
      "model_module": "@jupyter-widgets/controls",
      "model_module_version": "1.5.0",
      "model_name": "DescriptionStyleModel",
      "state": {
       "description_width": ""
      }
     },
     "e7b19b9c189a44829eea3bc4a9f39f04": {
      "model_module": "@jupyter-widgets/controls",
      "model_module_version": "1.5.0",
      "model_name": "DescriptionStyleModel",
      "state": {
       "description_width": ""
      }
     },
     "e7b66ea330454149bb8523fe560de91f": {
      "model_module": "@jupyter-widgets/controls",
      "model_module_version": "1.5.0",
      "model_name": "HBoxModel",
      "state": {
       "children": [
        "IPY_MODEL_8d7d60f2366346e79a816696be30a9bd",
        "IPY_MODEL_e0b9797f8f684cf1a4af23b5c88479c1",
        "IPY_MODEL_1b0047dc03ae4e1995f534f9951cf5a7"
       ],
       "layout": "IPY_MODEL_04c9a4dda2ae48acabcbb362208aa5d0"
      }
     },
     "e80641bae98649e3be609f482745ccb6": {
      "model_module": "@jupyter-widgets/controls",
      "model_module_version": "1.5.0",
      "model_name": "ProgressStyleModel",
      "state": {
       "description_width": ""
      }
     },
     "e84b51afec5d4af383279a672193eb7a": {
      "model_module": "@jupyter-widgets/controls",
      "model_module_version": "1.5.0",
      "model_name": "FloatProgressModel",
      "state": {
       "layout": "IPY_MODEL_a37fd4b765e143eeaf85433085e5f8ca",
       "max": 234,
       "style": "IPY_MODEL_f713fa1c614c4c65bf587541c93e838e",
       "value": 162
      }
     },
     "e8a472bda7de4c859ea3d904a145b05f": {
      "model_module": "@jupyter-widgets/controls",
      "model_module_version": "1.5.0",
      "model_name": "DescriptionStyleModel",
      "state": {
       "description_width": ""
      }
     },
     "e8ef586b29b74eb4837fb26e9671e262": {
      "model_module": "@jupyter-widgets/base",
      "model_module_version": "1.2.0",
      "model_name": "LayoutModel",
      "state": {}
     },
     "e8f0a7f6ea1940269898cdca25d02936": {
      "model_module": "@jupyter-widgets/base",
      "model_module_version": "1.2.0",
      "model_name": "LayoutModel",
      "state": {}
     },
     "e91e055172434aa3a8702942298d71ff": {
      "model_module": "@jupyter-widgets/controls",
      "model_module_version": "1.5.0",
      "model_name": "FloatProgressModel",
      "state": {
       "layout": "IPY_MODEL_1243c8b9fa17476489dfddff078e197c",
       "max": 465,
       "style": "IPY_MODEL_7d4e80da4ada4a7381cf29e56e6da381",
       "value": 180
      }
     },
     "e91ed5e71c9544b2bb8744c51c726255": {
      "model_module": "@jupyter-widgets/base",
      "model_module_version": "1.2.0",
      "model_name": "LayoutModel",
      "state": {}
     },
     "e94543c02d8e414da76e9d54ebf858a9": {
      "model_module": "@jupyter-widgets/base",
      "model_module_version": "1.2.0",
      "model_name": "LayoutModel",
      "state": {}
     },
     "e94a94ab9b7a47beb6b35a887778cf62": {
      "model_module": "@jupyter-widgets/controls",
      "model_module_version": "1.5.0",
      "model_name": "FloatProgressModel",
      "state": {
       "layout": "IPY_MODEL_1710693e655a444eabe96c8030dbd33f",
       "max": 469,
       "style": "IPY_MODEL_fb6cbc0a47ae40ebb4aa2610f29c29b4"
      }
     },
     "e9638e4b75384275b2da1968400f3e45": {
      "model_module": "@jupyter-widgets/controls",
      "model_module_version": "1.5.0",
      "model_name": "HTMLModel",
      "state": {
       "layout": "IPY_MODEL_a286b7d64ec248338c908db976076de7",
       "style": "IPY_MODEL_c054bcad49af47c68727c3775ee78e6e",
       "value": " 0/30 [00:00&lt;?, ?it/s]"
      }
     },
     "e977d90678a346438d415a12174446bd": {
      "model_module": "@jupyter-widgets/controls",
      "model_module_version": "1.5.0",
      "model_name": "FloatProgressModel",
      "state": {
       "layout": "IPY_MODEL_eb0933a53bf4460eb410611ea21df249",
       "max": 469,
       "style": "IPY_MODEL_c6901d4708fd4894a93522f99a4a109e",
       "value": 469
      }
     },
     "e9bd53b53b494abb9bbb0d7a6c422350": {
      "model_module": "@jupyter-widgets/controls",
      "model_module_version": "1.5.0",
      "model_name": "HTMLModel",
      "state": {
       "layout": "IPY_MODEL_9442efd69caa4d7fbd7afa3d93067319",
       "style": "IPY_MODEL_873a6f651d9243e8997e8c5d1473a8a7",
       "value": "d_steps (d_loss: -0.00044):  61%"
      }
     },
     "e9c00552de71432eb640bebeeb0dbed6": {
      "model_module": "@jupyter-widgets/base",
      "model_module_version": "1.2.0",
      "model_name": "LayoutModel",
      "state": {}
     },
     "ea69a17182d645f1858f3f9ae5857d20": {
      "model_module": "@jupyter-widgets/controls",
      "model_module_version": "1.5.0",
      "model_name": "ProgressStyleModel",
      "state": {
       "description_width": ""
      }
     },
     "ea6af73d80424b45b9ce779205a957f8": {
      "model_module": "@jupyter-widgets/controls",
      "model_module_version": "1.5.0",
      "model_name": "HTMLModel",
      "state": {
       "layout": "IPY_MODEL_9c90fbd763e141a9b7fc1c623fd90ba9",
       "style": "IPY_MODEL_e4e16f0e5c1a45f8a4e7be41c0b12cca",
       "value": "g_steps (g_loss: 0.00888):   4%"
      }
     },
     "eac26add73704ea3bb55db4574ac056a": {
      "model_module": "@jupyter-widgets/controls",
      "model_module_version": "1.5.0",
      "model_name": "HTMLModel",
      "state": {
       "layout": "IPY_MODEL_90c40134269b4dc9a49855022c2fb5e9",
       "style": "IPY_MODEL_067e445c19fc4898b37743c57840a110",
       "value": " 469/469 [04:21&lt;00:00,  2.01it/s]"
      }
     },
     "eade7a7935b348e0acf28721f4bd72a6": {
      "model_module": "@jupyter-widgets/base",
      "model_module_version": "1.2.0",
      "model_name": "LayoutModel",
      "state": {}
     },
     "eb0933a53bf4460eb410611ea21df249": {
      "model_module": "@jupyter-widgets/base",
      "model_module_version": "1.2.0",
      "model_name": "LayoutModel",
      "state": {}
     },
     "eb13c2fd3d254163a6c0279072bf8bbe": {
      "model_module": "@jupyter-widgets/base",
      "model_module_version": "1.2.0",
      "model_name": "LayoutModel",
      "state": {}
     },
     "eb79d09fdd954c28ba4309ed2d693e09": {
      "model_module": "@jupyter-widgets/controls",
      "model_module_version": "1.5.0",
      "model_name": "DescriptionStyleModel",
      "state": {
       "description_width": ""
      }
     },
     "eba82c2f700c42afa717e97d04e62b35": {
      "model_module": "@jupyter-widgets/base",
      "model_module_version": "1.2.0",
      "model_name": "LayoutModel",
      "state": {}
     },
     "ec4ceebee33d49cc93bbfac655685ec0": {
      "model_module": "@jupyter-widgets/base",
      "model_module_version": "1.2.0",
      "model_name": "LayoutModel",
      "state": {}
     },
     "ec4eca7aa19f432c8603317e26993c9e": {
      "model_module": "@jupyter-widgets/controls",
      "model_module_version": "1.5.0",
      "model_name": "DescriptionStyleModel",
      "state": {
       "description_width": ""
      }
     },
     "ec63737a011d42cbb9479e7934c6f284": {
      "model_module": "@jupyter-widgets/base",
      "model_module_version": "1.2.0",
      "model_name": "LayoutModel",
      "state": {}
     },
     "ecf6fae754b44551acb3b2462d66ca1e": {
      "model_module": "@jupyter-widgets/base",
      "model_module_version": "1.2.0",
      "model_name": "LayoutModel",
      "state": {}
     },
     "ecf9218ecce440599d0f32d70c0c1a24": {
      "model_module": "@jupyter-widgets/controls",
      "model_module_version": "1.5.0",
      "model_name": "ProgressStyleModel",
      "state": {
       "description_width": ""
      }
     },
     "ecfc7628209442ef9722513cd52eee80": {
      "model_module": "@jupyter-widgets/base",
      "model_module_version": "1.2.0",
      "model_name": "LayoutModel",
      "state": {}
     },
     "ed7c2a2854794eda8600522c2f882a8b": {
      "model_module": "@jupyter-widgets/base",
      "model_module_version": "1.2.0",
      "model_name": "LayoutModel",
      "state": {}
     },
     "eda8b729a1714c3fbbf6a4cb602f9e01": {
      "model_module": "@jupyter-widgets/controls",
      "model_module_version": "1.5.0",
      "model_name": "FloatProgressModel",
      "state": {
       "layout": "IPY_MODEL_310aa9c93998444cb29e0675553c293e",
       "max": 469,
       "style": "IPY_MODEL_01224248418d4394b3eb21b6a401ce31",
       "value": 469
      }
     },
     "ee08d2d38bb248aa9bdc82158a118b6c": {
      "model_module": "@jupyter-widgets/controls",
      "model_module_version": "1.5.0",
      "model_name": "HTMLModel",
      "state": {
       "layout": "IPY_MODEL_d1cdf1e3f9204f1bbd2b5492df1e0b3e",
       "style": "IPY_MODEL_ad910586633147de98f694c401a24ae5",
       "value": "epoch:   0%"
      }
     },
     "ee4fcfcf7fba4f4e8635b9f9a3205946": {
      "model_module": "@jupyter-widgets/controls",
      "model_module_version": "1.5.0",
      "model_name": "HBoxModel",
      "state": {
       "children": [
        "IPY_MODEL_4f03c86ba26e4797be726e37af7e5c87",
        "IPY_MODEL_da59e04e68a3496585d97881e7801a4f",
        "IPY_MODEL_3ddd9b106ce9433db1e29aefe95e531e"
       ],
       "layout": "IPY_MODEL_6e0bda1ea5b844ae9a521faefc2c40c5"
      }
     },
     "ee5bf9ea830f49a1aa4b3992beeb45cd": {
      "model_module": "@jupyter-widgets/controls",
      "model_module_version": "1.5.0",
      "model_name": "HTMLModel",
      "state": {
       "layout": "IPY_MODEL_ff1da9d6719745229efe6069a5c406fe",
       "style": "IPY_MODEL_711da34443d74c3ebaa1d38d7afd065a",
       "value": " 3/100 [16:13&lt;9:12:23, 341.68s/it]"
      }
     },
     "eeb8155628114b1aadc58bf364e06e39": {
      "model_module": "@jupyter-widgets/controls",
      "model_module_version": "1.5.0",
      "model_name": "ProgressStyleModel",
      "state": {
       "description_width": ""
      }
     },
     "eecb3769ed5f4fc58fd8623f25540797": {
      "model_module": "@jupyter-widgets/base",
      "model_module_version": "1.2.0",
      "model_name": "LayoutModel",
      "state": {}
     },
     "ef3bd408026c44b9ac0724ab1e88f1dc": {
      "model_module": "@jupyter-widgets/base",
      "model_module_version": "1.2.0",
      "model_name": "LayoutModel",
      "state": {}
     },
     "efaf56d7124a48fbb39d979fd349e1bd": {
      "model_module": "@jupyter-widgets/controls",
      "model_module_version": "1.5.0",
      "model_name": "HTMLModel",
      "state": {
       "layout": "IPY_MODEL_7cd5fadd98554189bdfedea1ac24e6aa",
       "style": "IPY_MODEL_7b81d7e0aae246d994ea9100fcc22ac4",
       "value": "gen:   0%"
      }
     },
     "efc91e2c48514db7b8dcb67c108e27f3": {
      "model_module": "@jupyter-widgets/controls",
      "model_module_version": "1.5.0",
      "model_name": "HTMLModel",
      "state": {
       "layout": "IPY_MODEL_69aa18a1d64e481090c1f3ff04f34066",
       "style": "IPY_MODEL_6a5cd8db0a6f46b59fe5f930e54d045b",
       "value": "gen (loss: -3.27035):   9%"
      }
     },
     "f06f59fa65b849eaab5e08b2b2eee55b": {
      "model_module": "@jupyter-widgets/controls",
      "model_module_version": "1.5.0",
      "model_name": "HTMLModel",
      "state": {
       "layout": "IPY_MODEL_e182e781681e4638b8bf64fbb53f2a24",
       "style": "IPY_MODEL_901cdb6a791b474aa86f39a155f64122",
       "value": "epoch:   0%"
      }
     },
     "f0eb6863233c45ad81f46bcfac9def9a": {
      "model_module": "@jupyter-widgets/base",
      "model_module_version": "1.2.0",
      "model_name": "LayoutModel",
      "state": {}
     },
     "f0f2820f1a004860bcd50d788e84afe8": {
      "model_module": "@jupyter-widgets/controls",
      "model_module_version": "1.5.0",
      "model_name": "DescriptionStyleModel",
      "state": {
       "description_width": ""
      }
     },
     "f1506b1c7fde404da0bb85488fc46de7": {
      "model_module": "@jupyter-widgets/controls",
      "model_module_version": "1.5.0",
      "model_name": "HTMLModel",
      "state": {
       "layout": "IPY_MODEL_4e1fe5e9652242e3802d4272542e80f6",
       "style": "IPY_MODEL_f749252ad4af4119add67cf8e0f341dc",
       "value": "gen (loss: 26.04796): 100%"
      }
     },
     "f168e979afec4349af28cd488274dee4": {
      "model_module": "@jupyter-widgets/controls",
      "model_module_version": "1.5.0",
      "model_name": "DescriptionStyleModel",
      "state": {
       "description_width": ""
      }
     },
     "f191dd30f2364c7c8de1b4f17a50990b": {
      "model_module": "@jupyter-widgets/controls",
      "model_module_version": "1.5.0",
      "model_name": "FloatProgressModel",
      "state": {
       "layout": "IPY_MODEL_d9acf3c72ae943d080413f804adbf8db",
       "max": 469,
       "style": "IPY_MODEL_1b9f903dddbb4273b548c454be9fb3d6",
       "value": 5
      }
     },
     "f19afd1e13fa4e9e9b0ec804779c4121": {
      "model_module": "@jupyter-widgets/controls",
      "model_module_version": "1.5.0",
      "model_name": "ProgressStyleModel",
      "state": {
       "description_width": ""
      }
     },
     "f1a6fa4c05ab489c9e9d294695ed967e": {
      "model_module": "@jupyter-widgets/base",
      "model_module_version": "1.2.0",
      "model_name": "LayoutModel",
      "state": {}
     },
     "f1b679cb984942e5a105427721d1a1ef": {
      "model_module": "@jupyter-widgets/controls",
      "model_module_version": "1.5.0",
      "model_name": "DescriptionStyleModel",
      "state": {
       "description_width": ""
      }
     },
     "f1e2c0860e784b85a8b93484e6b7274f": {
      "model_module": "@jupyter-widgets/base",
      "model_module_version": "1.2.0",
      "model_name": "LayoutModel",
      "state": {}
     },
     "f1fa2e72d9694a9cbd7c29341e146015": {
      "model_module": "@jupyter-widgets/base",
      "model_module_version": "1.2.0",
      "model_name": "LayoutModel",
      "state": {}
     },
     "f2c4885fd11b4d03abb7b22e04915999": {
      "model_module": "@jupyter-widgets/base",
      "model_module_version": "1.2.0",
      "model_name": "LayoutModel",
      "state": {}
     },
     "f2cdf42eaa2c4953b77905ddedf75390": {
      "model_module": "@jupyter-widgets/base",
      "model_module_version": "1.2.0",
      "model_name": "LayoutModel",
      "state": {}
     },
     "f2dda76d438c422c948e77aed6cb0408": {
      "model_module": "@jupyter-widgets/base",
      "model_module_version": "1.2.0",
      "model_name": "LayoutModel",
      "state": {}
     },
     "f32a8fc53fd847d9999c5a3849bf6d0b": {
      "model_module": "@jupyter-widgets/controls",
      "model_module_version": "1.5.0",
      "model_name": "ProgressStyleModel",
      "state": {
       "description_width": ""
      }
     },
     "f32c78efd3f845b196dbf4a9d3fdc7a3": {
      "model_module": "@jupyter-widgets/controls",
      "model_module_version": "1.5.0",
      "model_name": "DescriptionStyleModel",
      "state": {
       "description_width": ""
      }
     },
     "f359c7806c794d09a15acd61d6699bb5": {
      "model_module": "@jupyter-widgets/controls",
      "model_module_version": "1.5.0",
      "model_name": "FloatProgressModel",
      "state": {
       "layout": "IPY_MODEL_64b400b1d0d042e1b1985ca437689296",
       "style": "IPY_MODEL_241d547963d64ab3a1ba2a1ccf15214c",
       "value": 45
      }
     },
     "f3721da046db48ec80a9c2ae46c7eaf0": {
      "model_module": "@jupyter-widgets/base",
      "model_module_version": "1.2.0",
      "model_name": "LayoutModel",
      "state": {}
     },
     "f3e901af9ff24d889394b4d59a964bbb": {
      "model_module": "@jupyter-widgets/controls",
      "model_module_version": "1.5.0",
      "model_name": "DescriptionStyleModel",
      "state": {
       "description_width": ""
      }
     },
     "f427751469394c93816fc3ae63fdd70a": {
      "model_module": "@jupyter-widgets/base",
      "model_module_version": "1.2.0",
      "model_name": "LayoutModel",
      "state": {}
     },
     "f44d9a31c44a428aad5f1bfac480f658": {
      "model_module": "@jupyter-widgets/base",
      "model_module_version": "1.2.0",
      "model_name": "LayoutModel",
      "state": {}
     },
     "f472d34fbfbb4fe698129b104efac6e9": {
      "model_module": "@jupyter-widgets/base",
      "model_module_version": "1.2.0",
      "model_name": "LayoutModel",
      "state": {}
     },
     "f483dec73156463d8f697d87574f7567": {
      "model_module": "@jupyter-widgets/controls",
      "model_module_version": "1.5.0",
      "model_name": "DescriptionStyleModel",
      "state": {
       "description_width": ""
      }
     },
     "f5ab600c303b40b38ca055da9c67ef3d": {
      "model_module": "@jupyter-widgets/controls",
      "model_module_version": "1.5.0",
      "model_name": "FloatProgressModel",
      "state": {
       "layout": "IPY_MODEL_8757ff06259c4a879b7df57c3bb53ef2",
       "style": "IPY_MODEL_cb13e2cd6d5d4fa18384a5ae5fde2f6d",
       "value": 100
      }
     },
     "f5c49252fe564335988e4305c6ca56b5": {
      "model_module": "@jupyter-widgets/controls",
      "model_module_version": "1.5.0",
      "model_name": "HTMLModel",
      "state": {
       "layout": "IPY_MODEL_701a15276003465dab9f2104a3b95647",
       "style": "IPY_MODEL_00a37419a32c4655880159a906391c5e",
       "value": "critic (loss: -43.98925): 100%"
      }
     },
     "f5c9b67dc8f74b15a40c3559a61fed42": {
      "model_module": "@jupyter-widgets/controls",
      "model_module_version": "1.5.0",
      "model_name": "FloatProgressModel",
      "state": {
       "layout": "IPY_MODEL_9425899dfef642f99b3c4c4e6c4e43d5",
       "max": 469,
       "style": "IPY_MODEL_c942d3006dcf49ae86ce48d5ee316418",
       "value": 469
      }
     },
     "f5d00b341f944117add90397ff1eefff": {
      "model_module": "@jupyter-widgets/controls",
      "model_module_version": "1.5.0",
      "model_name": "HBoxModel",
      "state": {
       "children": [
        "IPY_MODEL_1f278f519f624c1092a952650e24e6f7",
        "IPY_MODEL_26d05b041e9145e1afb8837fc3fa613d",
        "IPY_MODEL_d830b6b382d2422ab63fa1c9a2572228"
       ],
       "layout": "IPY_MODEL_dc3c1a45308d402b90b5663bdca28851"
      }
     },
     "f5fd990ad23a40c98b67f643360d8212": {
      "model_module": "@jupyter-widgets/controls",
      "model_module_version": "1.5.0",
      "model_name": "HTMLModel",
      "state": {
       "layout": "IPY_MODEL_2b05c1f86c2f46cda951477487c50ebc",
       "style": "IPY_MODEL_bdbcae98227c4a43ac20fd8b0b93e45b",
       "value": "epoch: 100%"
      }
     },
     "f6128f03a036447c9c862769178c0201": {
      "model_module": "@jupyter-widgets/base",
      "model_module_version": "1.2.0",
      "model_name": "LayoutModel",
      "state": {}
     },
     "f621a071365043ef959174040f26e7dd": {
      "model_module": "@jupyter-widgets/controls",
      "model_module_version": "1.5.0",
      "model_name": "DescriptionStyleModel",
      "state": {
       "description_width": ""
      }
     },
     "f65d9b3295df4edcb8bca7a6a6c49fbd": {
      "model_module": "@jupyter-widgets/controls",
      "model_module_version": "1.5.0",
      "model_name": "HBoxModel",
      "state": {
       "children": [
        "IPY_MODEL_5cc768909daa4d90a469a86ee17e96c7",
        "IPY_MODEL_ad06db31911d47a1ad92064ee88a9ebd",
        "IPY_MODEL_767e859654ba475ab755cbb1cd4452b4"
       ],
       "layout": "IPY_MODEL_7ff541fdf82040d49797d4389647224a"
      }
     },
     "f6faa22386634ca0ac3ccd47c3e42b26": {
      "model_module": "@jupyter-widgets/controls",
      "model_module_version": "1.5.0",
      "model_name": "FloatProgressModel",
      "state": {
       "layout": "IPY_MODEL_88f16347d2c24212a90824877f9d47ce",
       "max": 469,
       "style": "IPY_MODEL_488cb81d88bc4ff5ab1c5382b76471ef",
       "value": 181
      }
     },
     "f713fa1c614c4c65bf587541c93e838e": {
      "model_module": "@jupyter-widgets/controls",
      "model_module_version": "1.5.0",
      "model_name": "ProgressStyleModel",
      "state": {
       "description_width": ""
      }
     },
     "f749252ad4af4119add67cf8e0f341dc": {
      "model_module": "@jupyter-widgets/controls",
      "model_module_version": "1.5.0",
      "model_name": "DescriptionStyleModel",
      "state": {
       "description_width": ""
      }
     },
     "f78327c185864e0c8da9820ded4d7123": {
      "model_module": "@jupyter-widgets/controls",
      "model_module_version": "1.5.0",
      "model_name": "DescriptionStyleModel",
      "state": {
       "description_width": ""
      }
     },
     "f78cd7d67fff46f69a5fec0798f193b0": {
      "model_module": "@jupyter-widgets/controls",
      "model_module_version": "1.5.0",
      "model_name": "DescriptionStyleModel",
      "state": {
       "description_width": ""
      }
     },
     "f7b50841c29f4c9b96f40aee97b9b61b": {
      "model_module": "@jupyter-widgets/base",
      "model_module_version": "1.2.0",
      "model_name": "LayoutModel",
      "state": {}
     },
     "f7feb13c508f41e480cc65b9c7606abc": {
      "model_module": "@jupyter-widgets/controls",
      "model_module_version": "1.5.0",
      "model_name": "FloatProgressModel",
      "state": {
       "layout": "IPY_MODEL_0aaca3b59dbb4c04a3ad0b7d881467a4",
       "max": 469,
       "style": "IPY_MODEL_601605da3eb04a158b8893890b1b97cd",
       "value": 469
      }
     },
     "f82578ce17d64a00b7e4b41f35f4263a": {
      "model_module": "@jupyter-widgets/base",
      "model_module_version": "1.2.0",
      "model_name": "LayoutModel",
      "state": {}
     },
     "f82c9155ec2648ea87eafa846cc73935": {
      "model_module": "@jupyter-widgets/controls",
      "model_module_version": "1.5.0",
      "model_name": "FloatProgressModel",
      "state": {
       "layout": "IPY_MODEL_3f02ce683fbb4f86817c8de1f5a49491",
       "max": 1,
       "style": "IPY_MODEL_583b9cf22e504c59b3bb928df383c925",
       "value": 1
      }
     },
     "f856f8cf12d34e37bdeb0d535a1385ca": {
      "model_module": "@jupyter-widgets/controls",
      "model_module_version": "1.5.0",
      "model_name": "DescriptionStyleModel",
      "state": {
       "description_width": ""
      }
     },
     "f8790a4e6d3d4f278a3fbce3df8026b5": {
      "model_module": "@jupyter-widgets/controls",
      "model_module_version": "1.5.0",
      "model_name": "DescriptionStyleModel",
      "state": {
       "description_width": ""
      }
     },
     "f89233cf00b24f52bc5f17bad231ed96": {
      "model_module": "@jupyter-widgets/controls",
      "model_module_version": "1.5.0",
      "model_name": "FloatProgressModel",
      "state": {
       "layout": "IPY_MODEL_38d38be6f1964b9e82dc5d3149da1f20",
       "max": 234,
       "style": "IPY_MODEL_be217f62c8164737be1ad496c0169eb0",
       "value": 234
      }
     },
     "f8c4728c71a04b078e923f43df93f70d": {
      "model_module": "@jupyter-widgets/controls",
      "model_module_version": "1.5.0",
      "model_name": "HBoxModel",
      "state": {
       "children": [
        "IPY_MODEL_7d80740ee34e4a6e973d45a9e1079323",
        "IPY_MODEL_cb9a3df02d334ca5969b8ffa2f4e2fe7",
        "IPY_MODEL_1605eaedb6034c29890c2d541c65dfb8"
       ],
       "layout": "IPY_MODEL_81991c9cb8354b95ab0b2adc722458a6"
      }
     },
     "f8fd24274af74c09bb8486d6d0c1366a": {
      "model_module": "@jupyter-widgets/controls",
      "model_module_version": "1.5.0",
      "model_name": "FloatProgressModel",
      "state": {
       "layout": "IPY_MODEL_a98fe2e79f9640aa8deb646baabc8171",
       "max": 465,
       "style": "IPY_MODEL_8164668d6bd54c8bb2d64b3b2ac57c44"
      }
     },
     "f95a4abee4bc4e6a84b8879d9175dbf1": {
      "model_module": "@jupyter-widgets/base",
      "model_module_version": "1.2.0",
      "model_name": "LayoutModel",
      "state": {}
     },
     "f95ec5e34f6d4539962c4a835e83e5d1": {
      "model_module": "@jupyter-widgets/controls",
      "model_module_version": "1.5.0",
      "model_name": "HTMLModel",
      "state": {
       "layout": "IPY_MODEL_ca28870f260640ad93ec0d152ef0748b",
       "style": "IPY_MODEL_692fda8b01774423a52071a497223cd3",
       "value": " 0/100 [00:00&lt;?, ?it/s]"
      }
     },
     "f991dc65ae624190a02592c0ead9d443": {
      "model_module": "@jupyter-widgets/base",
      "model_module_version": "1.2.0",
      "model_name": "LayoutModel",
      "state": {}
     },
     "f9a5f037e54c43bba6edc95af0de6920": {
      "model_module": "@jupyter-widgets/base",
      "model_module_version": "1.2.0",
      "model_name": "LayoutModel",
      "state": {}
     },
     "f9cf075c254a410b9e17b167e9f848d4": {
      "model_module": "@jupyter-widgets/controls",
      "model_module_version": "1.5.0",
      "model_name": "HBoxModel",
      "state": {
       "children": [
        "IPY_MODEL_af20ab390418415797063ab9658ecfa2",
        "IPY_MODEL_780166ac9a2c4b5d836efc088fd9b6b1",
        "IPY_MODEL_524955cc575f4b9cb83153017c32b9f0"
       ],
       "layout": "IPY_MODEL_14879bd85e4a4b58976034b0cbcccbb6"
      }
     },
     "fa4f770edcde4c6db7fe758f70732e99": {
      "model_module": "@jupyter-widgets/controls",
      "model_module_version": "1.5.0",
      "model_name": "HBoxModel",
      "state": {
       "children": [
        "IPY_MODEL_206e70692e894924b1735e4587d582da",
        "IPY_MODEL_fdd6cf47491e4f3ebea51426cd792214",
        "IPY_MODEL_720b4ca181ab4c9986ab9f8613ee12ed"
       ],
       "layout": "IPY_MODEL_0f694fff76bd4a7c8988ed8e5f704f5d"
      }
     },
     "fa889bf1201a49b1a0b8432c070cd240": {
      "model_module": "@jupyter-widgets/controls",
      "model_module_version": "1.5.0",
      "model_name": "DescriptionStyleModel",
      "state": {
       "description_width": ""
      }
     },
     "fac32147da5546f58546f532efec3063": {
      "model_module": "@jupyter-widgets/controls",
      "model_module_version": "1.5.0",
      "model_name": "HBoxModel",
      "state": {
       "children": [
        "IPY_MODEL_08a4e99aa471439daf151fac3f312ee1",
        "IPY_MODEL_e0aa76ca0bb746ecbd7595ef7c83c01d",
        "IPY_MODEL_b36a813cb1f4443fbee1771c19a81fda"
       ],
       "layout": "IPY_MODEL_cdb3bf747bcb44638b5b0405b941b733"
      }
     },
     "fb0e70320e2f48a2ad45ffbb7f47305d": {
      "model_module": "@jupyter-widgets/controls",
      "model_module_version": "1.5.0",
      "model_name": "ProgressStyleModel",
      "state": {
       "description_width": ""
      }
     },
     "fb0ebf7e384844e1940f288a29c0272a": {
      "model_module": "@jupyter-widgets/base",
      "model_module_version": "1.2.0",
      "model_name": "LayoutModel",
      "state": {}
     },
     "fb1e8cbd61814932abbfb18ee305be04": {
      "model_module": "@jupyter-widgets/controls",
      "model_module_version": "1.5.0",
      "model_name": "DescriptionStyleModel",
      "state": {
       "description_width": ""
      }
     },
     "fb3597e9261440bdac1e5cf566359d74": {
      "model_module": "@jupyter-widgets/base",
      "model_module_version": "1.2.0",
      "model_name": "LayoutModel",
      "state": {}
     },
     "fb6cbc0a47ae40ebb4aa2610f29c29b4": {
      "model_module": "@jupyter-widgets/controls",
      "model_module_version": "1.5.0",
      "model_name": "ProgressStyleModel",
      "state": {
       "description_width": ""
      }
     },
     "fb6cbc59483b419383e31bd5961ebffa": {
      "model_module": "@jupyter-widgets/base",
      "model_module_version": "1.2.0",
      "model_name": "LayoutModel",
      "state": {}
     },
     "fb7b49a491fe4e6e901c5b858b83ffc7": {
      "model_module": "@jupyter-widgets/base",
      "model_module_version": "1.2.0",
      "model_name": "LayoutModel",
      "state": {}
     },
     "fb8b3269033e43f7955620128c92c564": {
      "model_module": "@jupyter-widgets/controls",
      "model_module_version": "1.5.0",
      "model_name": "HBoxModel",
      "state": {
       "children": [
        "IPY_MODEL_7b0db9e868704f9f929567f54e65bb37",
        "IPY_MODEL_1735904a9f9f46f892e305c952926eba",
        "IPY_MODEL_93bfd87690934fd6ba1423213e47656b"
       ],
       "layout": "IPY_MODEL_5c5f8741777543d59d58fe463bc673fd"
      }
     },
     "fb92538bc21b453784ddd7d365478339": {
      "model_module": "@jupyter-widgets/controls",
      "model_module_version": "1.5.0",
      "model_name": "FloatProgressModel",
      "state": {
       "layout": "IPY_MODEL_6ebdcaedc2d54299a7f6f44bdbc7f20f",
       "style": "IPY_MODEL_d82f518940ac48debc1257997a23e60d"
      }
     },
     "fb960c99359f4175a1ea3ff6e9578ac8": {
      "model_module": "@jupyter-widgets/controls",
      "model_module_version": "1.5.0",
      "model_name": "HTMLModel",
      "state": {
       "layout": "IPY_MODEL_2bd34a07759c4eab9ea16aea0f03ef89",
       "style": "IPY_MODEL_b9ac974837874889bf463a213208741b",
       "value": "epoch:   0%"
      }
     },
     "fba22a429a8241b7b9284aa02ff9a36e": {
      "model_module": "@jupyter-widgets/base",
      "model_module_version": "1.2.0",
      "model_name": "LayoutModel",
      "state": {}
     },
     "fbaa047b661d400d9434a4e6f6010914": {
      "model_module": "@jupyter-widgets/base",
      "model_module_version": "1.2.0",
      "model_name": "LayoutModel",
      "state": {}
     },
     "fc79a7d8bad04f1a928ef85f4ab41b8c": {
      "model_module": "@jupyter-widgets/controls",
      "model_module_version": "1.5.0",
      "model_name": "DescriptionStyleModel",
      "state": {
       "description_width": ""
      }
     },
     "fc9bcf4fe8694ee0a0703ca6cdc48106": {
      "model_module": "@jupyter-widgets/base",
      "model_module_version": "1.2.0",
      "model_name": "LayoutModel",
      "state": {}
     },
     "fd1693c1bddd4bac8c7db43d1c0c3aea": {
      "model_module": "@jupyter-widgets/base",
      "model_module_version": "1.2.0",
      "model_name": "LayoutModel",
      "state": {}
     },
     "fd35fb97f88c46dabf86d478b07b18de": {
      "model_module": "@jupyter-widgets/controls",
      "model_module_version": "1.5.0",
      "model_name": "DescriptionStyleModel",
      "state": {
       "description_width": ""
      }
     },
     "fd8e74a197814bc2b61d81588ad512df": {
      "model_module": "@jupyter-widgets/controls",
      "model_module_version": "1.5.0",
      "model_name": "FloatProgressModel",
      "state": {
       "layout": "IPY_MODEL_5783f3855a8f413d99bca20426114c59",
       "max": 93,
       "style": "IPY_MODEL_9998421346b447aa888c2e246219a9a2",
       "value": 93
      }
     },
     "fdaf4f3f377a4b2390997ac113647155": {
      "model_module": "@jupyter-widgets/base",
      "model_module_version": "1.2.0",
      "model_name": "LayoutModel",
      "state": {}
     },
     "fdb9d955c1504a628b08f4321d19f6cf": {
      "model_module": "@jupyter-widgets/controls",
      "model_module_version": "1.5.0",
      "model_name": "HTMLModel",
      "state": {
       "layout": "IPY_MODEL_8ec0c1d911b74de5a795c5d828bee727",
       "style": "IPY_MODEL_115eaec4f1374c07acda540ff5039904",
       "value": "critic (loss: -2.41450):   1%"
      }
     },
     "fdc5e394fcd14d2e8cc709f00a5d7c74": {
      "model_module": "@jupyter-widgets/base",
      "model_module_version": "1.2.0",
      "model_name": "LayoutModel",
      "state": {}
     },
     "fdd6cf47491e4f3ebea51426cd792214": {
      "model_module": "@jupyter-widgets/controls",
      "model_module_version": "1.5.0",
      "model_name": "FloatProgressModel",
      "state": {
       "layout": "IPY_MODEL_9cd5f27f11d5438ab1574a63f3787dab",
       "max": 469,
       "style": "IPY_MODEL_3df1184301fa4ef0b5301bfd4e134276",
       "value": 18
      }
     },
     "fdff856654a541adb238f7b56b126a45": {
      "model_module": "@jupyter-widgets/controls",
      "model_module_version": "1.5.0",
      "model_name": "HBoxModel",
      "state": {
       "children": [
        "IPY_MODEL_dc09ec73f1fd464ebd97d37dc418e961",
        "IPY_MODEL_5a495a605c51479eaa55c13a71a68b2b",
        "IPY_MODEL_6b8427037bb54d41ba3cfc89e1afb082"
       ],
       "layout": "IPY_MODEL_acabe1eb6a394f67bd5f0c63ae8ed068"
      }
     },
     "fe04b3d6059e4ba89e4101350f678d8f": {
      "model_module": "@jupyter-widgets/controls",
      "model_module_version": "1.5.0",
      "model_name": "ProgressStyleModel",
      "state": {
       "description_width": ""
      }
     },
     "fe6b8ded839a4f1b86ed4b64cceec9f7": {
      "model_module": "@jupyter-widgets/controls",
      "model_module_version": "1.5.0",
      "model_name": "ProgressStyleModel",
      "state": {
       "description_width": ""
      }
     },
     "fe8188efc6404c07997a12ec9b2201ab": {
      "model_module": "@jupyter-widgets/controls",
      "model_module_version": "1.5.0",
      "model_name": "DescriptionStyleModel",
      "state": {
       "description_width": ""
      }
     },
     "fe9f6694db7f415b92dad36199945217": {
      "model_module": "@jupyter-widgets/controls",
      "model_module_version": "1.5.0",
      "model_name": "ProgressStyleModel",
      "state": {
       "description_width": ""
      }
     },
     "fec7e2c3309d4b7289c35e4719f8e366": {
      "model_module": "@jupyter-widgets/base",
      "model_module_version": "1.2.0",
      "model_name": "LayoutModel",
      "state": {}
     },
     "ff1da9d6719745229efe6069a5c406fe": {
      "model_module": "@jupyter-widgets/base",
      "model_module_version": "1.2.0",
      "model_name": "LayoutModel",
      "state": {}
     },
     "ff479b3cee6047a3a3fedac1d12859ea": {
      "model_module": "@jupyter-widgets/controls",
      "model_module_version": "1.5.0",
      "model_name": "HBoxModel",
      "state": {
       "children": [
        "IPY_MODEL_a27b7116b06444b6bd5823f6bf0b471d",
        "IPY_MODEL_ce85549957494dc1bdf83fb5e600137f",
        "IPY_MODEL_e5bc696ddeb6403a9e52d6e0788cae87"
       ],
       "layout": "IPY_MODEL_bc641ad4eab74050bb5f348aab25501d"
      }
     }
    },
    "version_major": 2,
    "version_minor": 0
   }
  }
 },
 "nbformat": 4,
 "nbformat_minor": 5
}
